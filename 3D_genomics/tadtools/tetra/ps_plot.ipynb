{
 "cells": [
  {
   "cell_type": "code",
   "execution_count": 1,
   "metadata": {},
   "outputs": [],
   "source": [
    "import pandas as pd"
   ]
  },
  {
   "cell_type": "code",
   "execution_count": 13,
   "metadata": {},
   "outputs": [],
   "source": [
    "intra15_1 = pd.read_csv('Smc1_3hpm_2MIC_rep1_intra.txt',delimiter = '\\t',header = 0,index_col=False,names=['chr','start','end','value'])\n",
    "intra15_2 = pd.read_csv('Smc1_3hpm_2MIC_rep2_intra.txt',delimiter = '\\t',header = 0,index_col=False,names=['chr','start','end','value'])\n",
    "inter15_1 = pd.read_csv('Smc1_3hpm_2MIC_rep1_inter.txt',delimiter = '\\t',header = 0,index_col=False,names=['chr','start','end','value'])\n",
    "inter15_2 = pd.read_csv('Smc1_3hpm_2MIC_rep2_inter.txt',delimiter = '\\t',header = 0,index_col=False,names=['chr','start','end','value'])"
   ]
  },
  {
   "cell_type": "code",
   "execution_count": 3,
   "metadata": {},
   "outputs": [
    {
     "data": {
      "text/html": [
       "<div>\n",
       "<style scoped>\n",
       "    .dataframe tbody tr th:only-of-type {\n",
       "        vertical-align: middle;\n",
       "    }\n",
       "\n",
       "    .dataframe tbody tr th {\n",
       "        vertical-align: top;\n",
       "    }\n",
       "\n",
       "    .dataframe thead th {\n",
       "        text-align: right;\n",
       "    }\n",
       "</style>\n",
       "<table border=\"1\" class=\"dataframe\">\n",
       "  <thead>\n",
       "    <tr style=\"text-align: right;\">\n",
       "      <th></th>\n",
       "      <th>chr</th>\n",
       "      <th>start</th>\n",
       "      <th>end</th>\n",
       "      <th>value</th>\n",
       "    </tr>\n",
       "  </thead>\n",
       "  <tbody>\n",
       "    <tr>\n",
       "      <td>0</td>\n",
       "      <td>chr1</td>\n",
       "      <td>2200000</td>\n",
       "      <td>2200000</td>\n",
       "      <td>1.138490</td>\n",
       "    </tr>\n",
       "    <tr>\n",
       "      <td>1</td>\n",
       "      <td>chr1</td>\n",
       "      <td>2190000</td>\n",
       "      <td>2210000</td>\n",
       "      <td>0.876408</td>\n",
       "    </tr>\n",
       "    <tr>\n",
       "      <td>2</td>\n",
       "      <td>chr1</td>\n",
       "      <td>2200000</td>\n",
       "      <td>2210000</td>\n",
       "      <td>1.220234</td>\n",
       "    </tr>\n",
       "    <tr>\n",
       "      <td>3</td>\n",
       "      <td>chr1</td>\n",
       "      <td>2210000</td>\n",
       "      <td>2210000</td>\n",
       "      <td>0.894551</td>\n",
       "    </tr>\n",
       "    <tr>\n",
       "      <td>4</td>\n",
       "      <td>chr1</td>\n",
       "      <td>2190000</td>\n",
       "      <td>2220000</td>\n",
       "      <td>0.771386</td>\n",
       "    </tr>\n",
       "  </tbody>\n",
       "</table>\n",
       "</div>"
      ],
      "text/plain": [
       "    chr    start      end     value\n",
       "0  chr1  2200000  2200000  1.138490\n",
       "1  chr1  2190000  2210000  0.876408\n",
       "2  chr1  2200000  2210000  1.220234\n",
       "3  chr1  2210000  2210000  0.894551\n",
       "4  chr1  2190000  2220000  0.771386"
      ]
     },
     "execution_count": 3,
     "metadata": {},
     "output_type": "execute_result"
    }
   ],
   "source": [
    "intra15_1.iloc[:5,:]"
   ]
  },
  {
   "cell_type": "code",
   "execution_count": 3,
   "metadata": {},
   "outputs": [],
   "source": [
    "def ps(data):\n",
    "    data['d'] = data.end - data.start\n",
    "    data_sum = data.groupby('d').sum().reset_index()\n",
    "    data_sum.value = data_sum.value/sum(data_sum.value)\n",
    "    return(data_sum)\n",
    "    "
   ]
  },
  {
   "cell_type": "code",
   "execution_count": 14,
   "metadata": {},
   "outputs": [],
   "source": [
    "intra15_1sum = ps(intra15_1)\n",
    "intra15_2sum = ps(intra15_2)\n",
    "inter15_1sum = ps(inter15_1)\n",
    "inter15_2sum = ps(inter15_2)"
   ]
  },
  {
   "cell_type": "code",
   "execution_count": 6,
   "metadata": {},
   "outputs": [],
   "source": [
    "import numpy as np\n",
    "import seaborn as sns\n",
    "import matplotlib.pyplot as plt"
   ]
  },
  {
   "cell_type": "code",
   "execution_count": null,
   "metadata": {},
   "outputs": [
    {
     "data": {
      "text/plain": [
       "<matplotlib.axes._subplots.AxesSubplot at 0x7ff29e27bed0>"
      ]
     },
     "execution_count": 15,
     "metadata": {},
     "output_type": "execute_result"
    }
   ],
   "source": [
    "f,ax = plt.subplots()\n",
    "ax.set(xscale='log',yscale='log')\n",
    "sns.regplot('d','value',intra15_1,scatter_kws={'s':10000})"
   ]
  },
  {
   "cell_type": "code",
   "execution_count": 6,
   "metadata": {},
   "outputs": [
    {
     "data": {
      "text/plain": [
       "<matplotlib.axes._subplots.AxesSubplot at 0x7f1a43ab1b50>"
      ]
     },
     "execution_count": 6,
     "metadata": {},
     "output_type": "execute_result"
    },
    {
     "data": {
      "image/png": "[encoded data removed]",
      "text/plain": [
       "<Figure size 432x288 with 1 Axes>"
      ]
     },
     "metadata": {
      "needs_background": "light"
     },
     "output_type": "display_data"
    }
   ],
   "source": [
    "f,ax = plt.subplots()\n",
    "ax.set(xscale='log',yscale='log')\n",
    "sns.lineplot(x='d',y='value',data=intra15_1)"
   ]
  },
  {
   "cell_type": "code",
   "execution_count": 13,
   "metadata": {},
   "outputs": [
    {
     "data": {
      "text/plain": [
       "<matplotlib.axes._subplots.AxesSubplot at 0x7fc4a4a4c210>"
      ]
     },
     "execution_count": 13,
     "metadata": {},
     "output_type": "execute_result"
    },
    {
     "data": {
      "image/png": "[encoded data removed]",
      "text/plain": [
       "<Figure size 432x288 with 1 Axes>"
      ]
     },
     "metadata": {
      "needs_background": "light"
     },
     "output_type": "display_data"
    }
   ],
   "source": [
    "sns.distplot(intra15_1.value[~np.isnan(intra15_1.value)])"
   ]
  },
  {
   "cell_type": "code",
   "execution_count": 9,
   "metadata": {},
   "outputs": [],
   "source": [
    "inter15_1 = pd.read_csv('Cell_1.5hpm_2MIC_rep1_inter.txt',delimiter = '\\t',header = 0,index_col=False,names=['chr','start','end','value'])"
   ]
  },
  {
   "cell_type": "code",
   "execution_count": 10,
   "metadata": {},
   "outputs": [],
   "source": [
    "inter15_1['d'] = inter15_1.end - inter15_1.start"
   ]
  },
  {
   "cell_type": "code",
   "execution_count": 15,
   "metadata": {},
   "outputs": [
    {
     "data": {
      "text/plain": [
       "Text(0.5, 1.0, 'Smc1 3hpm')"
      ]
     },
     "execution_count": 15,
     "metadata": {},
     "output_type": "execute_result"
    },
    {
     "data": {
      "image/png": "[encoded data removed]",
      "text/plain": [
       "<Figure size 432x288 with 1 Axes>"
      ]
     },
     "metadata": {
      "needs_background": "light"
     },
     "output_type": "display_data"
    }
   ],
   "source": [
    "f,ax = plt.subplots()\n",
    "ax.set(xscale='log',yscale='log')\n",
    "sns.lineplot(x='d',y='value',data=intra15_1sum,label='intra-TAD rep1')\n",
    "sns.lineplot(x='d',y='value',data=inter15_1sum,label='inter-TAD rep1')\n",
    "sns.lineplot(x='d',y='value',data=intra15_2sum,label='intra-TAD rep2')\n",
    "sns.lineplot(x='d',y='value',data=inter15_2sum,label='inter-TAD rep2')\n",
    "plt.ylim(6*10**(-6),10**(-2))\n",
    "plt.xlabel('Genomic Distance(bp)')\n",
    "plt.ylabel('Interaction Frequencies')\n",
    "plt.title('Smc1 3hpm')"
   ]
  },
  {
   "cell_type": "code",
   "execution_count": 6,
   "metadata": {},
   "outputs": [],
   "source": [
    "intra15_1sum = intra15_1.groupby('d').sum().reset_index()"
   ]
  },
  {
   "cell_type": "code",
   "execution_count": 7,
   "metadata": {},
   "outputs": [],
   "source": [
    "intra15_1sum.value = intra15_1sum.value/sum(intra15_1sum.value)"
   ]
  },
  {
   "cell_type": "code",
   "execution_count": 11,
   "metadata": {},
   "outputs": [],
   "source": [
    "inter15_1sum = inter15_1.groupby('d').sum().reset_index()\n",
    "inter15_1sum.value = inter15_1sum.value/sum(inter15_1sum.value)"
   ]
  },
  {
   "cell_type": "code",
   "execution_count": null,
   "metadata": {},
   "outputs": [],
   "source": []
  }
 ],
 "metadata": {
  "kernelspec": {
   "display_name": "Python 3",
   "language": "python",
   "name": "python3"
  },
  "language_info": {
   "codemirror_mode": {
    "name": "ipython",
    "version": 3
   },
   "file_extension": ".py",
   "mimetype": "text/x-python",
   "name": "python",
   "nbconvert_exporter": "python",
   "pygments_lexer": "ipython3",
   "version": "3.7.6"
  }
 },
 "nbformat": 4,
 "nbformat_minor": 2
}
