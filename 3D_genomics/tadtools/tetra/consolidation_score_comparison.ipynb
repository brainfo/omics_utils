{
 "cells": [
  {
   "cell_type": "code",
   "execution_count": 1,
   "metadata": {},
   "outputs": [],
   "source": [
    "import pandas as pd\n",
    "import numpy as np"
   ]
  },
  {
   "cell_type": "code",
   "execution_count": 2,
   "metadata": {},
   "outputs": [],
   "source": [
    "CI15_1 = np.loadtxt('Smc1_HA_1.5hpm_rep1.mat_all.txt')\n",
    "CI15_2 = np.loadtxt('Smc1_HA_1.5hpm_rep2.mat_all.txt')\n",
    "CI3_1 = np.loadtxt('Smc1_HA_3hpm_rep1.mat_all.txt')\n",
    "CI3_2 = np.loadtxt('Smc1_HA_3hpm_rep2.mat_all.txt')\n",
    "CI24_1 = np.loadtxt('Smc1_HA_24hpm_rep1.mat_all.txt')\n",
    "CI24_2 = np.loadtxt('Smc1_HA_24hpm_rep2.mat_all.txt')"
   ]
  },
  {
   "cell_type": "code",
   "execution_count": 3,
   "metadata": {},
   "outputs": [],
   "source": [
    "CI = np.concatenate((CI15_1,CI15_2,CI3_1,CI3_2,CI24_1,CI24_2),axis=None)\n",
    "time = np.repeat(np.array(['1.5hpm','3hpm','24hpm']),[CI15_1.size+CI15_2.size,CI3_1.size+CI3_2.size,CI24_1.size+CI24_2.size])\n",
    "rep = np.concatenate((np.repeat('rep1',CI15_1.size),np.repeat('rep2',CI15_2.size),np.repeat('rep1',CI3_1.size),np.repeat('rep2',CI3_2.size),np.repeat('rep1',CI24_1.size),np.repeat('rep2',CI24_2.size)),axis=None)"
   ]
  },
  {
   "cell_type": "code",
   "execution_count": 4,
   "metadata": {},
   "outputs": [],
   "source": [
    "d = {'Consolidation Scores':CI,'time':time,'rep':rep}\n",
    "#d = {'Consolidation Scores':CI,'time':time}\n",
    "data = pd.DataFrame(data=d)"
   ]
  },
  {
   "cell_type": "code",
   "execution_count": 7,
   "metadata": {},
   "outputs": [
    {
     "data": {
      "text/html": [
       "<div>\n",
       "<style scoped>\n",
       "    .dataframe tbody tr th:only-of-type {\n",
       "        vertical-align: middle;\n",
       "    }\n",
       "\n",
       "    .dataframe tbody tr th {\n",
       "        vertical-align: top;\n",
       "    }\n",
       "\n",
       "    .dataframe thead th {\n",
       "        text-align: right;\n",
       "    }\n",
       "</style>\n",
       "<table border=\"1\" class=\"dataframe\">\n",
       "  <thead>\n",
       "    <tr style=\"text-align: right;\">\n",
       "      <th></th>\n",
       "      <th>Consolidation Scores</th>\n",
       "      <th>time</th>\n",
       "      <th>rep</th>\n",
       "    </tr>\n",
       "  </thead>\n",
       "  <tbody>\n",
       "    <tr>\n",
       "      <td>0</td>\n",
       "      <td>1.639035</td>\n",
       "      <td>1.5hpm</td>\n",
       "      <td>rep1</td>\n",
       "    </tr>\n",
       "    <tr>\n",
       "      <td>1</td>\n",
       "      <td>1.576616</td>\n",
       "      <td>1.5hpm</td>\n",
       "      <td>rep1</td>\n",
       "    </tr>\n",
       "    <tr>\n",
       "      <td>2</td>\n",
       "      <td>1.511191</td>\n",
       "      <td>1.5hpm</td>\n",
       "      <td>rep1</td>\n",
       "    </tr>\n",
       "    <tr>\n",
       "      <td>3</td>\n",
       "      <td>NaN</td>\n",
       "      <td>1.5hpm</td>\n",
       "      <td>rep1</td>\n",
       "    </tr>\n",
       "    <tr>\n",
       "      <td>4</td>\n",
       "      <td>1.563098</td>\n",
       "      <td>1.5hpm</td>\n",
       "      <td>rep1</td>\n",
       "    </tr>\n",
       "    <tr>\n",
       "      <td>...</td>\n",
       "      <td>...</td>\n",
       "      <td>...</td>\n",
       "      <td>...</td>\n",
       "    </tr>\n",
       "    <tr>\n",
       "      <td>1019</td>\n",
       "      <td>1.461343</td>\n",
       "      <td>24hpm</td>\n",
       "      <td>rep2</td>\n",
       "    </tr>\n",
       "    <tr>\n",
       "      <td>1020</td>\n",
       "      <td>1.569006</td>\n",
       "      <td>24hpm</td>\n",
       "      <td>rep2</td>\n",
       "    </tr>\n",
       "    <tr>\n",
       "      <td>1021</td>\n",
       "      <td>2.775001</td>\n",
       "      <td>24hpm</td>\n",
       "      <td>rep2</td>\n",
       "    </tr>\n",
       "    <tr>\n",
       "      <td>1022</td>\n",
       "      <td>1.799295</td>\n",
       "      <td>24hpm</td>\n",
       "      <td>rep2</td>\n",
       "    </tr>\n",
       "    <tr>\n",
       "      <td>1023</td>\n",
       "      <td>0.774956</td>\n",
       "      <td>24hpm</td>\n",
       "      <td>rep2</td>\n",
       "    </tr>\n",
       "  </tbody>\n",
       "</table>\n",
       "<p>1024 rows × 3 columns</p>\n",
       "</div>"
      ],
      "text/plain": [
       "      Consolidation Scores    time   rep\n",
       "0                 1.639035  1.5hpm  rep1\n",
       "1                 1.576616  1.5hpm  rep1\n",
       "2                 1.511191  1.5hpm  rep1\n",
       "3                      NaN  1.5hpm  rep1\n",
       "4                 1.563098  1.5hpm  rep1\n",
       "...                    ...     ...   ...\n",
       "1019              1.461343   24hpm  rep2\n",
       "1020              1.569006   24hpm  rep2\n",
       "1021              2.775001   24hpm  rep2\n",
       "1022              1.799295   24hpm  rep2\n",
       "1023              0.774956   24hpm  rep2\n",
       "\n",
       "[1024 rows x 3 columns]"
      ]
     },
     "execution_count": 7,
     "metadata": {},
     "output_type": "execute_result"
    }
   ],
   "source": [
    "data"
   ]
  },
  {
   "cell_type": "code",
   "execution_count": 6,
   "metadata": {},
   "outputs": [
    {
     "data": {
      "text/plain": [
       "Text(0.5, 1.0, 'Smc1 consolidation scores')"
      ]
     },
     "execution_count": 6,
     "metadata": {},
     "output_type": "execute_result"
    },
    {
     "data": {
      "image/png": "[encoded data removed]",
      "text/plain": [
       "<Figure size 432x288 with 1 Axes>"
      ]
     },
     "metadata": {},
     "output_type": "display_data"
    }
   ],
   "source": [
    "import seaborn as sns\n",
    "sns.set(style='ticks',palette='pastel')\n",
    "\n",
    "sns.boxplot(x='time',y='Consolidation Scores',hue='rep',palette=['m','g'],data=data,showfliers=False).set_title('Smc1 consolidation scores')\n",
    "#sns.boxplot(x='time',y='Consolidation Scores',data=data,showfliers=False).set_title('MIC consolidation scores')\n",
    "#sns.despine(trim=True)"
   ]
  },
  {
   "cell_type": "code",
   "execution_count": null,
   "metadata": {},
   "outputs": [],
   "source": []
  }
 ],
 "metadata": {
  "kernelspec": {
   "display_name": "Python 3",
   "language": "python",
   "name": "python3"
  },
  "language_info": {
   "codemirror_mode": {
    "name": "ipython",
    "version": 3
   },
   "file_extension": ".py",
   "mimetype": "text/x-python",
   "name": "python",
   "nbconvert_exporter": "python",
   "pygments_lexer": "ipython3",
   "version": "3.7.6"
  }
 },
 "nbformat": 4,
 "nbformat_minor": 2
}
