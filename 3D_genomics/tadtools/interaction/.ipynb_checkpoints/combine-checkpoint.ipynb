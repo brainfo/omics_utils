{
 "cells": [
  {
   "cell_type": "code",
   "execution_count": 37,
   "id": "brown-secret",
   "metadata": {},
   "outputs": [],
   "source": [
    "from collections import defaultdict\n",
    "import pandas as pd\n",
    "import numpy as np\n",
    "import plotly.graph_objects as go\n",
    "from scipy.stats import mannwhitneyu,kruskal,ttest_ind,f_oneway\n",
    "import plotly.io as pio\n",
    "pio.kaleido.scope.default_format = \"pdf\"\n",
    "import plotly.express as px\n",
    "from matplotlib.colors import ListedColormap\n",
    "import matplotlib.colors as mc\n",
    "import matplotlib.pyplot as plt\n",
    "import scikit_posthocs as sp\n",
    "import itertools\n",
    "import seaborn as sns\n",
    "from itertools import product"
   ]
  },
  {
   "cell_type": "code",
   "execution_count": 49,
   "id": "bound-volume",
   "metadata": {},
   "outputs": [],
   "source": [
    "A_tad = pd.read_csv('./results/A_2_TADs.bed',sep='\\t',usecols=[0,1,2])\n",
    "B_tad = pd.read_csv('./results/S_2_TADs.bed',sep='\\t',usecols=[0,1,2])\n",
    "borders_type = pd.read_csv('../data/Agglo_borders_type.bed',sep='\\t',header=None)"
   ]
  },
  {
   "cell_type": "code",
   "execution_count": 39,
   "id": "faced-findings",
   "metadata": {},
   "outputs": [],
   "source": [
    "def which_types(tad_region,up_dict,down_dict):\n",
    "    #print(tad_region)\n",
    "    keys = up_dict.keys()\n",
    "    for key_pairs in list(product(keys,repeat=2)):\n",
    "        if (np.isin(tad_region['start'],up_dict[key_pairs[0]])) & (np.isin(tad_region['end'],down_dict[key_pairs[1]])):\n",
    "            return key_pairs"
   ]
  },
  {
   "cell_type": "code",
   "execution_count": 40,
   "id": "prompt-central",
   "metadata": {},
   "outputs": [],
   "source": [
    "vwhich_types = np.vectorize(which_types)"
   ]
  },
  {
   "cell_type": "code",
   "execution_count": 41,
   "id": "lasting-moldova",
   "metadata": {},
   "outputs": [],
   "source": [
    "def extract_tad_type(borders_type,tad,agglo_type,chrom):\n",
    "    borders_chr = borders_type.loc[borders_type.iloc[:,0]==chrom,:]\n",
    "    tad_chr = tad.loc[tad['chrom']==chrom,:]\n",
    "    upper_dict = defaultdict(list)\n",
    "    for index, row in borders_chr.iterrows():\n",
    "        upper_dict[int(row[3])].append(int(row[2]))\n",
    "    down_dict = defaultdict(list)\n",
    "    for index, row in borders_chr.iterrows():\n",
    "        down_dict[int(row[3])].append(int(row[1]))\n",
    "    tad_type = list(tad_chr.apply(lambda x: which_types(x.loc[['start','end']],upper_dict,down_dict),axis=1,result_type='reduce'))\n",
    "    tad_chr_type = tad_chr\n",
    "    tad_chr_type['type'] = list(map(lambda t: agglo_type+''.join(map(str,t)),tad_type))\n",
    "    return tad_chr_type"
   ]
  },
  {
   "cell_type": "code",
   "execution_count": 52,
   "id": "perfect-syracuse",
   "metadata": {},
   "outputs": [
    {
     "name": "stderr",
     "output_type": "stream",
     "text": [
      "/home/data4/jh/anaconda3/lib/python3.7/site-packages/ipykernel_launcher.py:12: SettingWithCopyWarning: \n",
      "A value is trying to be set on a copy of a slice from a DataFrame.\n",
      "Try using .loc[row_indexer,col_indexer] = value instead\n",
      "\n",
      "See the caveats in the documentation: https://pandas.pydata.org/pandas-docs/stable/user_guide/indexing.html#returning-a-view-versus-a-copy\n",
      "  if sys.path[0] == '':\n"
     ]
    }
   ],
   "source": [
    "result_list = []\n",
    "for chrom in A_tad['chrom'].unique():\n",
    "    result_list.append(extract_tad_type(borders_type,A_tad,'A',chrom))\n",
    "A_type = pd.concat(result_list)"
   ]
  },
  {
   "cell_type": "code",
   "execution_count": 54,
   "id": "meaning-environment",
   "metadata": {},
   "outputs": [],
   "source": [
    "A_type.to_csv('./data/A2_type.bed',sep='\\t',quoting=3,header=True,index=False)"
   ]
  },
  {
   "cell_type": "code",
   "execution_count": 35,
   "id": "unavailable-victoria",
   "metadata": {},
   "outputs": [
    {
     "name": "stderr",
     "output_type": "stream",
     "text": [
      "/home/data4/jh/anaconda3/lib/python3.7/site-packages/ipykernel_launcher.py:12: SettingWithCopyWarning: \n",
      "A value is trying to be set on a copy of a slice from a DataFrame.\n",
      "Try using .loc[row_indexer,col_indexer] = value instead\n",
      "\n",
      "See the caveats in the documentation: https://pandas.pydata.org/pandas-docs/stable/user_guide/indexing.html#returning-a-view-versus-a-copy\n",
      "  if sys.path[0] == '':\n"
     ]
    }
   ],
   "source": [
    "result_list = []\n",
    "for chrom in A_tad['chrom'].unique():\n",
    "    result_list.append(extract_tad_type(borders_type,A_tad,'A',chrom))\n",
    "A_type = pd.concat(result_list)"
   ]
  },
  {
   "cell_type": "code",
   "execution_count": 36,
   "id": "owned-detector",
   "metadata": {},
   "outputs": [],
   "source": [
    "A_type.to_csv('./data/A_type.bed',sep='\\t',quoting=3,header=True,index=False)"
   ]
  },
  {
   "cell_type": "code",
   "execution_count": 48,
   "id": "consecutive-motivation",
   "metadata": {},
   "outputs": [
    {
     "data": {
      "text/html": [
       "<div>\n",
       "<style scoped>\n",
       "    .dataframe tbody tr th:only-of-type {\n",
       "        vertical-align: middle;\n",
       "    }\n",
       "\n",
       "    .dataframe tbody tr th {\n",
       "        vertical-align: top;\n",
       "    }\n",
       "\n",
       "    .dataframe thead th {\n",
       "        text-align: right;\n",
       "    }\n",
       "</style>\n",
       "<table border=\"1\" class=\"dataframe\">\n",
       "  <thead>\n",
       "    <tr style=\"text-align: right;\">\n",
       "      <th></th>\n",
       "      <th>chr1</th>\n",
       "      <th>4440000</th>\n",
       "      <th>4480000</th>\n",
       "      <th>1</th>\n",
       "    </tr>\n",
       "  </thead>\n",
       "  <tbody>\n",
       "    <tr>\n",
       "      <th>0</th>\n",
       "      <td>chr1</td>\n",
       "      <td>4800000</td>\n",
       "      <td>4840000</td>\n",
       "      <td>0</td>\n",
       "    </tr>\n",
       "    <tr>\n",
       "      <th>1</th>\n",
       "      <td>chr1</td>\n",
       "      <td>6200000</td>\n",
       "      <td>6240000</td>\n",
       "      <td>1</td>\n",
       "    </tr>\n",
       "    <tr>\n",
       "      <th>2</th>\n",
       "      <td>chr1</td>\n",
       "      <td>9520000</td>\n",
       "      <td>9560000</td>\n",
       "      <td>1</td>\n",
       "    </tr>\n",
       "    <tr>\n",
       "      <th>3</th>\n",
       "      <td>chr1</td>\n",
       "      <td>10160000</td>\n",
       "      <td>10200000</td>\n",
       "      <td>1</td>\n",
       "    </tr>\n",
       "    <tr>\n",
       "      <th>4</th>\n",
       "      <td>chr1</td>\n",
       "      <td>11600000</td>\n",
       "      <td>11640000</td>\n",
       "      <td>1</td>\n",
       "    </tr>\n",
       "    <tr>\n",
       "      <th>...</th>\n",
       "      <td>...</td>\n",
       "      <td>...</td>\n",
       "      <td>...</td>\n",
       "      <td>...</td>\n",
       "    </tr>\n",
       "    <tr>\n",
       "      <th>2131</th>\n",
       "      <td>chrX</td>\n",
       "      <td>164480000</td>\n",
       "      <td>164520000</td>\n",
       "      <td>1</td>\n",
       "    </tr>\n",
       "    <tr>\n",
       "      <th>2132</th>\n",
       "      <td>chrX</td>\n",
       "      <td>166160000</td>\n",
       "      <td>166200000</td>\n",
       "      <td>1</td>\n",
       "    </tr>\n",
       "    <tr>\n",
       "      <th>2133</th>\n",
       "      <td>chrX</td>\n",
       "      <td>167280000</td>\n",
       "      <td>167320000</td>\n",
       "      <td>1</td>\n",
       "    </tr>\n",
       "    <tr>\n",
       "      <th>2134</th>\n",
       "      <td>chrX</td>\n",
       "      <td>168640000</td>\n",
       "      <td>168680000</td>\n",
       "      <td>1</td>\n",
       "    </tr>\n",
       "    <tr>\n",
       "      <th>2135</th>\n",
       "      <td>chrX</td>\n",
       "      <td>169000000</td>\n",
       "      <td>169040000</td>\n",
       "      <td>1</td>\n",
       "    </tr>\n",
       "  </tbody>\n",
       "</table>\n",
       "<p>2136 rows × 4 columns</p>\n",
       "</div>"
      ],
      "text/plain": [
       "      chr1    4440000    4480000  1\n",
       "0     chr1    4800000    4840000  0\n",
       "1     chr1    6200000    6240000  1\n",
       "2     chr1    9520000    9560000  1\n",
       "3     chr1   10160000   10200000  1\n",
       "4     chr1   11600000   11640000  1\n",
       "...    ...        ...        ... ..\n",
       "2131  chrX  164480000  164520000  1\n",
       "2132  chrX  166160000  166200000  1\n",
       "2133  chrX  167280000  167320000  1\n",
       "2134  chrX  168640000  168680000  1\n",
       "2135  chrX  169000000  169040000  1\n",
       "\n",
       "[2136 rows x 4 columns]"
      ]
     },
     "execution_count": 48,
     "metadata": {},
     "output_type": "execute_result"
    }
   ],
   "source": [
    "borders_type"
   ]
  },
  {
   "cell_type": "code",
   "execution_count": null,
   "id": "third-preserve",
   "metadata": {},
   "outputs": [],
   "source": []
  }
 ],
 "metadata": {
  "kernelspec": {
   "display_name": "Python 3",
   "language": "python",
   "name": "python3"
  },
  "language_info": {
   "codemirror_mode": {
    "name": "ipython",
    "version": 3
   },
   "file_extension": ".py",
   "mimetype": "text/x-python",
   "name": "python",
   "nbconvert_exporter": "python",
   "pygments_lexer": "ipython3",
   "version": "3.7.7"
  }
 },
 "nbformat": 4,
 "nbformat_minor": 5
}
