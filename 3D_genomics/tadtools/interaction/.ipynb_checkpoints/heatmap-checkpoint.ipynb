{
 "cells": [
  {
   "cell_type": "code",
   "execution_count": 1,
   "metadata": {},
   "outputs": [],
   "source": [
    "import numpy as np\n",
    "import pandas as pd\n",
    "import plotly.graph_objects as go\n",
    "from scipy.stats import mannwhitneyu,kruskal,ttest_ind,f_oneway\n",
    "#import pickle\n",
    "#import kaleido\n",
    "import plotly.io as pio\n",
    "pio.kaleido.scope.default_format = \"pdf\"\n",
    "import plotly.express as px\n",
    "from matplotlib.colors import ListedColormap\n",
    "import matplotlib.colors as mc\n",
    "import matplotlib as plt\n",
    "import scikit_posthocs as sp\n",
    "import itertools"
   ]
  },
  {
   "cell_type": "code",
   "execution_count": 7,
   "metadata": {},
   "outputs": [],
   "source": [
    "cluster1 = np.loadtxt('Cluster1.tsv',delimiter='\\t',skiprows=1,usecols=(4,5,6,7,8,9,10,11,12,13,14))\n",
    "cluster2 = np.loadtxt('Cluster2.tsv',delimiter='\\t',skiprows=1,usecols=(4,5,6,7,8,9,10,11,12,13,14))\n",
    "cluster3 = np.loadtxt('Cluster3.tsv',delimiter='\\t',skiprows=1,usecols=(4,5,6,7,8,9,10,11,12,13,14))\n",
    "cluster4 = np.loadtxt('Cluster4.tsv',delimiter='\\t',skiprows=1,usecols=(4,5,6,7,8,9,10,11,12,13,14))"
   ]
  },
  {
   "cell_type": "code",
   "execution_count": 9,
   "metadata": {},
   "outputs": [],
   "source": [
    "all_input = np.concatenate((cluster1, cluster2,cluster3,cluster4))"
   ]
  },
  {
   "cell_type": "code",
   "execution_count": 10,
   "metadata": {},
   "outputs": [],
   "source": [
    "all_input_trans = all_input/all_input.sum(axis=0,keepdims=1)*1000000"
   ]
  },
  {
   "cell_type": "code",
   "execution_count": 46,
   "metadata": {},
   "outputs": [],
   "source": [
    "fig = go.Figure(data=go.Heatmap(\n",
    "                    z=all_input_trans,\n",
    "zmin=0,zmax=15000))\n",
    "fig.update_layout(template='simple_white',title_text='clusterHeatmap',xaxis = dict(showgrid=False,ticks='inside',mirror=True,tickmode = 'array',tickvals = np.arange(len(cluster1_header.to_numpy().ravel())),\n",
    "                                                                                   showline=True,ticktext=cluster1_header.to_numpy().ravel()),\n",
    "                yaxis = dict(showgrid=False, ticks='outside',mirror=True,showline=True,\n",
    "                             tickmode = 'array',tickvals = [995, 1029, 1039, 1885],\n",
    "                            ticktext = ['Type1','Type2','Type3','Type4']),\n",
    "                font=dict(size=18),\n",
    "                 title_x=0.5,\n",
    "                 showlegend=False)\n",
    "# fig.show()\n",
    "# plot(fig)\n",
    "fig.write_image('clusterHeatmap.pdf')"
   ]
  },
  {
   "cell_type": "code",
   "execution_count": 33,
   "metadata": {},
   "outputs": [],
   "source": [
    "cluster1_header = pd.read_csv('Cluster1.tsv',sep='\\t',nrows=1,header=None,usecols=(4,5,6,7,8,9,10,11,12,13,14))"
   ]
  },
  {
   "cell_type": "code",
   "execution_count": 44,
   "metadata": {},
   "outputs": [
    {
     "data": {
      "text/plain": [
       "array([ 1,  2,  3,  4,  5,  6,  7,  8,  9, 10, 11])"
      ]
     },
     "execution_count": 44,
     "metadata": {},
     "output_type": "execute_result"
    }
   ],
   "source": []
  },
  {
   "cell_type": "code",
   "execution_count": null,
   "metadata": {},
   "outputs": [],
   "source": []
  },
  {
   "cell_type": "code",
   "execution_count": null,
   "metadata": {},
   "outputs": [],
   "source": []
  }
 ],
 "metadata": {
  "kernelspec": {
   "display_name": "Python 3",
   "language": "python",
   "name": "python3"
  },
  "language_info": {
   "codemirror_mode": {
    "name": "ipython",
    "version": 3
   },
   "file_extension": ".py",
   "mimetype": "text/x-python",
   "name": "python",
   "nbconvert_exporter": "python",
   "pygments_lexer": "ipython3",
   "version": "3.7.7"
  }
 },
 "nbformat": 4,
 "nbformat_minor": 4
}
