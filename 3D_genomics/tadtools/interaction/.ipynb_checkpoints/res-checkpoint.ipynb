{
 "cells": [
  {
   "cell_type": "code",
   "execution_count": null,
   "metadata": {},
   "outputs": [],
   "source": [
    "from collections import defaultdict\n",
    "import pandas as pd\n",
    "import numpy as np\n",
    "import plotly.graph_objects as go\n",
    "from scipy.stats import mannwhitneyu,kruskal,ttest_ind,f_oneway\n",
    "import plotly.io as pio\n",
    "pio.kaleido.scope.default_format = \"pdf\"\n",
    "import plotly.express as px\n",
    "from matplotlib.colors import ListedColormap\n",
    "import matplotlib.colors as mc\n",
    "import matplotlib.pyplot as plt\n",
    "import scikit_posthocs as sp\n",
    "import itertools\n",
    "import seaborn as sns"
   ]
  },
  {
   "cell_type": "code",
   "execution_count": 19,
   "metadata": {},
   "outputs": [],
   "source": [
    "c1_borders_type = pd.read_csv('Agglo_C1_borders_type.bed',sep='\\t',header=None)\n",
    "c2_borders_type = pd.read_csv('Agglo_C2_borders_type.bed',sep='\\t',header=None)"
   ]
  },
  {
   "cell_type": "code",
   "execution_count": 20,
   "metadata": {},
   "outputs": [],
   "source": [
    "c1_tad = pd.read_csv('Agglo_C1_tad.bed',sep='\\t',header=None,names=['chrom','start','end'])\n",
    "c2_tad = pd.read_csv('Agglo_C2_tad.bed',sep='\\t',header=None,names=['chrom','start','end'])"
   ]
  },
  {
   "cell_type": "code",
   "execution_count": 16,
   "metadata": {},
   "outputs": [
    {
     "data": {
      "text/html": [
       "<div>\n",
       "<style scoped>\n",
       "    .dataframe tbody tr th:only-of-type {\n",
       "        vertical-align: middle;\n",
       "    }\n",
       "\n",
       "    .dataframe tbody tr th {\n",
       "        vertical-align: top;\n",
       "    }\n",
       "\n",
       "    .dataframe thead th {\n",
       "        text-align: right;\n",
       "    }\n",
       "</style>\n",
       "<table border=\"1\" class=\"dataframe\">\n",
       "  <thead>\n",
       "    <tr style=\"text-align: right;\">\n",
       "      <th></th>\n",
       "      <th>chrom</th>\n",
       "      <th>start</th>\n",
       "      <th>end</th>\n",
       "    </tr>\n",
       "  </thead>\n",
       "  <tbody>\n",
       "    <tr>\n",
       "      <th>0</th>\n",
       "      <td>chr1</td>\n",
       "      <td>17120000</td>\n",
       "      <td>18160000</td>\n",
       "    </tr>\n",
       "    <tr>\n",
       "      <th>1</th>\n",
       "      <td>chr1</td>\n",
       "      <td>18200000</td>\n",
       "      <td>19040000</td>\n",
       "    </tr>\n",
       "    <tr>\n",
       "      <th>2</th>\n",
       "      <td>chr1</td>\n",
       "      <td>19080000</td>\n",
       "      <td>20560000</td>\n",
       "    </tr>\n",
       "    <tr>\n",
       "      <th>3</th>\n",
       "      <td>chr1</td>\n",
       "      <td>21280000</td>\n",
       "      <td>22520000</td>\n",
       "    </tr>\n",
       "    <tr>\n",
       "      <th>4</th>\n",
       "      <td>chr1</td>\n",
       "      <td>22560000</td>\n",
       "      <td>23120000</td>\n",
       "    </tr>\n",
       "    <tr>\n",
       "      <th>...</th>\n",
       "      <td>...</td>\n",
       "      <td>...</td>\n",
       "      <td>...</td>\n",
       "    </tr>\n",
       "    <tr>\n",
       "      <th>729</th>\n",
       "      <td>chrX</td>\n",
       "      <td>157720000</td>\n",
       "      <td>159320000</td>\n",
       "    </tr>\n",
       "    <tr>\n",
       "      <th>730</th>\n",
       "      <td>chrX</td>\n",
       "      <td>161360000</td>\n",
       "      <td>161840000</td>\n",
       "    </tr>\n",
       "    <tr>\n",
       "      <th>731</th>\n",
       "      <td>chrX</td>\n",
       "      <td>164520000</td>\n",
       "      <td>166160000</td>\n",
       "    </tr>\n",
       "    <tr>\n",
       "      <th>732</th>\n",
       "      <td>chrX</td>\n",
       "      <td>167320000</td>\n",
       "      <td>168640000</td>\n",
       "    </tr>\n",
       "    <tr>\n",
       "      <th>733</th>\n",
       "      <td>chrX</td>\n",
       "      <td>168680000</td>\n",
       "      <td>169000000</td>\n",
       "    </tr>\n",
       "  </tbody>\n",
       "</table>\n",
       "<p>734 rows × 3 columns</p>\n",
       "</div>"
      ],
      "text/plain": [
       "    chrom      start        end\n",
       "0    chr1   17120000   18160000\n",
       "1    chr1   18200000   19040000\n",
       "2    chr1   19080000   20560000\n",
       "3    chr1   21280000   22520000\n",
       "4    chr1   22560000   23120000\n",
       "..    ...        ...        ...\n",
       "729  chrX  157720000  159320000\n",
       "730  chrX  161360000  161840000\n",
       "731  chrX  164520000  166160000\n",
       "732  chrX  167320000  168640000\n",
       "733  chrX  168680000  169000000\n",
       "\n",
       "[734 rows x 3 columns]"
      ]
     },
     "execution_count": 16,
     "metadata": {},
     "output_type": "execute_result"
    }
   ],
   "source": [
    "c2_tad"
   ]
  },
  {
   "cell_type": "code",
   "execution_count": 11,
   "metadata": {},
   "outputs": [],
   "source": [
    "def extract_tad_type(borders_type,tad,agglo_type,chrom):\n",
    "    borders_chr = borders_type.loc[borders_type.iloc[:,0]==chrom,:]\n",
    "    tad_chr = tad.loc[tad['chrom']==chrom,:]\n",
    "    upper_dict = defaultdict(list)\n",
    "    for index, row in borders_chr.iterrows():\n",
    "        upper_dict[int(row[3])].append(int(row[2]))\n",
    "    down_dict = defaultdict(list)\n",
    "    for index, row in borders_chr.iterrows():\n",
    "        down_dict[int(row[3])].append(int(row[1]))\n",
    "    tad_chr['type'] = np.where((np.isin(tad_chr['start'],upper_dict[0]))&(np.isin(tad_chr['end'],down_dict[0])),f'{agglo_type}1{agglo_type}1',np.where((np.isin(tad_chr['start'],upper_dict[0]))&(np.isin(tad_chr['end'],down_dict[1])),f'{agglo_type}1{agglo_type}2',f'{agglo_type}2{agglo_type}2'))\n",
    "    return tad_chr"
   ]
  },
  {
   "cell_type": "code",
   "execution_count": 21,
   "metadata": {},
   "outputs": [
    {
     "name": "stderr",
     "output_type": "stream",
     "text": [
      "/home/data4/jh/anaconda3/lib/python3.7/site-packages/ipykernel_launcher.py:10: SettingWithCopyWarning: \n",
      "A value is trying to be set on a copy of a slice from a DataFrame.\n",
      "Try using .loc[row_indexer,col_indexer] = value instead\n",
      "\n",
      "See the caveats in the documentation: https://pandas.pydata.org/pandas-docs/stable/user_guide/indexing.html#returning-a-view-versus-a-copy\n",
      "  # Remove the CWD from sys.path while we load stuff.\n"
     ]
    }
   ],
   "source": [
    "result_list = []\n",
    "for chrom in c1_tad['chrom'].unique():\n",
    "    result_list.append(extract_tad_type(c1_borders_type,c1_tad,'A',chrom))"
   ]
  },
  {
   "cell_type": "code",
   "execution_count": 22,
   "metadata": {},
   "outputs": [],
   "source": [
    "tad_c1_type = pd.concat(result_list, axis=0, join='outer', ignore_index=True, keys=None,\n",
    "          levels=None, names=None, verify_integrity=False, copy=True)"
   ]
  },
  {
   "cell_type": "code",
   "execution_count": 23,
   "metadata": {},
   "outputs": [],
   "source": [
    "tad_c1_type.to_csv('Agglo_C1_tad_type.bed',sep='\\t',index=False,quoting=3)"
   ]
  },
  {
   "cell_type": "code",
   "execution_count": 18,
   "metadata": {},
   "outputs": [],
   "source": [
    "tad_c2_type = pd.concat(result_list, axis=0, join='outer', ignore_index=True, keys=None,\n",
    "          levels=None, names=None, verify_integrity=False, copy=True)\n",
    "tad_c2_type.to_csv('Agglo_C2_tad_type.bed',sep='\\t',index=False,quoting=3)"
   ]
  },
  {
   "cell_type": "code",
   "execution_count": 2,
   "metadata": {},
   "outputs": [],
   "source": [
    "c1_tad_type = pd.read_csv('Agglo_C1_tad_type.bed',sep='\\t')\n",
    "c2_tad_type = pd.read_csv('Agglo_C2_tad_type.bed',sep='\\t')\n",
    "A1A1 = c1_tad_type.loc[c1_tad_type['type']=='A1A1',:]\n",
    "A1A2 = c1_tad_type.loc[c1_tad_type['type']=='A1A2',:]\n",
    "A2A2 = c1_tad_type.loc[c1_tad_type['type']=='A2A2',:]\n",
    "I1I1 = c2_tad_type.loc[c2_tad_type['type']=='I1I1',:]\n",
    "I1I2 = c2_tad_type.loc[c2_tad_type['type']=='I1I2',:]\n",
    "I2I2 = c2_tad_type.loc[c2_tad_type['type']=='I2I2',:]\n",
    "data = pd.read_csv('/home/data4/jh/data/projects/2020/aggregate/mESC/E14TG2a/cluster/TAD_ChIP_strength_fpkm_size_E1_interaction.tsv',sep='\\t')\n",
    "fpkm = pd.read_csv('/home/data4/jh/data/projects/2020/aggregate/mESC/E14TG2a/RNA-seq/TADs_fpkm.tsv',sep='\\t')\n",
    "p3_tad = pd.read_csv('/home/data4/jh/data/projects/2020/aggregate/data/explain/Agglo_Cluster3.tsv', sep='\\t')\n",
    "p3_tad['type'] = ['SA']*len(p3_tad.index)"
   ]
  },
  {
   "cell_type": "code",
   "execution_count": 25,
   "metadata": {},
   "outputs": [
    {
     "ename": "NameError",
     "evalue": "name 'data_type' is not defined",
     "output_type": "error",
     "traceback": [
      "\u001b[0;31m---------------------------------------------------------------------------\u001b[0m",
      "\u001b[0;31mNameError\u001b[0m                                 Traceback (most recent call last)",
      "\u001b[0;32m<ipython-input-25-d92a6ae0ceed>\u001b[0m in \u001b[0;36m<module>\u001b[0;34m()\u001b[0m\n\u001b[0;32m----> 1\u001b[0;31m \u001b[0mdata_type\u001b[0m\u001b[0;34m[\u001b[0m\u001b[0;36m0\u001b[0m\u001b[0;34m]\u001b[0m \u001b[0;34m=\u001b[0m \u001b[0mdata_type\u001b[0m\u001b[0;34m[\u001b[0m\u001b[0;36m0\u001b[0m\u001b[0;34m]\u001b[0m\u001b[0;34m.\u001b[0m\u001b[0mrename\u001b[0m\u001b[0;34m(\u001b[0m\u001b[0mcolumns\u001b[0m\u001b[0;34m=\u001b[0m\u001b[0;34m{\u001b[0m\u001b[0;34m'strength_x'\u001b[0m\u001b[0;34m:\u001b[0m\u001b[0;34m'strength'\u001b[0m\u001b[0;34m}\u001b[0m\u001b[0;34m)\u001b[0m\u001b[0;34m\u001b[0m\u001b[0;34m\u001b[0m\u001b[0m\n\u001b[0m\u001b[1;32m      2\u001b[0m \u001b[0mdata_type\u001b[0m\u001b[0;34m[\u001b[0m\u001b[0;36m0\u001b[0m\u001b[0;34m]\u001b[0m \u001b[0;34m=\u001b[0m \u001b[0mdata_type\u001b[0m\u001b[0;34m[\u001b[0m\u001b[0;36m0\u001b[0m\u001b[0;34m]\u001b[0m\u001b[0;34m.\u001b[0m\u001b[0mrename\u001b[0m\u001b[0;34m(\u001b[0m\u001b[0mcolumns\u001b[0m\u001b[0;34m=\u001b[0m\u001b[0;34m{\u001b[0m\u001b[0;34m'E1_x'\u001b[0m\u001b[0;34m:\u001b[0m\u001b[0;34m'E1'\u001b[0m\u001b[0;34m}\u001b[0m\u001b[0;34m)\u001b[0m\u001b[0;34m\u001b[0m\u001b[0;34m\u001b[0m\u001b[0m\n\u001b[1;32m      3\u001b[0m \u001b[0mdata_type\u001b[0m\u001b[0;34m[\u001b[0m\u001b[0;36m0\u001b[0m\u001b[0;34m]\u001b[0m \u001b[0;34m=\u001b[0m \u001b[0mdata_type\u001b[0m\u001b[0;34m[\u001b[0m\u001b[0;36m0\u001b[0m\u001b[0;34m]\u001b[0m\u001b[0;34m.\u001b[0m\u001b[0mrename\u001b[0m\u001b[0;34m(\u001b[0m\u001b[0mcolumns\u001b[0m\u001b[0;34m=\u001b[0m\u001b[0;34m{\u001b[0m\u001b[0;34m'interaction_x'\u001b[0m\u001b[0;34m:\u001b[0m\u001b[0;34m'interaction'\u001b[0m\u001b[0;34m}\u001b[0m\u001b[0;34m)\u001b[0m\u001b[0;34m\u001b[0m\u001b[0;34m\u001b[0m\u001b[0m\n\u001b[1;32m      4\u001b[0m \u001b[0mdata_type\u001b[0m\u001b[0;34m[\u001b[0m\u001b[0;36m0\u001b[0m\u001b[0;34m]\u001b[0m \u001b[0;34m=\u001b[0m \u001b[0mdata_type\u001b[0m\u001b[0;34m[\u001b[0m\u001b[0;36m0\u001b[0m\u001b[0;34m]\u001b[0m\u001b[0;34m.\u001b[0m\u001b[0mrename\u001b[0m\u001b[0;34m(\u001b[0m\u001b[0mcolumns\u001b[0m\u001b[0;34m=\u001b[0m\u001b[0;34m{\u001b[0m\u001b[0;34m'size_x'\u001b[0m\u001b[0;34m:\u001b[0m\u001b[0;34m'size'\u001b[0m\u001b[0;34m}\u001b[0m\u001b[0;34m)\u001b[0m\u001b[0;34m\u001b[0m\u001b[0;34m\u001b[0m\u001b[0m\n\u001b[1;32m      5\u001b[0m \u001b[0mdata_type\u001b[0m\u001b[0;34m[\u001b[0m\u001b[0;36m0\u001b[0m\u001b[0;34m]\u001b[0m \u001b[0;34m=\u001b[0m \u001b[0mdata_type\u001b[0m\u001b[0;34m[\u001b[0m\u001b[0;36m0\u001b[0m\u001b[0;34m]\u001b[0m\u001b[0;34m.\u001b[0m\u001b[0mrename\u001b[0m\u001b[0;34m(\u001b[0m\u001b[0mcolumns\u001b[0m\u001b[0;34m=\u001b[0m\u001b[0;34m{\u001b[0m\u001b[0;34m'border_fpkm_x'\u001b[0m\u001b[0;34m:\u001b[0m\u001b[0;34m'border_fpkm'\u001b[0m\u001b[0;34m}\u001b[0m\u001b[0;34m)\u001b[0m\u001b[0;34m\u001b[0m\u001b[0;34m\u001b[0m\u001b[0m\n",
      "\u001b[0;31mNameError\u001b[0m: name 'data_type' is not defined"
     ]
    }
   ],
   "source": [
    "data_type[0] = data_type[0].rename(columns={'strength_x':'strength'})\n",
    "data_type[0] = data_type[0].rename(columns={'E1_x':'E1'})\n",
    "data_type[0] = data_type[0].rename(columns={'interaction_x':'interaction'})\n",
    "data_type[0] = data_type[0].rename(columns={'size_x':'size'})\n",
    "data_type[0] = data_type[0].rename(columns={'border_fpkm_x':'border_fpkm'})"
   ]
  },
  {
   "cell_type": "code",
   "execution_count": 4,
   "metadata": {},
   "outputs": [],
   "source": [
    "A1A1.iloc[:,:-1].to_csv('A1A1.bed',sep='\\t',index=False,quoting=3,header=False)\n",
    "# A1A2.iloc[:,:-1].to_csv('A1A2.bed',sep='\\t',index=False,quoting=3,header=False)\n",
    "# A2A2.iloc[:,:-1].to_csv('A2A2.bed',sep='\\t',index=False,quoting=3,header=False)\n",
    "# I1I1.iloc[:,:-1].to_csv('I1I1.bed',sep='\\t',index=False,quoting=3,header=False)\n",
    "# I1I2.iloc[:,:-1].to_csv('I1I2.bed',sep='\\t',index=False,quoting=3,header=False)\n",
    "# I2I2.iloc[:,:-1].to_csv('I2I2.bed',sep='\\t',index=False,quoting=3,header=False)"
   ]
  },
  {
   "cell_type": "code",
   "execution_count": 27,
   "metadata": {},
   "outputs": [],
   "source": [
    "def merge_tad(x,y):\n",
    "    return pd.merge(x,y,how='inner',on=['chrom','start','end'])\n",
    "data_type = list(map(merge_tad,itertools.repeat(data,7),[p3_tad,A1A1,A1A2,A2A2,I1I1,I1I2,I2I2]))\n",
    "data_type_fpkm = list(map(merge_tad,itertools.repeat(fpkm,7),data_type))"
   ]
  },
  {
   "cell_type": "code",
   "execution_count": 28,
   "metadata": {},
   "outputs": [
    {
     "data": {
      "text/plain": [
       "[[Text(0, 0, 'SA'),\n",
       "  Text(1, 0, 'A1A1'),\n",
       "  Text(2, 0, 'A1A2'),\n",
       "  Text(3, 0, 'A2A2'),\n",
       "  Text(4, 0, 'S1S1'),\n",
       "  Text(5, 0, 'S1S2'),\n",
       "  Text(6, 0, 'S2S2')]]"
      ]
     },
     "execution_count": 28,
     "metadata": {},
     "output_type": "execute_result"
    },
    {
     "data": {
      "image/png": "[encoded data removed]",
      "text/plain": [
       "<Figure size 432x288 with 1 Axes>"
      ]
     },
     "metadata": {
      "needs_background": "light"
     },
     "output_type": "display_data"
    }
   ],
   "source": [
    "c_fpkm = pd.concat(data_type_fpkm,ignore_index=True)\n",
    "c_fpkm['fpkm']=pd.to_numeric(c_fpkm['fpkm'],errors='coerce')\n",
    "\n",
    "sns.boxplot(x='type',y='fpkm',data=c_fpkm,showfliers=False).set(xticklabels=['SA','A1A1','A1A2','A2A2','S1S1','S1S2','S2S2'])\n",
    "plt.savefig('withintadexpression.pdf',bbox_inches='tight',family='sans')"
   ]
  },
  {
   "cell_type": "code",
   "execution_count": 39,
   "metadata": {},
   "outputs": [
    {
     "name": "stderr",
     "output_type": "stream",
     "text": [
      "/home/data4/jh/anaconda3/lib/python3.7/site-packages/ipykernel_launcher.py:4: MatplotlibDeprecationWarning: savefig() got unexpected keyword argument \"family\" which is no longer supported as of 3.3 and will become an error two minor releases later\n",
      "  after removing the cwd from sys.path.\n"
     ]
    },
    {
     "data": {
      "image/png": "[encoded data removed]",
      "text/plain": [
       "<Figure size 432x288 with 1 Axes>"
      ]
     },
     "metadata": {
      "needs_background": "light"
     },
     "output_type": "display_data"
    }
   ],
   "source": [
    "#c_fpkm = pd.concat(data_type_fpkm,ignore_index=True)\n",
    "\n",
    "sns.boxplot(x='type',y='strength',data=c_fpkm,showfliers=False).set(xticklabels=['SA','A1A1','A1A2','A2A2','S1S1','S1S2','S2S2'])\n",
    "plt.savefig('strength.pdf',bbox_inches='tight',family='sans')"
   ]
  },
  {
   "cell_type": "code",
   "execution_count": 48,
   "metadata": {},
   "outputs": [
    {
     "name": "stderr",
     "output_type": "stream",
     "text": [
      "/home/data4/jh/anaconda3/lib/python3.7/site-packages/ipykernel_launcher.py:5: MatplotlibDeprecationWarning: savefig() got unexpected keyword argument \"family\" which is no longer supported as of 3.3 and will become an error two minor releases later\n",
      "  \"\"\"\n"
     ]
    },
    {
     "data": {
      "image/png": "[encoded data removed]",
      "text/plain": [
       "<Figure size 432x288 with 1 Axes>"
      ]
     },
     "metadata": {
      "needs_background": "light"
     },
     "output_type": "display_data"
    }
   ],
   "source": [
    "# c_fpkm = pd.concat(data_type_fpkm,ignore_index=True)\n",
    "# c_fpkm['fpkm']=pd.to_numeric(c_fpkm['fpkm'],errors='coerce')\n",
    "\n",
    "sns.boxplot(x='type',y='E1',data=c_fpkm,showfliers=False).set(xticklabels=['SA','A1A1','A1A2','A2A2','S1S1','S1S2','S2S2'])\n",
    "plt.savefig('E1.pdf',bbox_inches='tight',family='sans')"
   ]
  },
  {
   "cell_type": "code",
   "execution_count": 53,
   "metadata": {},
   "outputs": [
    {
     "name": "stderr",
     "output_type": "stream",
     "text": [
      "/home/data4/jh/anaconda3/lib/python3.7/site-packages/ipykernel_launcher.py:5: MatplotlibDeprecationWarning: savefig() got unexpected keyword argument \"family\" which is no longer supported as of 3.3 and will become an error two minor releases later\n",
      "  \"\"\"\n"
     ]
    },
    {
     "data": {
      "image/png": "[encoded data removed]",
      "text/plain": [
       "<Figure size 432x288 with 1 Axes>"
      ]
     },
     "metadata": {
      "needs_background": "light"
     },
     "output_type": "display_data"
    }
   ],
   "source": [
    "# c_fpkm = pd.concat(data_type_fpkm,ignore_index=True)\n",
    "# c_fpkm['fpkm']=pd.to_numeric(c_fpkm['fpkm'],errors='coerce')\n",
    "\n",
    "sns.boxplot(x='type',y='interaction',data=c_fpkm,showfliers=False).set(xticklabels=['SA','A1A1','A1A2','A2A2','S1S1','S1S2','S2S2'])\n",
    "plt.savefig('ineraction.pdf',bbox_inches='tight',family='sans')"
   ]
  },
  {
   "cell_type": "code",
   "execution_count": 57,
   "metadata": {},
   "outputs": [
    {
     "name": "stderr",
     "output_type": "stream",
     "text": [
      "/home/data4/jh/anaconda3/lib/python3.7/site-packages/ipykernel_launcher.py:5: MatplotlibDeprecationWarning: savefig() got unexpected keyword argument \"family\" which is no longer supported as of 3.3 and will become an error two minor releases later\n",
      "  \"\"\"\n"
     ]
    },
    {
     "data": {
      "image/png": "[encoded data removed]",
      "text/plain": [
       "<Figure size 432x288 with 1 Axes>"
      ]
     },
     "metadata": {
      "needs_background": "light"
     },
     "output_type": "display_data"
    }
   ],
   "source": [
    "# c_fpkm = pd.concat(data_type_fpkm,ignore_index=True)\n",
    "# c_fpkm['fpkm']=pd.to_numeric(c_fpkm['fpkm'],errors='coerce')\n",
    "\n",
    "sns.boxplot(x='type',y='size',data=c_fpkm,showfliers=False).set(xticklabels=['SA','A1A1','A1A2','A2A2','S1S1','S1S2','S2S2'])\n",
    "plt.savefig('size.pdf',bbox_inches='tight',family='sans')"
   ]
  },
  {
   "cell_type": "code",
   "execution_count": 61,
   "metadata": {},
   "outputs": [
    {
     "name": "stderr",
     "output_type": "stream",
     "text": [
      "/home/data4/jh/anaconda3/lib/python3.7/site-packages/ipykernel_launcher.py:5: MatplotlibDeprecationWarning: savefig() got unexpected keyword argument \"family\" which is no longer supported as of 3.3 and will become an error two minor releases later\n",
      "  \"\"\"\n"
     ]
    },
    {
     "data": {
      "image/png": "[encoded data removed]",
      "text/plain": [
       "<Figure size 432x288 with 1 Axes>"
      ]
     },
     "metadata": {
      "needs_background": "light"
     },
     "output_type": "display_data"
    }
   ],
   "source": [
    "# c_fpkm = pd.concat(data_type_fpkm,ignore_index=True)\n",
    "# c_fpkm['fpkm']=pd.to_numeric(c_fpkm['fpkm'],errors='coerce')\n",
    "\n",
    "sns.boxplot(x='type',y='border_fpkm',data=c_fpkm,showfliers=False).set(xticklabels=['SA','A1A1','A1A2','A2A2','S1S1','S1S2','S2S2'])\n",
    "plt.savefig('border_fpkm.pdf',bbox_inches='tight',family='sans')"
   ]
  },
  {
   "cell_type": "code",
   "execution_count": 69,
   "metadata": {},
   "outputs": [],
   "source": [
    "c1_borders_type.loc[c1_borders_type.iloc[:,3]==0,:].iloc[:,:-1].to_csv('A1.bed',sep='\\t',index=False,quoting=3,header=False)\n",
    "c1_borders_type.loc[c1_borders_type.iloc[:,3]==1,:].iloc[:,:-1].to_csv('A2.bed',sep='\\t',index=False,quoting=3,header=False)\n",
    "c2_borders_type.loc[c2_borders_type.iloc[:,3]==0,:].iloc[:,:-1].to_csv('S1.bed',sep='\\t',index=False,quoting=3,header=False)\n",
    "c2_borders_type.loc[c2_borders_type.iloc[:,3]==1,:].iloc[:,:-1].to_csv('S2.bed',sep='\\t',index=False,quoting=3,header=False)"
   ]
  },
  {
   "cell_type": "code",
   "execution_count": null,
   "metadata": {},
   "outputs": [],
   "source": []
  }
 ],
 "metadata": {
  "kernelspec": {
   "display_name": "Python 3",
   "language": "python",
   "name": "python3"
  },
  "language_info": {
   "codemirror_mode": {
    "name": "ipython",
    "version": 3
   },
   "file_extension": ".py",
   "mimetype": "text/x-python",
   "name": "python",
   "nbconvert_exporter": "python",
   "pygments_lexer": "ipython3",
   "version": "3.7.7"
  }
 },
 "nbformat": 4,
 "nbformat_minor": 4
}
