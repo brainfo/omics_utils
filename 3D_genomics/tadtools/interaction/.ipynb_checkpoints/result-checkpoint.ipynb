{
 "cells": [
  {
   "cell_type": "code",
   "execution_count": 37,
   "id": "right-underground",
   "metadata": {},
   "outputs": [],
   "source": [
    "import pandas as pd\n",
    "import numpy as np\n",
    "import itertools\n",
    "import plotly.graph_objects as go\n",
    "import plotly.io as pio\n",
    "pio.kaleido.scope.default_format = \"pdf\"\n",
    "from matplotlib.colors import ListedColormap\n",
    "import matplotlib.colors as mc\n",
    "import matplotlib.pyplot as plt\n",
    "from plotly.offline import plot\n",
    "import itertools\n",
    "import sys\n",
    "#sys.path.insert(0, '/home/data4/jh/data/tools/customized/tadtools/tadtool_pkg')\n",
    "import utils as ut\n",
    "from matplotlib.colors import ListedColormap, LinearSegmentedColormap\n",
    "from matplotlib import cm\n",
    "import seaborn as sns\n",
    "from tqdm import tqdm\n",
    "from scipy.stats import mannwhitneyu\n",
    "from itertools import chain"
   ]
  },
  {
   "cell_type": "code",
   "execution_count": 37,
   "id": "crucial-platinum",
   "metadata": {},
   "outputs": [],
   "source": [
    "def extract(a,dense_pixel_cis):\n",
    "    return (dense_pixel_cis.iloc[:,1]>=a[0]) & (dense_pixel_cis.iloc[:,4]>=a[0]) & (dense_pixel_cis.iloc[:,2]<=a[1]) & (dense_pixel_cis.iloc[:,5]<=a[1])"
   ]
  },
  {
   "cell_type": "code",
   "execution_count": 39,
   "id": "driving-roads",
   "metadata": {},
   "outputs": [],
   "source": [
    "A_type = pd.read_csv('./data/A2_type.bed', sep='\\t')\n",
    "B_type = pd.read_csv('./data/B2_type.bed', sep='\\t')"
   ]
  },
  {
   "cell_type": "code",
   "execution_count": 40,
   "id": "british-following",
   "metadata": {},
   "outputs": [],
   "source": [
    "A_types = A_type.groupby(A_type.type)\n",
    "types_keys = A_type.type.unique()\n",
    "A_types = [A_types.get_group(x) for x in types_keys]"
   ]
  },
  {
   "cell_type": "code",
   "execution_count": 41,
   "id": "editorial-chapel",
   "metadata": {},
   "outputs": [],
   "source": [
    "B_types = B_type.groupby(B_type.type)\n",
    "types_keys = B_type.type.unique()\n",
    "B_types = [B_types.get_group(x) for x in types_keys]"
   ]
  },
  {
   "cell_type": "code",
   "execution_count": 41,
   "id": "lined-consultancy",
   "metadata": {},
   "outputs": [],
   "source": [
    "def extract_chr(chrstr,type_tad):\n",
    "    dense_pixel = pd.read_csv(f'../inorbetween/{chrstr}.bedpe',header=None,sep='\\t')\n",
    "    dense_pixel_cis = dense_pixel.loc[dense_pixel.iloc[:,3]==chrstr,:].reindex()\n",
    "    type_tad_chr = type_tad.loc[type_tad.iloc[:,0]==chrstr,['start','end']].to_numpy()\n",
    "    union_tad = []\n",
    "    for row in type_tad_chr:\n",
    "        if union_tad and union_tad[-1][1] >= row[0]-1:\n",
    "            union_tad[-1][1] = max(union_tad[-1][1],row[1])\n",
    "        else:\n",
    "            union_tad.append([row[0],row[1]])\n",
    "    chr_result = list(map(extract,union_tad,itertools.repeat(dense_pixel_cis, len(union_tad))))\n",
    "    chr_all = list(map(bool,sum(chr_result)))\n",
    "    return dense_pixel_cis.loc[chr_all,:].reindex()"
   ]
  },
  {
   "cell_type": "code",
   "execution_count": 42,
   "id": "entire-island",
   "metadata": {},
   "outputs": [],
   "source": [
    "## chrstr extract from tad.bed\n",
    "def write_interaction(tad):\n",
    "    name = tad.type.reset_index().type[0]\n",
    "    result_list = []\n",
    "    for chrstr in tad.iloc[:,0].unique():\n",
    "        result_list.append(extract_chr(chrstr,tad))\n",
    "    cis_tad = pd.concat(result_list, axis=0, join='outer', ignore_index=True, keys=None,\n",
    "              levels=None, names=None, verify_integrity=False, copy=True)\n",
    "    cis_tad.to_csv(f'./results/{name}_cis_TAD.bedpe',index=False,header=False,sep='\\t')\n",
    "    return cis_tad"
   ]
  },
  {
   "cell_type": "code",
   "execution_count": 44,
   "id": "clean-jungle",
   "metadata": {},
   "outputs": [
    {
     "name": "stdout",
     "output_type": "stream",
     "text": [
      "0 / 4\n",
      "1 / 4\n",
      "2 / 4\n",
      "3 / 4\n"
     ]
    }
   ],
   "source": [
    "A_interactions = []\n",
    "n_types = len(A_types)\n",
    "i = 0\n",
    "for type_ in A_types:\n",
    "    A_interactions.append(write_interaction(type_))\n",
    "    print(f'{i} / {n_types}')\n",
    "    i+=1"
   ]
  },
  {
   "cell_type": "code",
   "execution_count": 7,
   "id": "minor-swedish",
   "metadata": {},
   "outputs": [],
   "source": [
    "def read_interaction(file):\n",
    "    return pd.read_csv(file,sep='\\t',header=None)\n",
    "\n",
    "import glob\n",
    "\n",
    "files = glob.glob('./results/A*.bedpe')\n",
    "A_interactions = list(map(read_interaction,files))\n",
    "B_files = glob.glob('./results/B*.bedpe')\n",
    "B_interactions = list(map(read_interaction,files))"
   ]
  },
  {
   "cell_type": "code",
   "execution_count": 3,
   "id": "alternate-sight",
   "metadata": {},
   "outputs": [],
   "source": [
    "def remove_dup(cis_tad):\n",
    "    dense = pd.DataFrame()\n",
    "    dense['loc1'] = cis_tad.iloc[:,[0,1,2]].apply(lambda row: '_'.join(map(str,row)),axis=1)\n",
    "    dense['loc2'] = cis_tad.iloc[:,[3,4,5]].apply(lambda row: '_'.join(map(str,row)),axis=1)\n",
    "    dense['value'] = cis_tad.iloc[:,7]\n",
    "    dense_nodiag = dense.iloc[np.where(dense['loc1']!=dense['loc2'])[0],:]\n",
    "    return dense_nodiag"
   ]
  },
  {
   "cell_type": "code",
   "execution_count": 10,
   "id": "premier-villa",
   "metadata": {},
   "outputs": [
    {
     "data": {
      "text/plain": [
       "['./results/B10_cis_TAD.bedpe',\n",
       " './results/B01_cis_TAD.bedpe',\n",
       " './results/B00_cis_TAD.bedpe',\n",
       " './results/B11_cis_TAD.bedpe']"
      ]
     },
     "execution_count": 10,
     "metadata": {},
     "output_type": "execute_result"
    }
   ],
   "source": [
    "B_files"
   ]
  },
  {
   "cell_type": "code",
   "execution_count": 9,
   "id": "experienced-worship",
   "metadata": {},
   "outputs": [],
   "source": [
    "nodiags = list(map(remove_dup,A_interactions))\n",
    "A_RR = nodiags[3]\n",
    "A_CC = nodiags[2]\n",
    "A_RC = nodiags[0].append(nodiags[1],ignore_index=True)\n",
    "\n",
    "A_nodiags_type = [A_RR,A_RC,A_CC]\n",
    "A_name_list = ['ARR','ARC','ACC']"
   ]
  },
  {
   "cell_type": "code",
   "execution_count": 11,
   "id": "contemporary-franchise",
   "metadata": {},
   "outputs": [],
   "source": [
    "nodiags = list(map(remove_dup,B_interactions))\n",
    "B_RR = nodiags[2]\n",
    "B_CC = nodiags[3]\n",
    "B_RC = nodiags[0].append(nodiags[1],ignore_index=True)\n",
    "\n",
    "S_nodiags_type = [B_RR,B_RC,B_CC]\n",
    "S_name_list = ['BRR','BRC','BCC']"
   ]
  },
  {
   "cell_type": "code",
   "execution_count": 12,
   "id": "documented-commons",
   "metadata": {},
   "outputs": [],
   "source": [
    "def group_loc(nodiag_tad):\n",
    "    return nodiag_tad.groupby(['loc1']).sum()\n",
    "S_nodiags_grouped = list(map(group_loc,S_nodiags_type))\n",
    "A_nodiags_grouped = list(map(group_loc,A_nodiags_type))"
   ]
  },
  {
   "cell_type": "code",
   "execution_count": 13,
   "id": "incredible-address",
   "metadata": {},
   "outputs": [],
   "source": [
    "S_value_list = list(map(lambda x: x['value'].to_numpy(),S_nodiags_grouped))\n",
    "A_value_list = list(map(lambda x: x['value'].to_numpy(),A_nodiags_grouped))"
   ]
  },
  {
   "cell_type": "code",
   "execution_count": 21,
   "id": "scheduled-lancaster",
   "metadata": {},
   "outputs": [],
   "source": [
    "import statistics\n",
    "A_remove_na = list(map(np.nan_to_num,A_value_list))\n",
    "A_sorted_index = np.flip(np.argsort(list(map(sum,A_remove_na))))"
   ]
  },
  {
   "cell_type": "code",
   "execution_count": 33,
   "id": "ccd152f7-5a00-433d-8a95-101344b11479",
   "metadata": {
    "collapsed": true,
    "jupyter": {
     "outputs_hidden": true
    },
    "tags": []
   },
   "outputs": [
    {
     "data": {
      "text/plain": [
       "[array([0.26933931, 0.32406895, 0.31760511, ..., 0.31775614, 0.33134459,\n",
       "        0.26919564]),\n",
       " array([0.23005753, 0.24319485, 0.26092254, ..., 0.2478189 , 0.1642599 ,\n",
       "        0.15857155]),\n",
       " array([0.33824552, 0.31466651, 0.32441445, 0.22186428, 0.1853577 ,\n",
       "        0.2016198 , 0.2276109 , 0.2311484 , 0.2332662 , 0.2491487 ,\n",
       "        0.2530336 , 0.2505987 , 0.2566685 , 0.2564815 , 0.2177732 ,\n",
       "        0.201028  , 0.26941944, 0.31974684, 0.36725945, 0.3206633 ,\n",
       "        0.42569363, 0.39073398, 0.39581234, 0.37350394, 0.36528339,\n",
       "        0.37454969, 0.37775245, 0.36273875, 0.35084874, 0.37643046,\n",
       "        0.37538439, 0.3096127 , 0.28433911, 0.20690678, 0.1464696 ,\n",
       "        0.2019423 , 0.2699897 , 0.2463486 , 0.2501387 , 0.2692876 ,\n",
       "        0.2802379 , 0.2375445 , 0.2235223 , 0.19371367, 0.23069148,\n",
       "        0.28519203, 0.2879232 , 0.30521882, 0.32413163, 0.31103352,\n",
       "        0.32979356, 0.36341137, 0.31704703, 0.30958553, 0.30243099,\n",
       "        0.3054235 , 0.29741584, 0.26443251, 0.18212874, 0.1235977 ,\n",
       "        0.1661619 , 0.1752222 , 0.1770231 , 0.1499481 , 0.31562769,\n",
       "        0.30472877, 0.29592367, 0.33712843, 0.35881596, 0.33913512,\n",
       "        0.33937   , 0.34798595, 0.34037348, 0.34380912, 0.35244388,\n",
       "        0.34548003, 0.33156389, 0.33514882, 0.34480267, 0.36933765,\n",
       "        0.3419408 , 0.32120327, 0.31529779, 0.3345921 , 0.32178023,\n",
       "        0.32048292, 0.32458807, 0.31816631, 0.22095508, 0.31805355,\n",
       "        0.33269215, 0.34135425, 0.35462551, 0.35703953, 0.35920563,\n",
       "        0.35085183, 0.38564482, 0.38267805, 0.37451397, 0.34897693,\n",
       "        0.38508775, 0.36759532, 0.35079338, 0.3358057 , 0.35795141,\n",
       "        0.37171512, 0.34675184, 0.33468601, 0.33380302, 0.35259173,\n",
       "        0.36677045, 0.34497061, 0.34434878, 0.36533048, 0.37802677,\n",
       "        0.35275567, 0.35629623, 0.34039473, 0.32939714, 0.33675675,\n",
       "        0.29740829, 0.2757651 , 0.27542378, 0.1905031 , 0.2191904 ,\n",
       "        0.2238026 , 0.233001  , 0.2026027 , 0.1633106 , 0.24667234,\n",
       "        0.27885529, 0.2888666 , 0.31283586, 0.31038376, 0.3728883 ,\n",
       "        0.3491536 , 0.35826373, 0.34911153, 0.36189751, 0.35190282,\n",
       "        0.27534754, 0.34903262, 0.36305444, 0.36356778, 0.3989358 ,\n",
       "        0.40192843, 0.40945907, 0.38920453, 0.38575041, 0.37448751,\n",
       "        0.39323628, 0.37063392, 0.25163461, 0.        , 0.        ,\n",
       "        0.        , 0.        , 0.        , 0.        , 0.        ,\n",
       "        0.21052953, 0.        , 0.25831491, 0.35417137, 0.37065525,\n",
       "        0.38541526, 0.39024953, 0.39227423, 0.42133337, 0.43908858,\n",
       "        0.41781522, 0.40548818, 0.45255246, 0.44311967, 0.45413567,\n",
       "        0.42352015, 0.45999115, 0.4316671 , 0.48696367, 0.44871848,\n",
       "        0.41531996, 0.42445609, 0.417033  , 0.41410612, 0.39319536,\n",
       "        0.38949135, 0.33675143, 0.3682528 , 0.34592113, 0.26310509,\n",
       "        0.3634044 , 0.35426365, 0.34077555, 0.34637206, 0.35227094,\n",
       "        0.38190433, 0.37917813, 0.38113928, 0.3687282 , 0.37042858,\n",
       "        0.36380352, 0.36502863, 0.37660772, 0.3719633 , 0.35109704,\n",
       "        0.38587179, 0.35847479, 0.35353702, 0.34344473, 0.33380708,\n",
       "        0.32804185, 0.30057432, 0.28049055, 0.25215777, 0.35544408,\n",
       "        0.40329009, 0.39022701, 0.40894064, 0.46516229, 0.44097079,\n",
       "        0.43836939, 0.43546214, 0.43423038, 0.43322932, 0.41896011,\n",
       "        0.44685166, 0.47207025, 0.46422509, 0.46194928, 0.46627254,\n",
       "        0.47669656, 0.48112804, 0.47393243, 0.4606242 , 0.46738093,\n",
       "        0.47266703, 0.46720321, 0.4286537 , 0.37177781, 0.4584742 ,\n",
       "        0.43194581, 0.42349198, 0.4315319 , 0.42155416, 0.4312733 ,\n",
       "        0.41146959, 0.35723736, 0.3352165 , 0.32884017, 0.23105109,\n",
       "        0.1404782 , 0.2499851 , 0.2470991 , 0.2509097 , 0.2559755 ,\n",
       "        0.2473926 , 0.2448028 , 0.2084893 , 0.1722301 , 0.2000134 ,\n",
       "        0.2387565 , 0.2561981 , 0.2758919 , 0.2617271 , 0.2815878 ,\n",
       "        0.2786564 , 0.2659578 , 0.2461542 , 0.1997131 , 0.2341123 ,\n",
       "        0.2645633 , 0.2401023 , 0.2374294 , 0.261151  , 0.220327  ,\n",
       "        0.1972222 , 0.16565026, 0.22156711, 0.3375634 , 0.33710514,\n",
       "        0.34229009, 0.33697916, 0.33414956, 0.3673941 , 0.39219095,\n",
       "        0.32601024, 0.34807792, 0.32894961, 0.336815  , 0.36736577,\n",
       "        0.24124373, 0.24718116, 0.31135958, 0.33679203, 0.35614644,\n",
       "        0.37668813, 0.38377796, 0.39697142, 0.38962994, 0.40644845,\n",
       "        0.46915024, 0.44046858, 0.43724683, 0.43518372, 0.42751591,\n",
       "        0.41475738, 0.42600956, 0.43520103, 0.43198126, 0.43179879,\n",
       "        0.44626623, 0.47007893, 0.4568044 , 0.46562535, 0.45461393,\n",
       "        0.46631287, 0.48899072, 0.46395109, 0.46934351, 0.43106955,\n",
       "        0.43047126, 0.42283799, 0.41886808, 0.42225975, 0.42862591,\n",
       "        0.42271598, 0.40746503, 0.4290698 , 0.42544134, 0.39262117,\n",
       "        0.3858374 , 0.40330697, 0.41985796, 0.35541222, 0.33309095,\n",
       "        0.27725002, 0.24883702, 0.29406875, 0.20493887, 0.31660082,\n",
       "        0.26659373, 0.31273877, 0.31730582, 0.3101869 , 0.2967795 ,\n",
       "        0.3034151 , 0.3020941 , 0.22725736, 0.2475805 , 0.18990475,\n",
       "        0.19195013, 0.24475853, 0.3269387 , 0.327834  , 0.3280884 ,\n",
       "        0.30254364, 0.32357283, 0.3577867 , 0.34949394, 0.33954851,\n",
       "        0.33171399, 0.32480113, 0.31525026, 0.31823546, 0.3333163 ,\n",
       "        0.20831257, 0.23359229, 0.26103712, 0.23625382, 0.2631628 ,\n",
       "        0.2556999 , 0.2507871 , 0.2209148 , 0.1583046 , 0.22660079,\n",
       "        0.24786501, 0.29607034, 0.31158966, 0.31331534, 0.31724786,\n",
       "        0.3603589 , 0.37597673, 0.36304655, 0.36802683, 0.38330413,\n",
       "        0.39738529, 0.37710662, 0.3573776 , 0.36900426, 0.40577058,\n",
       "        0.35040543, 0.33016828, 0.21069601, 0.29687583, 0.31914128,\n",
       "        0.27819995, 0.3002385 , 0.33629404, 0.36351447, 0.3476853 ,\n",
       "        0.33426411, 0.35388828, 0.37590886, 0.35686212, 0.3487192 ,\n",
       "        0.39493334, 0.3930572 , 0.33251375, 0.29097746, 0.32407143,\n",
       "        0.31415143, 0.34888288, 0.2497167 , 0.27950117, 0.29438063,\n",
       "        0.29382331, 0.3091708 , 0.3067891 , 0.3117724 , 0.3082927 ,\n",
       "        0.2939609 , 0.28319899, 0.28153881, 0.29170591, 0.3002523 ,\n",
       "        0.3051918 , 0.2359367 , 0.182851  , 0.2660942 , 0.2438251 ,\n",
       "        0.2446668 , 0.2618742 , 0.270251  , 0.2526594 , 0.2477848 ,\n",
       "        0.1549187 , 0.2758391 , 0.33715201, 0.37832364, 0.44276699,\n",
       "        0.41625012, 0.42546681, 0.44967486, 0.48130224, 0.46429059,\n",
       "        0.4420535 , 0.43827976, 0.41704959, 0.40826033, 0.38664189,\n",
       "        0.39924723, 0.42111504, 0.37733953, 0.36924728, 0.35478884,\n",
       "        0.33459268, 0.33726841, 0.30398837, 0.22945217, 0.2200762 ,\n",
       "        0.23565132, 0.24579107, 0.252017  , 0.2432749 , 0.2729475 ,\n",
       "        0.23418589, 0.2691712 , 0.1878491 , 0.23930373, 0.36219173,\n",
       "        0.43407094, 0.40592114, 0.38498299, 0.3847602 , 0.39516142,\n",
       "        0.3970765 , 0.40176961, 0.39369549, 0.38722634, 0.40549077,\n",
       "        0.41872698, 0.40161631, 0.4093455 , 0.41241684, 0.41662162,\n",
       "        0.33464224, 0.37816734, 0.39651458, 0.3985467 , 0.44127102,\n",
       "        0.39195414, 0.37026183, 0.3558063 , 0.36829898, 0.38958712,\n",
       "        0.42256583, 0.21641085, 0.24720257, 0.2955414 , 0.27404035,\n",
       "        0.2924049 , 0.3148232 , 0.272334  , 0.2901127 , 0.3151362 ,\n",
       "        0.2729524 , 0.2584834 , 0.2452539 , 0.20632342, 0.20736323,\n",
       "        0.24562061, 0.26405534, 0.25759062, 0.28093286, 0.29460851,\n",
       "        0.30528375, 0.30768149, 0.3169324 , 0.32018716, 0.32585919,\n",
       "        0.33177003, 0.30483804, 0.28143113, 0.2876664 , 0.28518048,\n",
       "        0.261393  , 0.40779461, 0.40195355, 0.40348287, 0.41330941,\n",
       "        0.4551025 , 0.44001467, 0.42687801, 0.42053803, 0.45645074,\n",
       "        0.4445498 , 0.45273502, 0.44353445, 0.43539286, 0.43904327,\n",
       "        0.43656238, 0.45041886, 0.47330375, 0.4772637 , 0.47775166,\n",
       "        0.48129773, 0.46089365, 0.45192892, 0.44422003, 0.43103561,\n",
       "        0.48239142, 0.43238259, 0.39227412, 0.38448382, 0.39196488,\n",
       "        0.40252522, 0.42598585, 0.44751992, 0.45676024, 0.41686132,\n",
       "        0.39492721, 0.37350439, 0.36384025, 0.36048483, 0.35596408,\n",
       "        0.33549513, 0.34629406, 0.3221441 , 0.26208005, 0.2682311 ,\n",
       "        0.2915872 , 0.3326795 , 0.3067069 , 0.3130254 , 0.30868393,\n",
       "        0.3306171 , 0.3242923 , 0.3088357 , 0.3041215 , 0.3048094 ,\n",
       "        0.3188422 , 0.19592623, 0.30910364, 0.36983468, 0.3986591 ,\n",
       "        0.38437771, 0.37939263, 0.38545225, 0.40705738, 0.40067504,\n",
       "        0.36204475, 0.37191463, 0.3888455 , 0.36157527, 0.39070088,\n",
       "        0.4184927 , 0.42931093, 0.38406618, 0.38559447, 0.37785926,\n",
       "        0.39917341, 0.4244931 , 0.35347432, 0.34325554, 0.34644863,\n",
       "        0.23857942, 0.1773179 , 0.2352423 , 0.2531442 , 0.2827022 ,\n",
       "        0.2826881 , 0.2720308 , 0.2889547 , 0.2675716 , 0.2472204 ,\n",
       "        0.2251109 , 0.1888143 , 0.22585993, 0.3091774 , 0.35741427,\n",
       "        0.34214871, 0.34527254, 0.39125332, 0.39301247, 0.41541157,\n",
       "        0.40047729, 0.40698552, 0.38160368, 0.        , 0.37965584,\n",
       "        0.44413229, 0.4426364 , 0.44164429, 0.44714165, 0.45373661,\n",
       "        0.44142195, 0.43707659, 0.4485321 , 0.44682466, 0.43178591,\n",
       "        0.41882313, 0.45444262, 0.41835226, 0.34322224, 0.36595869,\n",
       "        0.33210334, 0.32015773, 0.29675584, 0.29639162, 0.29218708,\n",
       "        0.30089495, 0.28652505, 0.32598772, 0.34144215, 0.31357127,\n",
       "        0.31589533, 0.29296975, 0.33445809, 0.29869822, 0.27701212,\n",
       "        0.27279574, 0.27578531, 0.26095015, 0.228759  , 0.19050347,\n",
       "        0.23711499, 0.27822584, 0.29993096, 0.35562327, 0.33304267,\n",
       "        0.33629161, 0.32053719, 0.3642869 , 0.35058613, 0.3729871 ,\n",
       "        0.35961704, 0.35816293, 0.40656873, 0.39226347, 0.38197791,\n",
       "        0.35710304, 0.34841077, 0.35228797, 0.35129758, 0.36901672,\n",
       "        0.37701404, 0.36681385, 0.36313707, 0.37459833, 0.35037994,\n",
       "        0.36261037, 0.35026582, 0.34594564, 0.3426039 , 0.32101641,\n",
       "        0.31488557, 0.29957723, 0.27416226])]"
      ]
     },
     "execution_count": 33,
     "metadata": {},
     "output_type": "execute_result"
    }
   ],
   "source": [
    "A_remove_na"
   ]
  },
  {
   "cell_type": "code",
   "execution_count": 19,
   "id": "naked-cattle",
   "metadata": {
    "collapsed": true,
    "jupyter": {
     "outputs_hidden": true,
     "source_hidden": true
    },
    "tags": []
   },
   "outputs": [
    {
     "data": {
      "text/plain": [
       "[array([0.26933931, 0.32406895, 0.31760511, ..., 0.31775614, 0.33134459,\n",
       "        0.26919564]),\n",
       " array([0.23005753, 0.24319485, 0.26092254, ..., 0.2478189 , 0.1642599 ,\n",
       "        0.15857155]),\n",
       " array([0.33824552, 0.31466651, 0.32441445, 0.22186428, 0.1853577 ,\n",
       "        0.2016198 , 0.2276109 , 0.2311484 , 0.2332662 , 0.2491487 ,\n",
       "        0.2530336 , 0.2505987 , 0.2566685 , 0.2564815 , 0.2177732 ,\n",
       "        0.201028  , 0.26941944, 0.31974684, 0.36725945, 0.3206633 ,\n",
       "        0.42569363, 0.39073398, 0.39581234, 0.37350394, 0.36528339,\n",
       "        0.37454969, 0.37775245, 0.36273875, 0.35084874, 0.37643046,\n",
       "        0.37538439, 0.3096127 , 0.28433911, 0.20690678, 0.1464696 ,\n",
       "        0.2019423 , 0.2699897 , 0.2463486 , 0.2501387 , 0.2692876 ,\n",
       "        0.2802379 , 0.2375445 , 0.2235223 , 0.19371367, 0.23069148,\n",
       "        0.28519203, 0.2879232 , 0.30521882, 0.32413163, 0.31103352,\n",
       "        0.32979356, 0.36341137, 0.31704703, 0.30958553, 0.30243099,\n",
       "        0.3054235 , 0.29741584, 0.26443251, 0.18212874, 0.1235977 ,\n",
       "        0.1661619 , 0.1752222 , 0.1770231 , 0.1499481 , 0.31562769,\n",
       "        0.30472877, 0.29592367, 0.33712843, 0.35881596, 0.33913512,\n",
       "        0.33937   , 0.34798595, 0.34037348, 0.34380912, 0.35244388,\n",
       "        0.34548003, 0.33156389, 0.33514882, 0.34480267, 0.36933765,\n",
       "        0.3419408 , 0.32120327, 0.31529779, 0.3345921 , 0.32178023,\n",
       "        0.32048292, 0.32458807, 0.31816631, 0.22095508, 0.31805355,\n",
       "        0.33269215, 0.34135425, 0.35462551, 0.35703953, 0.35920563,\n",
       "        0.35085183, 0.38564482, 0.38267805, 0.37451397, 0.34897693,\n",
       "        0.38508775, 0.36759532, 0.35079338, 0.3358057 , 0.35795141,\n",
       "        0.37171512, 0.34675184, 0.33468601, 0.33380302, 0.35259173,\n",
       "        0.36677045, 0.34497061, 0.34434878, 0.36533048, 0.37802677,\n",
       "        0.35275567, 0.35629623, 0.34039473, 0.32939714, 0.33675675,\n",
       "        0.29740829, 0.2757651 , 0.27542378, 0.1905031 , 0.2191904 ,\n",
       "        0.2238026 , 0.233001  , 0.2026027 , 0.1633106 , 0.24667234,\n",
       "        0.27885529, 0.2888666 , 0.31283586, 0.31038376, 0.3728883 ,\n",
       "        0.3491536 , 0.35826373, 0.34911153, 0.36189751, 0.35190282,\n",
       "        0.27534754, 0.34903262, 0.36305444, 0.36356778, 0.3989358 ,\n",
       "        0.40192843, 0.40945907, 0.38920453, 0.38575041, 0.37448751,\n",
       "        0.39323628, 0.37063392, 0.25163461, 0.        , 0.        ,\n",
       "        0.        , 0.        , 0.        , 0.        , 0.        ,\n",
       "        0.21052953, 0.        , 0.25831491, 0.35417137, 0.37065525,\n",
       "        0.38541526, 0.39024953, 0.39227423, 0.42133337, 0.43908858,\n",
       "        0.41781522, 0.40548818, 0.45255246, 0.44311967, 0.45413567,\n",
       "        0.42352015, 0.45999115, 0.4316671 , 0.48696367, 0.44871848,\n",
       "        0.41531996, 0.42445609, 0.417033  , 0.41410612, 0.39319536,\n",
       "        0.38949135, 0.33675143, 0.3682528 , 0.34592113, 0.26310509,\n",
       "        0.3634044 , 0.35426365, 0.34077555, 0.34637206, 0.35227094,\n",
       "        0.38190433, 0.37917813, 0.38113928, 0.3687282 , 0.37042858,\n",
       "        0.36380352, 0.36502863, 0.37660772, 0.3719633 , 0.35109704,\n",
       "        0.38587179, 0.35847479, 0.35353702, 0.34344473, 0.33380708,\n",
       "        0.32804185, 0.30057432, 0.28049055, 0.25215777, 0.35544408,\n",
       "        0.40329009, 0.39022701, 0.40894064, 0.46516229, 0.44097079,\n",
       "        0.43836939, 0.43546214, 0.43423038, 0.43322932, 0.41896011,\n",
       "        0.44685166, 0.47207025, 0.46422509, 0.46194928, 0.46627254,\n",
       "        0.47669656, 0.48112804, 0.47393243, 0.4606242 , 0.46738093,\n",
       "        0.47266703, 0.46720321, 0.4286537 , 0.37177781, 0.4584742 ,\n",
       "        0.43194581, 0.42349198, 0.4315319 , 0.42155416, 0.4312733 ,\n",
       "        0.41146959, 0.35723736, 0.3352165 , 0.32884017, 0.23105109,\n",
       "        0.1404782 , 0.2499851 , 0.2470991 , 0.2509097 , 0.2559755 ,\n",
       "        0.2473926 , 0.2448028 , 0.2084893 , 0.1722301 , 0.2000134 ,\n",
       "        0.2387565 , 0.2561981 , 0.2758919 , 0.2617271 , 0.2815878 ,\n",
       "        0.2786564 , 0.2659578 , 0.2461542 , 0.1997131 , 0.2341123 ,\n",
       "        0.2645633 , 0.2401023 , 0.2374294 , 0.261151  , 0.220327  ,\n",
       "        0.1972222 , 0.16565026, 0.22156711, 0.3375634 , 0.33710514,\n",
       "        0.34229009, 0.33697916, 0.33414956, 0.3673941 , 0.39219095,\n",
       "        0.32601024, 0.34807792, 0.32894961, 0.336815  , 0.36736577,\n",
       "        0.24124373, 0.24718116, 0.31135958, 0.33679203, 0.35614644,\n",
       "        0.37668813, 0.38377796, 0.39697142, 0.38962994, 0.40644845,\n",
       "        0.46915024, 0.44046858, 0.43724683, 0.43518372, 0.42751591,\n",
       "        0.41475738, 0.42600956, 0.43520103, 0.43198126, 0.43179879,\n",
       "        0.44626623, 0.47007893, 0.4568044 , 0.46562535, 0.45461393,\n",
       "        0.46631287, 0.48899072, 0.46395109, 0.46934351, 0.43106955,\n",
       "        0.43047126, 0.42283799, 0.41886808, 0.42225975, 0.42862591,\n",
       "        0.42271598, 0.40746503, 0.4290698 , 0.42544134, 0.39262117,\n",
       "        0.3858374 , 0.40330697, 0.41985796, 0.35541222, 0.33309095,\n",
       "        0.27725002, 0.24883702, 0.29406875, 0.20493887, 0.31660082,\n",
       "        0.26659373, 0.31273877, 0.31730582, 0.3101869 , 0.2967795 ,\n",
       "        0.3034151 , 0.3020941 , 0.22725736, 0.2475805 , 0.18990475,\n",
       "        0.19195013, 0.24475853, 0.3269387 , 0.327834  , 0.3280884 ,\n",
       "        0.30254364, 0.32357283, 0.3577867 , 0.34949394, 0.33954851,\n",
       "        0.33171399, 0.32480113, 0.31525026, 0.31823546, 0.3333163 ,\n",
       "        0.20831257, 0.23359229, 0.26103712, 0.23625382, 0.2631628 ,\n",
       "        0.2556999 , 0.2507871 , 0.2209148 , 0.1583046 , 0.22660079,\n",
       "        0.24786501, 0.29607034, 0.31158966, 0.31331534, 0.31724786,\n",
       "        0.3603589 , 0.37597673, 0.36304655, 0.36802683, 0.38330413,\n",
       "        0.39738529, 0.37710662, 0.3573776 , 0.36900426, 0.40577058,\n",
       "        0.35040543, 0.33016828, 0.21069601, 0.29687583, 0.31914128,\n",
       "        0.27819995, 0.3002385 , 0.33629404, 0.36351447, 0.3476853 ,\n",
       "        0.33426411, 0.35388828, 0.37590886, 0.35686212, 0.3487192 ,\n",
       "        0.39493334, 0.3930572 , 0.33251375, 0.29097746, 0.32407143,\n",
       "        0.31415143, 0.34888288, 0.2497167 , 0.27950117, 0.29438063,\n",
       "        0.29382331, 0.3091708 , 0.3067891 , 0.3117724 , 0.3082927 ,\n",
       "        0.2939609 , 0.28319899, 0.28153881, 0.29170591, 0.3002523 ,\n",
       "        0.3051918 , 0.2359367 , 0.182851  , 0.2660942 , 0.2438251 ,\n",
       "        0.2446668 , 0.2618742 , 0.270251  , 0.2526594 , 0.2477848 ,\n",
       "        0.1549187 , 0.2758391 , 0.33715201, 0.37832364, 0.44276699,\n",
       "        0.41625012, 0.42546681, 0.44967486, 0.48130224, 0.46429059,\n",
       "        0.4420535 , 0.43827976, 0.41704959, 0.40826033, 0.38664189,\n",
       "        0.39924723, 0.42111504, 0.37733953, 0.36924728, 0.35478884,\n",
       "        0.33459268, 0.33726841, 0.30398837, 0.22945217, 0.2200762 ,\n",
       "        0.23565132, 0.24579107, 0.252017  , 0.2432749 , 0.2729475 ,\n",
       "        0.23418589, 0.2691712 , 0.1878491 , 0.23930373, 0.36219173,\n",
       "        0.43407094, 0.40592114, 0.38498299, 0.3847602 , 0.39516142,\n",
       "        0.3970765 , 0.40176961, 0.39369549, 0.38722634, 0.40549077,\n",
       "        0.41872698, 0.40161631, 0.4093455 , 0.41241684, 0.41662162,\n",
       "        0.33464224, 0.37816734, 0.39651458, 0.3985467 , 0.44127102,\n",
       "        0.39195414, 0.37026183, 0.3558063 , 0.36829898, 0.38958712,\n",
       "        0.42256583, 0.21641085, 0.24720257, 0.2955414 , 0.27404035,\n",
       "        0.2924049 , 0.3148232 , 0.272334  , 0.2901127 , 0.3151362 ,\n",
       "        0.2729524 , 0.2584834 , 0.2452539 , 0.20632342, 0.20736323,\n",
       "        0.24562061, 0.26405534, 0.25759062, 0.28093286, 0.29460851,\n",
       "        0.30528375, 0.30768149, 0.3169324 , 0.32018716, 0.32585919,\n",
       "        0.33177003, 0.30483804, 0.28143113, 0.2876664 , 0.28518048,\n",
       "        0.261393  , 0.40779461, 0.40195355, 0.40348287, 0.41330941,\n",
       "        0.4551025 , 0.44001467, 0.42687801, 0.42053803, 0.45645074,\n",
       "        0.4445498 , 0.45273502, 0.44353445, 0.43539286, 0.43904327,\n",
       "        0.43656238, 0.45041886, 0.47330375, 0.4772637 , 0.47775166,\n",
       "        0.48129773, 0.46089365, 0.45192892, 0.44422003, 0.43103561,\n",
       "        0.48239142, 0.43238259, 0.39227412, 0.38448382, 0.39196488,\n",
       "        0.40252522, 0.42598585, 0.44751992, 0.45676024, 0.41686132,\n",
       "        0.39492721, 0.37350439, 0.36384025, 0.36048483, 0.35596408,\n",
       "        0.33549513, 0.34629406, 0.3221441 , 0.26208005, 0.2682311 ,\n",
       "        0.2915872 , 0.3326795 , 0.3067069 , 0.3130254 , 0.30868393,\n",
       "        0.3306171 , 0.3242923 , 0.3088357 , 0.3041215 , 0.3048094 ,\n",
       "        0.3188422 , 0.19592623, 0.30910364, 0.36983468, 0.3986591 ,\n",
       "        0.38437771, 0.37939263, 0.38545225, 0.40705738, 0.40067504,\n",
       "        0.36204475, 0.37191463, 0.3888455 , 0.36157527, 0.39070088,\n",
       "        0.4184927 , 0.42931093, 0.38406618, 0.38559447, 0.37785926,\n",
       "        0.39917341, 0.4244931 , 0.35347432, 0.34325554, 0.34644863,\n",
       "        0.23857942, 0.1773179 , 0.2352423 , 0.2531442 , 0.2827022 ,\n",
       "        0.2826881 , 0.2720308 , 0.2889547 , 0.2675716 , 0.2472204 ,\n",
       "        0.2251109 , 0.1888143 , 0.22585993, 0.3091774 , 0.35741427,\n",
       "        0.34214871, 0.34527254, 0.39125332, 0.39301247, 0.41541157,\n",
       "        0.40047729, 0.40698552, 0.38160368, 0.        , 0.37965584,\n",
       "        0.44413229, 0.4426364 , 0.44164429, 0.44714165, 0.45373661,\n",
       "        0.44142195, 0.43707659, 0.4485321 , 0.44682466, 0.43178591,\n",
       "        0.41882313, 0.45444262, 0.41835226, 0.34322224, 0.36595869,\n",
       "        0.33210334, 0.32015773, 0.29675584, 0.29639162, 0.29218708,\n",
       "        0.30089495, 0.28652505, 0.32598772, 0.34144215, 0.31357127,\n",
       "        0.31589533, 0.29296975, 0.33445809, 0.29869822, 0.27701212,\n",
       "        0.27279574, 0.27578531, 0.26095015, 0.228759  , 0.19050347,\n",
       "        0.23711499, 0.27822584, 0.29993096, 0.35562327, 0.33304267,\n",
       "        0.33629161, 0.32053719, 0.3642869 , 0.35058613, 0.3729871 ,\n",
       "        0.35961704, 0.35816293, 0.40656873, 0.39226347, 0.38197791,\n",
       "        0.35710304, 0.34841077, 0.35228797, 0.35129758, 0.36901672,\n",
       "        0.37701404, 0.36681385, 0.36313707, 0.37459833, 0.35037994,\n",
       "        0.36261037, 0.35026582, 0.34594564, 0.3426039 , 0.32101641,\n",
       "        0.31488557, 0.29957723, 0.27416226])]"
      ]
     },
     "execution_count": 19,
     "metadata": {},
     "output_type": "execute_result"
    }
   ],
   "source": [
    "A_remove_na"
   ]
  },
  {
   "cell_type": "code",
   "execution_count": 23,
   "id": "greenhouse-mailing",
   "metadata": {},
   "outputs": [],
   "source": [
    "S_remove_na = list(map(np.nan_to_num,S_value_list))\n",
    "S_sorted_index = np.flip(np.argsort(list(map(sum,S_remove_na))))"
   ]
  },
  {
   "cell_type": "code",
   "execution_count": 24,
   "id": "musical-hughes",
   "metadata": {},
   "outputs": [],
   "source": [
    "vll = np.array(A_value_list, dtype=object)[A_sorted_index]\n",
    "sorted_name_list = np.array(A_name_list, dtype=object)[A_sorted_index]"
   ]
  },
  {
   "cell_type": "code",
   "execution_count": 25,
   "id": "alike-tender",
   "metadata": {},
   "outputs": [],
   "source": [
    "S_vll = np.array(S_value_list, dtype=object)[S_sorted_index]\n",
    "S_sorted_name_list = np.array(S_name_list, dtype=object)[S_sorted_index]"
   ]
  },
  {
   "cell_type": "code",
   "execution_count": 36,
   "id": "ongoing-adobe",
   "metadata": {},
   "outputs": [],
   "source": [
    "fig = go.Figure()\n",
    "\n",
    "for i in range(6):\n",
    "    fig.add_trace(go.Box(\n",
    "    y=np.concatenate((A_remove_na, S_remove_na), axis=None, dtype=object)[i],\n",
    "    name=np.concatenate((A_name_list,S_name_list),axis=None, dtype=object)[i],\n",
    "    jitter=0.3,\n",
    "    boxpoints=False\n",
    "    ))\n",
    "\n",
    "fig.update_layout(template='simple_white',title_text='cis interaction by type',xaxis = dict(showgrid=False, ticks='inside',mirror=True,showline=True),\n",
    "                yaxis = dict(showgrid=False, ticks='inside',mirror=True,showline=True),\n",
    "                font=dict(size=18),\n",
    "                 title_x=0.5,\n",
    "                 showlegend=False)\n",
    "fig.write_image('./results/sortsum_interactiontadbytype_clean.pdf')\n"
   ]
  },
  {
   "cell_type": "code",
   "execution_count": 28,
   "id": "environmental-finland",
   "metadata": {},
   "outputs": [],
   "source": [
    "value_list = list(chain(*zip(A_value_list,S_value_list)))\n",
    "\n",
    "interaction_pair = list(itertools.combinations(value_list,2))\n",
    "\n",
    "from scipy.stats import mannwhitneyu\n",
    "ps = []\n",
    "for pair in interaction_pair:\n",
    "    stat, p = mannwhitneyu(pair[0], pair[1])\n",
    "    ps.append(p)"
   ]
  },
  {
   "cell_type": "code",
   "execution_count": 29,
   "id": "patent-antibody",
   "metadata": {},
   "outputs": [
    {
     "data": {
      "image/png": "[encoded data removed]",
      "text/plain": [
       "<Figure size 1008x720 with 2 Axes>"
      ]
     },
     "metadata": {},
     "output_type": "display_data"
    }
   ],
   "source": [
    "def plot_sig(ps):\n",
    "    arr = np.zeros((6,6))\n",
    "    indices = np.triu_indices(6,1)\n",
    "    arr[indices] = ps\n",
    "    arr_sig = np.where(arr<0.05,1,0)\n",
    "    #ps_if_arr = -np.log10(arr)\n",
    "    mask = np.zeros_like(arr) \n",
    "    mask[np.tril_indices_from(mask)] = True\n",
    "    tab10 = cm.get_cmap('tab10')\n",
    "    colors = [\"white\",tab10(3)]\n",
    "    cmap1 = LinearSegmentedColormap.from_list(\"mycmap\", colors)\n",
    "    cmap2 = sns.color_palette(\"Set2\",2)\n",
    "\n",
    "    with sns.axes_style(\"white\"):\n",
    "        f, ax = plt.subplots(figsize=(14, 10))\n",
    "        #ax = sns.heatmap(ps_if_arr, mask=mask, vmin=0, vmax=5, square=True,cmap=cmap1)\n",
    "        ax = sns.heatmap(arr_sig, mask=mask, square=True,cmap=cmap2)\n",
    "        f.savefig(f'./results/tt_interaction_sig.pdf',bbox_inches='tight')\n",
    "plot_sig(ps)"
   ]
  },
  {
   "cell_type": "code",
   "execution_count": 42,
   "id": "pregnant-sierra",
   "metadata": {},
   "outputs": [],
   "source": [
    "data_all = pd.read_csv('./data/TAD_ChIP_strength_fpkm_size_E1_interaction_twoborerexpression_innerfpkm.tsv',sep='\\t')\n",
    "data_all = data_all.rename(columns={'#chrom': 'chrom'})\n",
    "type_all = A_type.append(B_type,ignore_index=True)\n",
    "data_all_type = pd.merge(data_all,type_all,on=['chrom','start','end'],how='inner')\n",
    "data_all_type['expression'] = pd.to_numeric(data_all_type['inner_fpkm'],errors='coerce')\n",
    "data_all_type = data_all_type.dropna()"
   ]
  },
  {
   "cell_type": "code",
   "execution_count": 44,
   "id": "adjacent-breath",
   "metadata": {},
   "outputs": [],
   "source": [
    "data_all_type['type'] = pd.Categorical(data_all_type['type'], ['A00','B00','A01','B01','A11','B11'])\n",
    "data_all_type_sorted = data_all_type.sort_values(\"type\")"
   ]
  },
  {
   "cell_type": "code",
   "execution_count": 46,
   "id": "ultimate-clear",
   "metadata": {},
   "outputs": [
    {
     "data": {
      "text/plain": [
       "0       NaN\n",
       "1       B01\n",
       "2       B11\n",
       "3       A11\n",
       "4       B11\n",
       "       ... \n",
       "2106    A11\n",
       "2107    B11\n",
       "2108    B11\n",
       "2109    B11\n",
       "2110    B11\n",
       "Name: type, Length: 2087, dtype: category\n",
       "Categories (6, object): ['A00', 'B00', 'A01', 'B01', 'A11', 'B11']"
      ]
     },
     "execution_count": 46,
     "metadata": {},
     "output_type": "execute_result"
    }
   ],
   "source": [
    "data_all_type['type']"
   ]
  },
  {
   "cell_type": "code",
   "execution_count": 80,
   "id": "grand-great",
   "metadata": {},
   "outputs": [
    {
     "name": "stderr",
     "output_type": "stream",
     "text": [
      "/home/data4/jh/anaconda3/lib/python3.7/site-packages/ipykernel_launcher.py:2: MatplotlibDeprecationWarning:\n",
      "\n",
      "savefig() got unexpected keyword argument \"family\" which is no longer supported as of 3.3 and will become an error two minor releases later\n",
      "\n"
     ]
    },
    {
     "data": {
      "image/png": "[encoded data removed]",
      "text/plain": [
       "<Figure size 432x288 with 1 Axes>"
      ]
     },
     "metadata": {
      "needs_background": "light"
     },
     "output_type": "display_data"
    }
   ],
   "source": [
    "sns.boxplot(x='type',y='expression',data=data_all_type_sorted,showfliers=False)\n",
    "plt.savefig('./results/withintadexpression2.pdf',bbox_inches='tight',family='sans')"
   ]
  },
  {
   "cell_type": "code",
   "execution_count": 81,
   "id": "danish-termination",
   "metadata": {},
   "outputs": [
    {
     "name": "stderr",
     "output_type": "stream",
     "text": [
      "/home/data4/jh/anaconda3/lib/python3.7/site-packages/ipykernel_launcher.py:2: MatplotlibDeprecationWarning:\n",
      "\n",
      "savefig() got unexpected keyword argument \"family\" which is no longer supported as of 3.3 and will become an error two minor releases later\n",
      "\n"
     ]
    },
    {
     "data": {
      "image/png": "[encoded data removed]",
      "text/plain": [
       "<Figure size 432x288 with 1 Axes>"
      ]
     },
     "metadata": {
      "needs_background": "light"
     },
     "output_type": "display_data"
    }
   ],
   "source": [
    "sns.boxplot(x='type',y='interaction',data=data_all_type_sorted,showfliers=False)\n",
    "plt.savefig('./results/interaction2.pdf',bbox_inches='tight',family='sans')"
   ]
  },
  {
   "cell_type": "code",
   "execution_count": 82,
   "id": "approximate-expert",
   "metadata": {},
   "outputs": [
    {
     "name": "stderr",
     "output_type": "stream",
     "text": [
      "/home/data4/jh/anaconda3/lib/python3.7/site-packages/ipykernel_launcher.py:2: MatplotlibDeprecationWarning:\n",
      "\n",
      "savefig() got unexpected keyword argument \"family\" which is no longer supported as of 3.3 and will become an error two minor releases later\n",
      "\n"
     ]
    },
    {
     "data": {
      "image/png": "[encoded data removed]",
      "text/plain": [
       "<Figure size 432x288 with 1 Axes>"
      ]
     },
     "metadata": {
      "needs_background": "light"
     },
     "output_type": "display_data"
    }
   ],
   "source": [
    "sns.boxplot(x='type',y='strength',data=data_all_type_sorted,showfliers=False)\n",
    "plt.savefig('./results/strength2.pdf',bbox_inches='tight',family='sans')"
   ]
  },
  {
   "cell_type": "code",
   "execution_count": 83,
   "id": "grave-watts",
   "metadata": {},
   "outputs": [
    {
     "name": "stderr",
     "output_type": "stream",
     "text": [
      "/home/data4/jh/anaconda3/lib/python3.7/site-packages/ipykernel_launcher.py:2: MatplotlibDeprecationWarning:\n",
      "\n",
      "savefig() got unexpected keyword argument \"family\" which is no longer supported as of 3.3 and will become an error two minor releases later\n",
      "\n"
     ]
    },
    {
     "data": {
      "image/png": "[encoded data removed]",
      "text/plain": [
       "<Figure size 432x288 with 1 Axes>"
      ]
     },
     "metadata": {
      "needs_background": "light"
     },
     "output_type": "display_data"
    }
   ],
   "source": [
    "sns.boxplot(x='type',y='border_fpkm',data=data_all_type_sorted,showfliers=False)\n",
    "plt.savefig('./results/border_fpkm2.pdf',bbox_inches='tight',family='sans')"
   ]
  },
  {
   "cell_type": "code",
   "execution_count": 84,
   "id": "needed-curve",
   "metadata": {},
   "outputs": [
    {
     "name": "stderr",
     "output_type": "stream",
     "text": [
      "/home/data4/jh/anaconda3/lib/python3.7/site-packages/ipykernel_launcher.py:2: MatplotlibDeprecationWarning:\n",
      "\n",
      "savefig() got unexpected keyword argument \"family\" which is no longer supported as of 3.3 and will become an error two minor releases later\n",
      "\n"
     ]
    },
    {
     "data": {
      "image/png": "[encoded data removed]",
      "text/plain": [
       "<Figure size 432x288 with 1 Axes>"
      ]
     },
     "metadata": {
      "needs_background": "light"
     },
     "output_type": "display_data"
    }
   ],
   "source": [
    "sns.boxplot(x='type',y='size',data=data_all_type_sorted,showfliers=False)\n",
    "plt.savefig('./results/size2.pdf',bbox_inches='tight',family='sans')"
   ]
  },
  {
   "cell_type": "code",
   "execution_count": 50,
   "id": "impaired-nurse",
   "metadata": {},
   "outputs": [],
   "source": [
    "def group_list(df,x):\n",
    "    return df.groupby('type')[x].apply(list)\n",
    "\n",
    "def plot_sig(ps,name):\n",
    "    \n",
    "    arr = np.zeros((6,6))\n",
    "    indices = np.triu_indices(6,1)\n",
    "    arr[indices] = ps\n",
    "    arr_sig = np.where(arr<0.05,1,0)\n",
    "    #ps_if_arr = -np.log10(arr)\n",
    "    mask = np.zeros_like(arr) \n",
    "    mask[np.tril_indices_from(mask)] = True\n",
    "    tab10 = cm.get_cmap('tab10')\n",
    "    colors = [\"white\",tab10(3)]\n",
    "    cmap1 = LinearSegmentedColormap.from_list(\"mycmap\", colors)\n",
    "    cmap2 = sns.color_palette(\"Set2\",2)\n",
    "\n",
    "    with sns.axes_style(\"white\"):\n",
    "        f, ax = plt.subplots(figsize=(14, 10))\n",
    "        #ax = sns.heatmap(ps_if_arr, mask=mask, vmin=0, vmax=5, square=True,cmap=cmap1)\n",
    "        ax = sns.heatmap(arr_sig, mask=mask, square=True,cmap=cmap2)\n",
    "        f.savefig(f'./results/{name}_sig.pdf',bbox_inches='tight')\n",
    "\n",
    "def save_sig(ps,name):\n",
    "    \n",
    "    arr = np.zeros((6,6))\n",
    "    indices = np.triu_indices(6,1)\n",
    "    arr[indices] = ps\n",
    "\n",
    "    with open(f'results/{name}_sig.tsv', 'wb') as f:\n",
    "        for line in np.matrix(arr):\n",
    "            np.savetxt(f, line, fmt='%.4f')\n",
    "\n",
    "for name in ['inner_fpkm','interaction','strength','border_fpkm','size']:\n",
    "    value_list = group_list(data_all_type_sorted,name)\n",
    "    pairs = list(itertools.combinations(value_list,2))\n",
    "    ps = []\n",
    "    for pair in pairs:\n",
    "        stat, p = mannwhitneyu([float(x) for x in pair[0]], [float(x) for x in pair[1]])\n",
    "        ps.append(p)\n",
    "    #plot_sig(ps,name)\n",
    "    save_sig(ps, name)"
   ]
  },
  {
   "cell_type": "code",
   "execution_count": null,
   "id": "cathedral-jerusalem",
   "metadata": {},
   "outputs": [],
   "source": []
  }
 ],
 "metadata": {
  "kernelspec": {
   "display_name": "Python 3 (ipykernel)",
   "language": "python",
   "name": "python3"
  },
  "language_info": {
   "codemirror_mode": {
    "name": "ipython",
    "version": 3
   },
   "file_extension": ".py",
   "mimetype": "text/x-python",
   "name": "python",
   "nbconvert_exporter": "python",
   "pygments_lexer": "ipython3",
   "version": "3.9.7"
  }
 },
 "nbformat": 4,
 "nbformat_minor": 5
}
