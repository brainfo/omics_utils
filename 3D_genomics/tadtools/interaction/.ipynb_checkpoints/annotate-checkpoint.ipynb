{
 "cells": [
  {
   "cell_type": "code",
   "execution_count": 2,
   "metadata": {},
   "outputs": [],
   "source": [
    "import pandas as pd\n",
    "import plotly.graph_objects as go\n",
    "import plotly.io as pio\n",
    "pio.kaleido.scope.default_format = \"pdf\"\n",
    "import plotly.express as px\n",
    "from matplotlib.colors import ListedColormap\n",
    "import matplotlib.colors as mc\n",
    "import matplotlib as plt\n",
    "from plotly.offline import plot\n",
    "import numpy as np"
   ]
  },
  {
   "cell_type": "code",
   "execution_count": 24,
   "metadata": {},
   "outputs": [],
   "source": [
    "type1_annotate = pd.read_csv('C1_borders_annotate.bed',sep='\\t',header=None,usecols=[3,4,5,6],names=['CTCF','EnhD','EnhP','Prom'])\n",
    "type2_annotate = pd.read_csv('C2_borders_annotate.bed',sep='\\t',header=None,usecols=[3,4,5,6],names=['CTCF','EnhD','EnhP','Prom'])\n",
    "type3_annotate = pd.read_csv('C3_borders_annotate.bed',sep='\\t',header=None,usecols=[3,4,5,6],names=['CTCF','EnhD','EnhP','Prom'])\n",
    "type4_annotate = pd.read_csv('C4_borders_annotate.bed',sep='\\t',header=None,usecols=[3,4,5,6],names=['CTCF','EnhD','EnhP','Prom'])"
   ]
  },
  {
   "cell_type": "code",
   "execution_count": 8,
   "metadata": {},
   "outputs": [],
   "source": [
    "# fig = go.Figure()\n",
    "# fig.add_trace(go.Box(\n",
    "#     y=type1_annotate['CTCF'],\n",
    "#     name=\"Type 1\",\n",
    "#     jitter=0.3,\n",
    "#     pointpos=-1.8,\n",
    "#     boxpoints='all' # represent all points\n",
    "# #     marker_color='rgb(7,40,89)',\n",
    "# #     line_color='rgb(7,40,89)'\n",
    "# ))\n",
    "\n",
    "# fig.add_trace(go.Box(\n",
    "#     y=type2_annotate['CTCF'],\n",
    "#     name=\"Type 2\",\n",
    "#     jitter=0.3,\n",
    "#     pointpos=-1.8,\n",
    "#     boxpoints='all', \n",
    "# #     marker_color='rgb(9,56,125)',\n",
    "# #     line_color='rgb(9,56,125)'\n",
    "# ))\n",
    "\n",
    "# fig.add_trace(go.Box(\n",
    "#     y=type3_annotate['CTCF'],\n",
    "#     name=\"Type 3\",\n",
    "#     jitter=0.3,\n",
    "#     pointpos=-1.8,\n",
    "#     boxpoints='all', \n",
    "# #     marker_color='rgb(8,81,156)',\n",
    "# #     line_color='rgb(8,81,156)'\n",
    "# ))\n",
    "\n",
    "# fig.add_trace(go.Box(\n",
    "#     y=type4_annotate['CTCF'],\n",
    "#     name=\"Type 4\",\n",
    "#     jitter=0.3,\n",
    "#     pointpos=-1.8,\n",
    "#     boxpoints='all', \n",
    "# #     marker_color='rgb(107,174,214)',\n",
    "# #     line_color='rgb(107,174,214)'\n",
    "# ))\n",
    "\n",
    "# # fig.add_annotation(\n",
    "# #             x='Type 2',\n",
    "# #             y=480,\n",
    "# #             text=\"****\",\n",
    "# # showarrow=False)\n",
    "# # fig.add_annotation(\n",
    "# #             x='Type 3',\n",
    "# #             y=480,\n",
    "# #             text=\"**\",\n",
    "# # showarrow=False)\n",
    "# # fig.add_annotation(\n",
    "# #             x='Type 4',\n",
    "# #             y=480,\n",
    "# #             text=\"****\",\n",
    "# # showarrow=False)\n",
    "# fig.update_layout(template='simple_white',title_text='CTCF binding by type',xaxis = dict(showgrid=False, ticks='inside',mirror=True,showline=True),\n",
    "#                 yaxis = dict(showgrid=False, ticks='inside',mirror=True,showline=True),\n",
    "#                 font=dict(size=18),\n",
    "#                  title_x=0.5,\n",
    "#                  showlegend=False)\n",
    "# layout = dict(xaxis = dict(showgrid=False, ticks='inside',mirror=True,showline=True),\n",
    "#                 yaxis = dict(showgrid=False, ticks='inside',mirror=True,showline=True),\n",
    "#                 font=dict(size=18),\n",
    "#                 )\n",
    "# fig.show()\n",
    "# plot(fig)\n",
    "fig.write_image('CTCFbytype.pdf')\n"
   ]
  },
  {
   "cell_type": "code",
   "execution_count": 32,
   "metadata": {},
   "outputs": [
    {
     "ename": "ValueError",
     "evalue": "could not broadcast input array from shape (47) into shape (8)",
     "output_type": "error",
     "traceback": [
      "\u001b[0;31m---------------------------------------------------------------------------\u001b[0m",
      "\u001b[0;31mValueError\u001b[0m                                Traceback (most recent call last)",
      "\u001b[0;32m<ipython-input-32-1719dfd2375a>\u001b[0m in \u001b[0;36m<module>\u001b[0;34m()\u001b[0m\n\u001b[1;32m      9\u001b[0m     \u001b[0mtype4_ctcf_count\u001b[0m\u001b[0;34m[\u001b[0m\u001b[0;34m:\u001b[0m\u001b[0mlen\u001b[0m\u001b[0;34m(\u001b[0m\u001b[0mnp\u001b[0m\u001b[0;34m.\u001b[0m\u001b[0mbincount\u001b[0m\u001b[0;34m(\u001b[0m\u001b[0mtype4_annotate\u001b[0m\u001b[0;34m[\u001b[0m\u001b[0mfeature\u001b[0m\u001b[0;34m]\u001b[0m\u001b[0;34m)\u001b[0m\u001b[0;34m)\u001b[0m\u001b[0;34m]\u001b[0m\u001b[0;34m=\u001b[0m\u001b[0mnp\u001b[0m\u001b[0;34m.\u001b[0m\u001b[0mbincount\u001b[0m\u001b[0;34m(\u001b[0m\u001b[0mtype4_annotate\u001b[0m\u001b[0;34m[\u001b[0m\u001b[0mfeature\u001b[0m\u001b[0;34m]\u001b[0m\u001b[0;34m)\u001b[0m\u001b[0;34m\u001b[0m\u001b[0;34m\u001b[0m\u001b[0m\n\u001b[1;32m     10\u001b[0m     \u001b[0;32mreturn\u001b[0m \u001b[0mtype1_ctcf_count\u001b[0m\u001b[0;34m,\u001b[0m\u001b[0mtype2_ctcf_count\u001b[0m\u001b[0;34m,\u001b[0m\u001b[0mtype3_ctcf_count\u001b[0m\u001b[0;34m,\u001b[0m\u001b[0mtype4_ctcf_count\u001b[0m\u001b[0;34m\u001b[0m\u001b[0;34m\u001b[0m\u001b[0m\n\u001b[0;32m---> 11\u001b[0;31m \u001b[0menhd\u001b[0m \u001b[0;34m=\u001b[0m \u001b[0mcount_numbers\u001b[0m\u001b[0;34m(\u001b[0m\u001b[0;34m'EnhD'\u001b[0m\u001b[0;34m)\u001b[0m\u001b[0;34m\u001b[0m\u001b[0;34m\u001b[0m\u001b[0m\n\u001b[0m\u001b[1;32m     12\u001b[0m \u001b[0menhp\u001b[0m \u001b[0;34m=\u001b[0m \u001b[0mcount_numbers\u001b[0m\u001b[0;34m(\u001b[0m\u001b[0;34m'EnhP'\u001b[0m\u001b[0;34m)\u001b[0m\u001b[0;34m\u001b[0m\u001b[0;34m\u001b[0m\u001b[0m\n\u001b[1;32m     13\u001b[0m \u001b[0mprom\u001b[0m \u001b[0;34m=\u001b[0m \u001b[0mcount_numbers\u001b[0m\u001b[0;34m(\u001b[0m\u001b[0;34m'Prom'\u001b[0m\u001b[0;34m)\u001b[0m\u001b[0;34m\u001b[0m\u001b[0;34m\u001b[0m\u001b[0m\n",
      "\u001b[0;32m<ipython-input-32-1719dfd2375a>\u001b[0m in \u001b[0;36mcount_numbers\u001b[0;34m(feature)\u001b[0m\n\u001b[1;32m      4\u001b[0m     \u001b[0mtype3_ctcf_count\u001b[0m \u001b[0;34m=\u001b[0m \u001b[0mnp\u001b[0m\u001b[0;34m.\u001b[0m\u001b[0mzeros\u001b[0m\u001b[0;34m(\u001b[0m\u001b[0;36m8\u001b[0m\u001b[0;34m)\u001b[0m\u001b[0;34m\u001b[0m\u001b[0;34m\u001b[0m\u001b[0m\n\u001b[1;32m      5\u001b[0m     \u001b[0mtype4_ctcf_count\u001b[0m \u001b[0;34m=\u001b[0m \u001b[0mnp\u001b[0m\u001b[0;34m.\u001b[0m\u001b[0mzeros\u001b[0m\u001b[0;34m(\u001b[0m\u001b[0;36m8\u001b[0m\u001b[0;34m)\u001b[0m\u001b[0;34m\u001b[0m\u001b[0;34m\u001b[0m\u001b[0m\n\u001b[0;32m----> 6\u001b[0;31m     \u001b[0mtype1_ctcf_count\u001b[0m\u001b[0;34m[\u001b[0m\u001b[0;34m:\u001b[0m\u001b[0mlen\u001b[0m\u001b[0;34m(\u001b[0m\u001b[0mnp\u001b[0m\u001b[0;34m.\u001b[0m\u001b[0mbincount\u001b[0m\u001b[0;34m(\u001b[0m\u001b[0mtype1_annotate\u001b[0m\u001b[0;34m[\u001b[0m\u001b[0mfeature\u001b[0m\u001b[0;34m]\u001b[0m\u001b[0;34m)\u001b[0m\u001b[0;34m)\u001b[0m\u001b[0;34m]\u001b[0m\u001b[0;34m=\u001b[0m\u001b[0mnp\u001b[0m\u001b[0;34m.\u001b[0m\u001b[0mbincount\u001b[0m\u001b[0;34m(\u001b[0m\u001b[0mtype1_annotate\u001b[0m\u001b[0;34m[\u001b[0m\u001b[0mfeature\u001b[0m\u001b[0;34m]\u001b[0m\u001b[0;34m)\u001b[0m\u001b[0;34m\u001b[0m\u001b[0;34m\u001b[0m\u001b[0m\n\u001b[0m\u001b[1;32m      7\u001b[0m     \u001b[0mtype2_ctcf_count\u001b[0m\u001b[0;34m[\u001b[0m\u001b[0;34m:\u001b[0m\u001b[0mlen\u001b[0m\u001b[0;34m(\u001b[0m\u001b[0mnp\u001b[0m\u001b[0;34m.\u001b[0m\u001b[0mbincount\u001b[0m\u001b[0;34m(\u001b[0m\u001b[0mtype2_annotate\u001b[0m\u001b[0;34m[\u001b[0m\u001b[0mfeature\u001b[0m\u001b[0;34m]\u001b[0m\u001b[0;34m)\u001b[0m\u001b[0;34m)\u001b[0m\u001b[0;34m]\u001b[0m\u001b[0;34m=\u001b[0m\u001b[0mnp\u001b[0m\u001b[0;34m.\u001b[0m\u001b[0mbincount\u001b[0m\u001b[0;34m(\u001b[0m\u001b[0mtype2_annotate\u001b[0m\u001b[0;34m[\u001b[0m\u001b[0mfeature\u001b[0m\u001b[0;34m]\u001b[0m\u001b[0;34m)\u001b[0m\u001b[0;34m\u001b[0m\u001b[0;34m\u001b[0m\u001b[0m\n\u001b[1;32m      8\u001b[0m     \u001b[0mtype3_ctcf_count\u001b[0m\u001b[0;34m[\u001b[0m\u001b[0;34m:\u001b[0m\u001b[0mlen\u001b[0m\u001b[0;34m(\u001b[0m\u001b[0mnp\u001b[0m\u001b[0;34m.\u001b[0m\u001b[0mbincount\u001b[0m\u001b[0;34m(\u001b[0m\u001b[0mtype3_annotate\u001b[0m\u001b[0;34m[\u001b[0m\u001b[0mfeature\u001b[0m\u001b[0;34m]\u001b[0m\u001b[0;34m)\u001b[0m\u001b[0;34m)\u001b[0m\u001b[0;34m]\u001b[0m\u001b[0;34m=\u001b[0m\u001b[0mnp\u001b[0m\u001b[0;34m.\u001b[0m\u001b[0mbincount\u001b[0m\u001b[0;34m(\u001b[0m\u001b[0mtype3_annotate\u001b[0m\u001b[0;34m[\u001b[0m\u001b[0mfeature\u001b[0m\u001b[0;34m]\u001b[0m\u001b[0;34m)\u001b[0m\u001b[0;34m\u001b[0m\u001b[0;34m\u001b[0m\u001b[0m\n",
      "\u001b[0;31mValueError\u001b[0m: could not broadcast input array from shape (47) into shape (8)"
     ]
    }
   ],
   "source": [
    "def count_numbers(feature):\n",
    "    type1_ctcf_count = np.zeros(8)\n",
    "    type2_ctcf_count = np.zeros(8)\n",
    "    type3_ctcf_count = np.zeros(8)\n",
    "    type4_ctcf_count = np.zeros(8)\n",
    "    type1_ctcf_count[:len(np.bincount(type1_annotate[feature]))]=np.bincount(type1_annotate[feature])\n",
    "    type2_ctcf_count[:len(np.bincount(type2_annotate[feature]))]=np.bincount(type2_annotate[feature])\n",
    "    type3_ctcf_count[:len(np.bincount(type3_annotate[feature]))]=np.bincount(type3_annotate[feature])\n",
    "    type4_ctcf_count[:len(np.bincount(type4_annotate[feature]))]=np.bincount(type4_annotate[feature])\n",
    "    return type1_ctcf_count,type2_ctcf_count,type3_ctcf_count,type4_ctcf_count\n",
    "enhd = count_numbers('EnhD')\n",
    "enhp = count_numbers('EnhP')\n",
    "prom = count_numbers('Prom')"
   ]
  },
  {
   "cell_type": "code",
   "execution_count": 31,
   "metadata": {},
   "outputs": [],
   "source": [
    "number = np.arange(8)\n",
    "\n",
    "fig = go.Figure(data=[\n",
    "    go.Bar(name='Type 1', x=number, y=type1_ctcf_count/sum(type1_ctcf_count)*100),\n",
    "    go.Bar(name='Type 2', x=number, y=type2_ctcf_count/sum(type2_ctcf_count)*100),\n",
    "    go.Bar(name='Type 3', x=number, y=type3_ctcf_count/sum(type3_ctcf_count)*100),\n",
    "    go.Bar(name='Type 4', x=number, y=type4_ctcf_count/sum(type4_ctcf_count)*100)\n",
    "])\n",
    "# Change the bar mode\n",
    "fig.update_layout(barmode='group',template='simple_white',title_text='CTCF binding by type',xaxis = dict(showgrid=False, ticks='inside',mirror=True,showline=True),\n",
    "                yaxis = dict(showgrid=False, ticks='inside',mirror=True,showline=True),\n",
    "                font=dict(size=18),\n",
    "                 title_x=0.5,\n",
    "                 showlegend=True,\n",
    "                 xaxis_title='numbers',\n",
    "                 yaxis_title='percentage')\n",
    "fig.write_image('CTCFbytype.pdf')"
   ]
  },
  {
   "cell_type": "code",
   "execution_count": 37,
   "metadata": {},
   "outputs": [],
   "source": [
    "fig = go.Figure()\n",
    "fig.add_trace(go.Histogram(\n",
    "    x=type1_annotate['EnhD'],\n",
    "    histnorm='percent',\n",
    "    name='Type 1', # name used in legend and hover labels\n",
    "    xbins=dict( # bins used for histogram\n",
    "        start=0,\n",
    "        end=50,\n",
    "        size=5\n",
    "    ),\n",
    "    opacity=0.75\n",
    "))\n",
    "fig.add_trace(go.Histogram(\n",
    "    x=type2_annotate['EnhD'],\n",
    "    histnorm='percent',\n",
    "    name='Type 2',\n",
    "    xbins=dict(\n",
    "        start=0,\n",
    "        end=50,\n",
    "        size=5\n",
    "    ),\n",
    "    opacity=0.75\n",
    "))\n",
    "fig.add_trace(go.Histogram(\n",
    "    x=type3_annotate['EnhD'],\n",
    "    histnorm='percent',\n",
    "    name='Type 3',\n",
    "    xbins=dict(\n",
    "        start=0,\n",
    "        end=50,\n",
    "        size=5\n",
    "    ),\n",
    "    opacity=0.75\n",
    "))\n",
    "fig.add_trace(go.Histogram(\n",
    "    x=type4_annotate['EnhD'],\n",
    "    histnorm='percent',\n",
    "    name='Type 4',\n",
    "    xbins=dict(\n",
    "        start=0,\n",
    "        end=50,\n",
    "        size=5\n",
    "    ),\n",
    "    opacity=0.75\n",
    "))\n",
    "# Change the bar mode\n",
    "fig.update_layout(template='simple_white',title_text='Distal enhancers by type',xaxis = dict(showgrid=False, ticks='inside',mirror=True,showline=True),\n",
    "                yaxis = dict(showgrid=False, ticks='inside',mirror=True,showline=True),\n",
    "                font=dict(size=18),\n",
    "                 title_x=0.5,\n",
    "                 showlegend=True,\n",
    "                 xaxis_title='numbers',\n",
    "                 yaxis_title='percentage',\n",
    "                 bargap=0.2,\n",
    "                 bargroupgap=0.1)\n",
    "fig.write_image('EnhDbytype.pdf')"
   ]
  },
  {
   "cell_type": "code",
   "execution_count": 40,
   "metadata": {},
   "outputs": [
    {
     "data": {
      "text/plain": [
       "12"
      ]
     },
     "execution_count": 40,
     "metadata": {},
     "output_type": "execute_result"
    }
   ],
   "source": [
    "max(np.concatenate((type1_annotate['Prom'],type2_annotate['Prom'],type3_annotate['Prom'],type4_annotate['Prom'])))"
   ]
  },
  {
   "cell_type": "code",
   "execution_count": 41,
   "metadata": {},
   "outputs": [],
   "source": [
    "fig = go.Figure()\n",
    "fig.add_trace(go.Histogram(\n",
    "    x=type1_annotate['Prom'],\n",
    "    histnorm='percent',\n",
    "    name='Type 1', # name used in legend and hover labels\n",
    "    xbins=dict( # bins used for histogram\n",
    "        start=0,\n",
    "        end=12,\n",
    "        size=1\n",
    "    ),\n",
    "    opacity=0.75\n",
    "))\n",
    "fig.add_trace(go.Histogram(\n",
    "    x=type2_annotate['Prom'],\n",
    "    histnorm='percent',\n",
    "    name='Type 2',\n",
    "    xbins=dict(\n",
    "        start=0,\n",
    "        end=12,\n",
    "        size=1\n",
    "    ),\n",
    "    opacity=0.75\n",
    "))\n",
    "fig.add_trace(go.Histogram(\n",
    "    x=type3_annotate['Prom'],\n",
    "    histnorm='percent',\n",
    "    name='Type 3',\n",
    "    xbins=dict(\n",
    "        start=0,\n",
    "        end=12,\n",
    "        size=1\n",
    "    ),\n",
    "    opacity=0.75\n",
    "))\n",
    "fig.add_trace(go.Histogram(\n",
    "    x=type4_annotate['Prom'],\n",
    "    histnorm='percent',\n",
    "    name='Type 4',\n",
    "    xbins=dict(\n",
    "        start=0,\n",
    "        end=12,\n",
    "        size=1\n",
    "    ),\n",
    "    opacity=0.75\n",
    "))\n",
    "# Change the bar mode\n",
    "fig.update_layout(template='simple_white',title_text='Promoters by type',xaxis = dict(showgrid=False, ticks='inside',mirror=True,showline=True),\n",
    "                yaxis = dict(showgrid=False, ticks='inside',mirror=True,showline=True),\n",
    "                font=dict(size=18),\n",
    "                 title_x=0.5,\n",
    "                 showlegend=True,\n",
    "                 xaxis_title='numbers',\n",
    "                 yaxis_title='percentage',\n",
    "                 bargap=0.2,\n",
    "                 bargroupgap=0.1)\n",
    "fig.write_image('Prombytype.pdf')"
   ]
  },
  {
   "cell_type": "code",
   "execution_count": null,
   "metadata": {},
   "outputs": [],
   "source": [
    "fig = go.Figure()\n",
    "fig.add_trace(go.Histogram(\n",
    "    x=type1_annotate['EnhP'],\n",
    "    histnorm='percent',\n",
    "    name='Type 1', # name used in legend and hover labels\n",
    "    xbins=dict( # bins used for histogram\n",
    "        start=0,\n",
    "        end=30,\n",
    "        size=3\n",
    "    ),\n",
    "    opacity=0.75\n",
    "))\n",
    "fig.add_trace(go.Histogram(\n",
    "    x=type2_annotate['EnhP'],\n",
    "    histnorm='percent',\n",
    "    name='Type 2',\n",
    "    xbins=dict(\n",
    "        start=0,\n",
    "        end=30,\n",
    "        size=3\n",
    "    ),\n",
    "    opacity=0.75\n",
    "))\n",
    "fig.add_trace(go.Histogram(\n",
    "    x=type3_annotate['EnhP'],\n",
    "    histnorm='percent',\n",
    "    name='Type 3',\n",
    "    xbins=dict(\n",
    "        start=0,\n",
    "        end=30,\n",
    "        size=3\n",
    "    ),\n",
    "    opacity=0.75\n",
    "))\n",
    "fig.add_trace(go.Histogram(\n",
    "    x=type4_annotate['EnhP'],\n",
    "    histnorm='percent',\n",
    "    name='Type 4',\n",
    "    xbins=dict(\n",
    "        start=0,\n",
    "        end=30,\n",
    "        size=3\n",
    "    ),\n",
    "    opacity=0.75\n",
    "))\n",
    "# Change the bar mode\n",
    "fig.update_layout(template='simple_white',title_text='Proximal enhancers by type',xaxis = dict(showgrid=False, ticks='inside',mirror=True,showline=True),\n",
    "                yaxis = dict(showgrid=False, ticks='inside',mirror=True,showline=True),\n",
    "                font=dict(size=18),\n",
    "                 title_x=0.5,\n",
    "                 showlegend=True,\n",
    "                 xaxis_title='numbers',\n",
    "                 yaxis_title='percentage',\n",
    "                 bargap=0.2,\n",
    "                 bargroupgap=0.1)\n",
    "fig.write_image('EnhPbytype.pdf')"
   ]
  },
  {
   "cell_type": "code",
   "execution_count": 47,
   "metadata": {},
   "outputs": [
    {
     "name": "stdout",
     "output_type": "stream",
     "text": [
      "0.33988985051140835 0.09352517985611511 0.1 0.1382450331125828\n"
     ]
    }
   ],
   "source": [
    "print(sum(type1_annotate['EnhD']==0)/len(type1_annotate['EnhD']),sum(type2_annotate['EnhD']==0)/len(type2_annotate['EnhD']),sum(type3_annotate['EnhD']==0)/len(type3_annotate['EnhD']),sum(type4_annotate['EnhD']==0)/len(type4_annotate['EnhD']))"
   ]
  },
  {
   "cell_type": "code",
   "execution_count": 49,
   "metadata": {},
   "outputs": [
    {
     "name": "stdout",
     "output_type": "stream",
     "text": [
      "0.5971675845790716 0.1366906474820144 0.4 0.34519867549668876\n"
     ]
    }
   ],
   "source": [
    "print(sum(type1_annotate['EnhP']==0)/len(type1_annotate['EnhP']),sum(type2_annotate['EnhP']==0)/len(type2_annotate['EnhP']),sum(type3_annotate['EnhP']==0)/len(type3_annotate['EnhP']),sum(type4_annotate['EnhP']==0)/len(type4_annotate['EnhP']))"
   ]
  },
  {
   "cell_type": "code",
   "execution_count": 51,
   "metadata": {},
   "outputs": [
    {
     "name": "stdout",
     "output_type": "stream",
     "text": [
      "0.6451612903225806 0.22302158273381295 0.4 0.3973509933774834\n"
     ]
    }
   ],
   "source": [
    "print(sum(type1_annotate['Prom']==0)/len(type1_annotate['Prom']),sum(type2_annotate['Prom']==0)/len(type2_annotate['Prom']),sum(type3_annotate['Prom']==0)/len(type3_annotate['Prom']),sum(type4_annotate['Prom']==0)/len(type4_annotate['Prom']))"
   ]
  },
  {
   "cell_type": "code",
   "execution_count": 1,
   "metadata": {},
   "outputs": [],
   "source": [
    "import plotly.graph_objects as go\n",
    "\n",
    "labels = ['Type 1','Type 4']\n",
    "values = [10,8]\n",
    "\n",
    "fig = go.Figure(data=[go.Pie(labels=labels, values=values)])\n",
    "\n",
    "fig.update_layout(template='simple_white',title_text='Locus with validated function by type',\n",
    "                font=dict(size=18),\n",
    "                 title_x=0.5,\n",
    "                 showlegend=True)\n",
    "fig.write_image('Functionbytype.pdf')"
   ]
  },
  {
   "cell_type": "code",
   "execution_count": 6,
   "metadata": {},
   "outputs": [],
   "source": [
    "c1_ctcf = pd.read_csv('C1_borders_CTCF_count.bed',sep='\\t',header=None,names=['chrom','start','end','CTCF'])\n",
    "c2_ctcf = pd.read_csv('C2_borders_CTCF_count.bed',sep='\\t',header=None,names=['chrom','start','end','CTCF'])\n",
    "c3_ctcf = pd.read_csv('C3_borders_CTCF_count.bed',sep='\\t',header=None,names=['chrom','start','end','CTCF'])\n",
    "c4_ctcf = pd.read_csv('C4_borders_CTCF_count.bed',sep='\\t',header=None,names=['chrom','start','end','CTCF'])"
   ]
  },
  {
   "cell_type": "code",
   "execution_count": 9,
   "metadata": {},
   "outputs": [],
   "source": [
    "fig = go.Figure()\n",
    "fig.add_trace(go.Histogram(\n",
    "    x=c1_ctcf['CTCF'],\n",
    "    histnorm='percent',\n",
    "    name='Type 1', # name used in legend and hover labels\n",
    "    xbins=dict( # bins used for histogram\n",
    "        start=0,\n",
    "        end=11,\n",
    "        size=1\n",
    "    ),\n",
    "    opacity=0.75\n",
    "))\n",
    "fig.add_trace(go.Histogram(\n",
    "    x=c2_ctcf['CTCF'],\n",
    "    histnorm='percent',\n",
    "    name='Type 2',\n",
    "    xbins=dict(\n",
    "        start=0,\n",
    "        end=11,\n",
    "        size=1\n",
    "    ),\n",
    "    opacity=0.75\n",
    "))\n",
    "fig.add_trace(go.Histogram(\n",
    "    x=c3_ctcf['CTCF'],\n",
    "    histnorm='percent',\n",
    "    name='Type 3',\n",
    "    xbins=dict(\n",
    "        start=0,\n",
    "        end=11,\n",
    "        size=1\n",
    "    ),\n",
    "    opacity=0.75\n",
    "))\n",
    "fig.add_trace(go.Histogram(\n",
    "    x=c4_ctcf['CTCF'],\n",
    "    histnorm='percent',\n",
    "    name='Type 4',\n",
    "    xbins=dict(\n",
    "        start=0,\n",
    "        end=11,\n",
    "        size=1\n",
    "    ),\n",
    "    opacity=0.75\n",
    "))\n",
    "# Change the bar mode\n",
    "fig.update_layout(template='simple_white',title_text='CBS by type',xaxis = dict(showgrid=False, ticks='inside',mirror=True,showline=True),\n",
    "                yaxis = dict(showgrid=False, ticks='inside',mirror=True,showline=True),\n",
    "                font=dict(size=18),\n",
    "                 title_x=0.5,\n",
    "                 showlegend=True,\n",
    "                 xaxis_title='numbers',\n",
    "                 yaxis_title='percentage',\n",
    "                 bargap=0.2,\n",
    "                 bargroupgap=0.1)\n",
    "fig.write_image('CBSbytype.pdf')"
   ]
  },
  {
   "cell_type": "code",
   "execution_count": 8,
   "metadata": {},
   "outputs": [
    {
     "data": {
      "text/plain": [
       "11"
      ]
     },
     "execution_count": 8,
     "metadata": {},
     "output_type": "execute_result"
    }
   ],
   "source": [
    "max(np.concatenate((c1_ctcf['CTCF'],c2_ctcf['CTCF'],c3_ctcf['CTCF'],c4_ctcf['CTCF'])))"
   ]
  },
  {
   "cell_type": "code",
   "execution_count": null,
   "metadata": {},
   "outputs": [],
   "source": []
  }
 ],
 "metadata": {
  "kernelspec": {
   "display_name": "Python 3",
   "language": "python",
   "name": "python3"
  },
  "language_info": {
   "codemirror_mode": {
    "name": "ipython",
    "version": 3
   },
   "file_extension": ".py",
   "mimetype": "text/x-python",
   "name": "python",
   "nbconvert_exporter": "python",
   "pygments_lexer": "ipython3",
   "version": "3.7.7"
  }
 },
 "nbformat": 4,
 "nbformat_minor": 4
}
