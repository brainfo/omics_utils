{
 "cells": [
  {
   "cell_type": "code",
   "execution_count": 5,
   "id": "based-thread",
   "metadata": {},
   "outputs": [
    {
     "data": {
      "image/png": "[encoded data removed]",
      "text/plain": [
       "<Figure size 432x288 with 1 Axes>"
      ]
     },
     "metadata": {
      "needs_background": "light"
     },
     "output_type": "display_data"
    }
   ],
   "source": [
    "# libraries\n",
    "import numpy as np\n",
    "import matplotlib.pyplot as plt\n",
    "from matplotlib import rc\n",
    "import pandas as pd\n",
    " \n",
    "# Data\n",
    "r = [0,1,2,3,4,5]\n",
    "raw_data = {'RD': [122871*100/380640000, 921899*100/298040000, 0*100/88080000, 2652225*100/194920000, 6608306*100/617400000, 10647970*100/813800000], \n",
    "            'TZ': [2815624*100/380640000, 3652282*100/298040000, 2154621*100/88080000, 4706323*100/194920000, 15129695*100/617400000, 22983601*100/813800000],\n",
    "            'A': [7997645*100/380640000, 3362481*100/298040000, 1730883*100/88080000, 8157192*100/194920000, 10623402*100/617400000, 14974338*100/813800000],\n",
    "            'B': [15492835*100/380640000, 14698002*100/298040000, 2763822*100/88080000, 6607470*100/194920000, 17229214*100/617400000, 39726378*100/813800000]}\n",
    "df = pd.DataFrame(raw_data)\n",
    "\n",
    "# From raw value to percentage\n",
    "# totals = [i+j+k for i,j,k in zip(df['greenBars'], df['orangeBars'], df['blueBars'])]\n",
    "# greenBars = [i / j * 100 for i,j in zip(df['greenBars'], totals)]\n",
    "# orangeBars = [i / j * 100 for i,j in zip(df['orangeBars'], totals)]\n",
    "# blueBars = [i / j * 100 for i,j in zip(df['blueBars'], totals)]\n",
    "color_list = plt.cm.Set3(np.linspace(0, 1, 12)) \n",
    "# plot\n",
    "barWidth = 0.85\n",
    "names = ('A11','A12','A22','S11','S12','S22')\n",
    "# Create green Bars\n",
    "p1 = plt.bar(r, df.RD, color=color_list[3], edgecolor='white', width=barWidth)\n",
    "# Create orange Bars\n",
    "p2 = plt.bar(r, df.TZ, bottom=df.RD, color=color_list[4], edgecolor='white', width=barWidth)\n",
    "# Create blue Bars\n",
    "p3 = plt.bar(r, df.A, bottom=[i+j for i,j in zip(df.RD, df.TZ)], color=color_list[5], edgecolor='white', width=barWidth)\n",
    "\n",
    "p4 = plt.bar(r, df.B, bottom=[i+j for i,j in zip(df.A, [i+j for i,j in zip(df.RD, df.TZ)])], color=color_list[6], edgecolor='white', width=barWidth)\n",
    "# Custom x axis\n",
    "plt.xticks(r, names)\n",
    "#plt.xlabel(\"group\")\n",
    "plt.legend((p1[0],p2[1],p3[2],p4[3]),('RD','TZ','A','B'),bbox_to_anchor=(1.05, 1), loc='upper left')\n",
    "plt.ylabel('coverage percentage')\n",
    "# Show graphic\n",
    "#plt.show()\n",
    "plt.savefig('./results/GR_validate_6.pdf',bbox_inches='tight')"
   ]
  },
  {
   "cell_type": "code",
   "execution_count": 4,
   "id": "exact-least",
   "metadata": {},
   "outputs": [],
   "source": [
    "color_list = plt.cm.Set3(np.linspace(0, 1, 12))"
   ]
  },
  {
   "cell_type": "code",
   "execution_count": null,
   "id": "casual-desperate",
   "metadata": {},
   "outputs": [],
   "source": []
  }
 ],
 "metadata": {
  "kernelspec": {
   "display_name": "Python 3",
   "language": "python",
   "name": "python3"
  },
  "language_info": {
   "codemirror_mode": {
    "name": "ipython",
    "version": 3
   },
   "file_extension": ".py",
   "mimetype": "text/x-python",
   "name": "python",
   "nbconvert_exporter": "python",
   "pygments_lexer": "ipython3",
   "version": "3.7.7"
  }
 },
 "nbformat": 4,
 "nbformat_minor": 5
}
