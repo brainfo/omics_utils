{
 "cells": [
  {
   "cell_type": "code",
   "execution_count": 4,
   "metadata": {},
   "outputs": [],
   "source": [
    "from sklearn.cluster import AffinityPropagation\n",
    "from sklearn import metrics\n",
    "from sklearn.cluster import KMeans\n",
    "import numpy as np\n",
    "import pandas as pd\n",
    "from scipy import linalg\n",
    "from scipy.spatial import distance\n",
    "import matplotlib.pyplot as plt\n",
    "import warnings\n",
    "warnings.filterwarnings('ignore')\n",
    "from sklearn.cluster import AgglomerativeClustering\n",
    "# Import ElbowVisualizer\n",
    "#from yellowbrick.cluster import KElbowVisualizer\n",
    "from collections import Counter"
   ]
  },
  {
   "cell_type": "code",
   "execution_count": 6,
   "metadata": {},
   "outputs": [],
   "source": [
    "def check(a):\n",
    "    try:\n",
    "        r=float(a)\n",
    "    except ValueError:\n",
    "        r=np.nan\n",
    "    return r\n",
    "\n",
    "cols=(3,4,5,6,7,8,9,10,11,13,14,15,16,17)\n",
    "data = np.loadtxt('data/TAD_ChIP_strength_fpkm_size_E1_interaction_twoborerexpression_innerfpkm.tsv',delimiter='\\t',skiprows=1,usecols=cols,converters = {k: check for k in cols})\n",
    "data_all = pd.read_csv('data/TAD_ChIP_strength_fpkm_size_E1_interaction_twoborerexpression_innerfpkm.tsv',sep='\\t',usecols=cols)"
   ]
  },
  {
   "cell_type": "code",
   "execution_count": 7,
   "metadata": {},
   "outputs": [],
   "source": [
    "data_full = data[~np.isnan(data).any(axis=1)]\n",
    "data_all_full = data_all.loc[~np.isnan(data).any(axis=1),]\n",
    "def NormalizeData(data):\n",
    "    return (data - np.min(data)) / (np.max(data) - np.min(data))\n",
    "data_norm = np.apply_along_axis(NormalizeData,0,data_full)\n",
    "data_norm_df = pd.DataFrame(data_norm,columns=list(data_all_full.columns))\n",
    "# data_m = data/data.sum(axis=0,keepdims=1)*1000000\n",
    "# mean = np.mean(data_m,axis=0)\n",
    "# st_d = np.std(data_m,axis=0)\n",
    "# distance_from_mean = abs(data_m-mean)\n",
    "# max_d = 2\n",
    "# not_out = distance_from_mean < max_d*st_d\n",
    "# #no_out = data_m[not_out]\n",
    "# print(mean)\n",
    "# print(st_d)\n",
    "# print(distance_from_mean)\n",
    "# not_out\n",
    "# no_out = data_m[np.sum(not_out,axis=1)>=10,:]\n",
    "# print(data_m.shape)\n",
    "# data_in = np.delete(data_m,10,1)\n",
    "# print(data_in.shape)\n",
    "# data_sq = distance.cdist(data_in,data_in,'sqeuclidean')\n",
    "# data_cos = distance.cdist(data_in,data_in,'cosine')\n",
    "# sum(np.sum(not_out,axis=1)<10)\n",
    "# no_out.shape\n",
    "# data_m.shape"
   ]
  },
  {
   "cell_type": "code",
   "execution_count": 28,
   "metadata": {},
   "outputs": [
    {
     "data": {
      "text/html": [
       "<div>\n",
       "<style scoped>\n",
       "    .dataframe tbody tr th:only-of-type {\n",
       "        vertical-align: middle;\n",
       "    }\n",
       "\n",
       "    .dataframe tbody tr th {\n",
       "        vertical-align: top;\n",
       "    }\n",
       "\n",
       "    .dataframe thead th {\n",
       "        text-align: right;\n",
       "    }\n",
       "</style>\n",
       "<table border=\"1\" class=\"dataframe\">\n",
       "  <thead>\n",
       "    <tr style=\"text-align: right;\">\n",
       "      <th></th>\n",
       "      <th>H3K9me3_RPKM</th>\n",
       "      <th>H3K36me3_RPKM</th>\n",
       "      <th>H3K4me1_RPKM</th>\n",
       "      <th>POU5F1_RPKM</th>\n",
       "      <th>H3K27me3_RPKM</th>\n",
       "      <th>NANOG_RPKM</th>\n",
       "      <th>CTCF_RPKM</th>\n",
       "      <th>H3K4me3_RPKM</th>\n",
       "      <th>strength</th>\n",
       "      <th>border_fpkm</th>\n",
       "      <th>size</th>\n",
       "      <th>interaction</th>\n",
       "      <th>0.001044909131</th>\n",
       "    </tr>\n",
       "  </thead>\n",
       "  <tbody>\n",
       "    <tr>\n",
       "      <th>0</th>\n",
       "      <td>0.714689</td>\n",
       "      <td>3.081767</td>\n",
       "      <td>3.183183</td>\n",
       "      <td>0.762644</td>\n",
       "      <td>0.720414</td>\n",
       "      <td>0.993484</td>\n",
       "      <td>0.821859</td>\n",
       "      <td>2.843474</td>\n",
       "      <td>0.243850</td>\n",
       "      <td>0.0000</td>\n",
       "      <td>360000</td>\n",
       "      <td>0.001827</td>\n",
       "      <td>-0.005504</td>\n",
       "    </tr>\n",
       "    <tr>\n",
       "      <th>1</th>\n",
       "      <td>0.233456</td>\n",
       "      <td>3.438194</td>\n",
       "      <td>2.542468</td>\n",
       "      <td>0.842724</td>\n",
       "      <td>0.222650</td>\n",
       "      <td>1.005763</td>\n",
       "      <td>0.841192</td>\n",
       "      <td>2.932617</td>\n",
       "      <td>0.978933</td>\n",
       "      <td>84.5425</td>\n",
       "      <td>1360000</td>\n",
       "      <td>0.000961</td>\n",
       "      <td>-0.014799</td>\n",
       "    </tr>\n",
       "    <tr>\n",
       "      <th>2</th>\n",
       "      <td>0.700055</td>\n",
       "      <td>1.443003</td>\n",
       "      <td>0.285463</td>\n",
       "      <td>0.588748</td>\n",
       "      <td>0.461818</td>\n",
       "      <td>0.564777</td>\n",
       "      <td>0.681681</td>\n",
       "      <td>0.273189</td>\n",
       "      <td>0.351045</td>\n",
       "      <td>15.4850</td>\n",
       "      <td>680000</td>\n",
       "      <td>0.001943</td>\n",
       "      <td>0.000543</td>\n",
       "    </tr>\n",
       "    <tr>\n",
       "      <th>3</th>\n",
       "      <td>0.560486</td>\n",
       "      <td>0.379240</td>\n",
       "      <td>0.214082</td>\n",
       "      <td>0.618727</td>\n",
       "      <td>0.394839</td>\n",
       "      <td>0.622525</td>\n",
       "      <td>0.755855</td>\n",
       "      <td>0.260735</td>\n",
       "      <td>0.961099</td>\n",
       "      <td>0.0000</td>\n",
       "      <td>1240000</td>\n",
       "      <td>0.000388</td>\n",
       "      <td>-0.005020</td>\n",
       "    </tr>\n",
       "    <tr>\n",
       "      <th>4</th>\n",
       "      <td>1.578950</td>\n",
       "      <td>1.520725</td>\n",
       "      <td>1.213257</td>\n",
       "      <td>0.618981</td>\n",
       "      <td>0.360319</td>\n",
       "      <td>0.708752</td>\n",
       "      <td>0.778033</td>\n",
       "      <td>2.703058</td>\n",
       "      <td>0.395564</td>\n",
       "      <td>0.0000</td>\n",
       "      <td>1280000</td>\n",
       "      <td>0.000511</td>\n",
       "      <td>0.017624</td>\n",
       "    </tr>\n",
       "    <tr>\n",
       "      <th>...</th>\n",
       "      <td>...</td>\n",
       "      <td>...</td>\n",
       "      <td>...</td>\n",
       "      <td>...</td>\n",
       "      <td>...</td>\n",
       "      <td>...</td>\n",
       "      <td>...</td>\n",
       "      <td>...</td>\n",
       "      <td>...</td>\n",
       "      <td>...</td>\n",
       "      <td>...</td>\n",
       "      <td>...</td>\n",
       "      <td>...</td>\n",
       "    </tr>\n",
       "    <tr>\n",
       "      <th>2725</th>\n",
       "      <td>0.490038</td>\n",
       "      <td>0.228688</td>\n",
       "      <td>0.050985</td>\n",
       "      <td>0.270249</td>\n",
       "      <td>0.301943</td>\n",
       "      <td>0.274235</td>\n",
       "      <td>0.277658</td>\n",
       "      <td>0.140347</td>\n",
       "      <td>NaN</td>\n",
       "      <td>0.5500</td>\n",
       "      <td>1600000</td>\n",
       "      <td>0.002794</td>\n",
       "      <td>0.021418</td>\n",
       "    </tr>\n",
       "    <tr>\n",
       "      <th>2726</th>\n",
       "      <td>0.322152</td>\n",
       "      <td>0.743417</td>\n",
       "      <td>0.417699</td>\n",
       "      <td>0.266026</td>\n",
       "      <td>0.195549</td>\n",
       "      <td>0.282633</td>\n",
       "      <td>0.281520</td>\n",
       "      <td>0.583895</td>\n",
       "      <td>NaN</td>\n",
       "      <td>5.2150</td>\n",
       "      <td>1120000</td>\n",
       "      <td>0.001205</td>\n",
       "      <td>0.021776</td>\n",
       "    </tr>\n",
       "    <tr>\n",
       "      <th>2727</th>\n",
       "      <td>0.212434</td>\n",
       "      <td>0.763016</td>\n",
       "      <td>0.243183</td>\n",
       "      <td>0.302321</td>\n",
       "      <td>0.161267</td>\n",
       "      <td>0.264311</td>\n",
       "      <td>0.275168</td>\n",
       "      <td>0.117783</td>\n",
       "      <td>NaN</td>\n",
       "      <td>11.1125</td>\n",
       "      <td>560000</td>\n",
       "      <td>0.005013</td>\n",
       "      <td>0.021251</td>\n",
       "    </tr>\n",
       "    <tr>\n",
       "      <th>2728</th>\n",
       "      <td>0.186370</td>\n",
       "      <td>0.683758</td>\n",
       "      <td>0.275398</td>\n",
       "      <td>0.248670</td>\n",
       "      <td>0.360685</td>\n",
       "      <td>0.235527</td>\n",
       "      <td>0.307614</td>\n",
       "      <td>0.782006</td>\n",
       "      <td>NaN</td>\n",
       "      <td>0.0000</td>\n",
       "      <td>720000</td>\n",
       "      <td>0.002492</td>\n",
       "      <td>0.021335</td>\n",
       "    </tr>\n",
       "    <tr>\n",
       "      <th>2729</th>\n",
       "      <td>0.190191</td>\n",
       "      <td>0.126561</td>\n",
       "      <td>0.107018</td>\n",
       "      <td>0.244075</td>\n",
       "      <td>0.381248</td>\n",
       "      <td>0.229380</td>\n",
       "      <td>0.239731</td>\n",
       "      <td>0.218367</td>\n",
       "      <td>NaN</td>\n",
       "      <td>0.0000</td>\n",
       "      <td>320000</td>\n",
       "      <td>0.005355</td>\n",
       "      <td>NaN</td>\n",
       "    </tr>\n",
       "  </tbody>\n",
       "</table>\n",
       "<p>2730 rows × 13 columns</p>\n",
       "</div>"
      ],
      "text/plain": [
       "      H3K9me3_RPKM  H3K36me3_RPKM  H3K4me1_RPKM  POU5F1_RPKM  H3K27me3_RPKM  \\\n",
       "0         0.714689       3.081767      3.183183     0.762644       0.720414   \n",
       "1         0.233456       3.438194      2.542468     0.842724       0.222650   \n",
       "2         0.700055       1.443003      0.285463     0.588748       0.461818   \n",
       "3         0.560486       0.379240      0.214082     0.618727       0.394839   \n",
       "4         1.578950       1.520725      1.213257     0.618981       0.360319   \n",
       "...            ...            ...           ...          ...            ...   \n",
       "2725      0.490038       0.228688      0.050985     0.270249       0.301943   \n",
       "2726      0.322152       0.743417      0.417699     0.266026       0.195549   \n",
       "2727      0.212434       0.763016      0.243183     0.302321       0.161267   \n",
       "2728      0.186370       0.683758      0.275398     0.248670       0.360685   \n",
       "2729      0.190191       0.126561      0.107018     0.244075       0.381248   \n",
       "\n",
       "      NANOG_RPKM  CTCF_RPKM  H3K4me3_RPKM  strength  border_fpkm     size  \\\n",
       "0       0.993484   0.821859      2.843474  0.243850       0.0000   360000   \n",
       "1       1.005763   0.841192      2.932617  0.978933      84.5425  1360000   \n",
       "2       0.564777   0.681681      0.273189  0.351045      15.4850   680000   \n",
       "3       0.622525   0.755855      0.260735  0.961099       0.0000  1240000   \n",
       "4       0.708752   0.778033      2.703058  0.395564       0.0000  1280000   \n",
       "...          ...        ...           ...       ...          ...      ...   \n",
       "2725    0.274235   0.277658      0.140347       NaN       0.5500  1600000   \n",
       "2726    0.282633   0.281520      0.583895       NaN       5.2150  1120000   \n",
       "2727    0.264311   0.275168      0.117783       NaN      11.1125   560000   \n",
       "2728    0.235527   0.307614      0.782006       NaN       0.0000   720000   \n",
       "2729    0.229380   0.239731      0.218367       NaN       0.0000   320000   \n",
       "\n",
       "      interaction  0.001044909131  \n",
       "0        0.001827       -0.005504  \n",
       "1        0.000961       -0.014799  \n",
       "2        0.001943        0.000543  \n",
       "3        0.000388       -0.005020  \n",
       "4        0.000511        0.017624  \n",
       "...           ...             ...  \n",
       "2725     0.002794        0.021418  \n",
       "2726     0.001205        0.021776  \n",
       "2727     0.005013        0.021251  \n",
       "2728     0.002492        0.021335  \n",
       "2729     0.005355             NaN  \n",
       "\n",
       "[2730 rows x 13 columns]"
      ]
     },
     "execution_count": 28,
     "metadata": {},
     "output_type": "execute_result"
    }
   ],
   "source": [
    "data_all"
   ]
  },
  {
   "cell_type": "code",
   "execution_count": 8,
   "metadata": {},
   "outputs": [
    {
     "ename": "AttributeError",
     "evalue": "'AgglomerativeClustering' object has no attribute 'inertia_'",
     "output_type": "error",
     "traceback": [
      "\u001b[0;31m---------------------------------------------------------------------------\u001b[0m",
      "\u001b[0;31mAttributeError\u001b[0m                            Traceback (most recent call last)",
      "\u001b[0;32m/tmp/ipykernel_1410619/1858790540.py\u001b[0m in \u001b[0;36m<module>\u001b[0;34m\u001b[0m\n\u001b[1;32m      5\u001b[0m \u001b[0;32mfor\u001b[0m \u001b[0mk\u001b[0m \u001b[0;32min\u001b[0m \u001b[0mK\u001b[0m\u001b[0;34m:\u001b[0m\u001b[0;34m\u001b[0m\u001b[0;34m\u001b[0m\u001b[0m\n\u001b[1;32m      6\u001b[0m     \u001b[0my_pred\u001b[0m \u001b[0;34m=\u001b[0m \u001b[0mAgglomerativeClustering\u001b[0m\u001b[0;34m(\u001b[0m\u001b[0mlinkage\u001b[0m\u001b[0;34m=\u001b[0m\u001b[0;34m'ward'\u001b[0m\u001b[0;34m,\u001b[0m \u001b[0mn_clusters\u001b[0m\u001b[0;34m=\u001b[0m\u001b[0mk\u001b[0m\u001b[0;34m)\u001b[0m\u001b[0;34m.\u001b[0m\u001b[0mfit\u001b[0m\u001b[0;34m(\u001b[0m\u001b[0mdata_norm\u001b[0m\u001b[0;34m)\u001b[0m\u001b[0;34m\u001b[0m\u001b[0;34m\u001b[0m\u001b[0m\n\u001b[0;32m----> 7\u001b[0;31m     \u001b[0msum_of_squared_distances\u001b[0m\u001b[0;34m.\u001b[0m\u001b[0mappend\u001b[0m\u001b[0;34m(\u001b[0m\u001b[0my_pred\u001b[0m\u001b[0;34m.\u001b[0m\u001b[0minertia_\u001b[0m\u001b[0;34m)\u001b[0m\u001b[0;34m\u001b[0m\u001b[0;34m\u001b[0m\u001b[0m\n\u001b[0m",
      "\u001b[0;31mAttributeError\u001b[0m: 'AgglomerativeClustering' object has no attribute 'inertia_'"
     ]
    }
   ],
   "source": [
    "# clustering = AgglomerativeClustering(linkage='ward', n_clusters=3)\n",
    "# y_pred = clustering.fit(no_out)\n",
    "sum_of_squared_distances = []\n",
    "K = range(1,20)\n",
    "for k in K:\n",
    "    y_pred = AgglomerativeClustering(linkage='ward', n_clusters=k).fit(data_norm)\n",
    "    sum_of_squared_distances.append(y_pred.inertia_)"
   ]
  },
  {
   "cell_type": "code",
   "execution_count": 38,
   "metadata": {},
   "outputs": [
    {
     "data": {
      "text/plain": [
       "<AxesSubplot:title={'center':'Silhouette Score Elbow for KMeans Clustering'}, xlabel='k', ylabel='silhouette score'>"
      ]
     },
     "execution_count": 38,
     "metadata": {},
     "output_type": "execute_result"
    },
    {
     "data": {
      "image/png": "[encoded data removed]",
      "text/plain": [
       "<Figure size 576x396 with 2 Axes>"
      ]
     },
     "metadata": {},
     "output_type": "display_data"
    }
   ],
   "source": [
    "# Silhouette Score for AgglomerativeClustering\n",
    "\n",
    "model = AgglomerativeClustering(linkage='ward')\n",
    "model_k = KMeans()\n",
    "# k is range of number of clusters.\n",
    "visualizer = KElbowVisualizer(model_k, k=(2,19),metric='silhouette', timings= True)\n",
    "visualizer.fit(data_norm)        # Fit the data to the visualizer\n",
    "visualizer.show(outpath='./results/all_kmeans_elbow.pdf')        # Finalize and render the figure"
   ]
  },
  {
   "cell_type": "code",
   "execution_count": 9,
   "metadata": {},
   "outputs": [],
   "source": [
    "y_pred = KMeans(n_clusters=2).fit(data_norm)\n",
    "labels = y_pred.labels_\n",
    "data_norm_df['clusters'] = labels"
   ]
  },
  {
   "cell_type": "code",
   "execution_count": 10,
   "metadata": {},
   "outputs": [],
   "source": [
    "#data_summary = data_norm_df.groupby('clusters').mean()\n",
    "data_var = data_norm_df.groupby('clusters').var()\n",
    "data_all_var = data_norm_df.var()*(len(data_norm_df.index)-1)"
   ]
  },
  {
   "cell_type": "code",
   "execution_count": 11,
   "metadata": {},
   "outputs": [
    {
     "data": {
      "image/png": "[encoded data removed]",
      "text/plain": [
       "<Figure size 432x288 with 1 Axes>"
      ]
     },
     "metadata": {
      "needs_background": "light"
     },
     "output_type": "display_data"
    }
   ],
   "source": [
    "# print(data_var)\n",
    "# print(data_all_var)\n",
    "\n",
    "for i,r in data_var.iterrows():\n",
    "    data_var.iloc[i] = data_var.iloc[i]* (Counter(data_norm_df['clusters'])[i]-1)\n",
    "yita_square = (data_all_var-data_var.sum())/data_all_var\n",
    "yita_square.drop('clusters',inplace=True)\n",
    "yita_square = yita_square.sort_values(ascending=False)\n",
    "plt.bar(x=yita_square.index,height=yita_square*100)\n",
    "plt.ylabel('variance explained %')\n",
    "plt.xticks(rotation=90)\n",
    "plt.savefig('results/yita_square.pdf',bbox_inches='tight')\n",
    "#yita_square.to_csv('yita_square.tsv',sep='\\t')"
   ]
  },
  {
   "cell_type": "code",
   "execution_count": 18,
   "metadata": {},
   "outputs": [
    {
     "ename": "ValueError",
     "evalue": "Input contains NaN, infinity or a value too large for dtype('float64').",
     "output_type": "error",
     "traceback": [
      "\u001b[0;31m---------------------------------------------------------------------------\u001b[0m",
      "\u001b[0;31mValueError\u001b[0m                                Traceback (most recent call last)",
      "\u001b[0;32m<ipython-input-18-14774dcce706>\u001b[0m in \u001b[0;36m<module>\u001b[0;34m\u001b[0m\n\u001b[0;32m----> 1\u001b[0;31m \u001b[0maf\u001b[0m \u001b[0;34m=\u001b[0m \u001b[0mAffinityPropagation\u001b[0m\u001b[0;34m(\u001b[0m\u001b[0mmax_iter\u001b[0m\u001b[0;34m=\u001b[0m\u001b[0;36m20000\u001b[0m\u001b[0;34m)\u001b[0m\u001b[0;34m.\u001b[0m\u001b[0mfit\u001b[0m\u001b[0;34m(\u001b[0m\u001b[0mdata_m\u001b[0m\u001b[0;34m)\u001b[0m\u001b[0;34m\u001b[0m\u001b[0;34m\u001b[0m\u001b[0m\n\u001b[0m",
      "\u001b[0;32m~/anaconda3/lib/python3.7/site-packages/sklearn/cluster/_affinity_propagation.py\u001b[0m in \u001b[0;36mfit\u001b[0;34m(self, X, y)\u001b[0m\n\u001b[1;32m    401\u001b[0m         \u001b[0;32melse\u001b[0m\u001b[0;34m:\u001b[0m\u001b[0;34m\u001b[0m\u001b[0;34m\u001b[0m\u001b[0m\n\u001b[1;32m    402\u001b[0m             \u001b[0maccept_sparse\u001b[0m \u001b[0;34m=\u001b[0m \u001b[0;34m'csr'\u001b[0m\u001b[0;34m\u001b[0m\u001b[0;34m\u001b[0m\u001b[0m\n\u001b[0;32m--> 403\u001b[0;31m         \u001b[0mX\u001b[0m \u001b[0;34m=\u001b[0m \u001b[0mself\u001b[0m\u001b[0;34m.\u001b[0m\u001b[0m_validate_data\u001b[0m\u001b[0;34m(\u001b[0m\u001b[0mX\u001b[0m\u001b[0;34m,\u001b[0m \u001b[0maccept_sparse\u001b[0m\u001b[0;34m=\u001b[0m\u001b[0maccept_sparse\u001b[0m\u001b[0;34m)\u001b[0m\u001b[0;34m\u001b[0m\u001b[0;34m\u001b[0m\u001b[0m\n\u001b[0m\u001b[1;32m    404\u001b[0m         \u001b[0;32mif\u001b[0m \u001b[0mself\u001b[0m\u001b[0;34m.\u001b[0m\u001b[0maffinity\u001b[0m \u001b[0;34m==\u001b[0m \u001b[0;34m\"precomputed\"\u001b[0m\u001b[0;34m:\u001b[0m\u001b[0;34m\u001b[0m\u001b[0;34m\u001b[0m\u001b[0m\n\u001b[1;32m    405\u001b[0m             \u001b[0mself\u001b[0m\u001b[0;34m.\u001b[0m\u001b[0maffinity_matrix_\u001b[0m \u001b[0;34m=\u001b[0m \u001b[0mX\u001b[0m\u001b[0;34m\u001b[0m\u001b[0;34m\u001b[0m\u001b[0m\n",
      "\u001b[0;32m~/anaconda3/lib/python3.7/site-packages/sklearn/base.py\u001b[0m in \u001b[0;36m_validate_data\u001b[0;34m(self, X, y, reset, validate_separately, **check_params)\u001b[0m\n\u001b[1;32m    418\u001b[0m                     \u001b[0;34mf\"requires y to be passed, but the target y is None.\"\u001b[0m\u001b[0;34m\u001b[0m\u001b[0;34m\u001b[0m\u001b[0m\n\u001b[1;32m    419\u001b[0m                 )\n\u001b[0;32m--> 420\u001b[0;31m             \u001b[0mX\u001b[0m \u001b[0;34m=\u001b[0m \u001b[0mcheck_array\u001b[0m\u001b[0;34m(\u001b[0m\u001b[0mX\u001b[0m\u001b[0;34m,\u001b[0m \u001b[0;34m**\u001b[0m\u001b[0mcheck_params\u001b[0m\u001b[0;34m)\u001b[0m\u001b[0;34m\u001b[0m\u001b[0;34m\u001b[0m\u001b[0m\n\u001b[0m\u001b[1;32m    421\u001b[0m             \u001b[0mout\u001b[0m \u001b[0;34m=\u001b[0m \u001b[0mX\u001b[0m\u001b[0;34m\u001b[0m\u001b[0;34m\u001b[0m\u001b[0m\n\u001b[1;32m    422\u001b[0m         \u001b[0;32melse\u001b[0m\u001b[0;34m:\u001b[0m\u001b[0;34m\u001b[0m\u001b[0;34m\u001b[0m\u001b[0m\n",
      "\u001b[0;32m~/anaconda3/lib/python3.7/site-packages/sklearn/utils/validation.py\u001b[0m in \u001b[0;36minner_f\u001b[0;34m(*args, **kwargs)\u001b[0m\n\u001b[1;32m     70\u001b[0m                           FutureWarning)\n\u001b[1;32m     71\u001b[0m         \u001b[0mkwargs\u001b[0m\u001b[0;34m.\u001b[0m\u001b[0mupdate\u001b[0m\u001b[0;34m(\u001b[0m\u001b[0;34m{\u001b[0m\u001b[0mk\u001b[0m\u001b[0;34m:\u001b[0m \u001b[0marg\u001b[0m \u001b[0;32mfor\u001b[0m \u001b[0mk\u001b[0m\u001b[0;34m,\u001b[0m \u001b[0marg\u001b[0m \u001b[0;32min\u001b[0m \u001b[0mzip\u001b[0m\u001b[0;34m(\u001b[0m\u001b[0msig\u001b[0m\u001b[0;34m.\u001b[0m\u001b[0mparameters\u001b[0m\u001b[0;34m,\u001b[0m \u001b[0margs\u001b[0m\u001b[0;34m)\u001b[0m\u001b[0;34m}\u001b[0m\u001b[0;34m)\u001b[0m\u001b[0;34m\u001b[0m\u001b[0;34m\u001b[0m\u001b[0m\n\u001b[0;32m---> 72\u001b[0;31m         \u001b[0;32mreturn\u001b[0m \u001b[0mf\u001b[0m\u001b[0;34m(\u001b[0m\u001b[0;34m**\u001b[0m\u001b[0mkwargs\u001b[0m\u001b[0;34m)\u001b[0m\u001b[0;34m\u001b[0m\u001b[0;34m\u001b[0m\u001b[0m\n\u001b[0m\u001b[1;32m     73\u001b[0m     \u001b[0;32mreturn\u001b[0m \u001b[0minner_f\u001b[0m\u001b[0;34m\u001b[0m\u001b[0;34m\u001b[0m\u001b[0m\n\u001b[1;32m     74\u001b[0m \u001b[0;34m\u001b[0m\u001b[0m\n",
      "\u001b[0;32m~/anaconda3/lib/python3.7/site-packages/sklearn/utils/validation.py\u001b[0m in \u001b[0;36mcheck_array\u001b[0;34m(array, accept_sparse, accept_large_sparse, dtype, order, copy, force_all_finite, ensure_2d, allow_nd, ensure_min_samples, ensure_min_features, estimator)\u001b[0m\n\u001b[1;32m    643\u001b[0m         \u001b[0;32mif\u001b[0m \u001b[0mforce_all_finite\u001b[0m\u001b[0;34m:\u001b[0m\u001b[0;34m\u001b[0m\u001b[0;34m\u001b[0m\u001b[0m\n\u001b[1;32m    644\u001b[0m             _assert_all_finite(array,\n\u001b[0;32m--> 645\u001b[0;31m                                allow_nan=force_all_finite == 'allow-nan')\n\u001b[0m\u001b[1;32m    646\u001b[0m \u001b[0;34m\u001b[0m\u001b[0m\n\u001b[1;32m    647\u001b[0m     \u001b[0;32mif\u001b[0m \u001b[0mensure_min_samples\u001b[0m \u001b[0;34m>\u001b[0m \u001b[0;36m0\u001b[0m\u001b[0;34m:\u001b[0m\u001b[0;34m\u001b[0m\u001b[0;34m\u001b[0m\u001b[0m\n",
      "\u001b[0;32m~/anaconda3/lib/python3.7/site-packages/sklearn/utils/validation.py\u001b[0m in \u001b[0;36m_assert_all_finite\u001b[0;34m(X, allow_nan, msg_dtype)\u001b[0m\n\u001b[1;32m     97\u001b[0m                     \u001b[0mmsg_err\u001b[0m\u001b[0;34m.\u001b[0m\u001b[0mformat\u001b[0m\u001b[0;34m\u001b[0m\u001b[0;34m\u001b[0m\u001b[0m\n\u001b[1;32m     98\u001b[0m                     (type_err,\n\u001b[0;32m---> 99\u001b[0;31m                      msg_dtype if msg_dtype is not None else X.dtype)\n\u001b[0m\u001b[1;32m    100\u001b[0m             )\n\u001b[1;32m    101\u001b[0m     \u001b[0;31m# for object dtype data, we only check for NaNs (GH-13254)\u001b[0m\u001b[0;34m\u001b[0m\u001b[0;34m\u001b[0m\u001b[0;34m\u001b[0m\u001b[0m\n",
      "\u001b[0;31mValueError\u001b[0m: Input contains NaN, infinity or a value too large for dtype('float64')."
     ]
    }
   ],
   "source": [
    "af = AffinityPropagation(max_iter=20000).fit(data_m)"
   ]
  },
  {
   "cell_type": "code",
   "execution_count": 15,
   "metadata": {},
   "outputs": [
    {
     "name": "stdout",
     "output_type": "stream",
     "text": [
      "Estimated number of clusters: 107\n",
      "Silhouette Coefficient: 0.190\n"
     ]
    },
    {
     "data": {
      "image/png": "[encoded data removed]",
      "text/plain": [
       "<Figure size 432x288 with 1 Axes>"
      ]
     },
     "metadata": {
      "needs_background": "light"
     },
     "output_type": "display_data"
    }
   ],
   "source": [
    "cluster_centers_indices = af.cluster_centers_indices_\n",
    "labels = af.labels_\n",
    "\n",
    "n_clusters_ = len(cluster_centers_indices)\n",
    "print('Estimated number of clusters: %d' % n_clusters_)\n",
    "print(\"Silhouette Coefficient: %0.3f\"\n",
    "      % metrics.silhouette_score(data_m, labels, metric='sqeuclidean'))\n",
    "import matplotlib.pyplot as plt\n",
    "from itertools import cycle\n",
    "\n",
    "plt.close('all')\n",
    "plt.figure(1)\n",
    "plt.clf()\n",
    "\n",
    "colors = cycle('bgrcmykbgrcmykbgrcmykbgrcmyk')\n",
    "for k, col in zip(range(n_clusters_), colors):\n",
    "    class_members = labels == k\n",
    "    cluster_center = data_m[cluster_centers_indices[k]]\n",
    "    plt.plot(data_m[class_members, 0], data_m[class_members, 1], col + '.')\n",
    "    plt.plot(cluster_center[0], cluster_center[1], 'o', markerfacecolor=col,\n",
    "             markeredgecolor='k', markersize=14)\n",
    "    for x in data_m[class_members]:\n",
    "        plt.plot([cluster_center[0], x[0]], [cluster_center[1], x[1]], col)\n",
    "\n",
    "plt.title('Estimated number of clusters: %d' % n_clusters_)\n",
    "plt.show()"
   ]
  },
  {
   "cell_type": "code",
   "execution_count": 5,
   "metadata": {},
   "outputs": [
    {
     "ename": "IndentationError",
     "evalue": "unexpected indent (<ipython-input-5-ca8c8f670d05>, line 6)",
     "output_type": "error",
     "traceback": [
      "\u001b[0;36m  File \u001b[0;32m\"<ipython-input-5-ca8c8f670d05>\"\u001b[0;36m, line \u001b[0;32m6\u001b[0m\n\u001b[0;31m    sum_of_squared_distances = []\u001b[0m\n\u001b[0m    ^\u001b[0m\n\u001b[0;31mIndentationError\u001b[0m\u001b[0;31m:\u001b[0m unexpected indent\n"
     ]
    }
   ],
   "source": [
    "# sum_of_squared_distances = []\n",
    "# K = range(1,20)\n",
    "# for k in K:\n",
    "#     y_pred = KMeans(n_clusters=k, random_state=170,max_iter=3000,precompute_distances=True,algorithm='full').fit(no_out)\n",
    "#     sum_of_squared_distances.append(y_pred.inertia_)"
   ]
  },
  {
   "cell_type": "code",
   "execution_count": 38,
   "metadata": {},
   "outputs": [
    {
     "name": "stdout",
     "output_type": "stream",
     "text": [
      "0.39211135459923563\n",
      "1042.727862214212\n",
      "0.8733112664993568\n"
     ]
    }
   ],
   "source": [
    "#from sklearn.metrics import pairwise_distances\n",
    "labels = y_pred.labels_\n",
    "print(metrics.silhouette_score(no_out, labels, metric='euclidean'))\n",
    "print(metrics.calinski_harabasz_score(no_out, labels))\n",
    "print(metrics.davies_bouldin_score(no_out, labels))"
   ]
  },
  {
   "cell_type": "code",
   "execution_count": 25,
   "metadata": {},
   "outputs": [
    {
     "name": "stdout",
     "output_type": "stream",
     "text": [
      "Estimated number of clusters: 3\n",
      "Silhouette Coefficient: 0.955\n"
     ]
    }
   ],
   "source": [
    "cluster_centers_indices = af.cluster_centers_indices_\n",
    "labels = y_pred.labels_\n",
    "\n",
    "n_clusters_ = 3\n",
    "print('Estimated number of clusters: %d' % n_clusters_)\n",
    "print(\"Silhouette Coefficient: %0.3f\"\n",
    "      % metrics.silhouette_score(data_m, labels, metric='sqeuclidean'))"
   ]
  },
  {
   "cell_type": "code",
   "execution_count": 72,
   "metadata": {},
   "outputs": [
    {
     "name": "stderr",
     "output_type": "stream",
     "text": [
      "/home/data4/jh/anaconda3/lib/python3.7/site-packages/sklearn/cluster/_kmeans.py:970: FutureWarning: 'precompute_distances' was deprecated in version 0.23 and will be removed in 0.25. It has no effect\n",
      "  \"effect\", FutureWarning)\n"
     ]
    },
    {
     "data": {
      "text/plain": [
       "0.12796702195732174"
      ]
     },
     "execution_count": 72,
     "metadata": {},
     "output_type": "execute_result"
    }
   ],
   "source": [
    "y_pred_4 = KMeans(n_clusters=4, random_state=170,max_iter=3000,precompute_distances=False,algorithm='full').fit(data_cos)\n",
    "labels = y_pred_4.labels_\n",
    "metrics.silhouette_score(data_m, labels, metric='cosine')"
   ]
  },
  {
   "cell_type": "code",
   "execution_count": 28,
   "metadata": {},
   "outputs": [
    {
     "name": "stderr",
     "output_type": "stream",
     "text": [
      "/home/data4/jh/anaconda3/lib/python3.7/site-packages/sklearn/cluster/_kmeans.py:934: FutureWarning: 'precompute_distances' was deprecated in version 0.23 and will be removed in 0.25. It has no effect\n",
      "  \"effect\", FutureWarning)\n"
     ]
    },
    {
     "data": {
      "text/plain": [
       "0.27433390072807706"
      ]
     },
     "execution_count": 28,
     "metadata": {},
     "output_type": "execute_result"
    }
   ],
   "source": [
    "y_pred_2 = KMeans(n_clusters=4, random_state=170,max_iter=3000,precompute_distances=True,algorithm='full').fit(data_cos)\n",
    "labels = y_pred_2.labels_\n",
    "metrics.silhouette_score(data_m, labels, metric='euclidean')"
   ]
  },
  {
   "cell_type": "code",
   "execution_count": 73,
   "metadata": {},
   "outputs": [
    {
     "name": "stderr",
     "output_type": "stream",
     "text": [
      "/home/data4/jh/anaconda3/lib/python3.7/site-packages/sklearn/cluster/_kmeans.py:970: FutureWarning: 'precompute_distances' was deprecated in version 0.23 and will be removed in 0.25. It has no effect\n",
      "  \"effect\", FutureWarning)\n"
     ]
    },
    {
     "data": {
      "text/plain": [
       "0.0778373897310519"
      ]
     },
     "execution_count": 73,
     "metadata": {},
     "output_type": "execute_result"
    }
   ],
   "source": [
    "y_pred_5 = KMeans(n_clusters=5, random_state=170,max_iter=3000,precompute_distances=False,algorithm='full').fit(data_cos)\n",
    "labels = y_pred_5.labels_\n",
    "metrics.silhouette_score(data_m, labels, metric='cosine')"
   ]
  },
  {
   "cell_type": "code",
   "execution_count": 75,
   "metadata": {},
   "outputs": [
    {
     "name": "stderr",
     "output_type": "stream",
     "text": [
      "/home/data4/jh/anaconda3/lib/python3.7/site-packages/sklearn/cluster/_kmeans.py:970: FutureWarning: 'precompute_distances' was deprecated in version 0.23 and will be removed in 0.25. It has no effect\n",
      "  \"effect\", FutureWarning)\n"
     ]
    },
    {
     "data": {
      "text/plain": [
       "-0.011661879058831124"
      ]
     },
     "execution_count": 75,
     "metadata": {},
     "output_type": "execute_result"
    }
   ],
   "source": [
    "y_pred_10 = KMeans(n_clusters=10, random_state=170,max_iter=3000,precompute_distances=False,algorithm='full').fit(data_cos)\n",
    "labels = y_pred_10.labels_\n",
    "metrics.silhouette_score(data_m, labels, metric='cosine')"
   ]
  },
  {
   "cell_type": "code",
   "execution_count": 30,
   "metadata": {},
   "outputs": [
    {
     "name": "stderr",
     "output_type": "stream",
     "text": [
      "/home/data4/jh/anaconda3/lib/python3.7/site-packages/sklearn/cluster/_kmeans.py:970: FutureWarning: 'precompute_distances' was deprecated in version 0.23 and will be removed in 0.25. It has no effect\n",
      "  \"effect\", FutureWarning)\n"
     ]
    },
    {
     "data": {
      "text/plain": [
       "0.2484567054181766"
      ]
     },
     "execution_count": 30,
     "metadata": {},
     "output_type": "execute_result"
    }
   ],
   "source": [
    "y_pred_10 = KMeans(n_clusters=10, random_state=170,max_iter=3000,precompute_distances=True,algorithm='full').fit(data_m)\n",
    "labels = y_pred_6.labels_\n",
    "metrics.silhouette_score(data_m, labels, metric='euclidean')"
   ]
  },
  {
   "cell_type": "code",
   "execution_count": 41,
   "metadata": {},
   "outputs": [
    {
     "data": {
      "image/png": "[encoded data removed]",
      "text/plain": [
       "<Figure size 432x288 with 1 Axes>"
      ]
     },
     "metadata": {
      "needs_background": "light"
     },
     "output_type": "display_data"
    }
   ],
   "source": [
    "plt.close('all')\n",
    "plt.figure(1)\n",
    "plt.clf()\n",
    "\n",
    "cluster_center_all = y_pred.cluster_centers_\n",
    "n_clusters_=3\n",
    "colors = cycle('bgrcmykbgrcmykbgrcmykbgrcmyk')\n",
    "for k, col in zip(range(n_clusters_), colors):\n",
    "    class_members = labels == k\n",
    "    cluster_center = cluster_center_all[k]\n",
    "    plt.plot(data_m[class_members, 0], data_m[class_members, 1], col + '.')\n",
    "    plt.plot(cluster_center[0], cluster_center[1], 'o', markerfacecolor=col,\n",
    "             markeredgecolor='k', markersize=14)\n",
    "    for x in data_m[class_members]:\n",
    "        plt.plot([cluster_center[0], x[0]], [cluster_center[1], x[1]], col)\n",
    "\n",
    "plt.title('Estimated number of clusters: %d' % n_clusters_)\n",
    "plt.show()"
   ]
  },
  {
   "cell_type": "code",
   "execution_count": 124,
   "metadata": {},
   "outputs": [
    {
     "data": {
      "text/plain": [
       "array([995,  74,  10, 846])"
      ]
     },
     "execution_count": 124,
     "metadata": {},
     "output_type": "execute_result"
    }
   ],
   "source": [
    "np.bincount(labels)"
   ]
  },
  {
   "cell_type": "code",
   "execution_count": 56,
   "metadata": {},
   "outputs": [],
   "source": [
    "unique, counts = np.unique(labels, return_counts=True)"
   ]
  },
  {
   "cell_type": "code",
   "execution_count": 57,
   "metadata": {},
   "outputs": [
    {
     "data": {
      "text/plain": [
       "array([[   0, 2112],\n",
       "       [   1,    1],\n",
       "       [   2,    4]])"
      ]
     },
     "execution_count": 57,
     "metadata": {},
     "output_type": "execute_result"
    }
   ],
   "source": [
    "np.asarray((unique, counts)).T"
   ]
  },
  {
   "cell_type": "code",
   "execution_count": 39,
   "metadata": {},
   "outputs": [
    {
     "name": "stderr",
     "output_type": "stream",
     "text": [
      "/home/data4/jh/anaconda3/lib/python3.7/site-packages/sklearn/cluster/_kmeans.py:970: FutureWarning: 'precompute_distances' was deprecated in version 0.23 and will be removed in 0.25. It has no effect\n",
      "  \"effect\", FutureWarning)\n"
     ]
    },
    {
     "data": {
      "text/plain": [
       "0.9382907209312528"
      ]
     },
     "execution_count": 39,
     "metadata": {},
     "output_type": "execute_result"
    }
   ],
   "source": [
    "data_sq = distance.cdist(no_out,no_out,'sqeuclidean')\n",
    "y_pred = KMeans(n_clusters=4, random_state=170,max_iter=3000,precompute_distances=False,algorithm='full').fit(data_sq)\n",
    "from sklearn.metrics import pairwise_distances\n",
    "labels = y_pred.labels_\n",
    "metrics.silhouette_score(no_out, labels, metric='sqeuclidean')"
   ]
  },
  {
   "cell_type": "code",
   "execution_count": 132,
   "metadata": {},
   "outputs": [
    {
     "data": {
      "text/plain": [
       "array([1915,    1,    6,    3])"
      ]
     },
     "execution_count": 132,
     "metadata": {},
     "output_type": "execute_result"
    }
   ],
   "source": [
    "np.bincount(labels)"
   ]
  },
  {
   "cell_type": "code",
   "execution_count": 137,
   "metadata": {},
   "outputs": [
    {
     "data": {
      "text/plain": [
       "380.11353874938794"
      ]
     },
     "execution_count": 137,
     "metadata": {},
     "output_type": "execute_result"
    }
   ],
   "source": [
    "# data_sq = distance.cdist(no_out,no_out,'cosine')\n",
    "# y_pred = KMeans(n_clusters=4, random_state=170,max_iter=3000,precompute_distances=False,algorithm='full').fit(data_sq)\n",
    "# from sklearn.metrics import pairwise_distances\n",
    "# labels = y_pred.labels_\n",
    "# metrics.silhouette_score(no_out, labels, metric='cosine')\n",
    "metrics.calinski_harabasz_score(no_out, labels)"
   ]
  },
  {
   "cell_type": "code",
   "execution_count": 147,
   "metadata": {},
   "outputs": [
    {
     "data": {
      "text/plain": [
       "array([995,  74,  10, 846])"
      ]
     },
     "execution_count": 147,
     "metadata": {},
     "output_type": "execute_result"
    }
   ],
   "source": [
    "np.bincount(labels)"
   ]
  },
  {
   "cell_type": "code",
   "execution_count": 145,
   "metadata": {},
   "outputs": [],
   "source": [
    "data_all = pd.read_csv('TAD_ChIP_strength_fpkm_size_E1_interaction.tsv',delimiter='\\t')\n",
    "data_all.loc[np.sum(not_out,axis=1)<10,:].to_csv('outliers.tsv',sep='\\t',index=False,quoting=3)"
   ]
  },
  {
   "cell_type": "code",
   "execution_count": 151,
   "metadata": {},
   "outputs": [],
   "source": [
    "data_not_out = data_all.loc[np.sum(not_out,axis=1)>=10,:].reset_index(drop=True)"
   ]
  },
  {
   "cell_type": "code",
   "execution_count": 152,
   "metadata": {},
   "outputs": [],
   "source": [
    "data_not_out.loc[labels==0,:].to_csv('Cluster1.tsv',sep='\\t',index=False,quoting=3)\n",
    "data_not_out.loc[labels==1,:].to_csv('Cluster2.tsv',sep='\\t',index=False,quoting=3)\n",
    "data_not_out.loc[labels==2,:].to_csv('Cluster3.tsv',sep='\\t',index=False,quoting=3)\n",
    "data_not_out.loc[labels==3,:].to_csv('Cluster4.tsv',sep='\\t',index=False,quoting=3)"
   ]
  },
  {
   "cell_type": "code",
   "execution_count": 5,
   "metadata": {},
   "outputs": [],
   "source": [
    "chromosome = ['chr'+ i for i in [str(i) for i in range(1,20)]]\n",
    "chromosome.append('chrX')\n",
    "def to_borders(C1,name):\n",
    "#C1 = data_not_out.loc[labels==0,:]\n",
    "    for chrom in chromosome:\n",
    "        data_chr = C1.loc[C1.chrom==chrom]\n",
    "        borders_start = np.sort(np.unique(np.append(data_chr.start.to_numpy()-40000,data_chr.end.to_numpy())))\n",
    "        borders_end = borders_start+40000\n",
    "        with open(f'{name}_borders.bed','a') as fo:\n",
    "            for i in range(len(borders_start)):\n",
    "                fo.write(f'{chrom}\\t{borders_start[i]}\\t{borders_end[i]}\\n')"
   ]
  },
  {
   "cell_type": "code",
   "execution_count": 6,
   "metadata": {},
   "outputs": [],
   "source": [
    "# to_borders(data_not_out.loc[labels==1,:],'C2')\n",
    "# to_borders(data_not_out.loc[labels==2,:],'C3')\n",
    "# to_borders(data_not_out.loc[labels==3,:],'C4')\n",
    "# to_borders(cluster1,'C1')\n",
    "# to_borders(cluster2,'C2')\n",
    "# to_borders(cluster3,'C3')\n",
    "to_borders(cluster4,'C4')"
   ]
  },
  {
   "cell_type": "code",
   "execution_count": 26,
   "metadata": {},
   "outputs": [
    {
     "data": {
      "text/plain": [
       "array([ 74, 995,  10, 846])"
      ]
     },
     "execution_count": 26,
     "metadata": {},
     "output_type": "execute_result"
    }
   ],
   "source": [
    "np.bincount(labels)"
   ]
  },
  {
   "cell_type": "code",
   "execution_count": 3,
   "metadata": {},
   "outputs": [],
   "source": [
    "cluster1 = pd.read_csv('Cluster1.tsv',sep='\\t')\n",
    "cluster2 = pd.read_csv('Cluster2.tsv',sep='\\t')\n",
    "cluster3 = pd.read_csv('Cluster3.tsv',sep='\\t')\n",
    "cluster4 = pd.read_csv('Cluster4.tsv',sep='\\t')"
   ]
  },
  {
   "cell_type": "code",
   "execution_count": 4,
   "metadata": {},
   "outputs": [
    {
     "data": {
      "text/html": [
       "<div>\n",
       "<style scoped>\n",
       "    .dataframe tbody tr th:only-of-type {\n",
       "        vertical-align: middle;\n",
       "    }\n",
       "\n",
       "    .dataframe tbody tr th {\n",
       "        vertical-align: top;\n",
       "    }\n",
       "\n",
       "    .dataframe thead th {\n",
       "        text-align: right;\n",
       "    }\n",
       "</style>\n",
       "<table border=\"1\" class=\"dataframe\">\n",
       "  <thead>\n",
       "    <tr style=\"text-align: right;\">\n",
       "      <th></th>\n",
       "      <th>chrom</th>\n",
       "      <th>start</th>\n",
       "      <th>end</th>\n",
       "      <th>H3K9me3_RPKM</th>\n",
       "      <th>H3K36me3_RPKM</th>\n",
       "      <th>H3K4me1_RPKM</th>\n",
       "      <th>POU5F1_RPKM</th>\n",
       "      <th>H3K27me3_RPKM</th>\n",
       "      <th>NANOG_RPKM</th>\n",
       "      <th>CTCF_RPKM</th>\n",
       "      <th>H3K4me3_RPKM</th>\n",
       "      <th>strength</th>\n",
       "      <th>border_fpkm</th>\n",
       "      <th>size</th>\n",
       "      <th>E1</th>\n",
       "      <th>interaction</th>\n",
       "    </tr>\n",
       "  </thead>\n",
       "  <tbody>\n",
       "    <tr>\n",
       "      <th>0</th>\n",
       "      <td>chr1</td>\n",
       "      <td>4840000</td>\n",
       "      <td>6200000</td>\n",
       "      <td>0.233456</td>\n",
       "      <td>3.438194</td>\n",
       "      <td>2.542468</td>\n",
       "      <td>0.842724</td>\n",
       "      <td>0.222650</td>\n",
       "      <td>1.005763</td>\n",
       "      <td>0.841192</td>\n",
       "      <td>2.932617</td>\n",
       "      <td>0.978933</td>\n",
       "      <td>91.231667</td>\n",
       "      <td>1360000</td>\n",
       "      <td>0.07829</td>\n",
       "      <td>0.000961</td>\n",
       "    </tr>\n",
       "    <tr>\n",
       "      <th>1</th>\n",
       "      <td>chr1</td>\n",
       "      <td>6240000</td>\n",
       "      <td>9520000</td>\n",
       "      <td>0.435774</td>\n",
       "      <td>1.520725</td>\n",
       "      <td>1.213257</td>\n",
       "      <td>0.618981</td>\n",
       "      <td>0.360319</td>\n",
       "      <td>0.708752</td>\n",
       "      <td>0.778033</td>\n",
       "      <td>2.703058</td>\n",
       "      <td>0.351045</td>\n",
       "      <td>31.853333</td>\n",
       "      <td>3280000</td>\n",
       "      <td>-0.02723</td>\n",
       "      <td>0.000281</td>\n",
       "    </tr>\n",
       "    <tr>\n",
       "      <th>2</th>\n",
       "      <td>chr1</td>\n",
       "      <td>10200000</td>\n",
       "      <td>11600000</td>\n",
       "      <td>0.646473</td>\n",
       "      <td>1.251942</td>\n",
       "      <td>0.622932</td>\n",
       "      <td>0.676496</td>\n",
       "      <td>0.860671</td>\n",
       "      <td>0.715203</td>\n",
       "      <td>0.706546</td>\n",
       "      <td>1.531882</td>\n",
       "      <td>0.395564</td>\n",
       "      <td>18.353333</td>\n",
       "      <td>1400000</td>\n",
       "      <td>0.21647</td>\n",
       "      <td>0.000793</td>\n",
       "    </tr>\n",
       "    <tr>\n",
       "      <th>3</th>\n",
       "      <td>chr1</td>\n",
       "      <td>11640000</td>\n",
       "      <td>12880000</td>\n",
       "      <td>0.572610</td>\n",
       "      <td>0.446741</td>\n",
       "      <td>0.427702</td>\n",
       "      <td>0.692599</td>\n",
       "      <td>0.597821</td>\n",
       "      <td>0.732838</td>\n",
       "      <td>0.633217</td>\n",
       "      <td>0.336628</td>\n",
       "      <td>0.257416</td>\n",
       "      <td>0.000000</td>\n",
       "      <td>1240000</td>\n",
       "      <td>0.09494</td>\n",
       "      <td>0.001837</td>\n",
       "    </tr>\n",
       "    <tr>\n",
       "      <th>4</th>\n",
       "      <td>chr1</td>\n",
       "      <td>13720000</td>\n",
       "      <td>14920000</td>\n",
       "      <td>0.607007</td>\n",
       "      <td>0.343681</td>\n",
       "      <td>0.200717</td>\n",
       "      <td>0.511361</td>\n",
       "      <td>0.482396</td>\n",
       "      <td>0.522088</td>\n",
       "      <td>0.521668</td>\n",
       "      <td>0.271422</td>\n",
       "      <td>0.475495</td>\n",
       "      <td>0.000000</td>\n",
       "      <td>1200000</td>\n",
       "      <td>0.13217</td>\n",
       "      <td>0.001599</td>\n",
       "    </tr>\n",
       "    <tr>\n",
       "      <th>...</th>\n",
       "      <td>...</td>\n",
       "      <td>...</td>\n",
       "      <td>...</td>\n",
       "      <td>...</td>\n",
       "      <td>...</td>\n",
       "      <td>...</td>\n",
       "      <td>...</td>\n",
       "      <td>...</td>\n",
       "      <td>...</td>\n",
       "      <td>...</td>\n",
       "      <td>...</td>\n",
       "      <td>...</td>\n",
       "      <td>...</td>\n",
       "      <td>...</td>\n",
       "      <td>...</td>\n",
       "      <td>...</td>\n",
       "    </tr>\n",
       "    <tr>\n",
       "      <th>990</th>\n",
       "      <td>chrX</td>\n",
       "      <td>144360000</td>\n",
       "      <td>145720000</td>\n",
       "      <td>0.172334</td>\n",
       "      <td>2.196838</td>\n",
       "      <td>0.845909</td>\n",
       "      <td>0.337430</td>\n",
       "      <td>0.109913</td>\n",
       "      <td>0.293172</td>\n",
       "      <td>0.304121</td>\n",
       "      <td>0.301157</td>\n",
       "      <td>0.530302</td>\n",
       "      <td>42.318332</td>\n",
       "      <td>1360000</td>\n",
       "      <td>0.01206</td>\n",
       "      <td>0.000593</td>\n",
       "    </tr>\n",
       "    <tr>\n",
       "      <th>991</th>\n",
       "      <td>chrX</td>\n",
       "      <td>145760000</td>\n",
       "      <td>151120000</td>\n",
       "      <td>0.179697</td>\n",
       "      <td>0.297215</td>\n",
       "      <td>1.017094</td>\n",
       "      <td>0.361050</td>\n",
       "      <td>0.153628</td>\n",
       "      <td>0.395175</td>\n",
       "      <td>0.419110</td>\n",
       "      <td>0.314871</td>\n",
       "      <td>0.222571</td>\n",
       "      <td>0.000000</td>\n",
       "      <td>5360000</td>\n",
       "      <td>0.02647</td>\n",
       "      <td>0.000368</td>\n",
       "    </tr>\n",
       "    <tr>\n",
       "      <th>992</th>\n",
       "      <td>chrX</td>\n",
       "      <td>155440000</td>\n",
       "      <td>157680000</td>\n",
       "      <td>0.298138</td>\n",
       "      <td>0.166630</td>\n",
       "      <td>0.050662</td>\n",
       "      <td>0.290185</td>\n",
       "      <td>0.338044</td>\n",
       "      <td>0.304269</td>\n",
       "      <td>0.318486</td>\n",
       "      <td>0.101881</td>\n",
       "      <td>0.699313</td>\n",
       "      <td>0.000000</td>\n",
       "      <td>2240000</td>\n",
       "      <td>-0.11470</td>\n",
       "      <td>0.000423</td>\n",
       "    </tr>\n",
       "    <tr>\n",
       "      <th>993</th>\n",
       "      <td>chrX</td>\n",
       "      <td>162920000</td>\n",
       "      <td>164480000</td>\n",
       "      <td>0.272645</td>\n",
       "      <td>0.989574</td>\n",
       "      <td>0.348844</td>\n",
       "      <td>0.313846</td>\n",
       "      <td>0.189321</td>\n",
       "      <td>0.411017</td>\n",
       "      <td>0.398011</td>\n",
       "      <td>0.146443</td>\n",
       "      <td>1.224054</td>\n",
       "      <td>0.000000</td>\n",
       "      <td>1560000</td>\n",
       "      <td>0.32683</td>\n",
       "      <td>0.000752</td>\n",
       "    </tr>\n",
       "    <tr>\n",
       "      <th>994</th>\n",
       "      <td>chrX</td>\n",
       "      <td>167320000</td>\n",
       "      <td>168640000</td>\n",
       "      <td>0.212434</td>\n",
       "      <td>0.763016</td>\n",
       "      <td>0.275398</td>\n",
       "      <td>0.302321</td>\n",
       "      <td>0.360685</td>\n",
       "      <td>0.264311</td>\n",
       "      <td>0.307614</td>\n",
       "      <td>0.782006</td>\n",
       "      <td>0.088524</td>\n",
       "      <td>11.151668</td>\n",
       "      <td>1320000</td>\n",
       "      <td>-0.17706</td>\n",
       "      <td>0.001519</td>\n",
       "    </tr>\n",
       "  </tbody>\n",
       "</table>\n",
       "<p>995 rows × 16 columns</p>\n",
       "</div>"
      ],
      "text/plain": [
       "    chrom      start        end  H3K9me3_RPKM  H3K36me3_RPKM  H3K4me1_RPKM  \\\n",
       "0    chr1    4840000    6200000      0.233456       3.438194      2.542468   \n",
       "1    chr1    6240000    9520000      0.435774       1.520725      1.213257   \n",
       "2    chr1   10200000   11600000      0.646473       1.251942      0.622932   \n",
       "3    chr1   11640000   12880000      0.572610       0.446741      0.427702   \n",
       "4    chr1   13720000   14920000      0.607007       0.343681      0.200717   \n",
       "..    ...        ...        ...           ...            ...           ...   \n",
       "990  chrX  144360000  145720000      0.172334       2.196838      0.845909   \n",
       "991  chrX  145760000  151120000      0.179697       0.297215      1.017094   \n",
       "992  chrX  155440000  157680000      0.298138       0.166630      0.050662   \n",
       "993  chrX  162920000  164480000      0.272645       0.989574      0.348844   \n",
       "994  chrX  167320000  168640000      0.212434       0.763016      0.275398   \n",
       "\n",
       "     POU5F1_RPKM  H3K27me3_RPKM  NANOG_RPKM  CTCF_RPKM  H3K4me3_RPKM  \\\n",
       "0       0.842724       0.222650    1.005763   0.841192      2.932617   \n",
       "1       0.618981       0.360319    0.708752   0.778033      2.703058   \n",
       "2       0.676496       0.860671    0.715203   0.706546      1.531882   \n",
       "3       0.692599       0.597821    0.732838   0.633217      0.336628   \n",
       "4       0.511361       0.482396    0.522088   0.521668      0.271422   \n",
       "..           ...            ...         ...        ...           ...   \n",
       "990     0.337430       0.109913    0.293172   0.304121      0.301157   \n",
       "991     0.361050       0.153628    0.395175   0.419110      0.314871   \n",
       "992     0.290185       0.338044    0.304269   0.318486      0.101881   \n",
       "993     0.313846       0.189321    0.411017   0.398011      0.146443   \n",
       "994     0.302321       0.360685    0.264311   0.307614      0.782006   \n",
       "\n",
       "     strength  border_fpkm     size       E1  interaction  \n",
       "0    0.978933    91.231667  1360000  0.07829     0.000961  \n",
       "1    0.351045    31.853333  3280000 -0.02723     0.000281  \n",
       "2    0.395564    18.353333  1400000  0.21647     0.000793  \n",
       "3    0.257416     0.000000  1240000  0.09494     0.001837  \n",
       "4    0.475495     0.000000  1200000  0.13217     0.001599  \n",
       "..        ...          ...      ...      ...          ...  \n",
       "990  0.530302    42.318332  1360000  0.01206     0.000593  \n",
       "991  0.222571     0.000000  5360000  0.02647     0.000368  \n",
       "992  0.699313     0.000000  2240000 -0.11470     0.000423  \n",
       "993  1.224054     0.000000  1560000  0.32683     0.000752  \n",
       "994  0.088524    11.151668  1320000 -0.17706     0.001519  \n",
       "\n",
       "[995 rows x 16 columns]"
      ]
     },
     "execution_count": 4,
     "metadata": {},
     "output_type": "execute_result"
    }
   ],
   "source": [
    "cluster1"
   ]
  },
  {
   "cell_type": "code",
   "execution_count": 7,
   "metadata": {},
   "outputs": [],
   "source": [
    "#clusters_data = pd.DataFrame()\n",
    "#clusters_data['strength'] = cluster1['strength'].append(cluster2['strength'],ignore_index=True).append(cluster3['strength'],ignore_index=True).append(cluster4['strength'],ignore_index=True)\n",
    "#clusters_data['E1'] = cluster1['E1'].append(cluster2['E1'],ignore_index=True).append(cluster3['E1'],ignore_index=True).append(cluster4['E1'],ignore_index=True)\n",
    "clusters_data['interaction'] = cluster1['interaction'].append(cluster2['interaction'],ignore_index=True).append(cluster3['interaction'],ignore_index=True).append(cluster4['interaction'],ignore_index=True)"
   ]
  },
  {
   "cell_type": "code",
   "execution_count": 22,
   "metadata": {},
   "outputs": [],
   "source": [
    "clusters_data['Cluster'] = ['C1']*len(cluster1.index)+['C2']*len(cluster2.index)+['C3']*len(cluster3.index)+['C4']*len(cluster4.index)"
   ]
  },
  {
   "cell_type": "code",
   "execution_count": 27,
   "metadata": {},
   "outputs": [
    {
     "data": {
      "image/png": "[encoded data removed]",
      "text/plain": [
       "<Figure size 432x288 with 1 Axes>"
      ]
     },
     "metadata": {
      "needs_background": "light"
     },
     "output_type": "display_data"
    }
   ],
   "source": [
    "import seaborn as sns\n",
    "import matplotlib.pyplot as plt\n",
    "sns.boxplot(x='Cluster',y='strength',data=clusters_data)\n",
    "plt.savefig('Strength.pdf',bbox_inches='tight')"
   ]
  },
  {
   "cell_type": "code",
   "execution_count": 28,
   "metadata": {},
   "outputs": [
    {
     "data": {
      "image/png": "[encoded data removed]",
      "text/plain": [
       "<Figure size 432x288 with 1 Axes>"
      ]
     },
     "metadata": {
      "needs_background": "light"
     },
     "output_type": "display_data"
    }
   ],
   "source": [
    "sns.boxplot(x='Cluster',y='E1',data=clusters_data)\n",
    "plt.savefig('E1.pdf',bbox_inches='tight')"
   ]
  },
  {
   "cell_type": "code",
   "execution_count": 31,
   "metadata": {},
   "outputs": [
    {
     "data": {
      "image/png": "[encoded data removed]",
      "text/plain": [
       "<Figure size 432x288 with 1 Axes>"
      ]
     },
     "metadata": {
      "needs_background": "light"
     },
     "output_type": "display_data"
    }
   ],
   "source": [
    "sns.boxplot(x='Cluster',y='interaction',data=clusters_data,showfliers=False)\n",
    "plt.savefig('interaction.pdf',bbox_inches='tight')"
   ]
  },
  {
   "cell_type": "code",
   "execution_count": 10,
   "metadata": {},
   "outputs": [
    {
     "name": "stdout",
     "output_type": "stream",
     "text": [
      "0.9830970015463847\n",
      "0.877537711472585\n",
      "0.6977751663255006\n",
      "0.19274783594698514\n",
      "0.1941219408405675\n",
      "0.18985843562847451\n",
      "0.19968211048321394\n",
      "0.17696571664510335\n",
      "0.1833430955436583\n",
      "0.13490042160669882\n",
      "0.13859298375979218\n",
      "0.13672467736002766\n",
      "0.10294540340662507\n",
      "0.10487184975292081\n",
      "0.10966077625046967\n",
      "0.10972392223802321\n",
      "0.10849951346739599\n",
      "0.108728388719928\n"
     ]
    }
   ],
   "source": [
    "sum_of_squared_distances = []\n",
    "K = range(2,20)\n",
    "for k in K:\n",
    "    clustering = AgglomerativeClustering(linkage='ward', n_clusters=k)\n",
    "    y_pred = clustering.fit(data_in)\n",
    "    print(metrics.silhouette_score(data_in, y_pred.labels_, metric='euclidean'))"
   ]
  },
  {
   "cell_type": "code",
   "execution_count": 17,
   "metadata": {},
   "outputs": [
    {
     "data": {
      "text/plain": [
       "Counter({8: 80, 2: 166, 0: 977, 1: 566, 3: 268, 4: 41, 6: 4, 5: 14, 7: 1})"
      ]
     },
     "execution_count": 17,
     "metadata": {},
     "output_type": "execute_result"
    }
   ],
   "source": [
    "clustering = AgglomerativeClustering(linkage='ward', n_clusters=9)\n",
    "y_pred = clustering.fit(data_in)\n",
    "from collections import Counter\n",
    "Counter(y_pred.labels_)"
   ]
  },
  {
   "cell_type": "code",
   "execution_count": null,
   "metadata": {},
   "outputs": [],
   "source": []
  }
 ],
 "metadata": {
  "kernelspec": {
   "display_name": "Python 3 (ipykernel)",
   "language": "python",
   "name": "python3"
  },
  "language_info": {
   "codemirror_mode": {
    "name": "ipython",
    "version": 3
   },
   "file_extension": ".py",
   "mimetype": "text/x-python",
   "name": "python",
   "nbconvert_exporter": "python",
   "pygments_lexer": "ipython3",
   "version": "3.9.7"
  }
 },
 "nbformat": 4,
 "nbformat_minor": 4
}
