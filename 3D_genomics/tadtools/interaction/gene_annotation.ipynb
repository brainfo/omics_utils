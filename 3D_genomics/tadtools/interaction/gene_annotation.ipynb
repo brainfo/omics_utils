{
 "cells": [
  {
   "cell_type": "code",
   "execution_count": 17,
   "id": "pregnant-argument",
   "metadata": {},
   "outputs": [],
   "source": [
    "library(biomaRt)\n",
    "library(readr)\n",
    "library(dplyr)\n",
    "library(utils)"
   ]
  },
  {
   "cell_type": "code",
   "execution_count": 2,
   "id": "postal-start",
   "metadata": {},
   "outputs": [
    {
     "name": "stderr",
     "output_type": "stream",
     "text": [
      "\n",
      "\u001b[36m──\u001b[39m \u001b[1m\u001b[1mColumn specification\u001b[1m\u001b[22m \u001b[36m────────────────────────────────────────────────────────\u001b[39m\n",
      "cols(\n",
      "  chrom = \u001b[31mcol_character()\u001b[39m,\n",
      "  start_position = \u001b[32mcol_double()\u001b[39m,\n",
      "  end_position = \u001b[32mcol_double()\u001b[39m,\n",
      "  ensembl = \u001b[31mcol_character()\u001b[39m,\n",
      "  mean = \u001b[32mcol_double()\u001b[39m\n",
      ")\n",
      "\n",
      "\n"
     ]
    }
   ],
   "source": [
    "expression <- read_tsv('expression_threshold5.tsv',col_names=T)"
   ]
  },
  {
   "cell_type": "code",
   "execution_count": 3,
   "id": "homeless-holiday",
   "metadata": {},
   "outputs": [
    {
     "name": "stderr",
     "output_type": "stream",
     "text": [
      "Ensembl site unresponsive, trying useast mirror\n",
      "\n"
     ]
    }
   ],
   "source": [
    "ensembl <- useMart(\"ensembl\",dataset=\"mmusculus_gene_ensembl\")\n",
    "# names <- listAttributes(ensembl)$name\n",
    "# names[grepl(\"ensembl\",names)]"
   ]
  },
  {
   "cell_type": "code",
   "execution_count": 12,
   "id": "genuine-organization",
   "metadata": {},
   "outputs": [
    {
     "name": "stderr",
     "output_type": "stream",
     "text": [
      "\n",
      "Batch submitting query [===============>---------------]  50% eta:  8s\n",
      "                                                                      \n",
      "\n"
     ]
    }
   ],
   "source": [
    "exp_res <- getBM(attributes=c(\"mgi_symbol\",\"ensembl_gene_id\"),\n",
    "                    filters = \"ensembl_gene_id\",\n",
    "                    values = unique(expression$ensembl), mart = ensembl)"
   ]
  },
  {
   "cell_type": "code",
   "execution_count": 15,
   "id": "piano-criticism",
   "metadata": {},
   "outputs": [],
   "source": [
    "res_name <- inner_join(expression,exp_res,by=c('ensembl'='ensembl_gene_id'))"
   ]
  },
  {
   "cell_type": "code",
   "execution_count": 18,
   "id": "solar-houston",
   "metadata": {},
   "outputs": [],
   "source": [
    "write.table(res_name$mgi_symbol,file='expression_threshold5_name.txt',quote=F,sep='\\t',row.names=F,col.names=F)"
   ]
  },
  {
   "cell_type": "code",
   "execution_count": null,
   "id": "strategic-looking",
   "metadata": {},
   "outputs": [],
   "source": []
  }
 ],
 "metadata": {
  "kernelspec": {
   "display_name": "R",
   "language": "R",
   "name": "ir"
  },
  "language_info": {
   "codemirror_mode": "r",
   "file_extension": ".r",
   "mimetype": "text/x-r-source",
   "name": "R",
   "pygments_lexer": "r",
   "version": "4.0.3"
  }
 },
 "nbformat": 4,
 "nbformat_minor": 5
}
