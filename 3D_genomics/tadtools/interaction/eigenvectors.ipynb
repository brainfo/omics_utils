{
 "cells": [
  {
   "cell_type": "code",
   "execution_count": 1,
   "metadata": {},
   "outputs": [],
   "source": [
    "%matplotlib inline\n",
    "from matplotlib.gridspec import GridSpec\n",
    "import matplotlib.pyplot as plt\n",
    "import matplotlib as mpl\n",
    "import seaborn as sns\n",
    "mpl.style.use('seaborn-white')\n",
    "\n",
    "import multiprocess as mp\n",
    "import numpy as np\n",
    "import pandas as pd\n",
    "import bioframe\n",
    "import cooltools\n",
    "import cooler"
   ]
  },
  {
   "cell_type": "code",
   "execution_count": 12,
   "metadata": {},
   "outputs": [],
   "source": [
    "mm10 = bioframe.fetch_chromsizes('mm10')\n",
    "chromsizes = bioframe.fetch_chromsizes('mm10')\n",
    "chromosomes = list(chromsizes.index)"
   ]
  },
  {
   "cell_type": "code",
   "execution_count": 5,
   "metadata": {},
   "outputs": [
    {
     "data": {
      "text/html": [
       "<div>\n",
       "<style scoped>\n",
       "    .dataframe tbody tr th:only-of-type {\n",
       "        vertical-align: middle;\n",
       "    }\n",
       "\n",
       "    .dataframe tbody tr th {\n",
       "        vertical-align: top;\n",
       "    }\n",
       "\n",
       "    .dataframe thead th {\n",
       "        text-align: right;\n",
       "    }\n",
       "</style>\n",
       "<table border=\"1\" class=\"dataframe\">\n",
       "  <thead>\n",
       "    <tr style=\"text-align: right;\">\n",
       "      <th></th>\n",
       "      <th>chrom</th>\n",
       "      <th>start</th>\n",
       "      <th>end</th>\n",
       "      <th>GC</th>\n",
       "    </tr>\n",
       "  </thead>\n",
       "  <tbody>\n",
       "    <tr>\n",
       "      <th>0</th>\n",
       "      <td>chr1</td>\n",
       "      <td>0</td>\n",
       "      <td>80000</td>\n",
       "      <td>NaN</td>\n",
       "    </tr>\n",
       "    <tr>\n",
       "      <th>1</th>\n",
       "      <td>chr1</td>\n",
       "      <td>80000</td>\n",
       "      <td>160000</td>\n",
       "      <td>NaN</td>\n",
       "    </tr>\n",
       "    <tr>\n",
       "      <th>2</th>\n",
       "      <td>chr1</td>\n",
       "      <td>160000</td>\n",
       "      <td>240000</td>\n",
       "      <td>NaN</td>\n",
       "    </tr>\n",
       "    <tr>\n",
       "      <th>3</th>\n",
       "      <td>chr1</td>\n",
       "      <td>240000</td>\n",
       "      <td>320000</td>\n",
       "      <td>NaN</td>\n",
       "    </tr>\n",
       "    <tr>\n",
       "      <th>4</th>\n",
       "      <td>chr1</td>\n",
       "      <td>320000</td>\n",
       "      <td>400000</td>\n",
       "      <td>NaN</td>\n",
       "    </tr>\n",
       "  </tbody>\n",
       "</table>\n",
       "</div>"
      ],
      "text/plain": [
       "  chrom   start     end  GC\n",
       "0  chr1       0   80000 NaN\n",
       "1  chr1   80000  160000 NaN\n",
       "2  chr1  160000  240000 NaN\n",
       "3  chr1  240000  320000 NaN\n",
       "4  chr1  320000  400000 NaN"
      ]
     },
     "execution_count": 5,
     "metadata": {},
     "output_type": "execute_result"
    }
   ],
   "source": [
    "binsize = 80000\n",
    "bins = cooler.binnify(mm10, binsize)\n",
    "fasta_records = bioframe.load_fasta('/home/data4/jh/data/reference/Mus_musculus/UCSC/mm10/Sequence/WholeGenomeFasta/genome.fa')\n",
    "bins['GC'] = bioframe.tools.frac_gc(bins, fasta_records)\n",
    "bins.head()"
   ]
  },
  {
   "cell_type": "code",
   "execution_count": 6,
   "metadata": {},
   "outputs": [
    {
     "data": {
      "text/plain": [
       "Text(0.5, 1.0, 'mm10, 1000kb bins')"
      ]
     },
     "execution_count": 6,
     "metadata": {},
     "output_type": "execute_result"
    },
    {
     "data": {
      "image/png": "[encoded data removed]",
      "text/plain": [
       "<Figure size 432x288 with 1 Axes>"
      ]
     },
     "metadata": {},
     "output_type": "display_data"
    }
   ],
   "source": [
    "_=plt.hist(bins['GC'].dropna(), range=(0.2, 0.6), bins=100)\n",
    "plt.xlabel('GC content')\n",
    "plt.title(f'mm10, {binsize//80}kb bins')"
   ]
  },
  {
   "cell_type": "code",
   "execution_count": 13,
   "metadata": {},
   "outputs": [
    {
     "name": "stdout",
     "output_type": "stream",
     "text": [
      "bedGraphToBigWig /tmp/tmpwvnffnwh.bg /tmp/tmp5dvd18vq.chrom.sizes ../compartment/bio1_bio2.80kb.eigs.cis.vecs.E1.bw\n"
     ]
    }
   ],
   "source": [
    "from cooltools.eigdecomp import cooler_cis_eig\n",
    "\n",
    "lam = {}\n",
    "eigs = {}\n",
    "clrs = cooler.Cooler('./bio1_bio2.mcool::resolutions/80000')\n",
    "\n",
    "lam, eigs = cooler_cis_eig(\n",
    "    clrs,\n",
    "    bins,\n",
    "    n_eigs=1,\n",
    "    phasing_track_col='GC',\n",
    "    sort_metric='var_explained')\n",
    "\n",
    "    # Save text files\n",
    "lam.to_csv(f'../compartment/bio1_bio2.{binsize//1000}kb.eigs.cis.lam.txt', sep='\\t')\n",
    "eigs.to_csv(f'../compartment/bio1_bio2.{binsize//1000}kb.eigs.cis.vecs.txt', sep='\\t', index=False)\n",
    "\n",
    "    # Save bigwig track\n",
    "bioframe.to_bigwig(eigs, mm10, f'../compartment/bio1_bio2.{binsize//1000}kb.eigs.cis.vecs.E1.bw', 'E1')"
   ]
  },
  {
   "cell_type": "code",
   "execution_count": null,
   "metadata": {},
   "outputs": [],
   "source": []
  }
 ],
 "metadata": {
  "kernelspec": {
   "display_name": "Python 3",
   "language": "python",
   "name": "python3"
  },
  "language_info": {
   "codemirror_mode": {
    "name": "ipython",
    "version": 3
   },
   "file_extension": ".py",
   "mimetype": "text/x-python",
   "name": "python",
   "nbconvert_exporter": "python",
   "pygments_lexer": "ipython3",
   "version": "3.7.7"
  }
 },
 "nbformat": 4,
 "nbformat_minor": 4
}
