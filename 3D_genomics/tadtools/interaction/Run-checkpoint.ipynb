{
 "cells": [
  {
   "cell_type": "markdown",
   "metadata": {},
   "source": [
    "## 设置"
   ]
  },
  {
   "cell_type": "code",
   "execution_count": 1,
   "metadata": {},
   "outputs": [],
   "source": [
    "%matplotlib inline"
   ]
  },
  {
   "cell_type": "code",
   "execution_count": 2,
   "metadata": {},
   "outputs": [],
   "source": [
    "import bnpy\n",
    "import numpy as np\n",
    "import os\n",
    "\n",
    "from matplotlib import pylab\n",
    "import seaborn as sns\n",
    "\n",
    "FIG_SIZE = (3, 3)\n",
    "SMALL_FIG_SIZE = (1,1)\n",
    "pylab.rcParams['figure.figsize'] = FIG_SIZE\n",
    "\n",
    "top_word_kws = dict(\n",
    "    wordSizeLimit=15,\n",
    "    ncols=4,\n",
    "    Ktop=10) "
   ]
  },
  {
   "cell_type": "markdown",
   "metadata": {},
   "source": [
    "## 整理输入数据"
   ]
  },
  {
   "cell_type": "code",
   "execution_count": 34,
   "metadata": {},
   "outputs": [],
   "source": [
    "data = np.load('TADstate.mat.npy') ## from Pre.ipynb\n",
    "uUniqueToken = 178*200\n",
    "word_id = np.repeat(np.array([i for i in range(200)])[np.newaxis,...],178,axis=0).flatten()\n",
    "word_count = data.flatten()\n",
    "doc_range = np.array([i*200 for i in range(179)])\n",
    "vocabList = [str(i) for i in range(200)]\n",
    "datainput = bnpy.data.BagOfWordsData(word_id=word_id,word_count=word_count,nDocTotal=nDoc,doc_range=doc_range,vocab_size=vocab_size)"
   ]
  },
  {
   "cell_type": "markdown",
   "metadata": {},
   "source": [
    "## 训练模型"
   ]
  },
  {
   "cell_type": "code",
   "execution_count": 36,
   "metadata": {},
   "outputs": [
    {
     "name": "stdout",
     "output_type": "stream",
     "text": [
      "Dataset Summary:\n",
      "BagOfWordsData\n",
      "  size: 178 units (documents)\n",
      "  vocab size: 200\n",
      "  min    5%   50%   95%   max \n",
      "  200   200   200   200   200  nUniqueTokensPerDoc\n",
      "  394   398   456  1518  2052  nTotalTokensPerDoc\n",
      "Hist of word_count across tokens \n",
      "      1      2      3    <10   <100  >=100\n",
      "   0.01   0.70   0.07   0.21   0.01      0\n",
      "Hist of unique docs per word type\n",
      "     <1    <10   <100  >=100\n",
      "      0      0      0   >.99\n",
      "Allocation Model:  DP mixture with K=0. Concentration gamma0= 50.00\n",
      "Obs. Data  Model:  Multinomial over finite vocabulary.\n",
      "Obs. Data  Prior:  Dirichlet over finite vocabulary \n",
      "  lam = [0.1 0.1] ...\n",
      "Initialization:\n",
      "  initname = bregmankmeans+lam1+iter1\n",
      "  K = 3 (number of clusters)\n",
      "  seed = 1607680\n",
      "Preparing target dataset for Bregman k-means analysis...\n",
      "  Using entire provided dataset of 178.00 docs (BagOfWordsData fmt).\n",
      "  No LP provided for specialized targeting.\n",
      "Running Bregman k-means with K=3 for 1 iters\n",
      "iter 0: Lscore 5.977e+05\n",
      "     166       9       3\n",
      "Bregman k-means DONE. Delivered 3 non-empty clusters\n",
      "  elapsed_time: 0.0 sec\n",
      "Learn Alg: VB | task  1/10 | alg. seed: 1607680 | data order seed: 8541952\n",
      "task_output_path: ./TAD/1\n",
      "        1/1000 after      0 sec. |    182.3 MiB | K    3 | loss  5.311323012e+00 |  \n",
      "        2/1000 after      0 sec. |    182.3 MiB | K    3 | loss  5.309492917e+00 | Ndiff    1.065 \n",
      "        3/1000 after      0 sec. |    182.3 MiB | K    3 | loss  5.308734133e+00 | Ndiff    1.000 \n",
      "        4/1000 after      0 sec. |    182.3 MiB | K    3 | loss  5.308707248e+00 | Ndiff    0.641 \n",
      "        5/1000 after      0 sec. |    182.3 MiB | K    3 | loss  5.308703232e+00 | Ndiff    0.090 \n",
      "        6/1000 after      0 sec. |    182.3 MiB | K    3 | loss  5.308703231e+00 | Ndiff    0.001 \n",
      "        7/1000 after      0 sec. |    182.4 MiB | K    3 | loss  5.308703231e+00 | Ndiff    0.000 \n",
      "... done. converged.\n",
      "Preparing target dataset for Bregman k-means analysis...\n",
      "  Using entire provided dataset of 178.00 docs (BagOfWordsData fmt).\n",
      "  No LP provided for specialized targeting.\n",
      "Running Bregman k-means with K=3 for 1 iters\n",
      "iter 0: Lscore 5.988e+05\n",
      "     166       4       8\n",
      "Bregman k-means DONE. Delivered 3 non-empty clusters\n",
      "Learn Alg: VB | task  2/10 | alg. seed: 6454144 | data order seed: 7673856\n",
      "task_output_path: ./TAD/2\n",
      "        1/1000 after      0 sec. |    182.4 MiB | K    3 | loss  5.308192796e+00 |  \n",
      "        2/1000 after      0 sec. |    182.4 MiB | K    3 | loss  5.308123019e+00 | Ndiff    1.223 \n",
      "        3/1000 after      0 sec. |    182.4 MiB | K    3 | loss  5.307999315e+00 | Ndiff    1.800 \n",
      "        4/1000 after      0 sec. |    182.4 MiB | K    3 | loss  5.307962432e+00 | Ndiff    0.807 \n",
      "        5/1000 after      0 sec. |    182.4 MiB | K    3 | loss  5.307955005e+00 | Ndiff    0.158 \n",
      "        6/1000 after      0 sec. |    182.4 MiB | K    3 | loss  5.307955000e+00 | Ndiff    0.002 \n",
      "        7/1000 after      0 sec. |    182.4 MiB | K    3 | loss  5.307955000e+00 | Ndiff    0.000 \n",
      "... done. converged.\n",
      "Preparing target dataset for Bregman k-means analysis...\n",
      "  Using entire provided dataset of 178.00 docs (BagOfWordsData fmt).\n",
      "  No LP provided for specialized targeting.\n",
      "Running Bregman k-means with K=3 for 1 iters\n",
      "iter 0: Lscore 6.038e+05\n",
      "     138      26      14\n",
      "Bregman k-means DONE. Delivered 3 non-empty clusters\n",
      "Learn Alg: VB | task  3/10 | alg. seed: 6168832 | data order seed: 7360256\n",
      "task_output_path: ./TAD/3\n",
      "        1/1000 after      0 sec. |    182.4 MiB | K    3 | loss  5.307738800e+00 |  \n",
      "        2/1000 after      0 sec. |    182.4 MiB | K    3 | loss  5.306508621e+00 | Ndiff    3.135 \n",
      "        3/1000 after      0 sec. |    182.4 MiB | K    3 | loss  5.305665145e+00 | Ndiff    0.352 \n",
      "        4/1000 after      0 sec. |    182.4 MiB | K    3 | loss  5.305286342e+00 | Ndiff    1.871 \n",
      "        5/1000 after      0 sec. |    182.4 MiB | K    3 | loss  5.305286189e+00 | Ndiff    0.015 \n",
      "        6/1000 after      0 sec. |    182.4 MiB | K    3 | loss  5.305286189e+00 | Ndiff    0.002 \n",
      "        7/1000 after      0 sec. |    182.4 MiB | K    3 | loss  5.305286189e+00 | Ndiff    0.000 \n",
      "        8/1000 after      0 sec. |    182.4 MiB | K    3 | loss  5.305286189e+00 | Ndiff    0.000 \n",
      "... done. converged.\n",
      "Preparing target dataset for Bregman k-means analysis...\n",
      "  Using entire provided dataset of 178.00 docs (BagOfWordsData fmt).\n",
      "  No LP provided for specialized targeting.\n",
      "Running Bregman k-means with K=3 for 1 iters\n",
      "iter 0: Lscore 6.039e+05\n",
      "     145      18      15\n",
      "Bregman k-means DONE. Delivered 3 non-empty clusters\n",
      "Learn Alg: VB | task  4/10 | alg. seed: 8205184 | data order seed: 900864\n",
      "task_output_path: ./TAD/4\n",
      "        1/1000 after      0 sec. |    182.4 MiB | K    3 | loss  5.306575222e+00 |  \n",
      "        2/1000 after      0 sec. |    182.4 MiB | K    3 | loss  5.306443768e+00 | Ndiff    0.726 \n",
      "        3/1000 after      0 sec. |    182.4 MiB | K    3 | loss  5.306441430e+00 | Ndiff    0.257 \n",
      "        4/1000 after      0 sec. |    182.4 MiB | K    3 | loss  5.306437546e+00 | Ndiff    0.347 \n",
      "        5/1000 after      0 sec. |    182.4 MiB | K    3 | loss  5.306429063e+00 | Ndiff    0.462 \n",
      "        6/1000 after      0 sec. |    182.4 MiB | K    3 | loss  5.306425152e+00 | Ndiff    0.292 \n",
      "        7/1000 after      0 sec. |    182.4 MiB | K    3 | loss  5.306421079e+00 | Ndiff    0.284 \n",
      "        8/1000 after      0 sec. |    182.4 MiB | K    3 | loss  5.306418399e+00 | Ndiff    0.171 \n",
      "        9/1000 after      0 sec. |    182.4 MiB | K    3 | loss  5.306418213e+00 | Ndiff    0.027 \n",
      "       10/1000 after      0 sec. |    182.4 MiB | K    3 | loss  5.306418211e+00 | Ndiff    0.002 \n",
      "       11/1000 after      0 sec. |    182.4 MiB | K    3 | loss  5.306418211e+00 | Ndiff    0.000 \n",
      "       12/1000 after      0 sec. |    182.4 MiB | K    3 | loss  5.306418211e+00 | Ndiff    0.000 \n",
      "... done. converged.\n",
      "Preparing target dataset for Bregman k-means analysis...\n",
      "  Using entire provided dataset of 178.00 docs (BagOfWordsData fmt).\n",
      "  No LP provided for specialized targeting.\n",
      "Running Bregman k-means with K=3 for 1 iters\n",
      "iter 0: Lscore 5.974e+05\n",
      "     170       7       1\n",
      "Bregman k-means DONE. Delivered 3 non-empty clusters\n",
      "Learn Alg: VB | task  5/10 | alg. seed: 2986368 | data order seed: 6479872\n",
      "task_output_path: ./TAD/5\n",
      "        1/1000 after      0 sec. |    182.4 MiB | K    3 | loss  5.308419309e+00 |  \n",
      "        2/1000 after      0 sec. |    182.4 MiB | K    3 | loss  5.307422250e+00 | Ndiff    4.760 \n",
      "        3/1000 after      0 sec. |    182.4 MiB | K    3 | loss  5.307153046e+00 | Ndiff    1.909 \n",
      "        4/1000 after      0 sec. |    182.4 MiB | K    3 | loss  5.307148004e+00 | Ndiff    0.294 \n",
      "        5/1000 after      0 sec. |    182.4 MiB | K    3 | loss  5.307147923e+00 | Ndiff    0.022 \n",
      "        6/1000 after      0 sec. |    182.4 MiB | K    3 | loss  5.307147923e+00 | Ndiff    0.001 \n",
      "        7/1000 after      0 sec. |    182.4 MiB | K    3 | loss  5.307147923e+00 | Ndiff    0.000 \n",
      "... done. converged.\n",
      "Preparing target dataset for Bregman k-means analysis...\n",
      "  Using entire provided dataset of 178.00 docs (BagOfWordsData fmt).\n",
      "  No LP provided for specialized targeting.\n",
      "Running Bregman k-means with K=3 for 1 iters\n",
      "iter 0: Lscore 5.973e+05\n",
      "       6       4     168\n",
      "Bregman k-means DONE. Delivered 3 non-empty clusters\n",
      "Learn Alg: VB | task  6/10 | alg. seed: 540032 | data order seed: 9149952\n",
      "task_output_path: ./TAD/6\n",
      "        1/1000 after      0 sec. |    182.4 MiB | K    3 | loss  5.306768416e+00 |  \n",
      "        2/1000 after      0 sec. |    182.4 MiB | K    3 | loss  5.305032656e+00 | Ndiff    6.762 \n",
      "        3/1000 after      0 sec. |    182.4 MiB | K    3 | loss  5.304434725e+00 | Ndiff    4.835 \n",
      "        4/1000 after      0 sec. |    182.4 MiB | K    3 | loss  5.304251278e+00 | Ndiff    2.762 \n",
      "        5/1000 after      0 sec. |    182.4 MiB | K    3 | loss  5.304203202e+00 | Ndiff    1.335 \n",
      "        6/1000 after      0 sec. |    182.4 MiB | K    3 | loss  5.304201085e+00 | Ndiff    0.130 \n",
      "        7/1000 after      0 sec. |    182.4 MiB | K    3 | loss  5.304201073e+00 | Ndiff    0.010 \n",
      "        8/1000 after      0 sec. |    182.4 MiB | K    3 | loss  5.304201073e+00 | Ndiff    0.001 \n",
      "        9/1000 after      0 sec. |    182.4 MiB | K    3 | loss  5.304201073e+00 | Ndiff    0.000 \n"
     ]
    },
    {
     "name": "stdout",
     "output_type": "stream",
     "text": [
      "       10/1000 after      0 sec. |    182.4 MiB | K    3 | loss  5.304201073e+00 | Ndiff    0.000 \n",
      "... done. converged.\n",
      "Preparing target dataset for Bregman k-means analysis...\n",
      "  Using entire provided dataset of 178.00 docs (BagOfWordsData fmt).\n",
      "  No LP provided for specialized targeting.\n",
      "Running Bregman k-means with K=3 for 1 iters\n",
      "iter 0: Lscore 5.978e+05\n",
      "       9     163       6\n",
      "Bregman k-means DONE. Delivered 3 non-empty clusters\n",
      "Learn Alg: VB | task  7/10 | alg. seed: 9041408 | data order seed: 3441280\n",
      "task_output_path: ./TAD/7\n",
      "        1/1000 after      0 sec. |    182.4 MiB | K    3 | loss  5.306615501e+00 |  \n",
      "        2/1000 after      0 sec. |    182.4 MiB | K    3 | loss  5.305368706e+00 | Ndiff    4.614 \n",
      "        3/1000 after      0 sec. |    182.4 MiB | K    3 | loss  5.305285857e+00 | Ndiff    1.174 \n",
      "        4/1000 after      0 sec. |    182.4 MiB | K    3 | loss  5.305283020e+00 | Ndiff    0.244 \n",
      "        5/1000 after      0 sec. |    182.4 MiB | K    3 | loss  5.305282893e+00 | Ndiff    0.041 \n",
      "        6/1000 after      0 sec. |    182.4 MiB | K    3 | loss  5.305282890e+00 | Ndiff    0.007 \n",
      "        7/1000 after      0 sec. |    182.4 MiB | K    3 | loss  5.305282890e+00 | Ndiff    0.001 \n",
      "        8/1000 after      0 sec. |    182.4 MiB | K    3 | loss  5.305282890e+00 | Ndiff    0.000 \n",
      "        9/1000 after      0 sec. |    182.4 MiB | K    3 | loss  5.305282890e+00 | Ndiff    0.000 \n",
      "... done. converged.\n",
      "Preparing target dataset for Bregman k-means analysis...\n",
      "  Using entire provided dataset of 178.00 docs (BagOfWordsData fmt).\n",
      "  No LP provided for specialized targeting.\n",
      "Running Bregman k-means with K=3 for 1 iters\n",
      "iter 0: Lscore 6.069e+05\n",
      "      16     154       8\n",
      "Bregman k-means DONE. Delivered 3 non-empty clusters\n",
      "Learn Alg: VB | task  8/10 | alg. seed: 112512 | data order seed: 899584\n",
      "task_output_path: ./TAD/8\n",
      "        1/1000 after      0 sec. |    182.4 MiB | K    3 | loss  5.306839525e+00 |  \n",
      "        2/1000 after      0 sec. |    182.4 MiB | K    3 | loss  5.305683962e+00 | Ndiff    0.477 \n",
      "        3/1000 after      0 sec. |    182.5 MiB | K    3 | loss  5.305065329e+00 | Ndiff    0.119 \n",
      "        4/1000 after      0 sec. |    182.5 MiB | K    3 | loss  5.304778190e+00 | Ndiff    1.928 \n",
      "        5/1000 after      0 sec. |    182.5 MiB | K    3 | loss  5.304389392e+00 | Ndiff    2.205 \n",
      "        6/1000 after      0 sec. |    182.5 MiB | K    3 | loss  5.304250186e+00 | Ndiff    2.423 \n",
      "        7/1000 after      0 sec. |    182.5 MiB | K    3 | loss  5.304203949e+00 | Ndiff    1.287 \n",
      "        8/1000 after      0 sec. |    182.5 MiB | K    3 | loss  5.304201749e+00 | Ndiff    0.133 \n",
      "        9/1000 after      0 sec. |    182.5 MiB | K    3 | loss  5.304201735e+00 | Ndiff    0.010 \n",
      "       10/1000 after      0 sec. |    182.5 MiB | K    3 | loss  5.304201735e+00 | Ndiff    0.001 \n",
      "       11/1000 after      0 sec. |    182.5 MiB | K    3 | loss  5.304201735e+00 | Ndiff    0.000 \n",
      "       12/1000 after      0 sec. |    182.5 MiB | K    3 | loss  5.304201735e+00 | Ndiff    0.000 \n",
      "... done. converged.\n",
      "Preparing target dataset for Bregman k-means analysis...\n",
      "  Using entire provided dataset of 178.00 docs (BagOfWordsData fmt).\n",
      "  No LP provided for specialized targeting.\n",
      "Running Bregman k-means with K=3 for 1 iters\n",
      "iter 0: Lscore 5.993e+05\n",
      "     174       2       2\n",
      "Bregman k-means DONE. Delivered 3 non-empty clusters\n",
      "Learn Alg: VB | task  9/10 | alg. seed: 354560 | data order seed: 3785600\n",
      "task_output_path: ./TAD/9\n",
      "        1/1000 after      0 sec. |    182.5 MiB | K    3 | loss  5.311307588e+00 |  \n",
      "        2/1000 after      0 sec. |    182.5 MiB | K    3 | loss  5.310280718e+00 | Ndiff    2.551 \n",
      "        3/1000 after      0 sec. |    182.5 MiB | K    3 | loss  5.309271580e+00 | Ndiff    1.916 \n",
      "        4/1000 after      0 sec. |    182.5 MiB | K    3 | loss  5.309188595e+00 | Ndiff    0.972 \n",
      "        5/1000 after      0 sec. |    182.5 MiB | K    3 | loss  5.309091486e+00 | Ndiff    0.434 \n",
      "        6/1000 after      0 sec. |    182.5 MiB | K    3 | loss  5.308643822e+00 | Ndiff    1.194 \n",
      "        7/1000 after      0 sec. |    182.5 MiB | K    3 | loss  5.308573013e+00 | Ndiff    0.401 \n",
      "        8/1000 after      0 sec. |    182.5 MiB | K    3 | loss  5.308573010e+00 | Ndiff    0.000 \n",
      "        9/1000 after      0 sec. |    182.5 MiB | K    3 | loss  5.308573010e+00 | Ndiff    0.000 \n",
      "... done. converged.\n",
      "Preparing target dataset for Bregman k-means analysis...\n",
      "  Using entire provided dataset of 178.00 docs (BagOfWordsData fmt).\n",
      "  No LP provided for specialized targeting.\n",
      "Running Bregman k-means with K=3 for 1 iters\n",
      "iter 0: Lscore 5.975e+05\n",
      "       1      10     167\n",
      "Bregman k-means DONE. Delivered 3 non-empty clusters\n",
      "Learn Alg: VB | task 10/10 | alg. seed: 867456 | data order seed: 6801920\n",
      "task_output_path: ./TAD/10\n",
      "        1/1000 after      0 sec. |    182.5 MiB | K    3 | loss  5.308813304e+00 |  \n",
      "        2/1000 after      0 sec. |    182.5 MiB | K    3 | loss  5.305052288e+00 | Ndiff    4.806 \n",
      "        3/1000 after      0 sec. |    182.5 MiB | K    3 | loss  5.305030043e+00 | Ndiff    1.067 \n",
      "        4/1000 after      0 sec. |    182.5 MiB | K    3 | loss  5.305009006e+00 | Ndiff    1.109 \n",
      "        5/1000 after      0 sec. |    182.5 MiB | K    3 | loss  5.304999932e+00 | Ndiff    0.592 \n",
      "        6/1000 after      0 sec. |    182.5 MiB | K    3 | loss  5.304997671e+00 | Ndiff    0.218 \n",
      "        7/1000 after      0 sec. |    182.5 MiB | K    3 | loss  5.304993660e+00 | Ndiff    0.206 \n",
      "        8/1000 after      0 sec. |    182.5 MiB | K    3 | loss  5.304940552e+00 | Ndiff    0.704 \n",
      "        9/1000 after      0 sec. |    182.5 MiB | K    3 | loss  5.304932008e+00 | Ndiff    0.121 \n",
      "       10/1000 after      0 sec. |    182.5 MiB | K    3 | loss  5.304931985e+00 | Ndiff    0.014 \n",
      "       11/1000 after      0 sec. |    182.5 MiB | K    3 | loss  5.304931984e+00 | Ndiff    0.002 \n",
      "       12/1000 after      0 sec. |    182.5 MiB | K    3 | loss  5.304931984e+00 | Ndiff    0.000 \n",
      "       13/1000 after      0 sec. |    182.5 MiB | K    3 | loss  5.304931984e+00 | Ndiff    0.000 \n",
      "... done. converged.\n"
     ]
    }
   ],
   "source": [
    "#data = np.load('TADstate.mat.npy')\n",
    "trained_model, info_dict = bnpy.run(\n",
    "    datainput, 'DPMixtureModel', 'Mult', 'VB',\n",
    "    output_path='./TAD',\n",
    "    nLap=1000, convergeThr=0.0001, nTask=10,\n",
    "    K=3, initname='bregmankmeans+lam1+iter1',\n",
    "    gamma0=50.0, lam=0.1)"
   ]
  },
  {
   "cell_type": "markdown",
   "metadata": {},
   "source": [
    "## 输出模型参数"
   ]
  },
  {
   "cell_type": "code",
   "execution_count": 38,
   "metadata": {},
   "outputs": [],
   "source": [
    "trained_model.obsModel.setEstParamsFromPost(trained_model.obsModel.Post)\n",
    "re = trained_model.calc_local_params(datainput)['resp']\n",
    "c1 = np.where(np.argmax(re,1)==0)\n",
    "np.save('c1index.txt',c1)\n",
    "c2 = np.where(np.argmax(re,1)==1)\n",
    "np.save('c2index.txt',c2)\n",
    "c3 = np.where(np.argmax(re,1)==2)\n",
    "np.save('c3index.txt',c3)\n",
    "LP= trained_model.calc_local_params(datainput)\n",
    "SS = trained_model.get_global_suff_stats(datainput,LP)\n",
    "update = trained_model.update_global_params(SS)\n",
    "evidence = trained_model.calc_evidence(datainput,SS,LP)\n",
    "ML = trained_model.calcLogLikCollapsedSamplerState(SS)"
   ]
  },
  {
   "cell_type": "code",
   "execution_count": 31,
   "metadata": {},
   "outputs": [
    {
     "data": {
      "image/png": "[encoded data removed]",
      "text/plain": [
       "<Figure size 576x180 with 4 Axes>"
      ]
     },
     "metadata": {
      "needs_background": "light"
     },
     "output_type": "display_data"
    }
   ],
   "source": [
    "## 可视化\n",
    "bnpy.viz.PrintTopics.plotCompsFromHModel(\n",
    "    trained_model,\n",
    "    vocabList=[str(i) for i in range(200)],\n",
    "    **top_word_kws)"
   ]
  },
  {
   "cell_type": "code",
   "execution_count": null,
   "metadata": {},
   "outputs": [],
   "source": []
  },
  {
   "cell_type": "code",
   "execution_count": null,
   "metadata": {},
   "outputs": [],
   "source": []
  },
  {
   "cell_type": "code",
   "execution_count": null,
   "metadata": {},
   "outputs": [],
   "source": []
  },
  {
   "cell_type": "code",
   "execution_count": null,
   "metadata": {},
   "outputs": [],
   "source": []
  },
  {
   "cell_type": "code",
   "execution_count": null,
   "metadata": {},
   "outputs": [],
   "source": []
  },
  {
   "cell_type": "code",
   "execution_count": null,
   "metadata": {},
   "outputs": [],
   "source": []
  },
  {
   "cell_type": "code",
   "execution_count": null,
   "metadata": {},
   "outputs": [],
   "source": []
  },
  {
   "cell_type": "code",
   "execution_count": null,
   "metadata": {},
   "outputs": [],
   "source": []
  },
  {
   "cell_type": "code",
   "execution_count": null,
   "metadata": {},
   "outputs": [],
   "source": []
  },
  {
   "cell_type": "code",
   "execution_count": null,
   "metadata": {},
   "outputs": [],
   "source": []
  },
  {
   "cell_type": "code",
   "execution_count": null,
   "metadata": {},
   "outputs": [],
   "source": []
  },
  {
   "cell_type": "code",
   "execution_count": null,
   "metadata": {},
   "outputs": [],
   "source": []
  },
  {
   "cell_type": "code",
   "execution_count": null,
   "metadata": {},
   "outputs": [],
   "source": []
  },
  {
   "cell_type": "code",
   "execution_count": null,
   "metadata": {},
   "outputs": [],
   "source": []
  },
  {
   "cell_type": "code",
   "execution_count": null,
   "metadata": {},
   "outputs": [],
   "source": []
  },
  {
   "cell_type": "code",
   "execution_count": null,
   "metadata": {},
   "outputs": [],
   "source": []
  },
  {
   "cell_type": "code",
   "execution_count": null,
   "metadata": {},
   "outputs": [],
   "source": []
  },
  {
   "cell_type": "code",
   "execution_count": null,
   "metadata": {},
   "outputs": [],
   "source": []
  },
  {
   "cell_type": "code",
   "execution_count": null,
   "metadata": {},
   "outputs": [],
   "source": []
  },
  {
   "cell_type": "code",
   "execution_count": null,
   "metadata": {},
   "outputs": [],
   "source": []
  },
  {
   "cell_type": "code",
   "execution_count": null,
   "metadata": {},
   "outputs": [],
   "source": []
  },
  {
   "cell_type": "code",
   "execution_count": null,
   "metadata": {},
   "outputs": [],
   "source": []
  },
  {
   "cell_type": "code",
   "execution_count": null,
   "metadata": {},
   "outputs": [],
   "source": []
  },
  {
   "cell_type": "code",
   "execution_count": null,
   "metadata": {},
   "outputs": [],
   "source": []
  },
  {
   "cell_type": "code",
   "execution_count": null,
   "metadata": {},
   "outputs": [],
   "source": []
  },
  {
   "cell_type": "code",
   "execution_count": null,
   "metadata": {},
   "outputs": [],
   "source": []
  },
  {
   "cell_type": "code",
   "execution_count": null,
   "metadata": {},
   "outputs": [],
   "source": []
  },
  {
   "cell_type": "code",
   "execution_count": null,
   "metadata": {},
   "outputs": [],
   "source": []
  },
  {
   "cell_type": "code",
   "execution_count": null,
   "metadata": {},
   "outputs": [],
   "source": []
  },
  {
   "cell_type": "code",
   "execution_count": null,
   "metadata": {},
   "outputs": [],
   "source": []
  },
  {
   "cell_type": "code",
   "execution_count": null,
   "metadata": {},
   "outputs": [],
   "source": []
  },
  {
   "cell_type": "code",
   "execution_count": null,
   "metadata": {},
   "outputs": [],
   "source": []
  },
  {
   "cell_type": "code",
   "execution_count": null,
   "metadata": {},
   "outputs": [],
   "source": []
  },
  {
   "cell_type": "code",
   "execution_count": null,
   "metadata": {},
   "outputs": [],
   "source": []
  },
  {
   "cell_type": "code",
   "execution_count": null,
   "metadata": {},
   "outputs": [],
   "source": []
  },
  {
   "cell_type": "code",
   "execution_count": null,
   "metadata": {},
   "outputs": [],
   "source": []
  }
 ],
 "metadata": {
  "kernelspec": {
   "display_name": "py27",
   "language": "python",
   "name": "py27"
  },
  "language_info": {
   "codemirror_mode": {
    "name": "ipython",
    "version": 2
   },
   "file_extension": ".py",
   "mimetype": "text/x-python",
   "name": "python",
   "nbconvert_exporter": "python",
   "pygments_lexer": "ipython2",
   "version": "2.7.18"
  }
 },
 "nbformat": 4,
 "nbformat_minor": 4
}
