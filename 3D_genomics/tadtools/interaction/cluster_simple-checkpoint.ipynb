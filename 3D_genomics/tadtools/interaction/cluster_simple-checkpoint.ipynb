{
 "cells": [
  {
   "cell_type": "code",
   "execution_count": 4,
   "metadata": {},
   "outputs": [],
   "source": [
    "from sklearn.cluster import AffinityPropagation\n",
    "from sklearn import metrics\n",
    "from sklearn.cluster import KMeans\n",
    "import numpy as np\n",
    "import pandas as pd\n",
    "from scipy import linalg\n",
    "from scipy.spatial import distance\n",
    "import matplotlib.pyplot as plt\n",
    "import warnings\n",
    "warnings.filterwarnings('ignore')\n",
    "from sklearn.cluster import AgglomerativeClustering\n",
    "import plotly.io as pio\n",
    "pio.kaleido.scope.default_format = \"pdf\"\n",
    "from matplotlib.colors import ListedColormap\n",
    "import matplotlib.colors as mc\n",
    "import plotly.graph_objects as go\n",
    "import sys\n",
    "sys.path.insert(0, '/home/data4/jh/data/tools/customized/tadtools/tadtool_pkg')\n",
    "import utils as ut"
   ]
  },
  {
   "cell_type": "code",
   "execution_count": 2,
   "metadata": {},
   "outputs": [],
   "source": [
    "#data = np.loadtxt('./data/TAD_ChIP_strength_fpkm_size_E1_interaction_twoborerexpression_innerfpkm.tsv',delimiter='\\t',skiprows=1,usecols=(14,15,17))\n",
    "data_all = pd.read_csv('./data/TAD_ChIP_strength_fpkm_size_E1_interaction_twoborerexpression_innerfpkm.tsv',delimiter='\\t')\n",
    "data = data_all.loc[:,['border_fpkm.1','size','E1']].to_numpy()"
   ]
  },
  {
   "cell_type": "code",
   "execution_count": 11,
   "metadata": {},
   "outputs": [
    {
     "name": "stdout",
     "output_type": "stream",
     "text": [
      "(2117, 3) (1950, 3)\n"
     ]
    }
   ],
   "source": [
    "#data_m = data/data.sum(axis=0,keepdims=1)*1000000\n",
    "def normalize_data(data):\n",
    "    return (data - np.min(data)) / (np.max(data) - np.min(data))\n",
    "data_m = np.apply_along_axis(normalize_data,0,data)\n",
    "mean = np.mean(data_m,axis=0)\n",
    "st_d = np.std(data_m,axis=0)\n",
    "distance_from_mean = abs(data_m-mean)\n",
    "max_d = 2\n",
    "not_out = distance_from_mean < max_d*st_d\n",
    "#not_out\n",
    "no_out = data_m[np.sum(not_out,axis=1)==3,:]\n",
    "print(data_m.shape,no_out.shape)\n",
    "data_sq = distance.cdist(no_out,no_out,'sqeuclidean')\n",
    "# data_cos = distance.cdist(data_m,data_m,'cosine')"
   ]
  },
  {
   "cell_type": "code",
   "execution_count": 12,
   "metadata": {},
   "outputs": [
    {
     "data": {
      "text/plain": [
       "Counter({1: 565, 0: 985, 2: 400})"
      ]
     },
     "execution_count": 12,
     "metadata": {},
     "output_type": "execute_result"
    }
   ],
   "source": [
    "clustering = AgglomerativeClustering(linkage='ward', n_clusters=3)\n",
    "y_pred = clustering.fit(no_out)\n",
    "from collections import Counter\n",
    "Counter(y_pred.labels_)"
   ]
  },
  {
   "cell_type": "code",
   "execution_count": 17,
   "metadata": {},
   "outputs": [
    {
     "data": {
      "text/plain": [
       "0.7318294935572325"
      ]
     },
     "execution_count": 17,
     "metadata": {},
     "output_type": "execute_result"
    }
   ],
   "source": [
    "y_pred_3 = KMeans(n_clusters=3, random_state=170,max_iter=3000,precompute_distances=False,algorithm='full').fit(data_sq)\n",
    "labels = y_pred_3.labels_\n",
    "metrics.silhouette_score(no_out, labels, metric='sqeuclidean')"
   ]
  },
  {
   "cell_type": "code",
   "execution_count": 13,
   "metadata": {},
   "outputs": [],
   "source": [
    "simplet1 = no_out[y_pred.labels_==0,:]\n",
    "simplet2 = no_out[y_pred.labels_==1,:]\n",
    "simplet3 = no_out[y_pred.labels_==2,:]\n",
    "simplesort = np.concatenate((simplet1,simplet2,simplet3),axis=0)"
   ]
  },
  {
   "cell_type": "code",
   "execution_count": 15,
   "metadata": {},
   "outputs": [],
   "source": [
    "fig = go.Figure(data=go.Heatmap(\n",
    "                    z=simplesort))\n",
    "fig.update_layout(template='simple_white',title_text='Agglomerative Cluster',xaxis = dict(showgrid=False,ticks='inside',mirror=True,\n",
    "                                                                                   showline=True,tickmode = 'array',\n",
    "                                                                                          tickvals = np.arange(3),\n",
    "                                                                                          ticktext=['expression on boundaries','TAD size','cis-Eigenvalue 1']),\n",
    "                yaxis = dict(showgrid=False, ticks='outside',mirror=True,showline=True,tickmode = 'array',tickvals = [985,985+565,985+565+400],\n",
    "                            ticktext = ['Type1','Type2','Type3']),\n",
    "                font=dict(size=18),\n",
    "                 title_x=0.5,\n",
    "                 showlegend=False)\n",
    "                  \n",
    "fig.write_image('./data/AggloCluster3signal_norm.pdf')"
   ]
  },
  {
   "cell_type": "code",
   "execution_count": 35,
   "metadata": {},
   "outputs": [],
   "source": [
    "data_chip = np.loadtxt('TAD_ChIP_strength_fpkm_size_E1_interaction.tsv',delimiter='\\t',skiprows=1,usecols=(3,4,5,6,7,8,9,10))\n",
    "data_chip_no_out = data_chip[np.sum(not_out,axis=1)==3,:]\n",
    "data_chip_type1 = data_chip_no_out[y_pred.labels_==0,:]\n",
    "data_chip_type2 = data_chip_no_out[y_pred.labels_==1,:]"
   ]
  },
  {
   "cell_type": "code",
   "execution_count": 44,
   "metadata": {},
   "outputs": [
    {
     "data": {
      "text/plain": [
       "Counter({1: 505, 2: 367, 3: 196, 0: 46})"
      ]
     },
     "execution_count": 44,
     "metadata": {},
     "output_type": "execute_result"
    }
   ],
   "source": [
    "clustering = AgglomerativeClustering(linkage='ward', n_clusters=4)\n",
    "y_pred = clustering.fit(data_chip_type1)\n",
    "from collections import Counter\n",
    "Counter(labels)"
   ]
  },
  {
   "cell_type": "code",
   "execution_count": 40,
   "metadata": {},
   "outputs": [],
   "source": [
    "t1t1 = data_chip_type1[y_pred.labels_==0,:]\n",
    "t1t2= data_chip_type1[y_pred.labels_==1,:]\n",
    "t1t3 = data_chip_type1[y_pred.labels_==2,:]\n",
    "t1t4 = data_chip_type1[y_pred.labels_==3,:]\n",
    "t1sort = np.concatenate((t1t1,t1t2,t1t3,t1t4),axis=0)\n",
    "cluster1_header = pd.read_csv('Cluster1.tsv',sep='\\t',nrows=1,header=None,usecols=(3,4,5,6,7,8,9,10))\n",
    "fig = go.Figure(data=go.Heatmap(\n",
    "                    z=t1sort))\n",
    "fig.update_layout(template='simple_white',title_text='Agglomerative Cluster',xaxis = dict(showgrid=False,ticks='inside',mirror=True,\n",
    "                                                                                   showline=True,tickmode = 'array',\n",
    "                                                                                         tickvals = np.arange(len(cluster1_header.to_numpy().ravel())),\n",
    "                                                                                          ticktext=cluster1_header.to_numpy().ravel()),\n",
    "                yaxis = dict(showgrid=False, ticks='outside',mirror=True,showline=True,tickmode = 'array',tickvals = [171,171+328,171+328+288,171+328+288+327],\n",
    "                            ticktext = ['Type1','Type2','Type3','Type4']),\n",
    "                font=dict(size=18),\n",
    "                 title_x=0.5,\n",
    "                 showlegend=False)\n",
    "                  \n",
    "fig.write_image('AggloCluster8signal.pdf')"
   ]
  },
  {
   "cell_type": "code",
   "execution_count": 42,
   "metadata": {},
   "outputs": [
    {
     "data": {
      "text/plain": [
       "0.3303806554817509"
      ]
     },
     "execution_count": 42,
     "metadata": {},
     "output_type": "execute_result"
    }
   ],
   "source": [
    "data_sq = distance.cdist(data_chip_type1,data_chip_type1,'sqeuclidean')\n",
    "y_pred_4 = KMeans(n_clusters=4, random_state=170,max_iter=3000,precompute_distances=False,algorithm='full').fit(data_sq)\n",
    "labels = y_pred_4.labels_\n",
    "metrics.silhouette_score(data_chip_type1, labels, metric='sqeuclidean')"
   ]
  },
  {
   "cell_type": "code",
   "execution_count": 47,
   "metadata": {},
   "outputs": [],
   "source": [
    "t1t1 = data_chip_type1[labels==0,:]\n",
    "t1t2= data_chip_type1[labels==1,:]\n",
    "t1t3 = data_chip_type1[labels==2,:]\n",
    "t1t4 = data_chip_type1[labels==3,:]\n",
    "t1sort = np.concatenate((t1t1,t1t2,t1t3,t1t4),axis=0)\n",
    "cluster1_header = pd.read_csv('Cluster1.tsv',sep='\\t',nrows=1,header=None,usecols=(3,4,5,6,7,8,9,10))\n",
    "fig = go.Figure(data=go.Heatmap(\n",
    "                    z=t1sort))\n",
    "fig.update_layout(template='simple_white',title_text='Kmeans Cluster',xaxis = dict(showgrid=False,ticks='inside',mirror=True,\n",
    "                                                                                   showline=True,tickmode = 'array',\n",
    "                                                                                         tickvals = np.arange(len(cluster1_header.to_numpy().ravel())),\n",
    "                                                                                          ticktext=cluster1_header.to_numpy().ravel()),\n",
    "                yaxis = dict(showgrid=False, ticks='outside',mirror=True,showline=True,tickmode = 'array',tickvals = [46,46+505,46+505+367,46+505+367+196],\n",
    "                            ticktext = ['Type1','Type2','Type3','Type4']),\n",
    "                font=dict(size=18),\n",
    "                 title_x=0.5,\n",
    "                 showlegend=False)\n",
    "                  \n",
    "fig.write_image('KmeansCluster8signal.pdf')"
   ]
  },
  {
   "cell_type": "code",
   "execution_count": 52,
   "metadata": {},
   "outputs": [
    {
     "data": {
      "text/plain": [
       "Counter({2: 427, 1: 142, 0: 165})"
      ]
     },
     "execution_count": 52,
     "metadata": {},
     "output_type": "execute_result"
    }
   ],
   "source": [
    "clustering = AgglomerativeClustering(linkage='ward', n_clusters=3)\n",
    "y_pred = clustering.fit(data_chip_type2)\n",
    "Counter(y_pred.labels_)"
   ]
  },
  {
   "cell_type": "code",
   "execution_count": 53,
   "metadata": {},
   "outputs": [],
   "source": [
    "t2t1 = data_chip_type2[y_pred.labels_==0,:]\n",
    "t2t2= data_chip_type2[y_pred.labels_==1,:]\n",
    "t2t3 = data_chip_type2[y_pred.labels_==2,:]\n",
    "#t2t4 = data_chip_type2[y_pred.labels_==3,:]\n",
    "t1sort = np.concatenate((t2t1,t2t2,t2t3),axis=0)\n",
    "cluster1_header = pd.read_csv('Cluster1.tsv',sep='\\t',nrows=1,header=None,usecols=(3,4,5,6,7,8,9,10))\n",
    "fig = go.Figure(data=go.Heatmap(\n",
    "                    z=t1sort))\n",
    "fig.update_layout(template='simple_white',title_text='Agglomerative Cluster',xaxis = dict(showgrid=False,ticks='inside',mirror=True,\n",
    "                                                                                   showline=True,tickmode = 'array',\n",
    "                                                                                         tickvals = np.arange(len(cluster1_header.to_numpy().ravel())),\n",
    "                                                                                          ticktext=cluster1_header.to_numpy().ravel()),\n",
    "                yaxis = dict(showgrid=False, ticks='outside',mirror=True,showline=True,tickmode = 'array',tickvals = [165,165+142,165+142+427],\n",
    "                            ticktext = ['Type1','Type2','Type3']),\n",
    "                font=dict(size=18),\n",
    "                 title_x=0.5,\n",
    "                 showlegend=False)\n",
    "                  \n",
    "fig.write_image('AggloCluster8signal_2_3.pdf')"
   ]
  },
  {
   "cell_type": "code",
   "execution_count": 6,
   "metadata": {},
   "outputs": [],
   "source": [
    "data_all_not_out = data_all.loc[np.sum(not_out,axis=1)==3,:]\n",
    "data_all_not_out.loc[y_pred.labels_==0,:].to_csv('Agglo_Cluster1.tsv',sep='\\t',index=False,quoting=3)\n",
    "data_all_not_out.loc[y_pred.labels_==1,:].to_csv('Agglo_Cluster2.tsv',sep='\\t',index=False,quoting=3)\n",
    "data_all_not_out.loc[y_pred.labels_==2,:].to_csv('Agglo_Cluster3.tsv',sep='\\t',index=False,quoting=3)"
   ]
  },
  {
   "cell_type": "code",
   "execution_count": 7,
   "metadata": {},
   "outputs": [],
   "source": [
    "chromosome = ['chr'+ i for i in [str(i) for i in range(1,20)]]\n",
    "chromosome.append('chrX')\n",
    "def to_borders(C1,name):\n",
    "#C1 = data_not_out.loc[labels==0,:]\n",
    "    for chrom in chromosome:\n",
    "        data_chr = C1.loc[C1.chrom==chrom]\n",
    "        borders_start = np.sort(np.unique(np.append(data_chr.start.to_numpy()-40000,data_chr.end.to_numpy())))\n",
    "        borders_end = borders_start+40000\n",
    "        with open(f'{name}_borders.bed','a') as fo:\n",
    "            for i in range(len(borders_start)):\n",
    "                fo.write(f'{chrom}\\t{borders_start[i]}\\t{borders_end[i]}\\n')"
   ]
  },
  {
   "cell_type": "code",
   "execution_count": 8,
   "metadata": {},
   "outputs": [],
   "source": [
    "to_borders(data_all_not_out.loc[y_pred.labels_==0,:],'Agglo_C1')\n",
    "to_borders(data_all_not_out.loc[y_pred.labels_==1,:],'Agglo_C2')\n",
    "to_borders(data_all_not_out.loc[y_pred.labels_==2,:],'Agglo_C3')"
   ]
  },
  {
   "cell_type": "code",
   "execution_count": 3,
   "metadata": {},
   "outputs": [],
   "source": [
    "data_1 = pd.read_csv('/home/data4/jh/data/projects/2020/aggregate/data/explain/Agglo_Cluster1.tsv',sep='\\t')\n",
    "data_2 = pd.read_csv('/home/data4/jh/data/projects/2020/aggregate/data/explain/Agglo_Cluster2.tsv',sep='\\t')\n",
    "data_3 = pd.read_csv('/home/data4/jh/data/projects/2020/aggregate/data/explain/Agglo_Cluster3.tsv',sep='\\t')"
   ]
  },
  {
   "cell_type": "code",
   "execution_count": 5,
   "metadata": {},
   "outputs": [],
   "source": [
    "to_borders(data_1,'Agglo_C1')\n",
    "to_borders(data_2,'Agglo_C2')\n",
    "to_borders(data_3,'Agglo_C3')"
   ]
  },
  {
   "cell_type": "code",
   "execution_count": null,
   "metadata": {},
   "outputs": [],
   "source": []
  }
 ],
 "metadata": {
  "kernelspec": {
   "display_name": "Python 3 (ipykernel)",
   "language": "python",
   "name": "python3"
  },
  "language_info": {
   "codemirror_mode": {
    "name": "ipython",
    "version": 3
   },
   "file_extension": ".py",
   "mimetype": "text/x-python",
   "name": "python",
   "nbconvert_exporter": "python",
   "pygments_lexer": "ipython3",
   "version": "3.9.7"
  }
 },
 "nbformat": 4,
 "nbformat_minor": 4
}
