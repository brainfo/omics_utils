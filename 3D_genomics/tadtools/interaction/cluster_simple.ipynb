{
 "cells": [
  {
   "cell_type": "code",
   "execution_count": 1,
   "metadata": {},
   "outputs": [],
   "source": [
    "from sklearn.cluster import AffinityPropagation\n",
    "from sklearn import metrics\n",
    "from sklearn.cluster import KMeans\n",
    "import numpy as np\n",
    "import pandas as pd\n",
    "from scipy import linalg\n",
    "from scipy.spatial import distance\n",
    "import matplotlib.pyplot as plt\n",
    "import warnings\n",
    "warnings.filterwarnings('ignore')\n",
    "from sklearn.cluster import AgglomerativeClustering\n",
    "import plotly.io as pio\n",
    "pio.kaleido.scope.default_format = \"pdf\"\n",
    "from matplotlib.colors import ListedColormap\n",
    "import matplotlib.colors as mc\n",
    "import plotly.graph_objects as gomerge_TAD_expression\n",
    "import sys\n",
    "sys.path.insert(0, '/home/data4/jh/data/tools/customized/tadtools/tadtool_pkg')\n",
    "import utils as ut\n",
    "import seaborn as sns\n",
    "from yellowbrick.cluster import KElbowVisualizer\n",
    "from numpy import array, linspace\n",
    "from sklearn.neighbors import KernelDensity\n",
    "from matplotlib.pyplot import plot\n",
    "from scipy.signal import argrelextrema"
   ]
  },
  {
   "cell_type": "code",
   "execution_count": 2,
   "metadata": {},
   "outputs": [],
   "source": [
    "def check(a):\n",
    "    try:\n",
    "        r=float(a)\n",
    "    except ValueError:\n",
    "        r=np.nan\n",
    "    return r\n",
    "cols = (11,13,14,15)\n",
    "data = np.loadtxt('../data/TAD_ChIP_strength_fpkm_size_E1_interaction_twoborerexpression_innerfpkm.tsv',delimiter='\\t',skiprows=1,usecols=cols,converters = {k: check for k in cols})\n",
    "data_all = pd.read_csv('../data/TAD_ChIP_strength_fpkm_size_E1_interaction_twoborerexpression_innerfpkm.tsv',delimiter='\\t',converters = {k: check for k in cols})\n",
    "data_all = data_all[~np.isnan(data).any(axis=1)]\n",
    "# data_all.columns = ['chrom','start','end','PC1 values','expression']\n",
    "# data_all['size'] = data_all['end']-data_all['start']\n",
    "# data_all = data_all.apply(lambda x : pd.to_numeric(x,errors='coerce'))\n",
    "data = data[~np.isnan(data).any(axis=1)]\n",
    "np.set_printoptions(precision=3, suppress=True)\n",
    "#data = np.genfromtxt(data)"
   ]
  },
  {
   "cell_type": "code",
   "execution_count": 5,
   "metadata": {},
   "outputs": [
    {
     "data": {
      "text/plain": [
       "(2650, 3)"
      ]
     },
     "execution_count": 5,
     "metadata": {},
     "output_type": "execute_result"
    }
   ],
   "source": [
    "data.shape"
   ]
  },
  {
   "cell_type": "code",
   "execution_count": 122,
   "metadata": {},
   "outputs": [
    {
     "name": "stdout",
     "output_type": "stream",
     "text": [
      "(2111, 4) (302, 4)\n"
     ]
    }
   ],
   "source": [
    "#data_m = data/data.sum(axis=0,keepdims=1)*1000000\n",
    "def normalize_data(data):\n",
    "    return (data - np.min(data)) / (np.max(data) - np.min(data))\n",
    "data_m = np.apply_along_axis(normalize_data,0,data)\n",
    "mean = np.mean(data_m,axis=0)\n",
    "st_d = np.std(data_m,axis=0)\n",
    "distance_from_mean = abs(data_m-mean)\n",
    "max_d = 2\n",
    "not_out = distance_from_mean < max_d*st_d\n",
    "#not_out\n",
    "no_out = data_m[np.sum(not_out,axis=1)==3,:]\n",
    "print(data_m.shape,no_out.shape)\n",
    "data_sq = distance.cdist(no_out,no_out,'sqeuclidean')\n",
    "# data_cos = distance.cdist(data_m,data_m,'cosine')"
   ]
  },
  {
   "cell_type": "code",
   "execution_count": 127,
   "metadata": {},
   "outputs": [
    {
     "data": {
      "text/html": [
       "<div>\n",
       "<style scoped>\n",
       "    .dataframe tbody tr th:only-of-type {\n",
       "        vertical-align: middle;\n",
       "    }\n",
       "\n",
       "    .dataframe tbody tr th {\n",
       "        vertical-align: top;\n",
       "    }\n",
       "\n",
       "    .dataframe thead th {\n",
       "        text-align: right;\n",
       "    }\n",
       "</style>\n",
       "<table border=\"1\" class=\"dataframe\">\n",
       "  <thead>\n",
       "    <tr style=\"text-align: right;\">\n",
       "      <th></th>\n",
       "      <th>chrom</th>\n",
       "      <th>start</th>\n",
       "      <th>end</th>\n",
       "      <th>H3K9me3_RPKM</th>\n",
       "      <th>H3K36me3_RPKM</th>\n",
       "      <th>H3K4me1_RPKM</th>\n",
       "      <th>POU5F1_RPKM</th>\n",
       "      <th>H3K27me3_RPKM</th>\n",
       "      <th>NANOG_RPKM</th>\n",
       "      <th>CTCF_RPKM</th>\n",
       "      <th>H3K4me3_RPKM</th>\n",
       "      <th>E1</th>\n",
       "      <th>expression</th>\n",
       "      <th>strength</th>\n",
       "      <th>border_fpkm</th>\n",
       "      <th>size</th>\n",
       "      <th>interaction</th>\n",
       "      <th>E1.1</th>\n",
       "    </tr>\n",
       "  </thead>\n",
       "  <tbody>\n",
       "    <tr>\n",
       "      <th>0</th>\n",
       "      <td>chr1</td>\n",
       "      <td>4440000</td>\n",
       "      <td>4800000</td>\n",
       "      <td>0.714689</td>\n",
       "      <td>3.081767</td>\n",
       "      <td>3.183183</td>\n",
       "      <td>0.762644</td>\n",
       "      <td>0.720414</td>\n",
       "      <td>0.993484</td>\n",
       "      <td>0.821859</td>\n",
       "      <td>2.843474</td>\n",
       "      <td>0.252871641</td>\n",
       "      <td>30.949375</td>\n",
       "      <td>0.243850</td>\n",
       "      <td>0.000000</td>\n",
       "      <td>360000.0</td>\n",
       "      <td>0.001827</td>\n",
       "      <td>0.001045</td>\n",
       "    </tr>\n",
       "    <tr>\n",
       "      <th>1</th>\n",
       "      <td>chr1</td>\n",
       "      <td>4840000</td>\n",
       "      <td>6200000</td>\n",
       "      <td>0.233456</td>\n",
       "      <td>3.438194</td>\n",
       "      <td>2.542468</td>\n",
       "      <td>0.842724</td>\n",
       "      <td>0.222650</td>\n",
       "      <td>1.005763</td>\n",
       "      <td>0.841192</td>\n",
       "      <td>2.932617</td>\n",
       "      <td>0.07828551383</td>\n",
       "      <td>19.03833333</td>\n",
       "      <td>0.978933</td>\n",
       "      <td>84.542500</td>\n",
       "      <td>1360000.0</td>\n",
       "      <td>0.000961</td>\n",
       "      <td>-0.005504</td>\n",
       "    </tr>\n",
       "    <tr>\n",
       "      <th>2</th>\n",
       "      <td>chr1</td>\n",
       "      <td>6240000</td>\n",
       "      <td>6920000</td>\n",
       "      <td>0.700055</td>\n",
       "      <td>1.443003</td>\n",
       "      <td>0.285463</td>\n",
       "      <td>0.588748</td>\n",
       "      <td>0.461818</td>\n",
       "      <td>0.564777</td>\n",
       "      <td>0.681681</td>\n",
       "      <td>0.273189</td>\n",
       "      <td>-0.08600333175</td>\n",
       "      <td>2.690833333</td>\n",
       "      <td>0.351045</td>\n",
       "      <td>15.485000</td>\n",
       "      <td>680000.0</td>\n",
       "      <td>0.001943</td>\n",
       "      <td>-0.014799</td>\n",
       "    </tr>\n",
       "    <tr>\n",
       "      <th>3</th>\n",
       "      <td>chr1</td>\n",
       "      <td>6960000</td>\n",
       "      <td>8200000</td>\n",
       "      <td>0.560486</td>\n",
       "      <td>0.379240</td>\n",
       "      <td>0.214082</td>\n",
       "      <td>0.618727</td>\n",
       "      <td>0.394839</td>\n",
       "      <td>0.622525</td>\n",
       "      <td>0.755855</td>\n",
       "      <td>0.260735</td>\n",
       "      <td>-0.02904784383</td>\n",
       "      <td>4.065</td>\n",
       "      <td>0.961099</td>\n",
       "      <td>0.000000</td>\n",
       "      <td>1240000.0</td>\n",
       "      <td>0.000388</td>\n",
       "      <td>0.000543</td>\n",
       "    </tr>\n",
       "    <tr>\n",
       "      <th>4</th>\n",
       "      <td>chr1</td>\n",
       "      <td>8240000</td>\n",
       "      <td>9520000</td>\n",
       "      <td>1.578950</td>\n",
       "      <td>1.520725</td>\n",
       "      <td>1.213257</td>\n",
       "      <td>0.618981</td>\n",
       "      <td>0.360319</td>\n",
       "      <td>0.708752</td>\n",
       "      <td>0.778033</td>\n",
       "      <td>2.703058</td>\n",
       "      <td>-0.02914024571</td>\n",
       "      <td>62.815</td>\n",
       "      <td>0.395564</td>\n",
       "      <td>0.000000</td>\n",
       "      <td>1280000.0</td>\n",
       "      <td>0.000511</td>\n",
       "      <td>-0.005020</td>\n",
       "    </tr>\n",
       "    <tr>\n",
       "      <th>...</th>\n",
       "      <td>...</td>\n",
       "      <td>...</td>\n",
       "      <td>...</td>\n",
       "      <td>...</td>\n",
       "      <td>...</td>\n",
       "      <td>...</td>\n",
       "      <td>...</td>\n",
       "      <td>...</td>\n",
       "      <td>...</td>\n",
       "      <td>...</td>\n",
       "      <td>...</td>\n",
       "      <td>...</td>\n",
       "      <td>...</td>\n",
       "      <td>...</td>\n",
       "      <td>...</td>\n",
       "      <td>...</td>\n",
       "      <td>...</td>\n",
       "      <td>...</td>\n",
       "    </tr>\n",
       "    <tr>\n",
       "      <th>2577</th>\n",
       "      <td>chr19</td>\n",
       "      <td>57720000</td>\n",
       "      <td>59240000</td>\n",
       "      <td>0.939361</td>\n",
       "      <td>0.403295</td>\n",
       "      <td>0.452610</td>\n",
       "      <td>0.716896</td>\n",
       "      <td>1.987057</td>\n",
       "      <td>0.838989</td>\n",
       "      <td>0.741580</td>\n",
       "      <td>0.866588</td>\n",
       "      <td>0.06794090514</td>\n",
       "      <td>0.932</td>\n",
       "      <td>NaN</td>\n",
       "      <td>0.000000</td>\n",
       "      <td>1520000.0</td>\n",
       "      <td>0.000752</td>\n",
       "      <td>-0.033262</td>\n",
       "    </tr>\n",
       "    <tr>\n",
       "      <th>2578</th>\n",
       "      <td>chr19</td>\n",
       "      <td>59280000</td>\n",
       "      <td>60400000</td>\n",
       "      <td>0.508993</td>\n",
       "      <td>1.500364</td>\n",
       "      <td>0.309162</td>\n",
       "      <td>0.688251</td>\n",
       "      <td>0.716206</td>\n",
       "      <td>0.706369</td>\n",
       "      <td>0.817836</td>\n",
       "      <td>0.307092</td>\n",
       "      <td>-0.2829541914</td>\n",
       "      <td>156.257</td>\n",
       "      <td>NaN</td>\n",
       "      <td>3.755000</td>\n",
       "      <td>1120000.0</td>\n",
       "      <td>0.002275</td>\n",
       "      <td>-0.041698</td>\n",
       "    </tr>\n",
       "    <tr>\n",
       "      <th>2598</th>\n",
       "      <td>chrX</td>\n",
       "      <td>23600000</td>\n",
       "      <td>36440000</td>\n",
       "      <td>0.282714</td>\n",
       "      <td>0.314218</td>\n",
       "      <td>0.166442</td>\n",
       "      <td>0.214361</td>\n",
       "      <td>0.239294</td>\n",
       "      <td>0.191339</td>\n",
       "      <td>0.567560</td>\n",
       "      <td>0.099752</td>\n",
       "      <td>.</td>\n",
       "      <td>1.177291667</td>\n",
       "      <td>NaN</td>\n",
       "      <td>0.000000</td>\n",
       "      <td>12840000.0</td>\n",
       "      <td>0.000292</td>\n",
       "      <td>0.013123</td>\n",
       "    </tr>\n",
       "    <tr>\n",
       "      <th>2634</th>\n",
       "      <td>chrX</td>\n",
       "      <td>73680000</td>\n",
       "      <td>74000000</td>\n",
       "      <td>0.134776</td>\n",
       "      <td>3.720219</td>\n",
       "      <td>2.133402</td>\n",
       "      <td>0.407143</td>\n",
       "      <td>0.159294</td>\n",
       "      <td>0.469485</td>\n",
       "      <td>0.502765</td>\n",
       "      <td>1.626094</td>\n",
       "      <td>1.256896527</td>\n",
       "      <td>43.51785714</td>\n",
       "      <td>NaN</td>\n",
       "      <td>36.486667</td>\n",
       "      <td>320000.0</td>\n",
       "      <td>0.005012</td>\n",
       "      <td>0.016895</td>\n",
       "    </tr>\n",
       "    <tr>\n",
       "      <th>2665</th>\n",
       "      <td>chrX</td>\n",
       "      <td>101400000</td>\n",
       "      <td>101680000</td>\n",
       "      <td>0.259398</td>\n",
       "      <td>2.813742</td>\n",
       "      <td>1.571383</td>\n",
       "      <td>0.353033</td>\n",
       "      <td>1.173318</td>\n",
       "      <td>0.422845</td>\n",
       "      <td>0.530626</td>\n",
       "      <td>2.940338</td>\n",
       "      <td>1.241610081</td>\n",
       "      <td>49.748</td>\n",
       "      <td>NaN</td>\n",
       "      <td>97.055000</td>\n",
       "      <td>280000.0</td>\n",
       "      <td>0.006425</td>\n",
       "      <td>0.016733</td>\n",
       "    </tr>\n",
       "  </tbody>\n",
       "</table>\n",
       "<p>1332 rows × 18 columns</p>\n",
       "</div>"
      ],
      "text/plain": [
       "      chrom      start        end  H3K9me3_RPKM  H3K36me3_RPKM  H3K4me1_RPKM  \\\n",
       "0      chr1    4440000    4800000      0.714689       3.081767      3.183183   \n",
       "1      chr1    4840000    6200000      0.233456       3.438194      2.542468   \n",
       "2      chr1    6240000    6920000      0.700055       1.443003      0.285463   \n",
       "3      chr1    6960000    8200000      0.560486       0.379240      0.214082   \n",
       "4      chr1    8240000    9520000      1.578950       1.520725      1.213257   \n",
       "...     ...        ...        ...           ...            ...           ...   \n",
       "2577  chr19   57720000   59240000      0.939361       0.403295      0.452610   \n",
       "2578  chr19   59280000   60400000      0.508993       1.500364      0.309162   \n",
       "2598   chrX   23600000   36440000      0.282714       0.314218      0.166442   \n",
       "2634   chrX   73680000   74000000      0.134776       3.720219      2.133402   \n",
       "2665   chrX  101400000  101680000      0.259398       2.813742      1.571383   \n",
       "\n",
       "      POU5F1_RPKM  H3K27me3_RPKM  NANOG_RPKM  CTCF_RPKM  H3K4me3_RPKM  \\\n",
       "0        0.762644       0.720414    0.993484   0.821859      2.843474   \n",
       "1        0.842724       0.222650    1.005763   0.841192      2.932617   \n",
       "2        0.588748       0.461818    0.564777   0.681681      0.273189   \n",
       "3        0.618727       0.394839    0.622525   0.755855      0.260735   \n",
       "4        0.618981       0.360319    0.708752   0.778033      2.703058   \n",
       "...           ...            ...         ...        ...           ...   \n",
       "2577     0.716896       1.987057    0.838989   0.741580      0.866588   \n",
       "2578     0.688251       0.716206    0.706369   0.817836      0.307092   \n",
       "2598     0.214361       0.239294    0.191339   0.567560      0.099752   \n",
       "2634     0.407143       0.159294    0.469485   0.502765      1.626094   \n",
       "2665     0.353033       1.173318    0.422845   0.530626      2.940338   \n",
       "\n",
       "                  E1   expression  strength  border_fpkm        size  \\\n",
       "0        0.252871641    30.949375  0.243850     0.000000    360000.0   \n",
       "1      0.07828551383  19.03833333  0.978933    84.542500   1360000.0   \n",
       "2     -0.08600333175  2.690833333  0.351045    15.485000    680000.0   \n",
       "3     -0.02904784383        4.065  0.961099     0.000000   1240000.0   \n",
       "4     -0.02914024571       62.815  0.395564     0.000000   1280000.0   \n",
       "...              ...          ...       ...          ...         ...   \n",
       "2577   0.06794090514        0.932       NaN     0.000000   1520000.0   \n",
       "2578   -0.2829541914      156.257       NaN     3.755000   1120000.0   \n",
       "2598               .  1.177291667       NaN     0.000000  12840000.0   \n",
       "2634     1.256896527  43.51785714       NaN    36.486667    320000.0   \n",
       "2665     1.241610081       49.748       NaN    97.055000    280000.0   \n",
       "\n",
       "      interaction      E1.1  \n",
       "0        0.001827  0.001045  \n",
       "1        0.000961 -0.005504  \n",
       "2        0.001943 -0.014799  \n",
       "3        0.000388  0.000543  \n",
       "4        0.000511 -0.005020  \n",
       "...           ...       ...  \n",
       "2577     0.000752 -0.033262  \n",
       "2578     0.002275 -0.041698  \n",
       "2598     0.000292  0.013123  \n",
       "2634     0.005012  0.016895  \n",
       "2665     0.006425  0.016733  \n",
       "\n",
       "[1332 rows x 18 columns]"
      ]
     },
     "execution_count": 127,
     "metadata": {},
     "output_type": "execute_result"
    }
   ],
   "source": []
  },
  {
   "cell_type": "code",
   "execution_count": 155,
   "metadata": {},
   "outputs": [
    {
     "data": {
      "image/png": "[encoded data removed]",
      "text/plain": [
       "<Figure size 576x396 with 1 Axes>"
      ]
     },
     "metadata": {},
     "output_type": "display_data"
    },
    {
     "data": {
      "image/png": "[encoded data removed]",
      "text/plain": [
       "<Figure size 576x396 with 1 Axes>"
      ]
     },
     "metadata": {},
     "output_type": "display_data"
    },
    {
     "data": {
      "image/png": "[encoded data removed]",
      "text/plain": [
       "<Figure size 576x396 with 1 Axes>"
      ]
     },
     "metadata": {},
     "output_type": "display_data"
    }
   ],
   "source": [
    "#penguins = sns.load_dataset(\"penguins\")\n",
    "#penguins\n",
    "#df = pd.DataFrame(data_m, columns = ['boundary strength','size','PC1 values','interaction between boundaries'])\n",
    "## estimate threshold\n",
    "# kde_est = sns.distplot(df[\"PC1 values\"], kde=True).get_lines()[0].get_data()\n",
    "# mi, ma = argrelextrema(kde_est[1], np.less)[0], argrelextrema(kde_est[1], np.greater)[0]\n",
    "# threshold = kde_est[0][mi[0]]\n",
    "\n",
    "fig, axs = plt.subplots()\n",
    "sns.set_style('ticks')\n",
    "sns.distplot(tad_1['size'],label='Group-A')\n",
    "sns.distplot(tad_2['size'],label='Group-S')\n",
    "plt.legend(prop={'size': 12}, title = 'TAD Group')\n",
    "plt.title('Density Plot of TAD size')\n",
    "plt.xlabel('TAD size')\n",
    "plt.ylabel('Density')\n",
    "plt.savefig('./results/size2.pdf',bbox_inches='tight')\n",
    "\n",
    "fig, axs = plt.subplots()\n",
    "sns.set_style('ticks')\n",
    "sns.distplot(tad_1['interaction'],label='Group-A')\n",
    "sns.distplot(tad_2['interaction'],label='Group-S')\n",
    "plt.legend(prop={'size': 12}, title = 'TAD Group')\n",
    "plt.title('Density Plot of Interaction frequency between boundaries')\n",
    "plt.xlabel('Interaction frequency between boundaries')\n",
    "plt.ylabel('Density')\n",
    "plt.savefig('./results/interaction2.pdf',bbox_inches='tight')\n",
    "\n",
    "fig, axs = plt.subplots()\n",
    "sns.set_style('ticks')\n",
    "sns.distplot(tad_1['strength'],label='Group-A')\n",
    "sns.distplot(tad_2['strength'],label='Group-S')\n",
    "plt.legend(prop={'size': 12}, title = 'TAD Group')\n",
    "plt.title('Density Plot of Boundary strength')\n",
    "plt.xlabel('Boundary strength')\n",
    "plt.ylabel('Density')\n",
    "plt.savefig('./results/strength2.pdf',bbox_inches='tight')\n",
    "# \n",
    "# sns.set_style('ticks')\n",
    "# sns.displot(tad_1['interaction'],kind='kde')\n",
    "# sns.displot(tad_2['interaction'],kind='kde')\n",
    "# plt.savefig('./results/interaction2.pdf',bbox_inches='tight')\n",
    "# sns.set_style('ticks')\n",
    "# sns.displot(df,x='PC1 values',kind='kde')\n",
    "# plt.axvline(threshold, linestyle=\"--\")\n",
    "# plt.xlim(0,1)\n",
    "# plt.savefig('./results/PC1values_norm_dist.pdf',bbox_inches='tight')\n",
    "# sns.displot(df, x = \"size\", kind=\"kde\")\n",
    "# plt.savefig('./results/size_norm_dist.pdf',bbox_inches='tight')\n",
    "# sns.displot(df, x = \"interaction between boundaries\", kind=\"kde\")\n",
    "# plt.savefig('./results/interaction_norm_dist.pdf',bbox_inches='tight')\n",
    "\n",
    "# sns.displot(df, x = \"size\", kind=\"kde\")\n",
    "# plt.savefig('./results/size_norm_dist.pdf',bbox_inches='tight')"
   ]
  },
  {
   "cell_type": "code",
   "execution_count": 2,
   "metadata": {},
   "outputs": [],
   "source": [
    "tad_1 = pd.read_csv('S_TAD.tsv',sep='\\t')\n",
    "tad_2 = pd.read_csv('A_TAD.tsv',sep='\\t')"
   ]
  },
  {
   "cell_type": "code",
   "execution_count": 6,
   "metadata": {},
   "outputs": [],
   "source": [
    "from scipy.stats import mannwhitneyu\n",
    "U1, p1 = mannwhitneyu(tad_1['size'],tad_2['size'])\n",
    "U2, p2 = mannwhitneyu(tad_1['interaction'],tad_2['interaction'])\n",
    "U3, p3 = mannwhitneyu(tad_1['strength'],tad_2['strength'])"
   ]
  },
  {
   "cell_type": "code",
   "execution_count": 7,
   "metadata": {},
   "outputs": [
    {
     "data": {
      "text/plain": [
       "(0.030771505439681705, 0.2538681784100981, 0.00044395422792464935)"
      ]
     },
     "execution_count": 7,
     "metadata": {},
     "output_type": "execute_result"
    }
   ],
   "source": [
    "p1,p2,p3"
   ]
  },
  {
   "cell_type": "code",
   "execution_count": 126,
   "metadata": {},
   "outputs": [],
   "source": [
    "pc1 = data_m[:,2]\n",
    "s_tad = data_all[pc1 <= threshold]\n",
    "a_tad = data_all[pc1 > threshold]\n",
    "s_tad.to_csv('./results/S_2_TADs.bed',sep='\\t',index=False,quoting=3)\n",
    "a_tad.to_csv('./results/A_2_TADs.bed',sep='\\t',index=False,quoting=3)"
   ]
  },
  {
   "cell_type": "code",
   "execution_count": 8,
   "metadata": {},
   "outputs": [
    {
     "data": {
      "text/plain": [
       "Counter({0: 1308, 1: 941, 2: 401})"
      ]
     },
     "execution_count": 8,
     "metadata": {},
     "output_type": "execute_result"
    }
   ],
   "source": [
    "clustering = AgglomerativeClustering(linkage='ward', n_clusters=3)\n",
    "y_pred = clustering.fit(data_m)\n",
    "from collections import Counter\n",
    "Counter(y_pred.labels_)"
   ]
  },
  {
   "cell_type": "code",
   "execution_count": 30,
   "metadata": {},
   "outputs": [
    {
     "data": {
      "text/plain": [
       "<AxesSubplot:title={'center':'Silhouette Score Elbow for KMeans Clustering'}, xlabel='k', ylabel='silhouette score'>"
      ]
     },
     "execution_count": 30,
     "metadata": {},
     "output_type": "execute_result"
    },
    {
     "data": {
      "image/png": "[encoded data removed]",
      "text/plain": [
       "<Figure size 576x396 with 2 Axes>"
      ]
     },
     "metadata": {},
     "output_type": "display_data"
    }
   ],
   "source": [
    "# sum_of_squared_distances = []\n",
    "# K = range(1,20)\n",
    "# for k in K:\n",
    "#     y_pred = AgglomerativeClustering(linkage='ward', n_clusters=k).fit(data_m)\n",
    "#     sum_of_squared_distances.append(y_pred.inertia_)\n",
    "# Silhouette Score for AgglomerativeClustering\n",
    "\n",
    "model = AgglomerativeClustering(linkage='ward')\n",
    "model_k = KMeans()\n",
    "# k is range of number of clusters.\n",
    "visualizer = KElbowVisualizer(model_k, k=(2,19),metric='silhouette', timings= True)\n",
    "visualizer.fit(data_m)        # Fit the data to the visualizer\n",
    "visualizer.show(outpath='./results/merge_kmeans_3_elbow.pdf')        # Finalize and render the figure"
   ]
  },
  {
   "cell_type": "code",
   "execution_count": 103,
   "metadata": {},
   "outputs": [
    {
     "name": "stdout",
     "output_type": "stream",
     "text": [
      "[0.506 0.397 0.512 0.482 0.494 0.321 0.308 0.356 0.302 0.379 0.357 0.352\n",
      " 0.309 0.295 0.322 0.526 0.339 0.374 0.413 0.383 0.3   0.348 0.467 0.409\n",
      " 0.455 0.299 0.392 0.247 0.264 0.232 0.234 0.258 0.259 0.245 0.406 0.422\n",
      " 0.351 0.358 0.214 0.259 0.521 0.265 0.291 0.3   0.285 0.293 0.377 0.247\n",
      " 0.266 0.372 0.261 0.233 0.517 0.485 0.241 0.272 0.252 0.256 0.274 0.257\n",
      " 0.256 0.298 0.245 0.276 0.302 0.277 0.287 0.259 0.459 0.278 0.434 0.436\n",
      " 0.462 0.346 0.322 0.419 0.429 0.313 0.383 0.319 0.401 0.478 0.392 0.341\n",
      " 0.463 0.462 0.482 0.529 0.413 0.421 0.494 0.383 0.339 0.366 0.456 0.433\n",
      " 0.473 0.485 0.514 0.362 0.451 0.528 0.469 0.481 0.499 0.396 0.383 0.375\n",
      " 0.345 0.373 0.425 0.44  0.342 0.281 0.335 0.312 0.268 0.286 0.384 0.269\n",
      " 0.295 0.507 0.421 0.517 0.264 0.252 0.277 0.319 0.254 0.457 0.321 0.239\n",
      " 0.254 0.308 0.272 0.271 0.257 0.409 0.239 0.367 0.254 0.278 0.241 0.268\n",
      " 0.248 0.255 0.245 0.248 0.29  0.255 0.52  0.329 0.356 0.387 0.241 0.263\n",
      " 0.286 0.239 0.338 0.305 0.254 0.473 0.272 0.442 0.333 0.278 0.275 0.405\n",
      " 0.282 0.301 0.525 0.31  0.287 0.402 0.432 0.325 0.35  0.362 0.387 0.306\n",
      " 0.339 0.322 0.493 0.363 0.407 0.371 0.352 0.345 0.506 0.475 0.287 0.323\n",
      " 0.459 0.382 0.344 0.48  0.501 0.511 0.498 0.445 0.441 0.343 0.333 0.31\n",
      " 0.434 0.32  0.314 0.309 0.284 0.368 0.426 0.32  0.344 0.47  0.308 0.336\n",
      " 0.381 0.341 0.515 0.437 0.305 0.309 0.302 0.306 0.29  0.365 0.425 0.388\n",
      " 0.332 0.377 0.431 0.352 0.415 0.475 0.38  0.499 0.381 0.346 0.397 0.427\n",
      " 0.468 0.269 0.257 0.459 0.255 0.467 0.262 0.32  0.333 0.241 0.255 0.26\n",
      " 0.311 0.325 0.444 0.283 0.368 0.445 0.429 0.457 0.208 0.192 0.194 0.221\n",
      " 0.208 0.423 0.213 0.256 0.201 0.213 0.22  0.196 0.447 0.445 0.197 0.208\n",
      " 0.197 0.2   0.205 0.22  0.197 0.206 0.302 0.201 0.196 0.199 0.322 0.235\n",
      " 0.202 0.233 0.205 0.204 0.21  0.206 0.271 0.245 0.244 0.317 0.295 0.228\n",
      " 0.456 0.396 0.487 0.241 0.252 0.324 0.465 0.285 0.502 0.507 0.25  0.373\n",
      " 0.43  0.45  0.496 0.391 0.36  0.318 0.491 0.529 0.331 0.447 0.227 0.255\n",
      " 0.451 0.334 0.288 0.262 0.298 0.377 0.242 0.229 0.382 0.414 0.293 0.284\n",
      " 0.226 0.261 0.302 0.491 0.211 0.211 0.255 0.225 0.229 0.412 0.322 0.349\n",
      " 0.278 0.235 0.293 0.517 0.244 0.238 0.232 0.469 0.332 0.258 0.318 0.327\n",
      " 0.295 0.316 0.238 0.22  0.229 0.529 0.406 0.31  0.292 0.298 0.32  0.366\n",
      " 0.335 0.278 0.339 0.49  0.489 0.381 0.331 0.269 0.275 0.284 0.295 0.322\n",
      " 0.379 0.316 0.44  0.358 0.456 0.376 0.367 0.38  0.416 0.346 0.502 0.458\n",
      " 0.304 0.479 0.422 0.318 0.307 0.288 0.468 0.471 0.387 0.376 0.396 0.324\n",
      " 0.359 0.337 0.344 0.454 0.347 0.376 0.416 0.373 0.425 0.358 0.348 0.363\n",
      " 0.418 0.438 0.181 0.167 0.155 0.23  0.203 0.309 0.142 0.186 0.221 0.157\n",
      " 0.374 0.392 0.188 0.199 0.217 0.2   0.224 0.413 0.185 0.259 0.236 0.313\n",
      " 0.145 0.154 0.171 0.184 0.393 0.27  0.126 0.271 0.328 0.183 0.182 0.189\n",
      " 0.488 0.513 0.133 0.177 0.415 0.356 0.426 0.473 0.187 0.202 0.175 0.239\n",
      " 0.255 0.389 0.244 0.208 0.42  0.247 0.333 0.355 0.363 0.421 0.277 0.477\n",
      " 0.199 0.193 0.169 0.185 0.294 0.435 0.262 0.244 0.501 0.231 0.277 0.154\n",
      " 0.231 0.179 0.459 0.526 0.423 0.286 0.468 0.32  0.33  0.392 0.334 0.527\n",
      " 0.483 0.401 0.442 0.307 0.39  0.269 0.273 0.27  0.306 0.436 0.523 0.336\n",
      " 0.294 0.281 0.25  0.257 0.288 0.352 0.386 0.506 0.266 0.321 0.361 0.307\n",
      " 0.221 0.355 0.491 0.261 0.398 0.404 0.324 0.328 0.363 0.265 0.355 0.523\n",
      " 0.439 0.466 0.4   0.29  0.274 0.348 0.38  0.445 0.274 0.283 0.432 0.276\n",
      " 0.222 0.213 0.494 0.228 0.224 0.211 0.309 0.246 0.271 0.268 0.504 0.221\n",
      " 0.264 0.236 0.355 0.443 0.205 0.194 0.196 0.226 0.214 0.2   0.236 0.324\n",
      " 0.21  0.224 0.286 0.238 0.207 0.501 0.313 0.276 0.219 0.295 0.318 0.25\n",
      " 0.26  0.391 0.289 0.506 0.428 0.412 0.3   0.243 0.235 0.281 0.495 0.523\n",
      " 0.407 0.298 0.313 0.308 0.215 0.283 0.48  0.366 0.329 0.433 0.196 0.177\n",
      " 0.186 0.167 0.167 0.167 0.168 0.168 0.163 0.158 0.373 0.168 0.408 0.445\n",
      " 0.163 0.35  0.169 0.163 0.214 0.518 0.458 0.173 0.331 0.163 0.199 0.173\n",
      " 0.184 0.159 0.163 0.166 0.159 0.239 0.362 0.251 0.16  0.189 0.268 0.173\n",
      " 0.194 0.186 0.248 0.475 0.241 0.244 0.344 0.184 0.185 0.171 0.173 0.186\n",
      " 0.366 0.494 0.26  0.233 0.189 0.242 0.219 0.25  0.313 0.29  0.311 0.414\n",
      " 0.39  0.341 0.3   0.419 0.318 0.504 0.273 0.303 0.31  0.265 0.43  0.319\n",
      " 0.313 0.403 0.323 0.275 0.273 0.296 0.255 0.269 0.293 0.326 0.386 0.264\n",
      " 0.385 0.354 0.489 0.459 0.3   0.308 0.271 0.322 0.279 0.28  0.441 0.402\n",
      " 0.253 0.283 0.51  0.314 0.167 0.155 0.179 0.261 0.397 0.26  0.222 0.185\n",
      " 0.302 0.227 0.418 0.158 0.138 0.221 0.143 0.429 0.285 0.34  0.248 0.231\n",
      " 0.16  0.147 0.14  0.198 0.493 0.136 0.134 0.142 0.171 0.268 0.226 0.2\n",
      " 0.168 0.15  0.315 0.231 0.247 0.393 0.169 0.134 0.144 0.398 0.467 0.137\n",
      " 0.494 0.147 0.155 0.146 0.185 0.396 0.367 0.32  0.291 0.191 0.4   0.214\n",
      " 0.409 0.259 0.471 0.144 0.152 0.146 0.127 0.191 0.343 0.175 0.354 0.384\n",
      " 0.123 0.126 0.128 0.301 0.266 0.239 0.166 0.21  0.171 0.157 0.419 0.124\n",
      " 0.176 0.124 0.15  0.123 0.426 0.157 0.405 0.307 0.124 0.122 0.12  0.285\n",
      " 0.13  0.488 0.458 0.337 0.346 0.123 0.198 0.143 0.471 0.182 0.509 0.244\n",
      " 0.146 0.125 0.126 0.062 0.009 0.159 0.063 0.152 0.001 0.146 0.432 0.336\n",
      " 0.083 0.    0.011 0.111 0.332 0.005 0.509 0.523 0.011 0.107 0.032 0.046\n",
      " 0.157 0.013 0.406 0.301 0.011 0.189 0.012 0.056 0.02  0.454 0.484 0.273\n",
      " 0.035 0.006 0.012 0.006 0.003 0.032 0.136 0.486 0.181 0.081] [0.583 0.577 0.778 ... 0.827 0.821 0.822]\n"
     ]
    }
   ],
   "source": [
    "#a = data_m[:,2].reshape(-1,1)\n",
    "# #a = array([10,11,9,23,21,11,45,20,11,12]).reshape(-1, 1)\n",
    "#kde = stats.gaussian_kde(a)\n",
    "# kde = KernelDensity(kernel='gaussian', bandwidth=10).fit(a)\n",
    "# s = linspace(-1,1)\n",
    "# e = kde.score_samples(s.reshape(-1,1))\n",
    "# plot(s, e)\n",
    "#plt.savefig('./results/merge_PC1values_kernel.pdf',bbox_inches='tight')\n",
    "mi, ma = argrelextrema(kde_est[1], np.less)[0], argrelextrema(kde_est[1], np.greater)[0]\n",
    "threshold = kde_est[0][mi[0]]\n",
    "pc1 = data_m[:,2]\n",
    "# tad_1 = data_all[a<=a[ma]]\n",
    "# tad_2 = data_all[a>a[ma]]\n",
    "# print('Grouping by HAS QUIT:')\n",
    "print(pc1[pc1 <= threshold], pc1[pc1 > threshold])\n",
    "# print('Grouping by yasirroni:')\n",
    "# print(a[a < s[mi][0]], a[(a >= s[mi][0]) * (a <= s[mi][1])], a[a >= s[mi][1]])"
   ]
  },
  {
   "cell_type": "code",
   "execution_count": 57,
   "metadata": {},
   "outputs": [],
   "source": [
    "tad_1.to_csv('S_TAD.tsv',sep='\\t',index=False,quoting=3)\n",
    "tad_2.to_csv('A_TAD.tsv',sep='\\t',index=False,quoting=3)"
   ]
  },
  {
   "cell_type": "code",
   "execution_count": 17,
   "metadata": {},
   "outputs": [
    {
     "data": {
      "text/plain": [
       "0.7318294935572325"
      ]
     },
     "execution_count": 17,
     "metadata": {},
     "output_type": "execute_result"
    }
   ],
   "source": [
    "y_pred_3 = KMeans(n_clusters=3, random_state=170,max_iter=3000,precompute_distances=False,algorithm='full').fit(data_sq)\n",
    "labels = y_pred_3.labels_\n",
    "metrics.silhouette_score(no_out, labels, metric='sqeuclidean')"
   ]
  },
  {
   "cell_type": "code",
   "execution_count": 13,
   "metadata": {},
   "outputs": [],
   "source": [
    "simplet1 = no_out[y_pred.labels_==0,:]\n",
    "simplet2 = no_out[y_pred.labels_==1,:]\n",
    "simplet3 = no_out[y_pred.labels_==2,:]\n",
    "simplesort = np.concatenate((simplet1,simplet2,simplet3),axis=0)"
   ]
  },
  {
   "cell_type": "code",
   "execution_count": 16,
   "metadata": {},
   "outputs": [],
   "source": [
    "fig = go.Figure(data=go.Heatmap(\n",
    "                    z=simplesort))\n",
    "fig.update_layout(template='simple_white',title_text='Agglomerative Cluster',xaxis = dict(showgrid=False,ticks='inside',mirror=True,\n",
    "                                                                                   showline=True,tickmode = 'array',\n",
    "                                                                                          tickvals = np.arange(3),\n",
    "                                                                                          ticktext=['expression on boundaries','TAD size','cis-Eigenvalue 1']),\n",
    "                yaxis = dict(showgrid=False, ticks='outside',mirror=True,showline=True,tickmode = 'array',tickvals = [985,985+565,985+565+400],\n",
    "                            ticktext = ['Type1','Type2','Type3']),\n",
    "                font=dict(size=18),\n",
    "                 title_x=0.5,\n",
    "                 showlegend=False)\n",
    "                  \n",
    "fig.write_image('./data/AggloCluster3signal_norm.pdf')"
   ]
  },
  {
   "cell_type": "code",
   "execution_count": 35,
   "metadata": {},
   "outputs": [],
   "source": [
    "data_chip = np.loadtxt('TAD_ChIP_strength_fpkm_size_E1_interaction.tsv',delimiter='\\t',skiprows=1,usecols=(3,4,5,6,7,8,9,10))\n",
    "data_chip_no_out = data_chip[np.sum(not_out,axis=1)==3,:]\n",
    "data_chip_type1 = data_chip_no_out[y_pred.labels_==0,:]\n",
    "data_chip_type2 = data_chip_no_out[y_pred.labels_==1,:]"
   ]
  },
  {
   "cell_type": "code",
   "execution_count": 44,
   "metadata": {},
   "outputs": [
    {
     "data": {
      "text/plain": [
       "Counter({1: 505, 2: 367, 3: 196, 0: 46})"
      ]
     },
     "execution_count": 44,
     "metadata": {},
     "output_type": "execute_result"
    }
   ],
   "source": [
    "clustering = AgglomerativeClustering(linkage='ward', n_clusters=4)\n",
    "y_pred = clustering.fit(data_chip_type1)\n",
    "from collections import Counter\n",
    "Counter(labels)"
   ]
  },
  {
   "cell_type": "code",
   "execution_count": 40,
   "metadata": {},
   "outputs": [],
   "source": [
    "t1t1 = data_chip_type1[y_pred.labels_==0,:]\n",
    "t1t2= data_chip_type1[y_pred.labels_==1,:]\n",
    "t1t3 = data_chip_type1[y_pred.labels_==2,:]\n",
    "t1t4 = data_chip_type1[y_pred.labels_==3,:]\n",
    "t1sort = np.concatenate((t1t1,t1t2,t1t3,t1t4),axis=0)\n",
    "cluster1_header = pd.read_csv('Cluster1.tsv',sep='\\t',nrows=1,header=None,usecols=(3,4,5,6,7,8,9,10))\n",
    "fig = go.Figure(data=go.Heatmap(\n",
    "                    z=t1sort))\n",
    "fig.update_layout(template='simple_white',title_text='Agglomerative Cluster',xaxis = dict(showgrid=False,ticks='inside',mirror=True,\n",
    "                                                                                   showline=True,tickmode = 'array',\n",
    "                                                                                         tickvals = np.arange(len(cluster1_header.to_numpy().ravel())),\n",
    "                                                                                          ticktext=cluster1_header.to_numpy().ravel()),\n",
    "                yaxis = dict(showgrid=False, ticks='outside',mirror=True,showline=True,tickmode = 'array',tickvals = [171,171+328,171+328+288,171+328+288+327],\n",
    "                            ticktext = ['Type1','Type2','Type3','Type4']),\n",
    "                font=dict(size=18),\n",
    "                 title_x=0.5,\n",
    "                 showlegend=False)\n",
    "                  \n",
    "fig.write_image('AggloCluster8signal.pdf')"
   ]
  },
  {
   "cell_type": "code",
   "execution_count": 42,
   "metadata": {},
   "outputs": [
    {
     "data": {
      "text/plain": [
       "0.3303806554817509"
      ]
     },
     "execution_count": 42,
     "metadata": {},
     "output_type": "execute_result"
    }
   ],
   "source": [
    "data_sq = distance.cdist(data_chip_type1,data_chip_type1,'sqeuclidean')\n",
    "y_pred_4 = KMeans(n_clusters=4, random_state=170,max_iter=3000,precompute_distances=False,algorithm='full').fit(data_sq)\n",
    "labels = y_pred_4.labels_\n",
    "metrics.silhouette_score(data_chip_type1, labels, metric='sqeuclidean')"
   ]
  },
  {
   "cell_type": "code",
   "execution_count": 47,
   "metadata": {},
   "outputs": [],
   "source": [
    "t1t1 = data_chip_type1[labels==0,:]\n",
    "t1t2= data_chip_type1[labels==1,:]\n",
    "t1t3 = data_chip_type1[labels==2,:]\n",
    "t1t4 = data_chip_type1[labels==3,:]\n",
    "t1sort = np.concatenate((t1t1,t1t2,t1t3,t1t4),axis=0)\n",
    "cluster1_header = pd.read_csv('Cluster1.tsv',sep='\\t',nrows=1,header=None,usecols=(3,4,5,6,7,8,9,10))\n",
    "fig = go.Figure(data=go.Heatmap(\n",
    "                    z=t1sort))\n",
    "fig.update_layout(template='simple_white',title_text='Kmeans Cluster',xaxis = dict(showgrid=False,ticks='inside',mirror=True,\n",
    "                                                                                   showline=True,tickmode = 'array',\n",
    "                                                                                         tickvals = np.arange(len(cluster1_header.to_numpy().ravel())),\n",
    "                                                                                          ticktext=cluster1_header.to_numpy().ravel()),\n",
    "                yaxis = dict(showgrid=False, ticks='outside',mirror=True,showline=True,tickmode = 'array',tickvals = [46,46+505,46+505+367,46+505+367+196],\n",
    "                            ticktext = ['Type1','Type2','Type3','Type4']),\n",
    "                font=dict(size=18),\n",
    "                 title_x=0.5,\n",
    "                 showlegend=False)\n",
    "                  \n",
    "fig.write_image('KmeansCluster8signal.pdf')"
   ]
  },
  {
   "cell_type": "code",
   "execution_count": 52,
   "metadata": {},
   "outputs": [
    {
     "data": {
      "text/plain": [
       "Counter({2: 427, 1: 142, 0: 165})"
      ]
     },
     "execution_count": 52,
     "metadata": {},
     "output_type": "execute_result"
    }
   ],
   "source": [
    "clustering = AgglomerativeClustering(linkage='ward', n_clusters=3)\n",
    "y_pred = clustering.fit(data_chip_type2)\n",
    "Counter(y_pred.labels_)"
   ]
  },
  {
   "cell_type": "code",
   "execution_count": 53,
   "metadata": {},
   "outputs": [],
   "source": [
    "t2t1 = data_chip_type2[y_pred.labels_==0,:]\n",
    "t2t2= data_chip_type2[y_pred.labels_==1,:]\n",
    "t2t3 = data_chip_type2[y_pred.labels_==2,:]\n",
    "#t2t4 = data_chip_type2[y_pred.labels_==3,:]\n",
    "t1sort = np.concatenate((t2t1,t2t2,t2t3),axis=0)\n",
    "cluster1_header = pd.read_csv('Cluster1.tsv',sep='\\t',nrows=1,header=None,usecols=(3,4,5,6,7,8,9,10))\n",
    "fig = go.Figure(data=go.Heatmap(\n",
    "                    z=t1sort))\n",
    "fig.update_layout(template='simple_white',title_text='Agglomerative Cluster',xaxis = dict(showgrid=False,ticks='inside',mirror=True,\n",
    "                                                                                   showline=True,tickmode = 'array',\n",
    "                                                                                         tickvals = np.arange(len(cluster1_header.to_numpy().ravel())),\n",
    "                                                                                          ticktext=cluster1_header.to_numpy().ravel()),\n",
    "                yaxis = dict(showgrid=False, ticks='outside',mirror=True,showline=True,tickmode = 'array',tickvals = [165,165+142,165+142+427],\n",
    "                            ticktext = ['Type1','Type2','Type3']),\n",
    "                font=dict(size=18),\n",
    "                 title_x=0.5,\n",
    "                 showlegend=False)\n",
    "                  \n",
    "fig.write_image('AggloCluster8signal_2_3.pdf')"
   ]
  },
  {
   "cell_type": "code",
   "execution_count": 6,
   "metadata": {},
   "outputs": [],
   "source": [
    "data_all_not_out = data_all.loc[np.sum(not_out,axis=1)==3,:]\n",
    "data_all_not_out.loc[y_pred.labels_==0,:].to_csv('Agglo_Cluster1.tsv',sep='\\t',index=False,quoting=3)\n",
    "data_all_not_out.loc[y_pred.labels_==1,:].to_csv('Agglo_Cluster2.tsv',sep='\\t',index=False,quoting=3)\n",
    "data_all_not_out.loc[y_pred.labels_==2,:].to_csv('Agglo_Cluster3.tsv',sep='\\t',index=False,quoting=3)"
   ]
  },
  {
   "cell_type": "code",
   "execution_count": 112,
   "metadata": {},
   "outputs": [],
   "source": [
    "chromosome = ['chr'+ i for i in [str(i) for i in range(1,20)]]\n",
    "chromosome.append('chrX')\n",
    "def to_borders(C1,name):\n",
    "#C1 = data_not_out.loc[labels==0,:]\n",
    "    for chrom in chromosome:\n",
    "        data_chr = C1.loc[C1.chrom==chrom]\n",
    "        borders_start = np.sort(np.unique(np.append(data_chr.start.to_numpy()-40000,data_chr.end.to_numpy())))\n",
    "        borders_end = borders_start+40000\n",
    "        with open(f'{name}_borders.bed','a') as fo:\n",
    "            for i in range(len(borders_start)):\n",
    "                fo.write(f'{chrom}\\t{borders_start[i]}\\t{borders_end[i]}\\n')"
   ]
  },
  {
   "cell_type": "code",
   "execution_count": 8,
   "metadata": {},
   "outputs": [],
   "source": [
    "to_borders(data_all_not_out.loc[y_pred.labels_==0,:],'Agglo_C1')\n",
    "to_borders(data_all_not_out.loc[y_pred.labels_==1,:],'Agglo_C2')\n",
    "to_borders(data_all_not_out.loc[y_pred.labels_==2,:],'Agglo_C3')"
   ]
  },
  {
   "cell_type": "code",
   "execution_count": 3,
   "metadata": {},
   "outputs": [],
   "source": [
    "data_1 = pd.read_csv('/home/data4/jh/data/projects/2020/aggregate/data/explain/Agglo_Cluster1.tsv',sep='\\t')\n",
    "data_2 = pd.read_csv('/home/data4/jh/data/projects/2020/aggregate/data/explain/Agglo_Cluster2.tsv',sep='\\t')\n",
    "data_3 = pd.read_csv('/home/data4/jh/data/projects/2020/aggregate/data/explain/Agglo_Cluster3.tsv',sep='\\t')"
   ]
  },
  {
   "cell_type": "code",
   "execution_count": 5,
   "metadata": {},
   "outputs": [],
   "source": [
    "to_borders(data_1,'Agglo_C1')\n",
    "to_borders(data_2,'Agglo_C2')\n",
    "to_borders(data_3,'Agglo_C3')"
   ]
  },
  {
   "cell_type": "code",
   "execution_count": 114,
   "metadata": {},
   "outputs": [],
   "source": [
    "to_borders(data_all,'all_nanexclu')\n",
    "# to_borders(s_tad,'S')\n",
    "# to_borders(a_tad,'A')"
   ]
  },
  {
   "cell_type": "code",
   "execution_count": null,
   "metadata": {},
   "outputs": [],
   "source": []
  }
 ],
 "metadata": {
  "kernelspec": {
   "display_name": "Python 3 (ipykernel)",
   "language": "python",
   "name": "python3"
  },
  "language_info": {
   "codemirror_mode": {
    "name": "ipython",
    "version": 3
   },
   "file_extension": ".py",
   "mimetype": "text/x-python",
   "name": "python",
   "nbconvert_exporter": "python",
   "pygments_lexer": "ipython3",
   "version": "3.9.7"
  }
 },
 "nbformat": 4,
 "nbformat_minor": 4
}
