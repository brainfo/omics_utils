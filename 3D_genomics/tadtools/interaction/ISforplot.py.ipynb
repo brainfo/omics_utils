{
 "cells": [
  {
   "cell_type": "code",
   "execution_count": 1,
   "metadata": {},
   "outputs": [
    {
     "ename": "SyntaxError",
     "evalue": "invalid syntax (<ipython-input-1-2214e17b5383>, line 54)",
     "output_type": "error",
     "traceback": [
      "\u001b[0;36m  File \u001b[0;32m\"<ipython-input-1-2214e17b5383>\"\u001b[0;36m, line \u001b[0;32m54\u001b[0m\n\u001b[0;31m    if flag = True\u001b[0m\n\u001b[0m            ^\u001b[0m\n\u001b[0;31mSyntaxError\u001b[0m\u001b[0;31m:\u001b[0m invalid syntax\n"
     ]
    }
   ],
   "source": [
    "from os import listdir\n",
    "import os\n",
    "import pandas as pd\n",
    "\n",
    "def list_file(directory,extension):\n",
    "    return [f for f in listdir(directory) if f.endswith('.'+extension)]\n",
    "\n",
    "cwd = os.getcwd()\n",
    "\n",
    "suffix = 'bedGraph'\n",
    "suf_bound = 'bed'\n",
    "\n",
    "ch = list(xrange(1,20,1))\n",
    "ch += ['X']\n",
    "\n",
    "def make_is_file(bedGraphfile,isfile):\n",
    "    with open(bedGraphfile,'r') as fi:\n",
    "        with open(isfile,'a') as fo:\n",
    "            next(fi)\n",
    "            for line in fi:\n",
    "                if 'NA' in line: continue\n",
    "                line_list = line.strip('\\n').strip('\\r').split('\\t')\n",
    "                start = float(line_list[1])\n",
    "                stop = float(line_list[2])\n",
    "                center = (start+stop)/(2*1000000)\n",
    "                is_line = line_list[0] + '\\t' + str(center) + '\\t' + line_list[3]\n",
    "                fo.write(is_line)\n",
    "                fo.write('\\n')\n",
    "\n",
    "def size_bound(bedfile,sizefile):\n",
    "    with open(bedfile,'r') as fi:\n",
    "        with open(sizefile,'a') as fo:\n",
    "            next(fi)\n",
    "            lastend = 0\n",
    "            for line in fi:\n",
    "                line_list = line.strip('\\n').strip('\\r').split('\\t')\n",
    "                if line_list[1] < 1000000: continue\n",
    "                if not lastend: \n",
    "                    lastend = int(line_list[2])\n",
    "                    laststart = int(line_list[1])\n",
    "                    continue\n",
    "                thisstart = int(line_list[1])\n",
    "                thisend = int(line_list[2])\n",
    "                if thisstart <= lastend:\n",
    "                    lastend = thisend\n",
    "                    flag = False\n",
    "                    continue\n",
    "                if thisstart > lastend:\n",
    "                    flag = True\n",
    "                    size = lastend - laststart\n",
    "                    fo.write('%s\\t%d\\t%d\\t%d\\n' %(line_list[0], laststart,lastend,size))\n",
    "                    laststart = thisstart\n",
    "                    lastend = thisend\n",
    "            if flag = True\n",
    "            size = lastend - laststart\n",
    "            fo.write('%s\\t%d\\t%d\\t%d\\n' %(line_list[0], laststart,lastend,size))\n",
    "            \n",
    "def bound(bedfile,boundfile):\n",
    "    with open(bedfile,'r') as fi:\n",
    "        with open(boundfile,'a') as fo:\n",
    "            next(fi)\n",
    "            for line in fi:\n",
    "                line_list = line.strip('\\n').strip('\\r').split('\\t')\n",
    "                fo.write('%s\\t%s\\t%s\\n' %(line_list[0], line_list[1],line_list[2]))\n",
    "\n",
    "def compare(rep1,rep2):\n",
    "    intersect = rep1.merge(rep2)\n",
    "    return intersect\n",
    "\n",
    "def inte(sample):\n",
    "    dirname = cwd + '/' + sample\n",
    "    for c in ch:\n",
    "        inputfile = '%s/mESC-NCol_40000_iced_chr%s_header.txt' %(dirname,c) #name change\n",
    "        outputfile = '%s/%s-Insulation.txt' %(dirname,sample)\n",
    "        with open(inputfile,'r') as fi:\n",
    "            with open(outputfile,'a') as fo:\n",
    "                next(fi)\n",
    "                for line in fi:\n",
    "                    fo.write(line)\n",
    "\n",
    "def IS_file(sample):\n",
    "    fdir = cwd +'/' + sample\n",
    "    for f in list_file(fdir,suffix):\n",
    "        pre = f.split('.')[0]\n",
    "        isf = dir_ren + '/' + pre + '.txt'\n",
    "        bf = dir_ren + '/' + f\n",
    "        make_is_file(bf,isf)\n",
    "\n",
    "def bound_file(sample):\n",
    "    fdir = cwd +'/' + sample\n",
    "    boundfile = '%s/%s-bound.txt' %(fdir,sample)\n",
    "    #with open(boundfile,'a') as fo:\n",
    "        #fo.write('chrom'+'\\t'+'start'+'\\t'+'end'+'\\n')\n",
    "    #for f in list_file(fdir,suf_bound):\n",
    "    bf = fdir +'/' + 'WT-1_40000_iced_chr7_header.is1000001.ids240001.insulation.boundaries.bed'\n",
    "    bound(bf,boundfile)\n",
    "\n",
    "if __name__ == '__main__':\n",
    "    #for sample in ['rep1','rep2','wt1','wt2','ren']:\n",
    "    sample='wt1'\n",
    "        #IS_file(sample)\n",
    "    bound_file(sample)\n",
    "\n",
    "#inte please change name \n"
   ]
  },
  {
   "cell_type": "code",
   "execution_count": 31,
   "metadata": {},
   "outputs": [],
   "source": [
    "def list_file(directory,extension):\n",
    "    return [f for f in listdir(directory) if f.endswith('.'+extension)]"
   ]
  },
  {
   "cell_type": "code",
   "execution_count": 32,
   "metadata": {},
   "outputs": [],
   "source": [
    "cwd = os.getcwd()"
   ]
  },
  {
   "cell_type": "code",
   "execution_count": 33,
   "metadata": {},
   "outputs": [],
   "source": [
    "dir_rep1 = cwd + '/rep1'\n",
    "dir_wt2 = cwd +'/wt2'\n",
    "dir_rep2 = cwd + '/rep2'\n",
    "dir_wt1 = cwd + '/wt1'\n",
    "dir_ren = cwd + '/ren'"
   ]
  },
  {
   "cell_type": "code",
   "execution_count": 34,
   "metadata": {},
   "outputs": [],
   "source": [
    "suffix = 'bedGraph'\n",
    "suf_bound = 'bed'"
   ]
  },
  {
   "cell_type": "code",
   "execution_count": 35,
   "metadata": {
    "scrolled": true
   },
   "outputs": [],
   "source": [
    "rep1_IS = list_file(dir_rep1,suffix)\n",
    "wt2_IS = list_file(dir_wt2,suffix)\n",
    "wt1_IS = list_file(dir_wt1,suffix)\n",
    "rep2_IS = list_file(dir_rep2,suffix)\n",
    "rep1_bound = list_file(dir_rep1,suf_bound)\n",
    "rep2_bound = list_file(dir_rep2,suf_bound)\n",
    "wt1_bound = list_file(dir_wt1,suf_bound)\n",
    "wt2_bound = list_file(dir_wt2,suf_bound)\n",
    "ren_IS = list_file(dir_ren,suffix)\n",
    "ren_bound = list_file(dir_ren,suf_bound)"
   ]
  },
  {
   "cell_type": "code",
   "execution_count": 7,
   "metadata": {},
   "outputs": [],
   "source": [
    "def make_is_file(bedGraphfile,isfile):\n",
    "    with open(bedGraphfile,'r') as fi:\n",
    "        with open(isfile,'a') as fo:\n",
    "            next(fi)\n",
    "            for line in fi:\n",
    "                if 'NA' in line: continue\n",
    "                line_list = line.strip('\\n').strip('\\r').split('\\t')\n",
    "                start = float(line_list[1])\n",
    "                stop = float(line_list[2])\n",
    "                center = (start+stop)/(2*1000000)\n",
    "                is_line = line_list[0] + '\\t' + str(center) + '\\t' + line_list[3]\n",
    "                fo.write(is_line)\n",
    "                fo.write('\\n')"
   ]
  },
  {
   "cell_type": "code",
   "execution_count": 27,
   "metadata": {},
   "outputs": [],
   "source": [
    "for f in ren_IS:\n",
    "    pre = f.split('.')[0]\n",
    "    isf = dir_ren + '/' + pre + '.txt'\n",
    "    bf = dir_ren + '/' + f\n",
    "    make_is_file(bf,isf)"
   ]
  },
  {
   "cell_type": "code",
   "execution_count": 40,
   "metadata": {},
   "outputs": [],
   "source": [
    "def size_bound(bedfile,sizefile):\n",
    "    with open(bedfile,'r') as fi:\n",
    "        with open(sizefile,'a') as fo:\n",
    "            next(fi)\n",
    "            lastend = 0\n",
    "            for line in fi:\n",
    "                line_list = line.strip('\\n').strip('\\r').split('\\t')\n",
    "                if line_list[1] < 1000000: continue\n",
    "                if not lastend: \n",
    "                    lastend = int(line_list[2])\n",
    "                    laststart = int(line_list[1])\n",
    "                    continue\n",
    "                thisstart = int(line_list[1])\n",
    "                thisend = int(line_list[2])\n",
    "                if thisstart <= lastend:\n",
    "                    lastend = thisend\n",
    "                    continue\n",
    "                if thisstart > lastend:\n",
    "                    size = lastend - laststart\n",
    "                    fo.write('%s\\t%d\\t%d\\t%d\\n' %(line_list[0], laststart,lastend,size))\n",
    "                    laststart = thisstart\n",
    "                    lastend = thisend\n",
    "            size = lastend - laststart\n",
    "            fo.write('%s\\t%d\\t%d\\t%d\\n' %(line_list[0], laststart,lastend,size))\n",
    "def bound(bedfile,boundfile):\n",
    "    with open(bedfile,'r') as fi:\n",
    "        with open(boundfile,'a') as fo:\n",
    "            next(fi)\n",
    "            for line in fi:\n",
    "                line_list = line.strip('\\n').strip('\\r').split('\\t')\n",
    "                fo.write('%s\\t%s\\t%s\\n' %(line_list[0], line_list[1],line_list[2]))"
   ]
  },
  {
   "cell_type": "code",
   "execution_count": 49,
   "metadata": {},
   "outputs": [],
   "source": [
    "sizefile1 = dir_wt1 + '/'+'wt1-IS1.txt'\n",
    "with open(sizefile1,'a') as fo:\n",
    "    fo.write('chrom'+'\\t'+'center'+'\\t'+'value'+'\\n')\n",
    "for f in wt1_IS:\n",
    "    bf = dir_wt1 +'/' + f\n",
    "    make_is_file(bf,sizefile1)"
   ]
  },
  {
   "cell_type": "code",
   "execution_count": 50,
   "metadata": {},
   "outputs": [],
   "source": [
    "sizefile2 = dir_rep2 + '/'+'rep2-IS1.txt'\n",
    "with open(sizefile2,'a') as fo:\n",
    "    fo.write('chrom'+'\\t'+'center'+'\\t'+'value'+'\\n')\n",
    "for f in rep2_IS:\n",
    "    bf = dir_rep2 +'/' + f\n",
    "    make_is_file(bf,sizefile2)"
   ]
  },
  {
   "cell_type": "code",
   "execution_count": 15,
   "metadata": {},
   "outputs": [],
   "source": [
    "def compare(rep1,rep2):\n",
    "    intersect = rep1.merge(rep2)\n",
    "    return intersect"
   ]
  },
  {
   "cell_type": "code",
   "execution_count": 24,
   "metadata": {},
   "outputs": [],
   "source": [
    "wt1 = pd.read_csv(sizefile1,sep='\\t')\n",
    "wt2 = pd.read_csv(sizefile2,sep='\\t')\n",
    "repsize1 = dir_rep1 + '/'+'rep1-bound.txt'\n",
    "repsize2 = dir_rep2 + '/'+'rep2-bound.txt'\n",
    "rep1 =pd.read_csv(repsize1,sep='\\t')\n",
    "rep2 =pd.read_csv(repsize2,sep='\\t')"
   ]
  },
  {
   "cell_type": "markdown",
   "metadata": {},
   "source": [
    "rep1"
   ]
  },
  {
   "cell_type": "code",
   "execution_count": 17,
   "metadata": {},
   "outputs": [],
   "source": [
    "interrep = compare(rep1,rep2)"
   ]
  },
  {
   "cell_type": "code",
   "execution_count": 41,
   "metadata": {},
   "outputs": [],
   "source": [
    "boundfile = dir_ren + '/'+'ren-bound.txt'\n",
    "with open(boundfile,'a') as fo:\n",
    "    fo.write('chrom'+'\\t'+'start'+'\\t'+'end'+'\\n')\n",
    "for f in ren_bound:\n",
    "    bf = dir_ren +'/' + f\n",
    "    bound(bf,boundfile)"
   ]
  },
  {
   "cell_type": "code",
   "execution_count": 19,
   "metadata": {},
   "outputs": [
    {
     "data": {
      "text/plain": [
       "(450, 3)"
      ]
     },
     "execution_count": 19,
     "metadata": {},
     "output_type": "execute_result"
    }
   ],
   "source": [
    "interrep.shape"
   ]
  },
  {
   "cell_type": "code",
   "execution_count": 20,
   "metadata": {},
   "outputs": [
    {
     "data": {
      "text/plain": [
       "(2610, 3)"
      ]
     },
     "execution_count": 20,
     "metadata": {},
     "output_type": "execute_result"
    }
   ],
   "source": [
    "rep1.shape"
   ]
  },
  {
   "cell_type": "code",
   "execution_count": 21,
   "metadata": {},
   "outputs": [
    {
     "data": {
      "text/plain": [
       "(3217, 3)"
      ]
     },
     "execution_count": 21,
     "metadata": {},
     "output_type": "execute_result"
    }
   ],
   "source": [
    "rep2.shape"
   ]
  },
  {
   "cell_type": "code",
   "execution_count": 25,
   "metadata": {},
   "outputs": [],
   "source": [
    "r1w1=compare(rep1,wt1)"
   ]
  },
  {
   "cell_type": "code",
   "execution_count": 26,
   "metadata": {},
   "outputs": [],
   "source": [
    "r2w1=compare(rep2,wt1)"
   ]
  },
  {
   "cell_type": "code",
   "execution_count": 27,
   "metadata": {},
   "outputs": [
    {
     "data": {
      "text/plain": [
       "(411, 3)"
      ]
     },
     "execution_count": 27,
     "metadata": {},
     "output_type": "execute_result"
    }
   ],
   "source": [
    "r1w1.shape"
   ]
  },
  {
   "cell_type": "code",
   "execution_count": 28,
   "metadata": {},
   "outputs": [
    {
     "data": {
      "text/plain": [
       "(427, 3)"
      ]
     },
     "execution_count": 28,
     "metadata": {},
     "output_type": "execute_result"
    }
   ],
   "source": [
    "r2w1.shape"
   ]
  },
  {
   "cell_type": "code",
   "execution_count": 29,
   "metadata": {},
   "outputs": [
    {
     "data": {
      "text/plain": [
       "(2476, 3)"
      ]
     },
     "execution_count": 29,
     "metadata": {},
     "output_type": "execute_result"
    }
   ],
   "source": [
    "rep1.shape"
   ]
  },
  {
   "cell_type": "code",
   "execution_count": 18,
   "metadata": {},
   "outputs": [
    {
     "data": {
      "text/plain": [
       "True"
      ]
     },
     "execution_count": 18,
     "metadata": {},
     "output_type": "execute_result"
    }
   ],
   "source": [
    "1<=2"
   ]
  },
  {
   "cell_type": "code",
   "execution_count": 13,
   "metadata": {},
   "outputs": [],
   "source": [
    "ch = list(xrange(1,7,1))\n",
    "ch += list(xrange(8,20,1))\n",
    "ch += ['X']"
   ]
  },
  {
   "cell_type": "code",
   "execution_count": 28,
   "metadata": {},
   "outputs": [],
   "source": [
    "def inte(sample):\n",
    "    dirname = cwd + '/' + sample\n",
    "    for c in ch:\n",
    "        inputfile = '%s/mESC-NCol_40000_iced_chr%s_header.txt' %(dirname,c)\n",
    "        outputfile = '%s/%s-Insulation.txt' %(dirname,sample)\n",
    "        with open(inputfile,'r') as fi:\n",
    "            with open(outputfile,'a') as fo:\n",
    "                next(fi)\n",
    "                for line in fi:\n",
    "                    fo.write(line)\n",
    "            "
   ]
  },
  {
   "cell_type": "code",
   "execution_count": 29,
   "metadata": {},
   "outputs": [],
   "source": [
    "#inte('rep1')\n",
    "#inte('rep2')\n",
    "#inte('wt1')\n",
    "#inte('wt2')\n",
    "inte('ren')"
   ]
  },
  {
   "cell_type": "code",
   "execution_count": 63,
   "metadata": {},
   "outputs": [
    {
     "data": {
      "text/plain": [
       "xrange(1, 7)"
      ]
     },
     "execution_count": 63,
     "metadata": {},
     "output_type": "execute_result"
    }
   ],
   "source": [
    "xrange(1,7)"
   ]
  },
  {
   "cell_type": "code",
   "execution_count": 64,
   "metadata": {},
   "outputs": [
    {
     "data": {
      "text/plain": [
       "[1, 2, 3, 4, 5, 6]"
      ]
     },
     "execution_count": 64,
     "metadata": {},
     "output_type": "execute_result"
    }
   ],
   "source": [
    "list(xrange(1,7))"
   ]
  },
  {
   "cell_type": "code",
   "execution_count": null,
   "metadata": {},
   "outputs": [],
   "source": []
  }
 ],
 "metadata": {
  "kernelspec": {
   "display_name": "Python 2",
   "language": "python",
   "name": "python2"
  },
  "language_info": {
   "codemirror_mode": {
    "name": "ipython",
    "version": 2
   },
   "file_extension": ".py",
   "mimetype": "text/x-python",
   "name": "python",
   "nbconvert_exporter": "python",
   "pygments_lexer": "ipython2",
   "version": "2.7.14"
  }
 },
 "nbformat": 4,
 "nbformat_minor": 2
}
