{
 "cells": [
  {
   "cell_type": "code",
   "execution_count": 31,
   "metadata": {},
   "outputs": [],
   "source": [
    "import os\n",
    "import pandas as pd\n",
    "\n",
    "vecs = [f for f in os.listdir(os.getcwd()) if f.endswith('.250kb.eigs.cis.vecs.txt')]\n",
    "vecs_names = [f.strip('.250kb.eigs.cis.vecs.txt') for f in vecs]\n",
    "for file_ in [f for f in vecs]:\n",
    "    f_name = file_.strip('.250kb.eigs.cis.vecs.txt')\n",
    "    df = pd.read_csv(file_,index_col=None,sep='\\t')\n",
    "    df = df.fillna(0)\n",
    "    df = df.loc[(df.chrom!='chrM') & (df.chrom!='chrY')]\n",
    "    df.to_csv(f'{f_name}.250kb.eigs.cis.vecs.dense.txt',sep='\\t',index=False,quoting=3,header=False)"
   ]
  },
  {
   "cell_type": "code",
   "execution_count": 32,
   "metadata": {},
   "outputs": [],
   "source": [
    "import numpy as np\n",
    "e1s = [f for f in os.listdir(os.getcwd()) if f.endswith('TADs_E1.tsv')]\n",
    "e1s_names = [f.strip('_TADs_E1.tsv') for f in vecs]\n",
    "e1s_values = np.zeros((2117,3))\n",
    "i = 0\n",
    "for file_ in [f for f in e1s]:\n",
    "    e1s_values[:,i] = pd.read_csv(file_,index_col=None,sep='\\t',header=None).iloc[:,3].to_numpy()\n",
    "    #f_name = file_.strip('.250kb.eigs.cis.vecs.txt')\n",
    "    i += 1"
   ]
  },
  {
   "cell_type": "code",
   "execution_count": 37,
   "metadata": {},
   "outputs": [],
   "source": [
    "e1s_mean = e1s_values.mean(axis=1)"
   ]
  },
  {
   "cell_type": "code",
   "execution_count": 38,
   "metadata": {},
   "outputs": [],
   "source": [
    "np.savetxt('E1.values',e1s_mean,delimiter='\\n',fmt='%5.5f')"
   ]
  },
  {
   "cell_type": "code",
   "execution_count": null,
   "metadata": {},
   "outputs": [],
   "source": []
  }
 ],
 "metadata": {
  "kernelspec": {
   "display_name": "Python 3",
   "language": "python",
   "name": "python3"
  },
  "language_info": {
   "codemirror_mode": {
    "name": "ipython",
    "version": 3
   },
   "file_extension": ".py",
   "mimetype": "text/x-python",
   "name": "python",
   "nbconvert_exporter": "python",
   "pygments_lexer": "ipython3",
   "version": "3.7.7"
  }
 },
 "nbformat": 4,
 "nbformat_minor": 4
}
