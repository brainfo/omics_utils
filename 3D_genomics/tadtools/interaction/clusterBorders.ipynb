{
 "cells": [
  {
   "cell_type": "code",
   "execution_count": 42,
   "id": "consistent-chapter",
   "metadata": {},
   "outputs": [
    {
     "name": "stdout",
     "output_type": "stream",
     "text": [
      "/home/data4/jh/data/projects/2020/aggregate/mESC/E14TG2a/cluster/data\n"
     ]
    }
   ],
   "source": [
    "import os\n",
    "print(os.getcwd())"
   ]
  },
  {
   "cell_type": "code",
   "execution_count": 37,
   "id": "velvet-stockholm",
   "metadata": {},
   "outputs": [],
   "source": [
    "import pandas as pd\n",
    "import numpy as np\n",
    "from scipy.spatial import distance\n",
    "import math\n",
    "from sklearn.cluster import AgglomerativeClustering\n",
    "import seaborn  as sns\n",
    "from scipy.cluster.hierarchy import fcluster\n",
    "import plotly.graph_objects as go\n",
    "from scipy.stats import mannwhitneyu,kruskal,ttest_ind,f_oneway\n",
    "#import pickle\n",
    "#import kaleido\n",
    "import plotly.io as pio\n",
    "pio.kaleido.scope.default_format = \"pdf\"\n",
    "import plotly.express as px\n",
    "from matplotlib.colors import ListedColormap\n",
    "import matplotlib.colors as mc\n",
    "import matplotlib.pyplot as plt\n",
    "import fastcluster\n",
    "from collections import defaultdict\n",
    "from scipy.stats import mannwhitneyu,kruskal,ttest_ind,f_oneway\n",
    "import plotly.io as pio\n",
    "pio.kaleido.scope.default_format = \"pdf\"\n",
    "import scikit_posthocs as sp\n",
    "import itertools\n",
    "import sys\n",
    "sys.path.insert(0, '/home/data4/jh/data/tools/customized/tadtools/tadtool_pkg')\n",
    "import utils as ut\n",
    "from matplotlib.colors import ListedColormap, LinearSegmentedColormap\n",
    "from matplotlib import cm"
   ]
  },
  {
   "cell_type": "code",
   "execution_count": 2,
   "id": "nuclear-oliver",
   "metadata": {},
   "outputs": [],
   "source": [
    "state = pd.read_csv('borders_onlystates.txt',header=None)\n",
    "#stateM = state.to_numpy().reshape(int(len(state.index)/200),200)\n",
    "def toIM(s):\n",
    "    return int(s.strip('E'))\n",
    "vIM = np.vectorize(toIM)\n",
    "intstateM=vIM(state)"
   ]
  },
  {
   "cell_type": "code",
   "execution_count": 3,
   "id": "above-charter",
   "metadata": {},
   "outputs": [],
   "source": [
    "# def O_O(A,B):\n",
    "#     upper = sum(A==B) \n",
    "#     lower = math.sqrt(len(A)*len(B))\n",
    "#     return 1-upper/lower\n",
    "# distM = distance.cdist(state,state,O_O)\n",
    "# np.save('dist.npy',distM)\n",
    "distM = np.load('dist.npy')\n",
    "clustering = AgglomerativeClustering(linkage='complete', n_clusters=2,affinity='precomputed')\n",
    "y_pred = clustering.fit(distM)"
   ]
  },
  {
   "cell_type": "code",
   "execution_count": 6,
   "id": "fatty-armor",
   "metadata": {},
   "outputs": [
    {
     "data": {
      "text/html": [
       "<div>\n",
       "<style scoped>\n",
       "    .dataframe tbody tr th:only-of-type {\n",
       "        vertical-align: middle;\n",
       "    }\n",
       "\n",
       "    .dataframe tbody tr th {\n",
       "        vertical-align: top;\n",
       "    }\n",
       "\n",
       "    .dataframe thead th {\n",
       "        text-align: right;\n",
       "    }\n",
       "</style>\n",
       "<table border=\"1\" class=\"dataframe\">\n",
       "  <thead>\n",
       "    <tr style=\"text-align: right;\">\n",
       "      <th>year</th>\n",
       "      <th>1949</th>\n",
       "      <th>1950</th>\n",
       "      <th>1951</th>\n",
       "      <th>1952</th>\n",
       "      <th>1953</th>\n",
       "      <th>1954</th>\n",
       "      <th>1955</th>\n",
       "      <th>1956</th>\n",
       "      <th>1957</th>\n",
       "      <th>1958</th>\n",
       "      <th>1959</th>\n",
       "      <th>1960</th>\n",
       "    </tr>\n",
       "    <tr>\n",
       "      <th>month</th>\n",
       "      <th></th>\n",
       "      <th></th>\n",
       "      <th></th>\n",
       "      <th></th>\n",
       "      <th></th>\n",
       "      <th></th>\n",
       "      <th></th>\n",
       "      <th></th>\n",
       "      <th></th>\n",
       "      <th></th>\n",
       "      <th></th>\n",
       "      <th></th>\n",
       "    </tr>\n",
       "  </thead>\n",
       "  <tbody>\n",
       "    <tr>\n",
       "      <th>Jan</th>\n",
       "      <td>112</td>\n",
       "      <td>115</td>\n",
       "      <td>145</td>\n",
       "      <td>171</td>\n",
       "      <td>196</td>\n",
       "      <td>204</td>\n",
       "      <td>242</td>\n",
       "      <td>284</td>\n",
       "      <td>315</td>\n",
       "      <td>340</td>\n",
       "      <td>360</td>\n",
       "      <td>417</td>\n",
       "    </tr>\n",
       "    <tr>\n",
       "      <th>Feb</th>\n",
       "      <td>118</td>\n",
       "      <td>126</td>\n",
       "      <td>150</td>\n",
       "      <td>180</td>\n",
       "      <td>196</td>\n",
       "      <td>188</td>\n",
       "      <td>233</td>\n",
       "      <td>277</td>\n",
       "      <td>301</td>\n",
       "      <td>318</td>\n",
       "      <td>342</td>\n",
       "      <td>391</td>\n",
       "    </tr>\n",
       "    <tr>\n",
       "      <th>Mar</th>\n",
       "      <td>132</td>\n",
       "      <td>141</td>\n",
       "      <td>178</td>\n",
       "      <td>193</td>\n",
       "      <td>236</td>\n",
       "      <td>235</td>\n",
       "      <td>267</td>\n",
       "      <td>317</td>\n",
       "      <td>356</td>\n",
       "      <td>362</td>\n",
       "      <td>406</td>\n",
       "      <td>419</td>\n",
       "    </tr>\n",
       "    <tr>\n",
       "      <th>Apr</th>\n",
       "      <td>129</td>\n",
       "      <td>135</td>\n",
       "      <td>163</td>\n",
       "      <td>181</td>\n",
       "      <td>235</td>\n",
       "      <td>227</td>\n",
       "      <td>269</td>\n",
       "      <td>313</td>\n",
       "      <td>348</td>\n",
       "      <td>348</td>\n",
       "      <td>396</td>\n",
       "      <td>461</td>\n",
       "    </tr>\n",
       "    <tr>\n",
       "      <th>May</th>\n",
       "      <td>121</td>\n",
       "      <td>125</td>\n",
       "      <td>172</td>\n",
       "      <td>183</td>\n",
       "      <td>229</td>\n",
       "      <td>234</td>\n",
       "      <td>270</td>\n",
       "      <td>318</td>\n",
       "      <td>355</td>\n",
       "      <td>363</td>\n",
       "      <td>420</td>\n",
       "      <td>472</td>\n",
       "    </tr>\n",
       "    <tr>\n",
       "      <th>Jun</th>\n",
       "      <td>135</td>\n",
       "      <td>149</td>\n",
       "      <td>178</td>\n",
       "      <td>218</td>\n",
       "      <td>243</td>\n",
       "      <td>264</td>\n",
       "      <td>315</td>\n",
       "      <td>374</td>\n",
       "      <td>422</td>\n",
       "      <td>435</td>\n",
       "      <td>472</td>\n",
       "      <td>535</td>\n",
       "    </tr>\n",
       "    <tr>\n",
       "      <th>Jul</th>\n",
       "      <td>148</td>\n",
       "      <td>170</td>\n",
       "      <td>199</td>\n",
       "      <td>230</td>\n",
       "      <td>264</td>\n",
       "      <td>302</td>\n",
       "      <td>364</td>\n",
       "      <td>413</td>\n",
       "      <td>465</td>\n",
       "      <td>491</td>\n",
       "      <td>548</td>\n",
       "      <td>622</td>\n",
       "    </tr>\n",
       "    <tr>\n",
       "      <th>Aug</th>\n",
       "      <td>148</td>\n",
       "      <td>170</td>\n",
       "      <td>199</td>\n",
       "      <td>242</td>\n",
       "      <td>272</td>\n",
       "      <td>293</td>\n",
       "      <td>347</td>\n",
       "      <td>405</td>\n",
       "      <td>467</td>\n",
       "      <td>505</td>\n",
       "      <td>559</td>\n",
       "      <td>606</td>\n",
       "    </tr>\n",
       "    <tr>\n",
       "      <th>Sep</th>\n",
       "      <td>136</td>\n",
       "      <td>158</td>\n",
       "      <td>184</td>\n",
       "      <td>209</td>\n",
       "      <td>237</td>\n",
       "      <td>259</td>\n",
       "      <td>312</td>\n",
       "      <td>355</td>\n",
       "      <td>404</td>\n",
       "      <td>404</td>\n",
       "      <td>463</td>\n",
       "      <td>508</td>\n",
       "    </tr>\n",
       "    <tr>\n",
       "      <th>Oct</th>\n",
       "      <td>119</td>\n",
       "      <td>133</td>\n",
       "      <td>162</td>\n",
       "      <td>191</td>\n",
       "      <td>211</td>\n",
       "      <td>229</td>\n",
       "      <td>274</td>\n",
       "      <td>306</td>\n",
       "      <td>347</td>\n",
       "      <td>359</td>\n",
       "      <td>407</td>\n",
       "      <td>461</td>\n",
       "    </tr>\n",
       "    <tr>\n",
       "      <th>Nov</th>\n",
       "      <td>104</td>\n",
       "      <td>114</td>\n",
       "      <td>146</td>\n",
       "      <td>172</td>\n",
       "      <td>180</td>\n",
       "      <td>203</td>\n",
       "      <td>237</td>\n",
       "      <td>271</td>\n",
       "      <td>305</td>\n",
       "      <td>310</td>\n",
       "      <td>362</td>\n",
       "      <td>390</td>\n",
       "    </tr>\n",
       "    <tr>\n",
       "      <th>Dec</th>\n",
       "      <td>118</td>\n",
       "      <td>140</td>\n",
       "      <td>166</td>\n",
       "      <td>194</td>\n",
       "      <td>201</td>\n",
       "      <td>229</td>\n",
       "      <td>278</td>\n",
       "      <td>306</td>\n",
       "      <td>336</td>\n",
       "      <td>337</td>\n",
       "      <td>405</td>\n",
       "      <td>432</td>\n",
       "    </tr>\n",
       "  </tbody>\n",
       "</table>\n",
       "</div>"
      ],
      "text/plain": [
       "year   1949  1950  1951  1952  1953  1954  1955  1956  1957  1958  1959  1960\n",
       "month                                                                        \n",
       "Jan     112   115   145   171   196   204   242   284   315   340   360   417\n",
       "Feb     118   126   150   180   196   188   233   277   301   318   342   391\n",
       "Mar     132   141   178   193   236   235   267   317   356   362   406   419\n",
       "Apr     129   135   163   181   235   227   269   313   348   348   396   461\n",
       "May     121   125   172   183   229   234   270   318   355   363   420   472\n",
       "Jun     135   149   178   218   243   264   315   374   422   435   472   535\n",
       "Jul     148   170   199   230   264   302   364   413   465   491   548   622\n",
       "Aug     148   170   199   242   272   293   347   405   467   505   559   606\n",
       "Sep     136   158   184   209   237   259   312   355   404   404   463   508\n",
       "Oct     119   133   162   191   211   229   274   306   347   359   407   461\n",
       "Nov     104   114   146   172   180   203   237   271   305   310   362   390\n",
       "Dec     118   140   166   194   201   229   278   306   336   337   405   432"
      ]
     },
     "execution_count": 6,
     "metadata": {},
     "output_type": "execute_result"
    }
   ],
   "source": [
    "## test seaborn heatmap\n",
    "flights = sns.load_dataset(\"flights\")\n",
    "flights = flights.pivot(\"month\", \"year\", \"passengers\")\n",
    "flights"
   ]
  },
  {
   "cell_type": "code",
   "execution_count": 10,
   "id": "institutional-evening",
   "metadata": {},
   "outputs": [
    {
     "name": "stdout",
     "output_type": "stream",
     "text": [
      "Counter({1: 1092, 0: 1045})\n"
     ]
    },
    {
     "data": {
      "text/plain": [
       "[<matplotlib.axis.YTick at 0x7f8a36406e50>]"
      ]
     },
     "execution_count": 10,
     "metadata": {},
     "output_type": "execute_result"
    },
    {
     "data": {
      "image/png": "[encoded data removed]",
      "text/plain": [
       "<Figure size 432x288 with 2 Axes>"
      ]
     },
     "metadata": {
      "needs_background": "light"
     },
     "output_type": "display_data"
    }
   ],
   "source": [
    "from collections import Counter\n",
    "print(Counter(y_pred.labels_))\n",
    "simplet1 = intstateM[y_pred.labels_==0,:]\n",
    "simplet2 = intstateM[y_pred.labels_==1,:]\n",
    "# # # simplet3 = distM[y_pred.labels_==2,:]\n",
    "simplesort = np.concatenate((simplet1,simplet2),axis=0)\n",
    "stateMplot = sns.heatmap(simplesort,cmap=ListedColormap([(0,0,1),(0,0.6,0.8),(0.2,1,0.6),(0.4,0.2,0.6), (0.4,0.6,0.2),(0,0.4,0),(0.8,0,0.2),(0.96479861, 0.68910113, 0.53756026), (0.8,0.6,1),(0.8,0.8,0.4),(1,1,0),(1,1,0.8)]),xticklabels=100)\n",
    "stateMplot.set_yticks([1044])\n",
    "#stateMplot.get_figure().savefig('borders_clsuter.pdf',bbox_inches='tight')\n",
    "#sns.heatmap(b,cmap='vlag')\n",
    "# fig = go.Figure(data=go.Heatmap(\n",
    "#                     z=simplesort,colorscale='Reds'))\n",
    "# fig.update_layout(template='simple_white',title_text='Agglomerative Cluster',xaxis = dict(showgrid=False,ticks='inside',mirror=True,\n",
    "#                                                                                    showline=True),\n",
    "#                 yaxis = dict(showgrid=False, ticks='outside',mirror=True,showline=True,tickmode = 'array',tickvals = [944,944+534],\n",
    "#                             ticktext = ['P1','P2']),\n",
    "#                 font=dict(size=18),\n",
    "#                  title_x=0.5,\n",
    "#                  showlegend=False)\n",
    "                  \n",
    "# fig.write_image('AggloCluster1_2.pdf')"
   ]
  },
  {
   "cell_type": "code",
   "execution_count": 7,
   "id": "right-exception",
   "metadata": {},
   "outputs": [],
   "source": [
    "border_state = pd.read_csv('borders_states.bed',sep='\\t',header=None)\n",
    "tad = pd.DataFrame()\n",
    "tad['chr'] = border_state.iloc[:,0]\n",
    "tad['start'] = border_state.iloc[:,1]\n",
    "tad['end'] = border_state.iloc[:,2]\n",
    "tad['type'] = y_pred.labels_\n",
    "tad.to_csv('Agglo_borders_type.bed',header=False,sep='\\t',quoting=3,index=False)"
   ]
  },
  {
   "cell_type": "code",
   "execution_count": 3,
   "id": "taken-spectrum",
   "metadata": {},
   "outputs": [],
   "source": [
    "tad = pd.read_csv('Agglo_borders_type.bed',header=None,sep='\\t')\n",
    "p3_tad = pd.read_csv('Agglo_Cluster3.tsv', sep='\\t').loc[:,['chrom','start','end']]\n",
    "# c1_tad = pd.read_csv('Agglo_Cluster1.bed',sep='\\t')\n",
    "# c2_tad = pd.read_csv('Agglo_Cluster2.bed',sep='\\t')"
   ]
  },
  {
   "cell_type": "code",
   "execution_count": 38,
   "id": "strong-hearts",
   "metadata": {},
   "outputs": [],
   "source": [
    "def extract_tad_type(borders_type,tad,agglo_type,chrom):\n",
    "    borders_chr = borders_type.loc[borders_type.iloc[:,0]==chrom,:]\n",
    "    tad_chr = tad.loc[tad['chrom']==chrom,:]\n",
    "    upper_dict = defaultdict(list)\n",
    "    for index, row in borders_chr.iterrows():\n",
    "        upper_dict[int(row[3])].append(int(row[2]))\n",
    "    down_dict = defaultdict(list)\n",
    "    for index, row in borders_chr.iterrows():\n",
    "        down_dict[int(row[3])].append(int(row[1]))\n",
    "    tad_chr['type'] = np.where((np.isin(tad_chr['start'],upper_dict[0]))&(np.isin(tad_chr['end'],down_dict[0])),f'{agglo_type}1{agglo_type}1',np.where((np.isin(tad_chr['start'],upper_dict[0]))&(np.isin(tad_chr['end'],down_dict[1])),f'{agglo_type}1{agglo_type}2',f'{agglo_type}2{agglo_type}2'))\n",
    "    return tad_chr"
   ]
  },
  {
   "cell_type": "code",
   "execution_count": 39,
   "id": "computational-freight",
   "metadata": {},
   "outputs": [
    {
     "name": "stderr",
     "output_type": "stream",
     "text": [
      "/home/data4/jh/anaconda3/lib/python3.7/site-packages/ipykernel_launcher.py:10: SettingWithCopyWarning: \n",
      "A value is trying to be set on a copy of a slice from a DataFrame.\n",
      "Try using .loc[row_indexer,col_indexer] = value instead\n",
      "\n",
      "See the caveats in the documentation: https://pandas.pydata.org/pandas-docs/stable/user_guide/indexing.html#returning-a-view-versus-a-copy\n",
      "  # Remove the CWD from sys.path while we load stuff.\n"
     ]
    }
   ],
   "source": [
    "result_list = []\n",
    "for chrom in p3_tad['chrom'].unique():\n",
    "    result_list.append(extract_tad_type(tad,p3_tad,'SA',chrom))\n",
    "tad_p3_type = pd.concat(result_list, axis=0, join='outer', ignore_index=True, keys=None,\n",
    "          levels=None, names=None, verify_integrity=False, copy=True)"
   ]
  },
  {
   "cell_type": "code",
   "execution_count": 11,
   "id": "reflected-color",
   "metadata": {},
   "outputs": [],
   "source": [
    "data = pd.read_csv('TAD_ChIP_strength_fpkm_size_E1_interaction_twoborerexpression_innerfpkm.tsv',sep='\\t')\n",
    "colnames = ['chrom','start','end']\n",
    "def merge_tad(x,y):\n",
    "    return pd.merge(x,y,how='inner',on=colnames)\n",
    "data_type = list(map(merge_tad,itertools.repeat(data,7),[tad_p3_type.loc[tad_p3_type['type']=='SA1SA1',:],tad_p3_type.loc[tad_p3_type['type']=='SA1SA2',:],tad_p3_type.loc[tad_p3_type['type']=='SA2SA2',:]]))\n",
    "data_type[0] = data_type[0].rename(columns={'strength_x':'strength'})\n",
    "data_type[0] = data_type[0].rename(columns={'E1_x':'E1'})\n",
    "data_type[0] = data_type[0].rename(columns={'interaction_x':'interaction'})\n",
    "data_type[0] = data_type[0].rename(columns={'size_x':'size'})\n",
    "data_type[0] = data_type[0].rename(columns={'border_fpkm.1_x':'border_fpkm'})\n",
    "data_type[0] = data_type[0].rename(columns={'inner_fpkm.1_x':'inner_fpkm'})"
   ]
  },
  {
   "cell_type": "code",
   "execution_count": 12,
   "id": "peaceful-pierre",
   "metadata": {},
   "outputs": [
    {
     "data": {
      "text/plain": [
       "[[Text(0, 0, 'SA11'), Text(1, 0, 'SA12'), Text(2, 0, 'SA22')]]"
      ]
     },
     "execution_count": 12,
     "metadata": {},
     "output_type": "execute_result"
    },
    {
     "data": {
      "image/png": "[encoded data removed]",
      "text/plain": [
       "<Figure size 432x288 with 1 Axes>"
      ]
     },
     "metadata": {
      "needs_background": "light"
     },
     "output_type": "display_data"
    }
   ],
   "source": [
    "c_fpkm = pd.concat(data_type,ignore_index=True)\n",
    "c_fpkm['inner_fpkm']=pd.to_numeric(c_fpkm['inner_fpkm'],errors='coerce')\n",
    "\n",
    "sns.boxplot(x='type',y='inner_fpkm',data=c_fpkm,showfliers=False).set(xticklabels=['SA11','SA12','SA22'])\n",
    "#plt.savefig('withintadexpression.pdf',bbox_inches='tight',family='sans')"
   ]
  },
  {
   "cell_type": "code",
   "execution_count": 9,
   "id": "powerful-correction",
   "metadata": {},
   "outputs": [
    {
     "name": "stderr",
     "output_type": "stream",
     "text": [
      "/home/data4/jh/anaconda3/lib/python3.7/site-packages/ipykernel_launcher.py:10: SettingWithCopyWarning: \n",
      "A value is trying to be set on a copy of a slice from a DataFrame.\n",
      "Try using .loc[row_indexer,col_indexer] = value instead\n",
      "\n",
      "See the caveats in the documentation: https://pandas.pydata.org/pandas-docs/stable/user_guide/indexing.html#returning-a-view-versus-a-copy\n",
      "  # Remove the CWD from sys.path while we load stuff.\n"
     ]
    }
   ],
   "source": [
    "result_list = []\n",
    "for chrom in c1_tad['chrom'].unique():\n",
    "    result_list.append(extract_tad_type(tad,c1_tad,'A',chrom))"
   ]
  },
  {
   "cell_type": "code",
   "execution_count": 10,
   "id": "binding-premises",
   "metadata": {},
   "outputs": [],
   "source": [
    "tad_c1_type = pd.concat(result_list, axis=0, join='outer', ignore_index=True, keys=None,\n",
    "          levels=None, names=None, verify_integrity=False, copy=True)"
   ]
  },
  {
   "cell_type": "code",
   "execution_count": 12,
   "id": "matched-significance",
   "metadata": {},
   "outputs": [
    {
     "name": "stderr",
     "output_type": "stream",
     "text": [
      "/home/data4/jh/anaconda3/lib/python3.7/site-packages/ipykernel_launcher.py:10: SettingWithCopyWarning: \n",
      "A value is trying to be set on a copy of a slice from a DataFrame.\n",
      "Try using .loc[row_indexer,col_indexer] = value instead\n",
      "\n",
      "See the caveats in the documentation: https://pandas.pydata.org/pandas-docs/stable/user_guide/indexing.html#returning-a-view-versus-a-copy\n",
      "  # Remove the CWD from sys.path while we load stuff.\n"
     ]
    }
   ],
   "source": [
    "result_list = []\n",
    "for chrom in c2_tad['chrom'].unique():\n",
    "    result_list.append(extract_tad_type(tad,c2_tad,'S',chrom))\n",
    "tad_c2_type = pd.concat(result_list, axis=0, join='outer', ignore_index=True, keys=None,\n",
    "          levels=None, names=None, verify_integrity=False, copy=True)"
   ]
  },
  {
   "cell_type": "code",
   "execution_count": 40,
   "id": "multiple-disorder",
   "metadata": {},
   "outputs": [],
   "source": [
    "# A1A1 = tad_c1_type.loc[tad_c1_type['type']=='A1A1',:]\n",
    "# A1A2 = tad_c1_type.loc[tad_c1_type['type']=='A1A2',:]\n",
    "# A2A2 = tad_c1_type.loc[tad_c1_type['type']=='A2A2',:]\n",
    "# I1I1 = tad_c2_type.loc[tad_c2_type['type']=='S1S1',:]\n",
    "# I1I2 = tad_c2_type.loc[tad_c2_type['type']=='S1S2',:]\n",
    "# I2I2 = tad_c2_type.loc[tad_c2_type['type']=='S2S2',:]\n",
    "SA1SA1 = tad_p3_type.loc[tad_p3_type['type']=='SA1SA1',:]\n",
    "SA1SA2 = tad_p3_type.loc[tad_p3_type['type']=='SA1SA2',:]\n",
    "SA2SA2 = tad_p3_type.loc[tad_p3_type['type']=='SA2SA2',:]\n",
    "# data = pd.read_csv('TAD_ChIP_strength_fpkm_size_E1_interaction_twoborerexpression_innerfpkm.tsv',sep='\\t')\n",
    "# p3_tad = pd.read_csv('Agglo_Cluster3.tsv', sep='\\t').loc[:,['chrom','start','end']]\n",
    "# p3_tad['type'] = ['SA']*len(p3_tad.index)"
   ]
  },
  {
   "cell_type": "code",
   "execution_count": 41,
   "id": "thermal-beast",
   "metadata": {},
   "outputs": [],
   "source": [
    "# A1A1.drop('type',axis=1).to_csv('A1A1.bed',header=False,sep='\\t',quoting=3,index=False)\n",
    "# A1A2.drop('type',axis=1).to_csv('A1A2.bed',header=False,sep='\\t',quoting=3,index=False)\n",
    "# A2A2.drop('type',axis=1).to_csv('A2A2.bed',header=False,sep='\\t',quoting=3,index=False)\n",
    "# I1I1.drop('type',axis=1).to_csv('I1I1.bed',header=False,sep='\\t',quoting=3,index=False)\n",
    "# I1I2.drop('type',axis=1).to_csv('I1I2.bed',header=False,sep='\\t',quoting=3,index=False)\n",
    "# I2I2.drop('type',axis=1).to_csv('I2I2.bed',header=False,sep='\\t',quoting=3,index=False)\n",
    "SA1SA1.drop('type',axis=1).to_csv('SA1SA1.bed',header=False,sep='\\t',quoting=3,index=False)\n",
    "SA1SA2.drop('type',axis=1).to_csv('SA1SA2.bed',header=False,sep='\\t',quoting=3,index=False)\n",
    "SA2SA2.drop('type',axis=1).to_csv('SA2SA2.bed',header=False,sep='\\t',quoting=3,index=False)"
   ]
  },
  {
   "cell_type": "code",
   "execution_count": 18,
   "id": "controlling-cement",
   "metadata": {},
   "outputs": [],
   "source": [
    "# A1A1 = pd.read_csv('A1A1.bed',header=None,sep='\\t')\n",
    "# A1A2 = pd.read_csv('A1A2.bed',header=None,sep='\\t')\n",
    "# A2A2 = pd.read_csv('A2A2.bed',header=None,sep='\\t')\n",
    "# I1I1 = pd.read_csv('I1I1.bed',header=None,sep='\\t')\n",
    "# I1I2 = pd.read_csv('I1I2.bed',header=None,sep='\\t')\n",
    "# I2I2 = pd.read_csv('I2I2.bed',header=None,sep='\\t')\n",
    "# colnames = ['chrom','start','end']\n",
    "# A1A1.columns = colnames\n",
    "# A1A2.columns = colnames\n",
    "# A2A2.columns = colnames\n",
    "# I1I1.columns = colnames\n",
    "# I1I2.columns = colnames\n",
    "# I2I2.columns = colnames\n",
    "A1A1['type'] = itertools.repeat('A11',len(A1A1.index))\n",
    "A1A2['type'] = itertools.repeat('A12',len(A1A1.index))\n",
    "A2A2['type'] = itertools.repeat('A22',len(A1A1.index))\n",
    "I1I1['type'] = itertools.repeat('S11',len(I1I1.index))\n",
    "I1I2['type'] = itertools.repeat('S12',len(I1I1.index))\n",
    "I2I2['type'] = itertools.repeat('S22',len(I1I1.index))"
   ]
  },
  {
   "cell_type": "code",
   "execution_count": 19,
   "id": "short-october",
   "metadata": {},
   "outputs": [],
   "source": [
    "sa_list = [tad_p3_type.loc[tad_p3_type['type']=='SA1SA1',:],tad_p3_type.loc[tad_p3_type['type']=='SA1SA2',:],tad_p3_type.loc[tad_p3_type['type']=='SA2SA2',:]]\n",
    "type_list = sa_list + [A1A1,A1A2,A2A2,I1I1,I1I2,I2I2]\n",
    "def merge_tad(x,y):\n",
    "    return pd.merge(x,y,how='inner',on=colnames)\n",
    "data_type = list(map(merge_tad,itertools.repeat(data,9),type_list))\n",
    "data_type[0] = data_type[0].rename(columns={'strength_x':'strength'})\n",
    "data_type[0] = data_type[0].rename(columns={'E1_x':'E1'})\n",
    "data_type[0] = data_type[0].rename(columns={'interaction_x':'interaction'})\n",
    "data_type[0] = data_type[0].rename(columns={'size_x':'size'})\n",
    "data_type[0] = data_type[0].rename(columns={'border_fpkm.1_x':'border_fpkm'})\n",
    "data_type[0] = data_type[0].rename(columns={'inner_fpkm.1_x':'inner_fpkm'})\n",
    "#data_type_fpkm = list(map(merge_tad,itertools.repeat(fpkm,7),data_type))"
   ]
  },
  {
   "cell_type": "code",
   "execution_count": 22,
   "id": "answering-causing",
   "metadata": {},
   "outputs": [],
   "source": [
    "labels = ['SA11','SA12','SA22','A11','A12','A22','S11','S12','S22']"
   ]
  },
  {
   "cell_type": "code",
   "execution_count": 21,
   "id": "satisfied-shareware",
   "metadata": {},
   "outputs": [
    {
     "name": "stderr",
     "output_type": "stream",
     "text": [
      "/home/data4/jh/anaconda3/lib/python3.7/site-packages/ipykernel_launcher.py:5: MatplotlibDeprecationWarning: savefig() got unexpected keyword argument \"family\" which is no longer supported as of 3.3 and will become an error two minor releases later\n",
      "  \"\"\"\n"
     ]
    },
    {
     "data": {
      "image/png": "[encoded data removed]",
      "text/plain": [
       "<Figure size 432x288 with 1 Axes>"
      ]
     },
     "metadata": {
      "needs_background": "light"
     },
     "output_type": "display_data"
    }
   ],
   "source": [
    "c_fpkm = pd.concat(data_type,ignore_index=True)\n",
    "c_fpkm['inner_fpkm']=pd.to_numeric(c_fpkm['inner_fpkm'],errors='coerce')\n",
    "\n",
    "sns.boxplot(x='type',y='inner_fpkm',data=c_fpkm,showfliers=False).set(xticklabels=labels)\n",
    "plt.savefig('withintadexpression_9.pdf',bbox_inches='tight',family='sans')"
   ]
  },
  {
   "cell_type": "code",
   "execution_count": 23,
   "id": "described-currency",
   "metadata": {},
   "outputs": [
    {
     "name": "stderr",
     "output_type": "stream",
     "text": [
      "/home/data4/jh/anaconda3/lib/python3.7/site-packages/ipykernel_launcher.py:2: MatplotlibDeprecationWarning: savefig() got unexpected keyword argument \"family\" which is no longer supported as of 3.3 and will become an error two minor releases later\n",
      "  \n"
     ]
    },
    {
     "data": {
      "image/png": "[encoded data removed]",
      "text/plain": [
       "<Figure size 432x288 with 1 Axes>"
      ]
     },
     "metadata": {
      "needs_background": "light"
     },
     "output_type": "display_data"
    }
   ],
   "source": [
    "sns.boxplot(x='type',y='strength',data=c_fpkm,showfliers=False).set(xticklabels=labels)\n",
    "plt.savefig('strength_9.pdf',bbox_inches='tight',family='sans')"
   ]
  },
  {
   "cell_type": "code",
   "execution_count": 24,
   "id": "abroad-heater",
   "metadata": {},
   "outputs": [
    {
     "name": "stderr",
     "output_type": "stream",
     "text": [
      "/home/data4/jh/anaconda3/lib/python3.7/site-packages/ipykernel_launcher.py:2: MatplotlibDeprecationWarning: savefig() got unexpected keyword argument \"family\" which is no longer supported as of 3.3 and will become an error two minor releases later\n",
      "  \n"
     ]
    },
    {
     "data": {
      "image/png": "[encoded data removed]",
      "text/plain": [
       "<Figure size 432x288 with 1 Axes>"
      ]
     },
     "metadata": {
      "needs_background": "light"
     },
     "output_type": "display_data"
    }
   ],
   "source": [
    "sns.boxplot(x='type',y='interaction',data=c_fpkm,showfliers=False).set(xticklabels=labels)\n",
    "plt.savefig('interaction_9.pdf',bbox_inches='tight',family='sans')"
   ]
  },
  {
   "cell_type": "code",
   "execution_count": 46,
   "id": "timely-wellington",
   "metadata": {},
   "outputs": [],
   "source": [
    "tad_c1_type.to_csv('C1_type.bed',sep='\\t',index=False,quoting=3,header=False)\n",
    "tad_c2_type.to_csv('C2_type.bed',sep='\\t',index=False,quoting=3,header=False)"
   ]
  },
  {
   "cell_type": "code",
   "execution_count": 27,
   "id": "sensitive-interstate",
   "metadata": {},
   "outputs": [],
   "source": [
    "def plot_p(data,col_name):\n",
    "    ps_if = ut.sig(data,col_name)\n",
    "    arr = np.zeros((9,9))\n",
    "    indices = np.triu_indices(9,1)\n",
    "    arr[indices] = ps_if   \n",
    "    ps_if_arr = -np.log10(arr)\n",
    "    mask = np.zeros_like(ps_if_arr) \n",
    "    mask[np.tril_indices_from(mask)] = True\n",
    "    ps_if_arr\n",
    "    tab10 = cm.get_cmap('tab10')\n",
    "    colors = [\"white\",tab10(3)]\n",
    "    cmap1 = LinearSegmentedColormap.from_list(\"mycmap\", colors)\n",
    "\n",
    "    with sns.axes_style(\"white\"):\n",
    "        f, ax = plt.subplots(figsize=(7, 5))\n",
    "        ax = sns.heatmap(ps_if_arr, mask=mask, vmin=0, vmax=5, square=True,cmap=cmap1)\n",
    "        f.savefig(f'{col_name}_p.pdf',bbox_inches='tight')\n",
    "    #ax.legend('-log10(p-values)')\n",
    "# ps_if_arr[ps_if_arr == np.inf] = np.nan\n",
    "# sns.heatmap(ps_if_arr,cmap='Reds')"
   ]
  },
  {
   "cell_type": "code",
   "execution_count": 28,
   "id": "opposite-compatibility",
   "metadata": {},
   "outputs": [
    {
     "name": "stderr",
     "output_type": "stream",
     "text": [
      "/home/data4/jh/anaconda3/lib/python3.7/site-packages/ipykernel_launcher.py:6: RuntimeWarning: divide by zero encountered in log10\n",
      "  \n"
     ]
    },
    {
     "data": {
      "image/png": "[encoded data removed]",
      "text/plain": [
       "<Figure size 504x360 with 2 Axes>"
      ]
     },
     "metadata": {},
     "output_type": "display_data"
    }
   ],
   "source": [
    "plot_p(data_type,'inner_fpkm')"
   ]
  },
  {
   "cell_type": "code",
   "execution_count": 47,
   "id": "thirty-behavior",
   "metadata": {},
   "outputs": [
    {
     "name": "stdout",
     "output_type": "stream",
     "text": [
      "0.3598741342451548\n",
      "0.428255995577658\n",
      "0.269308546666114\n",
      "0.009472439683309934\n",
      "2.055983180320239e-09\n",
      "6.050945178555099e-12\n",
      "0.2919252798610998\n",
      "0.3122098186487274\n",
      "0.004578921912129408\n",
      "1.4827493702400182e-13\n",
      "2.5582663984242015e-23\n",
      "0.21513458140367442\n",
      "0.00489325717377123\n",
      "6.04995225436293e-11\n",
      "1.7554192324972407e-15\n",
      "0.015580578715192358\n",
      "3.6430844610258927e-11\n",
      "2.213403818038537e-18\n",
      "0.0011352675570688098\n",
      "0.000133254990100269\n",
      "0.338025453244719\n"
     ]
    }
   ],
   "source": [
    "fpkm_list = list(map(lambda x: x['inner_fpkm'],data_type))\n",
    "fpkm_pair = list(itertools.combinations(fpkm_list,2))\n",
    "#print(len(fpkm_pair))\n",
    "from scipy.stats import mannwhitneyu\n",
    "for pair in fpkm_pair:\n",
    "    #print(pair[1])\n",
    "    stat, p = mannwhitneyu(pair[0], pair[1])\n",
    "    print(p)"
   ]
  },
  {
   "cell_type": "code",
   "execution_count": 48,
   "id": "transsexual-elite",
   "metadata": {},
   "outputs": [
    {
     "data": {
      "text/plain": [
       "Counter({1: 1092, 0: 1045})"
      ]
     },
     "execution_count": 48,
     "metadata": {},
     "output_type": "execute_result"
    }
   ],
   "source": [
    "Counter(y_pred.labels_)"
   ]
  },
  {
   "cell_type": "code",
   "execution_count": 56,
   "id": "radical-directory",
   "metadata": {},
   "outputs": [],
   "source": [
    "type1_borders = tad.loc[tad['type']==0,[True,True,True,False]]\n",
    "type2_borders = tad.loc[tad['type']==1,[True,True,True,False]]\n",
    "type1_borders.to_csv('type1_borders.bed',header=False,sep='\\t',quoting=3,index=False)\n",
    "type2_borders.to_csv('type2_borders.bed',header=False,sep='\\t',quoting=3,index=False)"
   ]
  },
  {
   "cell_type": "code",
   "execution_count": 53,
   "id": "killing-significance",
   "metadata": {},
   "outputs": [
    {
     "data": {
      "text/html": [
       "<div>\n",
       "<style scoped>\n",
       "    .dataframe tbody tr th:only-of-type {\n",
       "        vertical-align: middle;\n",
       "    }\n",
       "\n",
       "    .dataframe tbody tr th {\n",
       "        vertical-align: top;\n",
       "    }\n",
       "\n",
       "    .dataframe thead th {\n",
       "        text-align: right;\n",
       "    }\n",
       "</style>\n",
       "<table border=\"1\" class=\"dataframe\">\n",
       "  <thead>\n",
       "    <tr style=\"text-align: right;\">\n",
       "      <th></th>\n",
       "      <th>chr</th>\n",
       "      <th>start</th>\n",
       "      <th>end</th>\n",
       "      <th>type</th>\n",
       "    </tr>\n",
       "  </thead>\n",
       "  <tbody>\n",
       "    <tr>\n",
       "      <th>0</th>\n",
       "      <td>chr1</td>\n",
       "      <td>4440000</td>\n",
       "      <td>4480000</td>\n",
       "      <td>1</td>\n",
       "    </tr>\n",
       "    <tr>\n",
       "      <th>1</th>\n",
       "      <td>chr1</td>\n",
       "      <td>4800000</td>\n",
       "      <td>4840000</td>\n",
       "      <td>0</td>\n",
       "    </tr>\n",
       "    <tr>\n",
       "      <th>2</th>\n",
       "      <td>chr1</td>\n",
       "      <td>6200000</td>\n",
       "      <td>6240000</td>\n",
       "      <td>1</td>\n",
       "    </tr>\n",
       "    <tr>\n",
       "      <th>3</th>\n",
       "      <td>chr1</td>\n",
       "      <td>9520000</td>\n",
       "      <td>9560000</td>\n",
       "      <td>1</td>\n",
       "    </tr>\n",
       "    <tr>\n",
       "      <th>4</th>\n",
       "      <td>chr1</td>\n",
       "      <td>10160000</td>\n",
       "      <td>10200000</td>\n",
       "      <td>1</td>\n",
       "    </tr>\n",
       "    <tr>\n",
       "      <th>...</th>\n",
       "      <td>...</td>\n",
       "      <td>...</td>\n",
       "      <td>...</td>\n",
       "      <td>...</td>\n",
       "    </tr>\n",
       "    <tr>\n",
       "      <th>2132</th>\n",
       "      <td>chrX</td>\n",
       "      <td>164480000</td>\n",
       "      <td>164520000</td>\n",
       "      <td>1</td>\n",
       "    </tr>\n",
       "    <tr>\n",
       "      <th>2133</th>\n",
       "      <td>chrX</td>\n",
       "      <td>166160000</td>\n",
       "      <td>166200000</td>\n",
       "      <td>1</td>\n",
       "    </tr>\n",
       "    <tr>\n",
       "      <th>2134</th>\n",
       "      <td>chrX</td>\n",
       "      <td>167280000</td>\n",
       "      <td>167320000</td>\n",
       "      <td>1</td>\n",
       "    </tr>\n",
       "    <tr>\n",
       "      <th>2135</th>\n",
       "      <td>chrX</td>\n",
       "      <td>168640000</td>\n",
       "      <td>168680000</td>\n",
       "      <td>1</td>\n",
       "    </tr>\n",
       "    <tr>\n",
       "      <th>2136</th>\n",
       "      <td>chrX</td>\n",
       "      <td>169000000</td>\n",
       "      <td>169040000</td>\n",
       "      <td>1</td>\n",
       "    </tr>\n",
       "  </tbody>\n",
       "</table>\n",
       "<p>2137 rows × 4 columns</p>\n",
       "</div>"
      ],
      "text/plain": [
       "       chr      start        end  type\n",
       "0     chr1    4440000    4480000     1\n",
       "1     chr1    4800000    4840000     0\n",
       "2     chr1    6200000    6240000     1\n",
       "3     chr1    9520000    9560000     1\n",
       "4     chr1   10160000   10200000     1\n",
       "...    ...        ...        ...   ...\n",
       "2132  chrX  164480000  164520000     1\n",
       "2133  chrX  166160000  166200000     1\n",
       "2134  chrX  167280000  167320000     1\n",
       "2135  chrX  168640000  168680000     1\n",
       "2136  chrX  169000000  169040000     1\n",
       "\n",
       "[2137 rows x 4 columns]"
      ]
     },
     "execution_count": 53,
     "metadata": {},
     "output_type": "execute_result"
    }
   ],
   "source": []
  },
  {
   "cell_type": "code",
   "execution_count": 58,
   "id": "resident-portugal",
   "metadata": {},
   "outputs": [
    {
     "ename": "KeyError",
     "evalue": "'Passing list-likes to .loc or [] with any missing labels is no longer supported, see https://pandas.pydata.org/pandas-docs/stable/user_guide/indexing.html#deprecate-loc-reindex-listlike'",
     "output_type": "error",
     "traceback": [
      "\u001b[0;31m---------------------------------------------------------------------------\u001b[0m",
      "\u001b[0;31mKeyError\u001b[0m                                  Traceback (most recent call last)",
      "\u001b[0;32m<ipython-input-58-0e183760ef25>\u001b[0m in \u001b[0;36m<module>\u001b[0;34m()\u001b[0m\n\u001b[0;32m----> 1\u001b[0;31m \u001b[0mtad\u001b[0m\u001b[0;34m.\u001b[0m\u001b[0mloc\u001b[0m\u001b[0;34m[\u001b[0m\u001b[0mtad\u001b[0m\u001b[0;34m[\u001b[0m\u001b[0;34m'type'\u001b[0m\u001b[0;34m]\u001b[0m\u001b[0;34m==\u001b[0m\u001b[0;36m0\u001b[0m\u001b[0;34m,\u001b[0m\u001b[0;34m[\u001b[0m\u001b[0;34m'chrom'\u001b[0m\u001b[0;34m,\u001b[0m\u001b[0;34m'start'\u001b[0m\u001b[0;34m,\u001b[0m\u001b[0;34m'end'\u001b[0m\u001b[0;34m]\u001b[0m\u001b[0;34m]\u001b[0m\u001b[0;34m\u001b[0m\u001b[0;34m\u001b[0m\u001b[0m\n\u001b[0m",
      "\u001b[0;32m/home/data4/jh/anaconda3/lib/python3.7/site-packages/pandas/core/indexing.py\u001b[0m in \u001b[0;36m__getitem__\u001b[0;34m(self, key)\u001b[0m\n\u001b[1;32m   1760\u001b[0m                 \u001b[0;32mexcept\u001b[0m \u001b[0;34m(\u001b[0m\u001b[0mKeyError\u001b[0m\u001b[0;34m,\u001b[0m \u001b[0mIndexError\u001b[0m\u001b[0;34m,\u001b[0m \u001b[0mAttributeError\u001b[0m\u001b[0;34m)\u001b[0m\u001b[0;34m:\u001b[0m\u001b[0;34m\u001b[0m\u001b[0;34m\u001b[0m\u001b[0m\n\u001b[1;32m   1761\u001b[0m                     \u001b[0;32mpass\u001b[0m\u001b[0;34m\u001b[0m\u001b[0;34m\u001b[0m\u001b[0m\n\u001b[0;32m-> 1762\u001b[0;31m             \u001b[0;32mreturn\u001b[0m \u001b[0mself\u001b[0m\u001b[0;34m.\u001b[0m\u001b[0m_getitem_tuple\u001b[0m\u001b[0;34m(\u001b[0m\u001b[0mkey\u001b[0m\u001b[0;34m)\u001b[0m\u001b[0;34m\u001b[0m\u001b[0;34m\u001b[0m\u001b[0m\n\u001b[0m\u001b[1;32m   1763\u001b[0m         \u001b[0;32melse\u001b[0m\u001b[0;34m:\u001b[0m\u001b[0;34m\u001b[0m\u001b[0;34m\u001b[0m\u001b[0m\n\u001b[1;32m   1764\u001b[0m             \u001b[0;31m# we by definition only have the 0th axis\u001b[0m\u001b[0;34m\u001b[0m\u001b[0;34m\u001b[0m\u001b[0;34m\u001b[0m\u001b[0m\n",
      "\u001b[0;32m/home/data4/jh/anaconda3/lib/python3.7/site-packages/pandas/core/indexing.py\u001b[0m in \u001b[0;36m_getitem_tuple\u001b[0;34m(self, tup)\u001b[0m\n\u001b[1;32m   1287\u001b[0m                 \u001b[0;32mcontinue\u001b[0m\u001b[0;34m\u001b[0m\u001b[0;34m\u001b[0m\u001b[0m\n\u001b[1;32m   1288\u001b[0m \u001b[0;34m\u001b[0m\u001b[0m\n\u001b[0;32m-> 1289\u001b[0;31m             \u001b[0mretval\u001b[0m \u001b[0;34m=\u001b[0m \u001b[0mgetattr\u001b[0m\u001b[0;34m(\u001b[0m\u001b[0mretval\u001b[0m\u001b[0;34m,\u001b[0m \u001b[0mself\u001b[0m\u001b[0;34m.\u001b[0m\u001b[0mname\u001b[0m\u001b[0;34m)\u001b[0m\u001b[0;34m.\u001b[0m\u001b[0m_getitem_axis\u001b[0m\u001b[0;34m(\u001b[0m\u001b[0mkey\u001b[0m\u001b[0;34m,\u001b[0m \u001b[0maxis\u001b[0m\u001b[0;34m=\u001b[0m\u001b[0mi\u001b[0m\u001b[0;34m)\u001b[0m\u001b[0;34m\u001b[0m\u001b[0;34m\u001b[0m\u001b[0m\n\u001b[0m\u001b[1;32m   1290\u001b[0m \u001b[0;34m\u001b[0m\u001b[0m\n\u001b[1;32m   1291\u001b[0m         \u001b[0;32mreturn\u001b[0m \u001b[0mretval\u001b[0m\u001b[0;34m\u001b[0m\u001b[0;34m\u001b[0m\u001b[0m\n",
      "\u001b[0;32m/home/data4/jh/anaconda3/lib/python3.7/site-packages/pandas/core/indexing.py\u001b[0m in \u001b[0;36m_getitem_axis\u001b[0;34m(self, key, axis)\u001b[0m\n\u001b[1;32m   1952\u001b[0m                     \u001b[0;32mraise\u001b[0m \u001b[0mValueError\u001b[0m\u001b[0;34m(\u001b[0m\u001b[0;34m\"Cannot index with multidimensional key\"\u001b[0m\u001b[0;34m)\u001b[0m\u001b[0;34m\u001b[0m\u001b[0;34m\u001b[0m\u001b[0m\n\u001b[1;32m   1953\u001b[0m \u001b[0;34m\u001b[0m\u001b[0m\n\u001b[0;32m-> 1954\u001b[0;31m                 \u001b[0;32mreturn\u001b[0m \u001b[0mself\u001b[0m\u001b[0;34m.\u001b[0m\u001b[0m_getitem_iterable\u001b[0m\u001b[0;34m(\u001b[0m\u001b[0mkey\u001b[0m\u001b[0;34m,\u001b[0m \u001b[0maxis\u001b[0m\u001b[0;34m=\u001b[0m\u001b[0maxis\u001b[0m\u001b[0;34m)\u001b[0m\u001b[0;34m\u001b[0m\u001b[0;34m\u001b[0m\u001b[0m\n\u001b[0m\u001b[1;32m   1955\u001b[0m \u001b[0;34m\u001b[0m\u001b[0m\n\u001b[1;32m   1956\u001b[0m             \u001b[0;31m# nested tuple slicing\u001b[0m\u001b[0;34m\u001b[0m\u001b[0;34m\u001b[0m\u001b[0;34m\u001b[0m\u001b[0m\n",
      "\u001b[0;32m/home/data4/jh/anaconda3/lib/python3.7/site-packages/pandas/core/indexing.py\u001b[0m in \u001b[0;36m_getitem_iterable\u001b[0;34m(self, key, axis)\u001b[0m\n\u001b[1;32m   1593\u001b[0m         \u001b[0;32melse\u001b[0m\u001b[0;34m:\u001b[0m\u001b[0;34m\u001b[0m\u001b[0;34m\u001b[0m\u001b[0m\n\u001b[1;32m   1594\u001b[0m             \u001b[0;31m# A collection of keys\u001b[0m\u001b[0;34m\u001b[0m\u001b[0;34m\u001b[0m\u001b[0;34m\u001b[0m\u001b[0m\n\u001b[0;32m-> 1595\u001b[0;31m             \u001b[0mkeyarr\u001b[0m\u001b[0;34m,\u001b[0m \u001b[0mindexer\u001b[0m \u001b[0;34m=\u001b[0m \u001b[0mself\u001b[0m\u001b[0;34m.\u001b[0m\u001b[0m_get_listlike_indexer\u001b[0m\u001b[0;34m(\u001b[0m\u001b[0mkey\u001b[0m\u001b[0;34m,\u001b[0m \u001b[0maxis\u001b[0m\u001b[0;34m,\u001b[0m \u001b[0mraise_missing\u001b[0m\u001b[0;34m=\u001b[0m\u001b[0;32mFalse\u001b[0m\u001b[0;34m)\u001b[0m\u001b[0;34m\u001b[0m\u001b[0;34m\u001b[0m\u001b[0m\n\u001b[0m\u001b[1;32m   1596\u001b[0m             return self.obj._reindex_with_indexers(\n\u001b[1;32m   1597\u001b[0m                 \u001b[0;34m{\u001b[0m\u001b[0maxis\u001b[0m\u001b[0;34m:\u001b[0m \u001b[0;34m[\u001b[0m\u001b[0mkeyarr\u001b[0m\u001b[0;34m,\u001b[0m \u001b[0mindexer\u001b[0m\u001b[0;34m]\u001b[0m\u001b[0;34m}\u001b[0m\u001b[0;34m,\u001b[0m \u001b[0mcopy\u001b[0m\u001b[0;34m=\u001b[0m\u001b[0;32mTrue\u001b[0m\u001b[0;34m,\u001b[0m \u001b[0mallow_dups\u001b[0m\u001b[0;34m=\u001b[0m\u001b[0;32mTrue\u001b[0m\u001b[0;34m\u001b[0m\u001b[0;34m\u001b[0m\u001b[0m\n",
      "\u001b[0;32m/home/data4/jh/anaconda3/lib/python3.7/site-packages/pandas/core/indexing.py\u001b[0m in \u001b[0;36m_get_listlike_indexer\u001b[0;34m(self, key, axis, raise_missing)\u001b[0m\n\u001b[1;32m   1551\u001b[0m \u001b[0;34m\u001b[0m\u001b[0m\n\u001b[1;32m   1552\u001b[0m         self._validate_read_indexer(\n\u001b[0;32m-> 1553\u001b[0;31m             \u001b[0mkeyarr\u001b[0m\u001b[0;34m,\u001b[0m \u001b[0mindexer\u001b[0m\u001b[0;34m,\u001b[0m \u001b[0mo\u001b[0m\u001b[0;34m.\u001b[0m\u001b[0m_get_axis_number\u001b[0m\u001b[0;34m(\u001b[0m\u001b[0maxis\u001b[0m\u001b[0;34m)\u001b[0m\u001b[0;34m,\u001b[0m \u001b[0mraise_missing\u001b[0m\u001b[0;34m=\u001b[0m\u001b[0mraise_missing\u001b[0m\u001b[0;34m\u001b[0m\u001b[0;34m\u001b[0m\u001b[0m\n\u001b[0m\u001b[1;32m   1554\u001b[0m         )\n\u001b[1;32m   1555\u001b[0m         \u001b[0;32mreturn\u001b[0m \u001b[0mkeyarr\u001b[0m\u001b[0;34m,\u001b[0m \u001b[0mindexer\u001b[0m\u001b[0;34m\u001b[0m\u001b[0;34m\u001b[0m\u001b[0m\n",
      "\u001b[0;32m/home/data4/jh/anaconda3/lib/python3.7/site-packages/pandas/core/indexing.py\u001b[0m in \u001b[0;36m_validate_read_indexer\u001b[0;34m(self, key, indexer, axis, raise_missing)\u001b[0m\n\u001b[1;32m   1653\u001b[0m             \u001b[0;32mif\u001b[0m \u001b[0;32mnot\u001b[0m \u001b[0;34m(\u001b[0m\u001b[0max\u001b[0m\u001b[0;34m.\u001b[0m\u001b[0mis_categorical\u001b[0m\u001b[0;34m(\u001b[0m\u001b[0;34m)\u001b[0m \u001b[0;32mor\u001b[0m \u001b[0max\u001b[0m\u001b[0;34m.\u001b[0m\u001b[0mis_interval\u001b[0m\u001b[0;34m(\u001b[0m\u001b[0;34m)\u001b[0m\u001b[0;34m)\u001b[0m\u001b[0;34m:\u001b[0m\u001b[0;34m\u001b[0m\u001b[0;34m\u001b[0m\u001b[0m\n\u001b[1;32m   1654\u001b[0m                 raise KeyError(\n\u001b[0;32m-> 1655\u001b[0;31m                     \u001b[0;34m\"Passing list-likes to .loc or [] with any missing labels \"\u001b[0m\u001b[0;34m\u001b[0m\u001b[0;34m\u001b[0m\u001b[0m\n\u001b[0m\u001b[1;32m   1656\u001b[0m                     \u001b[0;34m\"is no longer supported, see \"\u001b[0m\u001b[0;34m\u001b[0m\u001b[0;34m\u001b[0m\u001b[0m\n\u001b[1;32m   1657\u001b[0m                     \u001b[0;34m\"https://pandas.pydata.org/pandas-docs/stable/user_guide/indexing.html#deprecate-loc-reindex-listlike\"\u001b[0m  \u001b[0;31m# noqa:E501\u001b[0m\u001b[0;34m\u001b[0m\u001b[0;34m\u001b[0m\u001b[0m\n",
      "\u001b[0;31mKeyError\u001b[0m: 'Passing list-likes to .loc or [] with any missing labels is no longer supported, see https://pandas.pydata.org/pandas-docs/stable/user_guide/indexing.html#deprecate-loc-reindex-listlike'"
     ]
    }
   ],
   "source": [
    "tad[tad['type']==0,['chrom','start','end']]"
   ]
  },
  {
   "cell_type": "code",
   "execution_count": null,
   "id": "correct-memorabilia",
   "metadata": {},
   "outputs": [],
   "source": []
  }
 ],
 "metadata": {
  "kernelspec": {
   "display_name": "Python 3",
   "language": "python",
   "name": "python3"
  },
  "language_info": {
   "codemirror_mode": {
    "name": "ipython",
    "version": 3
   },
   "file_extension": ".py",
   "mimetype": "text/x-python",
   "name": "python",
   "nbconvert_exporter": "python",
   "pygments_lexer": "ipython3",
   "version": "3.7.7"
  }
 },
 "nbformat": 4,
 "nbformat_minor": 5
}
