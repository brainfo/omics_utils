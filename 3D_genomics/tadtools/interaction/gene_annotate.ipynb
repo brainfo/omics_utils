{
 "cells": [
  {
   "cell_type": "code",
   "execution_count": null,
   "id": "patent-sapphire",
   "metadata": {},
   "outputs": [],
   "source": [
    "if (!requireNamespace(\"BiocManager\", quietly = TRUE))\n",
    "    install.packages(\"BiocManager\")\n",
    "\n",
    "BiocManager::install(\"biomaRt\")"
   ]
  },
  {
   "cell_type": "code",
   "execution_count": null,
   "id": "dietary-picnic",
   "metadata": {},
   "outputs": [],
   "source": [
    "library(biomaRt)\n",
    "library(readr)"
   ]
  },
  {
   "cell_type": "code",
   "execution_count": 2,
   "id": "twenty-virtue",
   "metadata": {},
   "outputs": [
    {
     "name": "stderr",
     "output_type": "stream",
     "text": [
      "\n",
      "\u001b[36m──\u001b[39m \u001b[1m\u001b[1mColumn specification\u001b[1m\u001b[22m \u001b[36m────────────────────────────────────────────────────────\u001b[39m\n",
      "cols(\n",
      "  `GENE PRODUCT DB` = \u001b[31mcol_character()\u001b[39m,\n",
      "  `GENE PRODUCT ID` = \u001b[31mcol_character()\u001b[39m,\n",
      "  SYMBOL = \u001b[31mcol_character()\u001b[39m,\n",
      "  QUALIFIER = \u001b[31mcol_character()\u001b[39m,\n",
      "  `GO TERM` = \u001b[31mcol_character()\u001b[39m,\n",
      "  `GO NAME` = \u001b[31mcol_character()\u001b[39m,\n",
      "  `ECO ID` = \u001b[31mcol_character()\u001b[39m,\n",
      "  `GO EVIDENCE CODE` = \u001b[31mcol_character()\u001b[39m,\n",
      "  REFERENCE = \u001b[31mcol_character()\u001b[39m,\n",
      "  `WITH/FROM` = \u001b[31mcol_character()\u001b[39m,\n",
      "  `TAXON ID` = \u001b[32mcol_double()\u001b[39m,\n",
      "  `ASSIGNED BY` = \u001b[31mcol_character()\u001b[39m,\n",
      "  `ANNOTATION EXTENSION` = \u001b[31mcol_character()\u001b[39m,\n",
      "  `GO ASPECT` = \u001b[31mcol_character()\u001b[39m\n",
      ")\n",
      "\n",
      "\n",
      "\n",
      "\u001b[36m──\u001b[39m \u001b[1m\u001b[1mColumn specification\u001b[1m\u001b[22m \u001b[36m────────────────────────────────────────────────────────\u001b[39m\n",
      "cols(\n",
      "  `GENE PRODUCT DB` = \u001b[31mcol_character()\u001b[39m,\n",
      "  `GENE PRODUCT ID` = \u001b[31mcol_character()\u001b[39m,\n",
      "  SYMBOL = \u001b[31mcol_character()\u001b[39m,\n",
      "  QUALIFIER = \u001b[31mcol_character()\u001b[39m,\n",
      "  `GO TERM` = \u001b[31mcol_character()\u001b[39m,\n",
      "  `GO NAME` = \u001b[31mcol_character()\u001b[39m,\n",
      "  `ECO ID` = \u001b[31mcol_character()\u001b[39m,\n",
      "  `GO EVIDENCE CODE` = \u001b[31mcol_character()\u001b[39m,\n",
      "  REFERENCE = \u001b[31mcol_character()\u001b[39m,\n",
      "  `WITH/FROM` = \u001b[31mcol_character()\u001b[39m,\n",
      "  `TAXON ID` = \u001b[32mcol_double()\u001b[39m,\n",
      "  `ASSIGNED BY` = \u001b[31mcol_character()\u001b[39m,\n",
      "  `ANNOTATION EXTENSION` = \u001b[31mcol_character()\u001b[39m,\n",
      "  `GO ASPECT` = \u001b[31mcol_character()\u001b[39m\n",
      ")\n",
      "\n",
      "\n"
     ]
    }
   ],
   "source": [
    "dif <- read_tsv('stem_cell_differentiation.tsv',col_names=T)\n",
    "div <- read_tsv('stem_cell_division.tsv',col_names=T)"
   ]
  },
  {
   "cell_type": "code",
   "execution_count": 3,
   "id": "attached-hopkins",
   "metadata": {},
   "outputs": [],
   "source": [
    "ensembl <- useMart(\"ensembl\",dataset=\"mmusculus_gene_ensembl\")\n",
    "# names <- listAttributes(ensembl)$name\n",
    "# names[grepl(\"description\",names)]\n"
   ]
  },
  {
   "cell_type": "code",
   "execution_count": 9,
   "id": "norman-granny",
   "metadata": {},
   "outputs": [
    {
     "data": {
      "text/html": [
       "192"
      ],
      "text/latex": [
       "192"
      ],
      "text/markdown": [
       "192"
      ],
      "text/plain": [
       "[1] 192"
      ]
     },
     "metadata": {},
     "output_type": "display_data"
    }
   ],
   "source": [
    "length(unique(dif$SYMBOL))"
   ]
  },
  {
   "cell_type": "code",
   "execution_count": 4,
   "id": "fossil-chick",
   "metadata": {},
   "outputs": [],
   "source": [
    "dif_res <- getBM(attributes=c(\"mgi_symbol\",\"chromosome_name\", \"start_position\",\"end_position\"),\n",
    "                    filters = \"mgi_symbol\",\n",
    "                    values = unique(dif$SYMBOL), mart = ensembl)\n",
    "div_res <- getBM(attributes=c(\"mgi_symbol\",\"chromosome_name\", \"start_position\",\"end_position\"),\n",
    "                    filters = \"mgi_symbol\",\n",
    "                    values = unique(div$SYMBOL), mart = ensembl)"
   ]
  },
  {
   "cell_type": "code",
   "execution_count": 6,
   "id": "institutional-signal",
   "metadata": {},
   "outputs": [],
   "source": [
    "dif_res$chromosome_name <- paste('chr',dif_res$chromosome_name,sep='')\n",
    "div_res$chromosome_name <- paste('chr',div_res$chromosome_name,sep='')"
   ]
  },
  {
   "cell_type": "code",
   "execution_count": 7,
   "id": "accessible-completion",
   "metadata": {},
   "outputs": [],
   "source": [
    "write.table(dif_res, file = \"name_differentiation_gene.bed\", append = FALSE, quote = FALSE, sep = \"\\t\",\n",
    "            eol = \"\\n\", na = \"NA\", dec = \".\", row.names = FALSE,\n",
    "            col.names = FALSE,\n",
    "            fileEncoding = \"utf-8\")\n",
    "write.table(div_res, file = \"name_divide_gene.bed\", append = FALSE, quote = FALSE, sep = \"\\t\",\n",
    "            eol = \"\\n\", na = \"NA\", dec = \".\", row.names = FALSE,\n",
    "            col.names = FALSE,\n",
    "            fileEncoding = \"utf-8\")"
   ]
  },
  {
   "cell_type": "code",
   "execution_count": 39,
   "id": "dominant-patient",
   "metadata": {},
   "outputs": [
    {
     "data": {
      "text/html": [
       "'PDX1 associated lncRNA, upregulator of transcription'"
      ],
      "text/latex": [
       "'PDX1 associated lncRNA, upregulator of transcription'"
      ],
      "text/markdown": [
       "'PDX1 associated lncRNA, upregulator of transcription'"
      ],
      "text/plain": [
       "[1] \"PDX1 associated lncRNA, upregulator of transcription\""
      ]
     },
     "metadata": {},
     "output_type": "display_data"
    }
   ],
   "source": [
    "des <- res$mgi_description\n",
    "des[grepl(\"transcription\",des)]"
   ]
  },
  {
   "cell_type": "code",
   "execution_count": 3,
   "id": "electronic-toilet",
   "metadata": {},
   "outputs": [
    {
     "name": "stderr",
     "output_type": "stream",
     "text": [
      "\n",
      "\u001b[36m──\u001b[39m \u001b[1m\u001b[1mColumn specification\u001b[1m\u001b[22m \u001b[36m────────────────────────────────────────────────────────\u001b[39m\n",
      "cols(\n",
      "  X1 = \u001b[31mcol_character()\u001b[39m,\n",
      "  X2 = \u001b[32mcol_double()\u001b[39m,\n",
      "  X3 = \u001b[32mcol_double()\u001b[39m,\n",
      "  X4 = \u001b[31mcol_character()\u001b[39m\n",
      ")\n",
      "\n",
      "\n",
      "\n",
      "\u001b[36m──\u001b[39m \u001b[1m\u001b[1mColumn specification\u001b[1m\u001b[22m \u001b[36m────────────────────────────────────────────────────────\u001b[39m\n",
      "cols(\n",
      "  X1 = \u001b[31mcol_character()\u001b[39m\n",
      ")\n",
      "\n",
      "\n"
     ]
    }
   ],
   "source": [
    "a11 <- read_tsv('A1A1_genes.bed',col_names=F)$X4\n",
    "exp <- read_tsv('expression_threshold5_name.txt',col_names=F)$X1"
   ]
  },
  {
   "cell_type": "code",
   "execution_count": 6,
   "id": "little-timing",
   "metadata": {},
   "outputs": [],
   "source": [
    "write.table(intersect(a22,exp),'A22_expressed_genes.txt',sep='\\t',col.names=F,row.names=F,quote=F)"
   ]
  },
  {
   "cell_type": "code",
   "execution_count": null,
   "id": "awful-basics",
   "metadata": {},
   "outputs": [],
   "source": []
  }
 ],
 "metadata": {
  "kernelspec": {
   "display_name": "R",
   "language": "R",
   "name": "ir"
  },
  "language_info": {
   "codemirror_mode": "r",
   "file_extension": ".r",
   "mimetype": "text/x-r-source",
   "name": "R",
   "pygments_lexer": "r",
   "version": "4.0.3"
  }
 },
 "nbformat": 4,
 "nbformat_minor": 5
}
