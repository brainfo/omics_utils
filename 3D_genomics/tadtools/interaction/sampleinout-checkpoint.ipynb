{
 "cells": [
  {
   "cell_type": "code",
   "execution_count": 2,
   "metadata": {},
   "outputs": [],
   "source": [
    "## only consider cis\n",
    "## random sample as control"
   ]
  },
  {
   "cell_type": "code",
   "execution_count": 1,
   "metadata": {},
   "outputs": [],
   "source": [
    "import pandas as pd\n",
    "import numpy as np\n",
    "import itertools\n",
    "import plotly.graph_objects as go\n",
    "import plotly.io as pio\n",
    "pio.kaleido.scope.default_format = \"pdf\"\n",
    "from matplotlib.colors import ListedColormap\n",
    "import matplotlib.colors as mc\n",
    "import matplotlib as plt\n",
    "from plotly.offline import plot"
   ]
  },
  {
   "cell_type": "code",
   "execution_count": 2,
   "metadata": {},
   "outputs": [],
   "source": [
    "dense_pixel = pd.read_csv('chr7.bedpe',header=None,sep='\\t')"
   ]
  },
  {
   "cell_type": "code",
   "execution_count": 3,
   "metadata": {},
   "outputs": [],
   "source": [
    "dense_pixel_cis = dense_pixel.loc[dense_pixel.iloc[:,3]=='chr7',:].reindex()"
   ]
  },
  {
   "cell_type": "code",
   "execution_count": 4,
   "metadata": {},
   "outputs": [],
   "source": [
    "c3_tad = pd.read_csv('../C3_TAD.bed',header=None,sep='\\t')"
   ]
  },
  {
   "cell_type": "code",
   "execution_count": 5,
   "metadata": {},
   "outputs": [],
   "source": [
    "c3_tad_chr7 = c3_tad.loc[c3_tad.iloc[:,0]=='chr7',[1,2]].to_numpy()"
   ]
  },
  {
   "cell_type": "code",
   "execution_count": 13,
   "metadata": {},
   "outputs": [
    {
     "data": {
      "text/html": [
       "<div>\n",
       "<style scoped>\n",
       "    .dataframe tbody tr th:only-of-type {\n",
       "        vertical-align: middle;\n",
       "    }\n",
       "\n",
       "    .dataframe tbody tr th {\n",
       "        vertical-align: top;\n",
       "    }\n",
       "\n",
       "    .dataframe thead th {\n",
       "        text-align: right;\n",
       "    }\n",
       "</style>\n",
       "<table border=\"1\" class=\"dataframe\">\n",
       "  <thead>\n",
       "    <tr style=\"text-align: right;\">\n",
       "      <th></th>\n",
       "      <th>0</th>\n",
       "      <th>1</th>\n",
       "      <th>2</th>\n",
       "    </tr>\n",
       "  </thead>\n",
       "  <tbody>\n",
       "    <tr>\n",
       "      <th>0</th>\n",
       "      <td>chr4</td>\n",
       "      <td>3960000</td>\n",
       "      <td>4720000</td>\n",
       "    </tr>\n",
       "    <tr>\n",
       "      <th>1</th>\n",
       "      <td>chr4</td>\n",
       "      <td>136040000</td>\n",
       "      <td>136600000</td>\n",
       "    </tr>\n",
       "    <tr>\n",
       "      <th>2</th>\n",
       "      <td>chr5</td>\n",
       "      <td>65360000</td>\n",
       "      <td>65720000</td>\n",
       "    </tr>\n",
       "    <tr>\n",
       "      <th>3</th>\n",
       "      <td>chr6</td>\n",
       "      <td>113720000</td>\n",
       "      <td>115800000</td>\n",
       "    </tr>\n",
       "    <tr>\n",
       "      <th>4</th>\n",
       "      <td>chr7</td>\n",
       "      <td>99480000</td>\n",
       "      <td>102200000</td>\n",
       "    </tr>\n",
       "    <tr>\n",
       "      <th>5</th>\n",
       "      <td>chr7</td>\n",
       "      <td>116600000</td>\n",
       "      <td>118080000</td>\n",
       "    </tr>\n",
       "    <tr>\n",
       "      <th>6</th>\n",
       "      <td>chr11</td>\n",
       "      <td>32200000</td>\n",
       "      <td>33120000</td>\n",
       "    </tr>\n",
       "    <tr>\n",
       "      <th>7</th>\n",
       "      <td>chr13</td>\n",
       "      <td>90920000</td>\n",
       "      <td>91760000</td>\n",
       "    </tr>\n",
       "    <tr>\n",
       "      <th>8</th>\n",
       "      <td>chr14</td>\n",
       "      <td>75840000</td>\n",
       "      <td>76440000</td>\n",
       "    </tr>\n",
       "    <tr>\n",
       "      <th>9</th>\n",
       "      <td>chr18</td>\n",
       "      <td>60760000</td>\n",
       "      <td>61760000</td>\n",
       "    </tr>\n",
       "  </tbody>\n",
       "</table>\n",
       "</div>"
      ],
      "text/plain": [
       "       0          1          2\n",
       "0   chr4    3960000    4720000\n",
       "1   chr4  136040000  136600000\n",
       "2   chr5   65360000   65720000\n",
       "3   chr6  113720000  115800000\n",
       "4   chr7   99480000  102200000\n",
       "5   chr7  116600000  118080000\n",
       "6  chr11   32200000   33120000\n",
       "7  chr13   90920000   91760000\n",
       "8  chr14   75840000   76440000\n",
       "9  chr18   60760000   61760000"
      ]
     },
     "execution_count": 13,
     "metadata": {},
     "output_type": "execute_result"
    }
   ],
   "source": [
    "c3_tad"
   ]
  },
  {
   "cell_type": "code",
   "execution_count": 6,
   "metadata": {},
   "outputs": [],
   "source": [
    "union_tad = []\n",
    "for row in c3_tad_chr7:\n",
    "    if union_tad and union_tad[-1][1] >= row[0]-1:\n",
    "        union_tad[-1][1] = max(union_tad[-1][1],row[1])\n",
    "    else:\n",
    "        union_tad.append([row[0],row[1]])"
   ]
  },
  {
   "cell_type": "code",
   "execution_count": 12,
   "metadata": {},
   "outputs": [],
   "source": [
    "for tad in union_tad:\n",
    "    map(range_subset(range2=tad),union_pixel)"
   ]
  },
  {
   "cell_type": "code",
   "execution_count": 16,
   "metadata": {},
   "outputs": [],
   "source": [
    "union_pixel = []\n",
    "for index,row in dense_pixel_cis.iterrows():\n",
    "    union_pixel.append([row[1],row[2]])"
   ]
  },
  {
   "cell_type": "code",
   "execution_count": 3,
   "metadata": {},
   "outputs": [],
   "source": [
    "def extract(a,dense_pixel_cis):\n",
    "    return (dense_pixel_cis.iloc[:,1]>=a[0]) & (dense_pixel_cis.iloc[:,4]>=a[0]) & (dense_pixel_cis.iloc[:,2]<=a[1]) & (dense_pixel_cis.iloc[:,5]<=a[1])"
   ]
  },
  {
   "cell_type": "code",
   "execution_count": 8,
   "metadata": {},
   "outputs": [],
   "source": [
    "chr7_result = list(map(extract,union_tad))"
   ]
  },
  {
   "cell_type": "code",
   "execution_count": 26,
   "metadata": {},
   "outputs": [],
   "source": [
    "chr7_all = chr7_result[0] | chr7_result[1]"
   ]
  },
  {
   "cell_type": "code",
   "execution_count": 9,
   "metadata": {},
   "outputs": [
    {
     "data": {
      "text/plain": [
       "17944736    0\n",
       "17944737    0\n",
       "17944738    0\n",
       "17944739    0\n",
       "17944740    0\n",
       "           ..\n",
       "55537960    0\n",
       "55537961    0\n",
       "55537962    0\n",
       "55543700    0\n",
       "55551468    0\n",
       "Length: 9764100, dtype: int64"
      ]
     },
     "execution_count": 9,
     "metadata": {},
     "output_type": "execute_result"
    }
   ],
   "source": [
    "sum(chr7_result)"
   ]
  },
  {
   "cell_type": "code",
   "execution_count": 2,
   "metadata": {},
   "outputs": [],
   "source": [
    "c11_tad = pd.read_csv('../cluster1/C1_borders_Cluster1.bed',header=None,sep='\\t')\n",
    "c12_tad = pd.read_csv('../cluster1/C1_borders_Cluster2.bed',header=None,sep='\\t')\n",
    "c13_tad = pd.read_csv('../cluster1/C1_borders_Cluster3.bed',header=None,sep='\\t')\n",
    "c3_tad = pd.read_csv('../aggloCluster3/Agglo_C3_borders.bed',header=None,sep='\\t')\n",
    "c21_tad = pd.read_csv('../cluster1/C2_borders_Cluster1.bed',header=None,sep='\\t')\n",
    "c22_tad = pd.read_csv('../cluster1/C2_borders_Cluster1.bed',header=None,sep='\\t')\n",
    "c23_tad = pd.read_csv('../cluster1/C2_borders_Cluster1.bed',header=None,sep='\\t')\n",
    "\n",
    "def extract_chr(chrstr,type_tad):\n",
    "    dense_pixel = pd.read_csv(f'{chrstr}.bedpe',header=None,sep='\\t')\n",
    "    dense_pixel_cis = dense_pixel.loc[dense_pixel.iloc[:,3]==chrstr,:].reindex()\n",
    "    type_tad_chr = type_tad.loc[type_tad.iloc[:,0]==chrstr,[1,2]].to_numpy()\n",
    "    union_tad = []\n",
    "    for row in type_tad_chr:\n",
    "        if union_tad and union_tad[-1][1] >= row[0]-1:\n",
    "            union_tad[-1][1] = max(union_tad[-1][1],row[1])\n",
    "        else:\n",
    "            union_tad.append([row[0],row[1]])\n",
    "    chr_result = list(map(extract,union_tad,itertools.repeat(dense_pixel_cis, len(union_tad))))\n",
    "    chr_all = list(map(bool,sum(chr_result)))\n",
    "    return dense_pixel_cis.loc[chr_all,:].reindex()"
   ]
  },
  {
   "cell_type": "code",
   "execution_count": 18,
   "metadata": {},
   "outputs": [],
   "source": [
    "## chrstr extract from tad.bed\n",
    "result_list = []\n",
    "for chrstr in c11_tad.iloc[:,0].unique():\n",
    "    result_list.append(extract_chr(chrstr,c21_tad))"
   ]
  },
  {
   "cell_type": "code",
   "execution_count": 19,
   "metadata": {},
   "outputs": [],
   "source": [
    "type21_cis_tad = pd.concat(result_list, axis=0, join='outer', ignore_index=True, keys=None,\n",
    "          levels=None, names=None, verify_integrity=False, copy=True)"
   ]
  },
  {
   "cell_type": "code",
   "execution_count": 20,
   "metadata": {},
   "outputs": [],
   "source": [
    "type21_cis_tad.to_csv('Type21_cis_TAD.bedpe',index=False,header=False,sep='\\t')"
   ]
  },
  {
   "cell_type": "code",
   "execution_count": 15,
   "metadata": {},
   "outputs": [
    {
     "data": {
      "text/plain": [
       "array(['chr1', 'chr2', 'chr3', 'chr4', 'chr5', 'chr6', 'chr7', 'chr8',\n",
       "       'chr9', 'chr10', 'chr11', 'chr12', 'chr13', 'chr14', 'chr15',\n",
       "       'chr16', 'chr17', 'chr18', 'chr19', 'chrX'], dtype=object)"
      ]
     },
     "execution_count": 15,
     "metadata": {},
     "output_type": "execute_result"
    }
   ],
   "source": [
    "c11_tad.iloc[:,0].unique()"
   ]
  },
  {
   "cell_type": "code",
   "execution_count": 48,
   "metadata": {},
   "outputs": [],
   "source": [
    "random_1 = pd.read_csv('type1_random.mat',sep='\\t',header=None,usecols=[7])\n",
    "random_2 = pd.read_csv('type2_random.mat',sep='\\t',header=None,usecols=[7])\n",
    "random_3 = pd.read_csv('type3_random.mat',sep='\\t',header=None,usecols=[7])\n",
    "random_4 = pd.read_csv('type4_random.mat',sep='\\t',header=None,usecols=[7])"
   ]
  },
  {
   "cell_type": "code",
   "execution_count": 58,
   "metadata": {},
   "outputs": [],
   "source": [
    "fig = go.Figure()\n",
    "fig.add_trace(go.Box(\n",
    "    y=type11_cis_tad.iloc[:,7],\n",
    "    name=\"Type 1\",\n",
    "    jitter=0.3,\n",
    "    boxpoints=False,\n",
    "    boxmean='sd'\n",
    "#     pointpos=-1.8,\n",
    "#     boxpoints='all' # represent all points\n",
    "#     marker_color='rgb(7,40,89)',\n",
    "#     line_color='rgb(7,40,89)'\n",
    "))\n",
    "\n",
    "fig.add_trace(go.Box(\n",
    "    y=random_1[7],\n",
    "    name=\"Random Sample(999346)\",\n",
    "    jitter=0.3,\n",
    "    boxpoints=False,\n",
    "    boxmean='sd'\n",
    "#     pointpos=-1.8,\n",
    "#     boxpoints='all', \n",
    "#     marker_color='rgb(9,56,125)',\n",
    "#     line_color='rgb(9,56,125)'\n",
    "))\n",
    "fig.add_trace(go.Box(\n",
    "    y=type2_cis_tad.iloc[:,7],\n",
    "    name=\"Type 2\",\n",
    "    jitter=0.3,\n",
    "    boxpoints=False,\n",
    "    boxmean='sd'\n",
    "#     pointpos=-1.8,\n",
    "#     boxpoints='all' # represent all points\n",
    "#     marker_color='rgb(7,40,89)',\n",
    "#     line_color='rgb(7,40,89)'\n",
    "))\n",
    "\n",
    "fig.add_trace(go.Box(\n",
    "    y=random_2[7],\n",
    "    name=\"Random Sample(222726)\",\n",
    "    jitter=0.3,\n",
    "    boxpoints=False,\n",
    "    boxmean='sd'\n",
    "#     pointpos=-1.8,\n",
    "#     boxpoints='all', \n",
    "#     marker_color='rgb(9,56,125)',\n",
    "#     line_color='rgb(9,56,125)'\n",
    "))\n",
    "fig.add_trace(go.Box(\n",
    "    y=type3_cis_tad.iloc[:,7],\n",
    "    name=\"Type 3\",\n",
    "    jitter=0.3,\n",
    "    boxpoints=False,\n",
    "    boxmean='sd'\n",
    "#     pointpos=-1.8,\n",
    "#     boxpoints='all' # represent all points\n",
    "#     marker_color='rgb(7,40,89)',\n",
    "#     line_color='rgb(7,40,89)'\n",
    "))\n",
    "\n",
    "fig.add_trace(go.Box(\n",
    "    y=random_3[7],\n",
    "    name=\"Random Sample(9534)\",\n",
    "    jitter=0.3,\n",
    "    boxpoints=False,\n",
    "    boxmean='sd'\n",
    "#     pointpos=-1.8,\n",
    "#     boxpoints='all', \n",
    "#     marker_color='rgb(9,56,125)',\n",
    "#     line_color='rgb(9,56,125)'\n",
    "))\n",
    "fig.add_trace(go.Box(\n",
    "    y=type4_cis_tad.iloc[:,7],\n",
    "    name=\"Type 4\",\n",
    "    jitter=0.3,\n",
    "    boxpoints=False,\n",
    "    boxmean='sd'\n",
    "#     pointpos=-1.8,\n",
    "#     boxpoints='all' # represent all points\n",
    "#     marker_color='rgb(7,40,89)',\n",
    "#     line_color='rgb(7,40,89)'\n",
    "))\n",
    "\n",
    "fig.add_trace(go.Box(\n",
    "    y=random_1[7],\n",
    "    name=\"Random Sample(239419)\",\n",
    "    jitter=0.3,\n",
    "    boxpoints=False,\n",
    "    boxmean='sd'\n",
    "#     pointpos=-1.8,\n",
    "#     boxpoints='all', \n",
    "#     marker_color='rgb(9,56,125)',\n",
    "#     line_color='rgb(9,56,125)'\n",
    "))\n",
    "\n",
    "\n",
    "# fig.add_annotation(\n",
    "#             x='Type 2',\n",
    "#             y=480,\n",
    "#             text=\"****\",\n",
    "# showarrow=False)\n",
    "# fig.add_annotation(\n",
    "#             x='Type 3',\n",
    "#             y=480,\n",
    "#             text=\"**\",\n",
    "# showarrow=False)\n",
    "# fig.add_annotation(\n",
    "#             x='Type 4',\n",
    "#             y=480,\n",
    "#             text=\"****\",\n",
    "# showarrow=False)\n",
    "fig.update_layout(template='simple_white',title_text='cis interaction by type',xaxis = dict(showgrid=False, ticks='inside',mirror=True,showline=True),\n",
    "                yaxis = dict(showgrid=False, ticks='inside',mirror=True,showline=True),\n",
    "                font=dict(size=18),\n",
    "                 title_x=0.5,\n",
    "                 showlegend=False)\n",
    "# fig.show()\n",
    "# plot(fig)\n",
    "fig.write_image('cisinteractionbytype.pdf')\n"
   ]
  },
  {
   "cell_type": "code",
   "execution_count": 59,
   "metadata": {},
   "outputs": [
    {
     "name": "stdout",
     "output_type": "stream",
     "text": [
      "0.0\n",
      "0.0\n",
      "0.0\n",
      "0.0\n"
     ]
    }
   ],
   "source": [
    "from scipy.stats import mannwhitneyu\n",
    "\n",
    "stat, p = mannwhitneyu(type1_cis_tad.iloc[:,7], random_1[7])\n",
    "print(p)\n",
    "stat, p = mannwhitneyu(type2_cis_tad.iloc[:,7], random_2[7])\n",
    "print(p)\n",
    "stat, p = mannwhitneyu(type3_cis_tad.iloc[:,7], random_3[7])\n",
    "print(p)\n",
    "stat, p = mannwhitneyu(type4_cis_tad.iloc[:,7], random_4[7])\n",
    "print(p)"
   ]
  },
  {
   "cell_type": "code",
   "execution_count": 60,
   "metadata": {},
   "outputs": [
    {
     "name": "stdout",
     "output_type": "stream",
     "text": [
      "0.0\n",
      "6.151067378889796e-41\n",
      "0.0\n",
      "4.8732977710326483e-238\n",
      "6.936347068839957e-27\n",
      "0.0\n"
     ]
    }
   ],
   "source": [
    "interaction_list = [type1_cis_tad.iloc[:,7],type2_cis_tad.iloc[:,7],type3_cis_tad.iloc[:,7],type4_cis_tad.iloc[:,7]]\n",
    "interaction_pair = list(itertools.combinations(interaction_list,2))\n",
    "#print(len(fpkm_pair))\n",
    "from scipy.stats import mannwhitneyu\n",
    "for pair in interaction_pair:\n",
    "    #print(pair[1])\n",
    "    stat, p = mannwhitneyu(pair[0], pair[1])\n",
    "    print(p)"
   ]
  },
  {
   "cell_type": "code",
   "execution_count": null,
   "metadata": {},
   "outputs": [],
   "source": []
  }
 ],
 "metadata": {
  "kernelspec": {
   "display_name": "Python 3",
   "language": "python",
   "name": "python3"
  },
  "language_info": {
   "codemirror_mode": {
    "name": "ipython",
    "version": 3
   },
   "file_extension": ".py",
   "mimetype": "text/x-python",
   "name": "python",
   "nbconvert_exporter": "python",
   "pygments_lexer": "ipython3",
   "version": "3.7.7"
  }
 },
 "nbformat": 4,
 "nbformat_minor": 4
}
