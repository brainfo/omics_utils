{
 "cells": [
  {
   "cell_type": "code",
   "execution_count": 1,
   "metadata": {},
   "outputs": [],
   "source": [
    "import pandas as pd\n",
    "import numpy as np"
   ]
  },
  {
   "cell_type": "code",
   "execution_count": 5,
   "metadata": {},
   "outputs": [],
   "source": [
    "#tad_chip_strength = pd.read_csv('TAD_ChIP_strength.tsv',sep='\\t')\n",
    "tads = pd.read_csv('merge_TADs.bed',sep='\\t',dtype={'chrom':str,'start':np.int32,'end':np.int32})\n",
    "expression = pd.read_csv('sorted_expression.tsv',sep='\\t',dtype={'chrom':str,'start':np.int32,'end':np.int32,'mean':np.float64})"
   ]
  },
  {
   "cell_type": "code",
   "execution_count": 6,
   "metadata": {},
   "outputs": [
    {
     "data": {
      "text/html": [
       "<div>\n",
       "<style scoped>\n",
       "    .dataframe tbody tr th:only-of-type {\n",
       "        vertical-align: middle;\n",
       "    }\n",
       "\n",
       "    .dataframe tbody tr th {\n",
       "        vertical-align: top;\n",
       "    }\n",
       "\n",
       "    .dataframe thead th {\n",
       "        text-align: right;\n",
       "    }\n",
       "</style>\n",
       "<table border=\"1\" class=\"dataframe\">\n",
       "  <thead>\n",
       "    <tr style=\"text-align: right;\">\n",
       "      <th></th>\n",
       "      <th>chrom</th>\n",
       "      <th>start</th>\n",
       "      <th>end</th>\n",
       "      <th>mean</th>\n",
       "    </tr>\n",
       "  </thead>\n",
       "  <tbody>\n",
       "    <tr>\n",
       "      <th>0</th>\n",
       "      <td>chr1</td>\n",
       "      <td>3205901</td>\n",
       "      <td>3671498</td>\n",
       "      <td>0.155</td>\n",
       "    </tr>\n",
       "    <tr>\n",
       "      <th>1</th>\n",
       "      <td>chr1</td>\n",
       "      <td>3365731</td>\n",
       "      <td>3368549</td>\n",
       "      <td>0.005</td>\n",
       "    </tr>\n",
       "    <tr>\n",
       "      <th>2</th>\n",
       "      <td>chr1</td>\n",
       "      <td>3375556</td>\n",
       "      <td>3377788</td>\n",
       "      <td>0.045</td>\n",
       "    </tr>\n",
       "    <tr>\n",
       "      <th>3</th>\n",
       "      <td>chr1</td>\n",
       "      <td>3464977</td>\n",
       "      <td>3467285</td>\n",
       "      <td>0.015</td>\n",
       "    </tr>\n",
       "    <tr>\n",
       "      <th>4</th>\n",
       "      <td>chr1</td>\n",
       "      <td>3512451</td>\n",
       "      <td>3514507</td>\n",
       "      <td>0.010</td>\n",
       "    </tr>\n",
       "    <tr>\n",
       "      <th>...</th>\n",
       "      <td>...</td>\n",
       "      <td>...</td>\n",
       "      <td>...</td>\n",
       "      <td>...</td>\n",
       "    </tr>\n",
       "    <tr>\n",
       "      <th>28504</th>\n",
       "      <td>chrY</td>\n",
       "      <td>41619626</td>\n",
       "      <td>41644054</td>\n",
       "      <td>0.065</td>\n",
       "    </tr>\n",
       "    <tr>\n",
       "      <th>28505</th>\n",
       "      <td>chrY</td>\n",
       "      <td>58427109</td>\n",
       "      <td>58429470</td>\n",
       "      <td>0.020</td>\n",
       "    </tr>\n",
       "    <tr>\n",
       "      <th>28506</th>\n",
       "      <td>chrY</td>\n",
       "      <td>61317789</td>\n",
       "      <td>61343815</td>\n",
       "      <td>0.225</td>\n",
       "    </tr>\n",
       "    <tr>\n",
       "      <th>28507</th>\n",
       "      <td>chrY</td>\n",
       "      <td>84872139</td>\n",
       "      <td>84875484</td>\n",
       "      <td>0.005</td>\n",
       "    </tr>\n",
       "    <tr>\n",
       "      <th>28508</th>\n",
       "      <td>chrY</td>\n",
       "      <td>90499047</td>\n",
       "      <td>90531645</td>\n",
       "      <td>0.080</td>\n",
       "    </tr>\n",
       "  </tbody>\n",
       "</table>\n",
       "<p>28509 rows × 4 columns</p>\n",
       "</div>"
      ],
      "text/plain": [
       "      chrom     start       end   mean\n",
       "0      chr1   3205901   3671498  0.155\n",
       "1      chr1   3365731   3368549  0.005\n",
       "2      chr1   3375556   3377788  0.045\n",
       "3      chr1   3464977   3467285  0.015\n",
       "4      chr1   3512451   3514507  0.010\n",
       "...     ...       ...       ...    ...\n",
       "28504  chrY  41619626  41644054  0.065\n",
       "28505  chrY  58427109  58429470  0.020\n",
       "28506  chrY  61317789  61343815  0.225\n",
       "28507  chrY  84872139  84875484  0.005\n",
       "28508  chrY  90499047  90531645  0.080\n",
       "\n",
       "[28509 rows x 4 columns]"
      ]
     },
     "execution_count": 6,
     "metadata": {},
     "output_type": "execute_result"
    }
   ],
   "source": [
    "expression"
   ]
  },
  {
   "cell_type": "code",
   "execution_count": 7,
   "metadata": {},
   "outputs": [],
   "source": [
    "chroms = ['chr'+str(i) for i in range(1,20)]+['chrX']\n",
    "tad_fpkm_chrs = []\n",
    "for chrom in chroms:\n",
    "    TADs_chr = tads.loc[tads.chrom==chrom].reset_index().drop(['index'],axis=1)\n",
    "    expression_chr = expression.loc[expression.chrom==chrom].reset_index().drop(['index'],axis=1)\n",
    "    fpkm_tad_means = []\n",
    "    for idx, (c,s,e) in TADs_chr.iterrows():\n",
    "        #print((s<=ChIPs_chr.start) & (ChIPs_chr.start<=s+40000))\n",
    "        fpkm_tad_up = expression_chr.loc[expression_chr['start'].between(s,s+40000, inclusive = True) | expression_chr['end'].between(s,s+40000, inclusive = True),[False]*3+[True]]\n",
    "        fpkm_tad_down = expression_chr.loc[expression_chr['start'].between(e,e+40000, inclusive = True) | expression_chr['end'].between(e,e+40000, inclusive = True),[False]*3+[True]]\n",
    "        #print(ChIPs_chr.iloc[:,[True]+[False]*1,0])\n",
    "        fpkm_tad_up_mean = fpkm_tad_up.mean(axis=0)\n",
    "        fpkm_tad_down_mean = fpkm_tad_down.mean(axis=0)\n",
    "        fpkm_tad_value = pd.DataFrame([fpkm_tad_up_mean.combine(fpkm_tad_down_mean, max, 0)])\n",
    "        fpkm_tad_means.append(fpkm_tad_value)\n",
    "    tmp = pd.concat(fpkm_tad_means,ignore_index=True,axis=0)\n",
    "    tmp_chr = TADs_chr.join(tmp,how='inner')\n",
    "    tad_fpkm_chrs.append(tmp_chr)\n",
    "tad_fpkm = pd.concat(tad_fpkm_chrs,ignore_index=True,axis=0)\n",
    "tad_fpkm.columns = ['chrom','start','end','border_fpkm']\n",
    "#tad_chip_strength['border_fpkm']=tad_fpkm['border_fpkm']"
   ]
  },
  {
   "cell_type": "code",
   "execution_count": 8,
   "metadata": {},
   "outputs": [
    {
     "ename": "NameError",
     "evalue": "name 'tad_chip_strength' is not defined",
     "output_type": "error",
     "traceback": [
      "\u001b[0;31m---------------------------------------------------------------------------\u001b[0m",
      "\u001b[0;31mNameError\u001b[0m                                 Traceback (most recent call last)",
      "\u001b[0;32m<ipython-input-8-dd8c363229cb>\u001b[0m in \u001b[0;36m<module>\u001b[0;34m\u001b[0m\n\u001b[0;32m----> 1\u001b[0;31m \u001b[0mtad_fpkm\u001b[0m \u001b[0;34m=\u001b[0m \u001b[0mtad_chip_strength\u001b[0m\u001b[0;34m.\u001b[0m\u001b[0mfillna\u001b[0m\u001b[0;34m(\u001b[0m\u001b[0;36m0\u001b[0m\u001b[0;34m)\u001b[0m\u001b[0;34m\u001b[0m\u001b[0;34m\u001b[0m\u001b[0m\n\u001b[0m",
      "\u001b[0;31mNameError\u001b[0m: name 'tad_chip_strength' is not defined"
     ]
    }
   ],
   "source": [
    "tad_fpkm = tad_chip_strength.fillna(0)"
   ]
  },
  {
   "cell_type": "code",
   "execution_count": 14,
   "metadata": {},
   "outputs": [],
   "source": [
    "tad_chip_strength.to_csv('TAD_ChIP_strength_fpkm.tsv',sep='\\t',index=False,quoting=3)"
   ]
  },
  {
   "cell_type": "code",
   "execution_count": 15,
   "metadata": {},
   "outputs": [],
   "source": [
    "tad_fpkm = tad_chip_fpkm.assign(size=tad_fpkm['end']-tad_fpkm['start'] )"
   ]
  },
  {
   "cell_type": "code",
   "execution_count": 16,
   "metadata": {},
   "outputs": [],
   "source": [
    "tad_fpkm.to_csv('TAD_borfer_fpkm_size.tsv',sep='\\t',index=False,quoting=3)"
   ]
  },
  {
   "cell_type": "code",
   "execution_count": null,
   "metadata": {},
   "outputs": [],
   "source": []
  }
 ],
 "metadata": {
  "kernelspec": {
   "display_name": "Python 3",
   "language": "python",
   "name": "python3"
  },
  "language_info": {
   "codemirror_mode": {
    "name": "ipython",
    "version": 3
   },
   "file_extension": ".py",
   "mimetype": "text/x-python",
   "name": "python",
   "nbconvert_exporter": "python",
   "pygments_lexer": "ipython3",
   "version": "3.7.7"
  }
 },
 "nbformat": 4,
 "nbformat_minor": 4
}
