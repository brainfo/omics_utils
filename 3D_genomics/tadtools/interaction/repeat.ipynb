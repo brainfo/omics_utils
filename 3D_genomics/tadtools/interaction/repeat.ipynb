{
 "cells": [
  {
   "cell_type": "code",
   "execution_count": 57,
   "metadata": {},
   "outputs": [],
   "source": [
    "import pandas as pd\n",
    "import numpy as np\n",
    "from collections import Counter"
   ]
  },
  {
   "cell_type": "code",
   "execution_count": 6,
   "metadata": {},
   "outputs": [],
   "source": [
    "repeats = pd.read_csv('../Repeats/Repeat.bed',sep='\\t',header=None)\n",
    "repeats.to_csv('repeats.bed',sep='\\t',header=False,index=False,quoting=3)"
   ]
  },
  {
   "cell_type": "code",
   "execution_count": 17,
   "metadata": {},
   "outputs": [],
   "source": [
    "cluster1_repeat = pd.read_csv('C1_repeats.bed',sep='\\t',header=None)\n",
    "cluster2_repeat = pd.read_csv('C2_repeats.bed',sep='\\t',header=None)\n",
    "cluster3_repeat = pd.read_csv('C3_repeats.bed',sep='\\t',header=None)\n",
    "cluster4_repeat = pd.read_csv('C4_repeats.bed',sep='\\t',header=None)"
   ]
  },
  {
   "cell_type": "code",
   "execution_count": 50,
   "metadata": {},
   "outputs": [],
   "source": [
    "# Since the elements passed to a `Counter` must be hashable, we have to change the lists to tuples.\n",
    "def get_dict(cluster):\n",
    "    c = [tuple(element) for element in cluster.iloc[:,3]]\n",
    "    c_freq = dict(Counter(c))\n",
    "    for key, value in c_freq.items():\n",
    "        c_freq[''.join(key)] = c_freq.pop(key)\n",
    "    if ('D', 'N', 'A') in list(c_freq.keys()):\n",
    "        c_freq['DNA'] = c_freq[('D', 'N', 'A')]\n",
    "        del c_freq[('D', 'N', 'A')]\n",
    "    return c_freq"
   ]
  },
  {
   "cell_type": "code",
   "execution_count": 51,
   "metadata": {},
   "outputs": [],
   "source": [
    "c1_freq = get_dict(cluster1_repeat)\n",
    "c2_freq = get_dict(cluster2_repeat)\n",
    "c3_freq = get_dict(cluster3_repeat)\n",
    "c4_freq = get_dict(cluster4_repeat)"
   ]
  },
  {
   "cell_type": "code",
   "execution_count": 66,
   "metadata": {},
   "outputs": [],
   "source": [
    "import plotly.graph_objects as go\n",
    "\n",
    "import numpy as np\n",
    "x = ['tRNA',  'scRNA', 'srpRNA', 'snRNA', 'SINE', 'LTR', 'LINE', 'DNA', 'Other','Unknown']\n",
    "x0 = [7,3,1,2,882,297,292,106,12,4]\n",
    "x1 = [2,1,0,2,268,27,7,0,0]\n",
    "x2 = [0,0,0,0,36,6,1,1,1,0]\n",
    "x3 = [8,5,0,6,2121,456,270,140,13,4]\n",
    "\n",
    "fig = go.Figure()\n",
    "fig.add_trace(go.Histogram(\n",
    "    histfunc=\"sum\",\n",
    "    y=x0,\n",
    "    x=x,\n",
    "    #histnorm='percent',\n",
    "    name='Type1', # name used in legend and hover labels\n",
    "#     xbins=dict( # bins used for histogram\n",
    "#         start=0,\n",
    "#         end=5,\n",
    "#         size=0.5\n",
    "#     )\n",
    "    #marker_color='#EB89B5',\n",
    "    #opacity=0.75\n",
    "))\n",
    "fig.add_trace(go.Histogram(\n",
    "    histfunc=\"sum\",\n",
    "    y=x1,\n",
    "    x=x,\n",
    "    #histnorm='percent',\n",
    "    name='Type2',\n",
    "#     xbins=dict(\n",
    "#         start=1,\n",
    "#         end=6,\n",
    "#         size=0.5\n",
    "#     )\n",
    "    #marker_color='#330C73',\n",
    "    #opacity=0.75\n",
    "))\n",
    "fig.add_trace(go.Histogram(\n",
    "    histfunc=\"sum\",\n",
    "    y=x2,\n",
    "    x=x,\n",
    "    #histnorm='percent',\n",
    "    name='Type3',\n",
    "    xbins=dict(\n",
    "        start=2,\n",
    "        end=7,\n",
    "        size=0.5\n",
    "    )\n",
    "    #marker_color='#330C73',\n",
    "    #opacity=0.75\n",
    "))\n",
    "fig.add_trace(go.Histogram(\n",
    "    histfunc=\"sum\",\n",
    "    y=x3,\n",
    "    x=x,\n",
    "    #histnorm='percent',\n",
    "    name='Type4',\n",
    "#     xbins=dict(\n",
    "#         start=3,\n",
    "#         end=8,\n",
    "#         size=0.5\n",
    "#     )\n",
    "    #marker_color='#330C73',\n",
    "    #opacity=0.75\n",
    "))\n",
    "fig.update_layout(template='simple_white',title_text='Repeats on boundaries by type',xaxis = dict(showgrid=False, ticks='inside',mirror=True,showline=True),\n",
    "                yaxis = dict(showgrid=False, ticks='inside',mirror=True,showline=True),\n",
    "                font=dict(size=18),\n",
    "                 title_x=0.5,\n",
    "                 showlegend=True)\n",
    "fig.write_image('repeatbytype.pdf')\n",
    "\n",
    "#fig.show()"
   ]
  },
  {
   "cell_type": "code",
   "execution_count": 60,
   "metadata": {},
   "outputs": [
    {
     "data": {
      "text/plain": [
       "12"
      ]
     },
     "execution_count": 60,
     "metadata": {},
     "output_type": "execute_result"
    }
   ],
   "source": [
    "freq_list = [c1_freq,c2_freq,c3_freq,c4_freq]\n",
    "np.amax([len(x.keys()) for x in freq_list])"
   ]
  },
  {
   "cell_type": "code",
   "execution_count": 69,
   "metadata": {},
   "outputs": [
    {
     "name": "stdout",
     "output_type": "stream",
     "text": [
      "{('U', 'n', 'k', 'n', 'o', 'w', 'n'): 75, ('O', 't', 'h', 'e', 'r'): 206, ('s', 'n', 'R', 'N', 'A'): 35, ('D', 'N', 'A', '?'): 10, ('t', 'R', 'N', 'A'): 51, ('R', 'N', 'A'): 9, 'scRNA': 77, 'DNA': 1879, 'LTR?': 6, 'SINE?': 1, 'rRNA': 18, 'srpRNA': 9, 'RC': 4, 'SINE': 27042, 'LTR': 6578, 'LINE': 4988}\n"
     ]
    }
   ],
   "source": [
    "# print(c1_freq)\n",
    "# print(c2_freq)\n",
    "# print(c3_freq)\n",
    "# print(c4_freq)\n",
    "print(freq)"
   ]
  },
  {
   "cell_type": "code",
   "execution_count": 68,
   "metadata": {},
   "outputs": [],
   "source": [
    "freq = get_dict(repeats)"
   ]
  },
  {
   "cell_type": "code",
   "execution_count": 70,
   "metadata": {},
   "outputs": [],
   "source": [
    "import plotly.graph_objects as go\n",
    "\n",
    "import numpy as np\n",
    "x = ['tRNA',  'scRNA', 'srpRNA', 'snRNA', 'SINE', 'LTR', 'LINE', 'DNA', 'Other','Unknown']\n",
    "x0 = [51,77,9,35,27043,6578,4988,1889,206,75]\n",
    "\n",
    "fig = go.Figure()\n",
    "fig.add_trace(go.Histogram(\n",
    "    histfunc=\"sum\",\n",
    "    y=x0,\n",
    "    x=x,\n",
    "    #histnorm='percent',\n",
    "    name='all', # name used in legend and hover labels\n",
    "#     xbins=dict( # bins used for histogram\n",
    "#         start=0,\n",
    "#         end=5,\n",
    "#         size=0.5\n",
    "#     )\n",
    "    #marker_color='#EB89B5',\n",
    "    #opacity=0.75\n",
    "))\n",
    "# fig.add_trace(go.Histogram(\n",
    "#     histfunc=\"sum\",\n",
    "#     y=x1,\n",
    "#     x=x,\n",
    "#     #histnorm='percent',\n",
    "#     name='Type2',\n",
    "# #     xbins=dict(\n",
    "# #         start=1,\n",
    "# #         end=6,\n",
    "# #         size=0.5\n",
    "# #     )\n",
    "#     #marker_color='#330C73',\n",
    "#     #opacity=0.75\n",
    "# ))\n",
    "# fig.add_trace(go.Histogram(\n",
    "#     histfunc=\"sum\",\n",
    "#     y=x2,\n",
    "#     x=x,\n",
    "#     #histnorm='percent',\n",
    "#     name='Type3',\n",
    "#     xbins=dict(\n",
    "#         start=2,\n",
    "#         end=7,\n",
    "#         size=0.5\n",
    "#     )\n",
    "#     #marker_color='#330C73',\n",
    "#     #opacity=0.75\n",
    "# ))\n",
    "# fig.add_trace(go.Histogram(\n",
    "#     histfunc=\"sum\",\n",
    "#     y=x3,\n",
    "#     x=x,\n",
    "#     #histnorm='percent',\n",
    "#     name='Type4',\n",
    "# #     xbins=dict(\n",
    "# #         start=3,\n",
    "# #         end=8,\n",
    "# #         size=0.5\n",
    "# #     )\n",
    "#     #marker_color='#330C73',\n",
    "#     #opacity=0.75\n",
    "# ))\n",
    "fig.update_layout(template='simple_white',title_text='Repeats',xaxis = dict(showgrid=False, ticks='inside',mirror=True,showline=True),\n",
    "                yaxis = dict(showgrid=False, ticks='inside',mirror=True,showline=True),\n",
    "                font=dict(size=18),\n",
    "                 title_x=0.5,\n",
    "                 showlegend=False)\n",
    "fig.write_image('repeat.pdf')\n",
    "\n",
    "#fig.show()"
   ]
  },
  {
   "cell_type": "code",
   "execution_count": null,
   "metadata": {},
   "outputs": [],
   "source": []
  }
 ],
 "metadata": {
  "kernelspec": {
   "display_name": "Python 3",
   "language": "python",
   "name": "python3"
  },
  "language_info": {
   "codemirror_mode": {
    "name": "ipython",
    "version": 3
   },
   "file_extension": ".py",
   "mimetype": "text/x-python",
   "name": "python",
   "nbconvert_exporter": "python",
   "pygments_lexer": "ipython3",
   "version": "3.7.7"
  }
 },
 "nbformat": 4,
 "nbformat_minor": 4
}
