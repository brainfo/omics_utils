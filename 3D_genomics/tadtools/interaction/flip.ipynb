{
 "cells": [
  {
   "cell_type": "code",
   "execution_count": 8,
   "id": "documented-reunion",
   "metadata": {},
   "outputs": [],
   "source": [
    "import pandas as pd"
   ]
  },
  {
   "cell_type": "code",
   "execution_count": 20,
   "id": "mounted-replica",
   "metadata": {},
   "outputs": [],
   "source": [
    "data = pd.read_csv('merge_80000_PCA1.bedgraph',sep='\\t',header=None,names=['chrom','start','end','pc1'])"
   ]
  },
  {
   "cell_type": "code",
   "execution_count": 21,
   "id": "lesser-finder",
   "metadata": {},
   "outputs": [],
   "source": [
    "chr_select = ['chr2','chr3','chr6','chr13','chr14','chr18','chr19']\n",
    "\n",
    "data = data.assign(pc1 = np.where(sum([data.chrom == chr_any for chr_any in chr_select])>0,-data.pc1,data.pc1))"
   ]
  },
  {
   "cell_type": "code",
   "execution_count": 23,
   "id": "still-harmony",
   "metadata": {},
   "outputs": [],
   "source": [
    "data.to_csv('merge_80000_PCA1_flip.bedgraph',sep='\\t',index=False,quoting=3,header=False)"
   ]
  },
  {
   "cell_type": "code",
   "execution_count": null,
   "id": "spanish-nashville",
   "metadata": {},
   "outputs": [],
   "source": []
  }
 ],
 "metadata": {
  "kernelspec": {
   "display_name": "Python 3",
   "language": "python",
   "name": "python3"
  },
  "language_info": {
   "codemirror_mode": {
    "name": "ipython",
    "version": 3
   },
   "file_extension": ".py",
   "mimetype": "text/x-python",
   "name": "python",
   "nbconvert_exporter": "python",
   "pygments_lexer": "ipython3",
   "version": "3.7.7"
  }
 },
 "nbformat": 4,
 "nbformat_minor": 5
}
