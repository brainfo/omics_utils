{
 "cells": [
  {
   "cell_type": "code",
   "execution_count": 25,
   "id": "inside-doctor",
   "metadata": {},
   "outputs": [],
   "source": [
    "import pandas as pd\n",
    "import numpy as np\n",
    "import matplotlib.pyplot as plt"
   ]
  },
  {
   "cell_type": "code",
   "execution_count": 5,
   "id": "attended-natural",
   "metadata": {},
   "outputs": [],
   "source": [
    "states = pd.read_csv('mESC_12_dense.bed',sep='\\t',skiprows=1,usecols=[3,8],header=None)"
   ]
  },
  {
   "cell_type": "code",
   "execution_count": 8,
   "id": "extra-friend",
   "metadata": {},
   "outputs": [],
   "source": [
    "states_map = states.drop_duplicates()"
   ]
  },
  {
   "cell_type": "code",
   "execution_count": 15,
   "id": "discrete-hours",
   "metadata": {},
   "outputs": [],
   "source": [
    "colors = states_map.sort_values(by=[3])[8].to_list()"
   ]
  },
  {
   "cell_type": "code",
   "execution_count": 16,
   "id": "electrical-arrival",
   "metadata": {},
   "outputs": [
    {
     "data": {
      "text/plain": [
       "['0,0,255',\n",
       " '0,153,204',\n",
       " '51,255,153',\n",
       " '102,51,153',\n",
       " '102,153,51',\n",
       " '0,102,0',\n",
       " '204,0,51',\n",
       " '255,0,204',\n",
       " '204,153,255',\n",
       " '204,204,102',\n",
       " '255,255,0',\n",
       " '255,255,204']"
      ]
     },
     "execution_count": 16,
     "metadata": {},
     "output_type": "execute_result"
    }
   ],
   "source": [
    "colors"
   ]
  },
  {
   "cell_type": "code",
   "execution_count": 23,
   "id": "smooth-address",
   "metadata": {},
   "outputs": [],
   "source": [
    "c = np.array(list(map(lambda x: x.split(','), colors)), dtype=int)"
   ]
  },
  {
   "cell_type": "code",
   "execution_count": 24,
   "id": "statistical-michael",
   "metadata": {},
   "outputs": [
    {
     "data": {
      "text/plain": [
       "array([[[  0,   0, 255],\n",
       "        [  0, 153, 204],\n",
       "        [ 51, 255, 153],\n",
       "        [102,  51, 153],\n",
       "        [102, 153,  51],\n",
       "        [  0, 102,   0],\n",
       "        [204,   0,  51],\n",
       "        [255,   0, 204],\n",
       "        [204, 153, 255],\n",
       "        [204, 204, 102],\n",
       "        [255, 255,   0],\n",
       "        [255, 255, 204]]])"
      ]
     },
     "execution_count": 24,
     "metadata": {},
     "output_type": "execute_result"
    }
   ],
   "source": [
    "c.reshape(1,12,3)"
   ]
  },
  {
   "cell_type": "code",
   "execution_count": 35,
   "id": "raised-gambling",
   "metadata": {},
   "outputs": [
    {
     "data": {
      "image/png": "[encoded data removed]",
      "text/plain": [
       "<Figure size 432x288 with 1 Axes>"
      ]
     },
     "metadata": {
      "needs_background": "light"
     },
     "output_type": "display_data"
    }
   ],
   "source": [
    "plt.imshow(c.reshape(1,12,3))\n",
    "plt.xticks(np.arange(12), ['Active TSS','Flanking Active TSS','Flanking Bivalent TSS/Enh','Bivalent Enhancer','Weak Enhancer','Genic Enhancer','Strong Enhancer','Repeats','Heterochromatin','Quiescent/Low','Repressed PolyComb','Insulator'],rotation=90)\n",
    "plt.yticks([])\n",
    "plt.savefig('states.pdf',bbox_inches='tight')"
   ]
  },
  {
   "cell_type": "code",
   "execution_count": null,
   "id": "frequent-scanning",
   "metadata": {},
   "outputs": [],
   "source": []
  }
 ],
 "metadata": {
  "kernelspec": {
   "display_name": "Python 3",
   "language": "python",
   "name": "python3"
  },
  "language_info": {
   "codemirror_mode": {
    "name": "ipython",
    "version": 3
   },
   "file_extension": ".py",
   "mimetype": "text/x-python",
   "name": "python",
   "nbconvert_exporter": "python",
   "pygments_lexer": "ipython3",
   "version": "3.7.7"
  }
 },
 "nbformat": 4,
 "nbformat_minor": 5
}
