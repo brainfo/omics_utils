{
 "cells": [
  {
   "cell_type": "code",
   "execution_count": 1,
   "id": "japanese-monthly",
   "metadata": {},
   "outputs": [],
   "source": [
    "from sklearn.ensemble import RandomForestClassifier\n",
    "from sklearn.datasets import make_classification"
   ]
  },
  {
   "cell_type": "code",
   "execution_count": 2,
   "id": "comic-locator",
   "metadata": {},
   "outputs": [],
   "source": [
    "X,y = make_classification(n_samples=1000,n_features=4,\n",
    "                          n_informative=2,n_redundant=0,\n",
    "                          random_state=0,shuffle=False)"
   ]
  },
  {
   "cell_type": "code",
   "execution_count": 6,
   "id": "sharing-startup",
   "metadata": {},
   "outputs": [],
   "source": [
    "## data sturecture of X and y\n",
    "#X\n",
    "## X an array, with each column a feature vector\n",
    "#y\n",
    "## y an array, each element a label for each row in X"
   ]
  },
  {
   "cell_type": "code",
   "execution_count": null,
   "id": "tough-fraud",
   "metadata": {},
   "outputs": [],
   "source": []
  }
 ],
 "metadata": {
  "kernelspec": {
   "display_name": "Python 3",
   "language": "python",
   "name": "python3"
  },
  "language_info": {
   "codemirror_mode": {
    "name": "ipython",
    "version": 3
   },
   "file_extension": ".py",
   "mimetype": "text/x-python",
   "name": "python",
   "nbconvert_exporter": "python",
   "pygments_lexer": "ipython3",
   "version": "3.7.7"
  }
 },
 "nbformat": 4,
 "nbformat_minor": 5
}
