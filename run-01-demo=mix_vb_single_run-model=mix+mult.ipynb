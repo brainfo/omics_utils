{
 "cells": [
  {
   "cell_type": "code",
   "execution_count": 1,
   "metadata": {},
   "outputs": [],
   "source": [
    "%matplotlib inline"
   ]
  },
  {
   "cell_type": "markdown",
   "metadata": {},
   "source": [
    "\n",
    "# VB coordinate descent for Mixture of Multinomials\n",
    "\n",
    "\n",
    "\n",
    "\n"
   ]
  },
  {
   "cell_type": "code",
   "execution_count": 2,
   "metadata": {},
   "outputs": [
    {
     "ename": "ModuleNotFoundError",
     "evalue": "No module named 'bnpy'",
     "output_type": "error",
     "traceback": [
      "\u001b[0;31m---------------------------------------------------------------------------\u001b[0m",
      "\u001b[0;31mModuleNotFoundError\u001b[0m                       Traceback (most recent call last)",
      "\u001b[0;32m<ipython-input-2-f90888927522>\u001b[0m in \u001b[0;36m<module>\u001b[0;34m\u001b[0m\n\u001b[0;32m----> 1\u001b[0;31m \u001b[0;32mimport\u001b[0m \u001b[0mbnpy\u001b[0m\u001b[0;34m\u001b[0m\u001b[0;34m\u001b[0m\u001b[0m\n\u001b[0m\u001b[1;32m      2\u001b[0m \u001b[0;32mimport\u001b[0m \u001b[0mnumpy\u001b[0m \u001b[0;32mas\u001b[0m \u001b[0mnp\u001b[0m\u001b[0;34m\u001b[0m\u001b[0;34m\u001b[0m\u001b[0m\n\u001b[1;32m      3\u001b[0m \u001b[0;32mimport\u001b[0m \u001b[0mos\u001b[0m\u001b[0;34m\u001b[0m\u001b[0;34m\u001b[0m\u001b[0m\n\u001b[1;32m      4\u001b[0m \u001b[0;34m\u001b[0m\u001b[0m\n\u001b[1;32m      5\u001b[0m \u001b[0;32mfrom\u001b[0m \u001b[0mmatplotlib\u001b[0m \u001b[0;32mimport\u001b[0m \u001b[0mpylab\u001b[0m\u001b[0;34m\u001b[0m\u001b[0;34m\u001b[0m\u001b[0m\n",
      "\u001b[0;31mModuleNotFoundError\u001b[0m: No module named 'bnpy'"
     ]
    }
   ],
   "source": [
    "import bnpy\n",
    "import numpy as np\n",
    "import os\n",
    "\n",
    "from matplotlib import pylab\n",
    "import seaborn as sns\n",
    "\n",
    "FIG_SIZE = (3, 3)\n",
    "SMALL_FIG_SIZE = (1,1)\n",
    "pylab.rcParams['figure.figsize'] = FIG_SIZE\n",
    "\n",
    "top_word_kws = dict(\n",
    "    wordSizeLimit=15,\n",
    "    ncols=4,\n",
    "    Ktop=10)"
   ]
  },
  {
   "cell_type": "markdown",
   "metadata": {},
   "source": [
    "Read text dataset from file\n",
    "\n"
   ]
  },
  {
   "cell_type": "code",
   "execution_count": 1,
   "metadata": {},
   "outputs": [
    {
     "ename": "NameError",
     "evalue": "name 'os' is not defined",
     "output_type": "error",
     "traceback": [
      "\u001b[0;31m---------------------------------------------------------------------------\u001b[0m",
      "\u001b[0;31mNameError\u001b[0m                                 Traceback (most recent call last)",
      "\u001b[0;32m<ipython-input-1-da7097f04d6b>\u001b[0m in \u001b[0;36m<module>\u001b[0;34m\u001b[0m\n\u001b[0;32m----> 1\u001b[0;31m \u001b[0mdataset_path\u001b[0m \u001b[0;34m=\u001b[0m \u001b[0mos\u001b[0m\u001b[0;34m.\u001b[0m\u001b[0mpath\u001b[0m\u001b[0;34m.\u001b[0m\u001b[0mjoin\u001b[0m\u001b[0;34m(\u001b[0m\u001b[0;34m'/home/data4/jh/data/projects/2020/bayesian/bnpy/bnpy/datasets/we8there/raw'\u001b[0m\u001b[0;34m)\u001b[0m\u001b[0;34m\u001b[0m\u001b[0;34m\u001b[0m\u001b[0m\n\u001b[0m\u001b[1;32m      2\u001b[0m dataset = bnpy.data.BagOfWordsData.read_npz(\n\u001b[1;32m      3\u001b[0m     \u001b[0mos\u001b[0m\u001b[0;34m.\u001b[0m\u001b[0mpath\u001b[0m\u001b[0;34m.\u001b[0m\u001b[0mjoin\u001b[0m\u001b[0;34m(\u001b[0m\u001b[0mdataset_path\u001b[0m\u001b[0;34m,\u001b[0m \u001b[0;34m'dataset.npz'\u001b[0m\u001b[0;34m)\u001b[0m\u001b[0;34m,\u001b[0m\u001b[0;34m\u001b[0m\u001b[0;34m\u001b[0m\u001b[0m\n\u001b[1;32m      4\u001b[0m     vocabfile=os.path.join(dataset_path, 'x_csc_colnames.txt'))\n\u001b[1;32m      5\u001b[0m \u001b[0;34m\u001b[0m\u001b[0m\n",
      "\u001b[0;31mNameError\u001b[0m: name 'os' is not defined"
     ]
    }
   ],
   "source": [
    "dataset_path = os.path.join('/home/data4/jh/data/projects/2020/bayesian/bnpy/bnpy/datasets/we8there/raw')\n",
    "dataset = bnpy.data.BagOfWordsData.read_npz(\n",
    "    os.path.join(dataset_path, 'dataset.npz'),\n",
    "    vocabfile=os.path.join(dataset_path, 'x_csc_colnames.txt'))\n",
    "\n",
    "# Filter out documents with less than 20 words\n",
    "doc_ids = np.flatnonzero(\n",
    "    dataset.getDocTypeCountMatrix().sum(axis=1) >= 20)\n",
    "dataset = dataset.make_subset(docMask=doc_ids, doTrackFullSize=False)"
   ]
  },
  {
   "cell_type": "markdown",
   "metadata": {},
   "source": [
    "Make a simple plot of the raw data\n",
    "\n"
   ]
  },
  {
   "cell_type": "code",
   "execution_count": null,
   "metadata": {},
   "outputs": [],
   "source": [
    "bnpy.viz.PrintTopics.plotCompsFromWordCounts(\n",
    "    dataset.getDocTypeCountMatrix()[:10],\n",
    "    vocabList=dataset.vocabList,\n",
    "    prefix='doc',\n",
    "    **top_word_kws)"
   ]
  },
  {
   "cell_type": "markdown",
   "metadata": {},
   "source": [
    "Train with K=1 cluster\n",
    "----------------------\n",
    "\n",
    "This is a simple baseline.\n",
    "\n"
   ]
  },
  {
   "cell_type": "code",
   "execution_count": null,
   "metadata": {},
   "outputs": [],
   "source": [
    "trained_model, info_dict = bnpy.run(\n",
    "    dataset, 'DPMixtureModel', 'Mult', 'VB',\n",
    "    output_path='/tmp/we8there/helloworld-model=dp_mix+mult-K=1/',\n",
    "    nLap=1000, convergeThr=0.0001, nTask=1,\n",
    "    K=1, initname='bregmankmeans+lam1+iter1',\n",
    "    gamma0=50.0, lam=0.1)\n",
    "\n",
    "bnpy.viz.PrintTopics.plotCompsFromHModel(\n",
    "    trained_model,\n",
    "    vocabList=dataset.vocabList,\n",
    "    **top_word_kws)"
   ]
  },
  {
   "cell_type": "markdown",
   "metadata": {},
   "source": [
    "Train with K=3 clusters\n",
    "-----------------------\n",
    "\n",
    "Take the best of 10 initializations\n",
    "\n"
   ]
  },
  {
   "cell_type": "code",
   "execution_count": null,
   "metadata": {},
   "outputs": [],
   "source": [
    "trained_model, info_dict = bnpy.run(\n",
    "    dataset, 'DPMixtureModel', 'Mult', 'VB',\n",
    "    output_path='/tmp/we8there/helloworld-model=dp_mix+mult-K=3/',\n",
    "    nLap=1000, convergeThr=0.0001, nTask=10,\n",
    "    K=3, initname='bregmankmeans+lam1+iter1',\n",
    "    gamma0=50.0, lam=0.1)\n",
    "\n",
    "bnpy.viz.PrintTopics.plotCompsFromHModel(\n",
    "    trained_model,\n",
    "    vocabList=dataset.vocabList,\n",
    "    **top_word_kws)"
   ]
  },
  {
   "cell_type": "markdown",
   "metadata": {},
   "source": [
    "Train with K=10 clusters\n",
    "------------------------\n",
    "\n",
    "Take the best of 10 initializations\n",
    "\n"
   ]
  },
  {
   "cell_type": "code",
   "execution_count": null,
   "metadata": {},
   "outputs": [],
   "source": [
    "trained_model, info_dict = bnpy.run(\n",
    "    dataset, 'DPMixtureModel', 'Mult', 'VB',\n",
    "    output_path='/tmp/we8there/helloworld-model=dp_mix+mult-K=10/',\n",
    "    nLap=1000, convergeThr=0.0001, nTask=10,\n",
    "    K=10, initname='bregmankmeans+lam1+iter1',\n",
    "    gamma0=50.0, lam=0.1)\n",
    "\n",
    "bnpy.viz.PrintTopics.plotCompsFromHModel(\n",
    "    trained_model,\n",
    "    vocabList=dataset.vocabList,\n",
    "    **top_word_kws)"
   ]
  },
  {
   "cell_type": "markdown",
   "metadata": {},
   "source": [
    "Train with K=30 clusters\n",
    "------------------------\n",
    "\n",
    "Take the best of 10 initializations\n",
    "\n"
   ]
  },
  {
   "cell_type": "code",
   "execution_count": null,
   "metadata": {},
   "outputs": [],
   "source": [
    "trained_model, info_dict = bnpy.run(\n",
    "    dataset, 'DPMixtureModel', 'Mult', 'VB',\n",
    "    output_path='/tmp/we8there/helloworld-model=dp_mix+mult-K=30/',\n",
    "    nLap=1000, convergeThr=0.0001, nTask=10,\n",
    "    K=30, initname='bregmankmeans+lam1+iter1',\n",
    "    gamma0=50.0, lam=0.1)\n",
    "\n",
    "bnpy.viz.PrintTopics.plotCompsFromHModel(\n",
    "    trained_model,\n",
    "    vocabList=dataset.vocabList,\n",
    "    **top_word_kws)"
   ]
  }
 ],
 "metadata": {
  "kernelspec": {
   "display_name": "Python 3",
   "language": "python",
   "name": "python3"
  },
  "language_info": {
   "codemirror_mode": {
    "name": "ipython",
    "version": 3
   },
   "file_extension": ".py",
   "mimetype": "text/x-python",
   "name": "python",
   "nbconvert_exporter": "python",
   "pygments_lexer": "ipython3",
   "version": "3.7.6"
  }
 },
 "nbformat": 4,
 "nbformat_minor": 1
}
