{
 "cells": [
  {
   "cell_type": "code",
   "execution_count": 1,
   "id": "eastern-question",
   "metadata": {},
   "outputs": [],
   "source": [
    "from sklearn.ensemble import RandomForestClassifier\n",
    "import pandas as pd\n",
    "import numpy as np\n",
    "from sklearn import svm"
   ]
  },
  {
   "cell_type": "code",
   "execution_count": 2,
   "id": "wooden-renaissance",
   "metadata": {},
   "outputs": [],
   "source": [
    "data = pd.read_csv('TAD_ChIP_strength_fpkm_size_E1_interaction_twoborerexpression_innerfpkm.tsv',sep='\\t')\n",
    "data_values = data.dropna()"
   ]
  },
  {
   "cell_type": "code",
   "execution_count": 3,
   "id": "toxic-realtor",
   "metadata": {},
   "outputs": [],
   "source": [
    "A11 = pd.read_csv('A1A1.bed',header=None,sep='\\t',names=['chrom','start','end'])\n",
    "A12 = pd.read_csv('A1A2.bed',header=None,sep='\\t',names=['chrom','start','end'])\n",
    "A22 = pd.read_csv('A2A2.bed',header=None,sep='\\t',names=['chrom','start','end'])\n",
    "S11 = pd.read_csv('I1I1.bed',header=None,sep='\\t',names=['chrom','start','end'])\n",
    "S12 = pd.read_csv('I1I1.bed',header=None,sep='\\t',names=['chrom','start','end'])\n",
    "S22 = pd.read_csv('I1I1.bed',header=None,sep='\\t',names=['chrom','start','end'])\n",
    "SA = pd.read_csv('Agglo_Cluster3.bed',header=None,sep='\\t',names=['chrom','start','end'])"
   ]
  },
  {
   "cell_type": "code",
   "execution_count": 6,
   "id": "monetary-generation",
   "metadata": {},
   "outputs": [],
   "source": [
    "data_sort = list(map(lambda x : pd.merge(data_values, x, how ='inner', on =['chrom', 'start', 'end']), [A11,A12,A22,S11,S12,S22,SA]))"
   ]
  },
  {
   "cell_type": "code",
   "execution_count": 7,
   "id": "synthetic-coupon",
   "metadata": {},
   "outputs": [],
   "source": [
    "data_all = pd.concat(data_sort)"
   ]
  },
  {
   "cell_type": "code",
   "execution_count": 14,
   "id": "genetic-thirty",
   "metadata": {},
   "outputs": [],
   "source": [
    "labels = np.concatenate((np.repeat(np.array(1),len(data_sort[0].index)+len(data_sort[1].index)+len(data_sort[2].index)),np.repeat(np.array(2),len(data_sort[3].index)+len(data_sort[4].index)+len(data_sort[5].index)),np.repeat(np.array(0),len(data_sort[6].index))),axis=None)"
   ]
  },
  {
   "cell_type": "code",
   "execution_count": 8,
   "id": "differential-image",
   "metadata": {},
   "outputs": [],
   "source": [
    "data_in = data_all.loc[:,['strength','size','E1','interaction']]\n",
    "#clf = RandomForestClassifier(max_depth=2,random_state=0)"
   ]
  },
  {
   "cell_type": "code",
   "execution_count": 9,
   "id": "persistent-northern",
   "metadata": {},
   "outputs": [],
   "source": [
    "def NormalizeData(data):\n",
    "    return (data - np.min(data)) / (np.max(data) - np.min(data))\n",
    "data_norm = np.apply_along_axis(NormalizeData,0,data_in)\n",
    "# data_int = round(data_in/data_in.sum()*1000000)\n",
    "# data_int.applymap(int)\n",
    "clf.fit(data_norm,labels)"
   ]
  },
  {
   "cell_type": "code",
   "execution_count": 10,
   "id": "common-sheffield",
   "metadata": {},
   "outputs": [],
   "source": [
    "prisg = pd.read_csv('PriSG_info.tsv',header=None,sep='\\t')\n",
    "prisg_data = prisg[[4,3,6,5]]\n",
    "prisg_data_true = prisg_data.dropna()\n",
    "prisg_data_norm = np.apply_along_axis(NormalizeData,0,prisg_data_true)\n",
    "# prisg_data_int = round(prisg_data_true/prisg_data_true.sum()*1000000)\n",
    "# prisg_data_int.applymap(int)\n",
    "#prisg_data_np = prisg_data_int.to_numpy()\n",
    "res = clf.predict(prisg_data_np)"
   ]
  },
  {
   "cell_type": "code",
   "execution_count": 38,
   "id": "sunrise-winner",
   "metadata": {},
   "outputs": [
    {
     "data": {
      "text/plain": [
       "Counter({2: 1147, 1: 94, 0: 1133})"
      ]
     },
     "execution_count": 38,
     "metadata": {},
     "output_type": "execute_result"
    }
   ],
   "source": [
    "#from collections import Counter\n",
    "kf = KFold(n_splits=5)\n",
    "X_train, X_test, y_train, y_test = X[train], X[test], y[train], y[test]\n",
    "‘roc_auc’\n",
    "Counter(res)"
   ]
  },
  {
   "cell_type": "code",
   "execution_count": 11,
   "id": "earlier-syndication",
   "metadata": {},
   "outputs": [],
   "source": [
    "clf = svm.NuSVC(nu=0.1,decision_function_shape = \"ovr\",kernel='poly')\n",
    "#clf.fit(data_in,labels)"
   ]
  },
  {
   "cell_type": "code",
   "execution_count": 34,
   "id": "consolidated-partnership",
   "metadata": {},
   "outputs": [
    {
     "data": {
      "text/plain": [
       "Counter({0: 2374})"
      ]
     },
     "execution_count": 34,
     "metadata": {},
     "output_type": "execute_result"
    }
   ],
   "source": [
    "#from collections import Counter\n",
    "res = clf.predict(prisg_data_np)\n",
    "Counter(res)"
   ]
  },
  {
   "cell_type": "code",
   "execution_count": 22,
   "id": "chubby-hospital",
   "metadata": {},
   "outputs": [
    {
     "data": {
      "text/plain": [
       "{'fit_time': array([0.01086545, 0.01051188, 0.01080608, 0.00971508, 0.00978065]),\n",
       " 'score_time': array([0.00580764, 0.03299093, 0.00634599, 0.00592804, 0.00715446]),\n",
       " 'test_prec_macro': array([0.4182853 , 0.03267974, 0.19486226, 0.23283177, 0.21736907]),\n",
       " 'train_prec_macro': array([0.40072242, 0.03395364, 0.20327856, 0.22349505, 0.18623169]),\n",
       " 'test_rec_macro': array([0.49620016, 0.33333333, 0.2882405 , 0.2152941 , 0.46932234]),\n",
       " 'train_rec_macro': array([0.44227315, 0.33333333, 0.35489121, 0.20847208, 0.43848956])}"
      ]
     },
     "execution_count": 22,
     "metadata": {},
     "output_type": "execute_result"
    }
   ],
   "source": [
    "# from sklearn.metrics import make_scorer\n",
    "# from sklearn.model_selection import cross_validate\n",
    "# from sklearn.metrics import recall_score\n",
    "# scoring = {'prec_macro':'precision_macro','rec_macro':make_scorer(recall_score,average='macro')}\n",
    "# scores = cross_validate(clf,data_in,labels,scoring=scoring,cv=5,return_train_score=True)\n",
    "scores"
   ]
  },
  {
   "cell_type": "code",
   "execution_count": 16,
   "id": "gentle-criterion",
   "metadata": {},
   "outputs": [
    {
     "ename": "ValueError",
     "evalue": "NuSVC should be a binary classifier",
     "output_type": "error",
     "traceback": [
      "\u001b[0;31m---------------------------------------------------------------------------\u001b[0m",
      "\u001b[0;31mValueError\u001b[0m                                Traceback (most recent call last)",
      "\u001b[0;32m<ipython-input-16-637963688881>\u001b[0m in \u001b[0;36m<module>\u001b[0;34m\u001b[0m\n\u001b[1;32m     35\u001b[0m     viz = plot_roc_curve(classifier, X[test], y[test],\n\u001b[1;32m     36\u001b[0m                          \u001b[0mname\u001b[0m\u001b[0;34m=\u001b[0m\u001b[0;34m'ROC fold {}'\u001b[0m\u001b[0;34m.\u001b[0m\u001b[0mformat\u001b[0m\u001b[0;34m(\u001b[0m\u001b[0mi\u001b[0m\u001b[0;34m)\u001b[0m\u001b[0;34m,\u001b[0m\u001b[0;34m\u001b[0m\u001b[0;34m\u001b[0m\u001b[0m\n\u001b[0;32m---> 37\u001b[0;31m                          alpha=0.3, lw=1, ax=ax)\n\u001b[0m\u001b[1;32m     38\u001b[0m     \u001b[0minterp_tpr\u001b[0m \u001b[0;34m=\u001b[0m \u001b[0mnp\u001b[0m\u001b[0;34m.\u001b[0m\u001b[0minterp\u001b[0m\u001b[0;34m(\u001b[0m\u001b[0mmean_fpr\u001b[0m\u001b[0;34m,\u001b[0m \u001b[0mviz\u001b[0m\u001b[0;34m.\u001b[0m\u001b[0mfpr\u001b[0m\u001b[0;34m,\u001b[0m \u001b[0mviz\u001b[0m\u001b[0;34m.\u001b[0m\u001b[0mtpr\u001b[0m\u001b[0;34m)\u001b[0m\u001b[0;34m\u001b[0m\u001b[0;34m\u001b[0m\u001b[0m\n\u001b[1;32m     39\u001b[0m     \u001b[0minterp_tpr\u001b[0m\u001b[0;34m[\u001b[0m\u001b[0;36m0\u001b[0m\u001b[0;34m]\u001b[0m \u001b[0;34m=\u001b[0m \u001b[0;36m0.0\u001b[0m\u001b[0;34m\u001b[0m\u001b[0;34m\u001b[0m\u001b[0m\n",
      "\u001b[0;32m~/anaconda3/lib/python3.7/site-packages/sklearn/utils/validation.py\u001b[0m in \u001b[0;36minner_f\u001b[0;34m(*args, **kwargs)\u001b[0m\n\u001b[1;32m     70\u001b[0m                           FutureWarning)\n\u001b[1;32m     71\u001b[0m         \u001b[0mkwargs\u001b[0m\u001b[0;34m.\u001b[0m\u001b[0mupdate\u001b[0m\u001b[0;34m(\u001b[0m\u001b[0;34m{\u001b[0m\u001b[0mk\u001b[0m\u001b[0;34m:\u001b[0m \u001b[0marg\u001b[0m \u001b[0;32mfor\u001b[0m \u001b[0mk\u001b[0m\u001b[0;34m,\u001b[0m \u001b[0marg\u001b[0m \u001b[0;32min\u001b[0m \u001b[0mzip\u001b[0m\u001b[0;34m(\u001b[0m\u001b[0msig\u001b[0m\u001b[0;34m.\u001b[0m\u001b[0mparameters\u001b[0m\u001b[0;34m,\u001b[0m \u001b[0margs\u001b[0m\u001b[0;34m)\u001b[0m\u001b[0;34m}\u001b[0m\u001b[0;34m)\u001b[0m\u001b[0;34m\u001b[0m\u001b[0;34m\u001b[0m\u001b[0m\n\u001b[0;32m---> 72\u001b[0;31m         \u001b[0;32mreturn\u001b[0m \u001b[0mf\u001b[0m\u001b[0;34m(\u001b[0m\u001b[0;34m**\u001b[0m\u001b[0mkwargs\u001b[0m\u001b[0;34m)\u001b[0m\u001b[0;34m\u001b[0m\u001b[0;34m\u001b[0m\u001b[0m\n\u001b[0m\u001b[1;32m     73\u001b[0m     \u001b[0;32mreturn\u001b[0m \u001b[0minner_f\u001b[0m\u001b[0;34m\u001b[0m\u001b[0;34m\u001b[0m\u001b[0m\n\u001b[1;32m     74\u001b[0m \u001b[0;34m\u001b[0m\u001b[0m\n",
      "\u001b[0;32m~/anaconda3/lib/python3.7/site-packages/sklearn/metrics/_plot/roc_curve.py\u001b[0m in \u001b[0;36mplot_roc_curve\u001b[0;34m(estimator, X, y, sample_weight, drop_intermediate, response_method, name, ax, **kwargs)\u001b[0m\n\u001b[1;32m    188\u001b[0m     \u001b[0;32mif\u001b[0m \u001b[0my_pred\u001b[0m\u001b[0;34m.\u001b[0m\u001b[0mndim\u001b[0m \u001b[0;34m!=\u001b[0m \u001b[0;36m1\u001b[0m\u001b[0;34m:\u001b[0m\u001b[0;34m\u001b[0m\u001b[0;34m\u001b[0m\u001b[0m\n\u001b[1;32m    189\u001b[0m         \u001b[0;32mif\u001b[0m \u001b[0my_pred\u001b[0m\u001b[0;34m.\u001b[0m\u001b[0mshape\u001b[0m\u001b[0;34m[\u001b[0m\u001b[0;36m1\u001b[0m\u001b[0;34m]\u001b[0m \u001b[0;34m!=\u001b[0m \u001b[0;36m2\u001b[0m\u001b[0;34m:\u001b[0m\u001b[0;34m\u001b[0m\u001b[0;34m\u001b[0m\u001b[0m\n\u001b[0;32m--> 190\u001b[0;31m             \u001b[0;32mraise\u001b[0m \u001b[0mValueError\u001b[0m\u001b[0;34m(\u001b[0m\u001b[0mclassification_error\u001b[0m\u001b[0;34m)\u001b[0m\u001b[0;34m\u001b[0m\u001b[0;34m\u001b[0m\u001b[0m\n\u001b[0m\u001b[1;32m    191\u001b[0m         \u001b[0;32melse\u001b[0m\u001b[0;34m:\u001b[0m\u001b[0;34m\u001b[0m\u001b[0;34m\u001b[0m\u001b[0m\n\u001b[1;32m    192\u001b[0m             \u001b[0my_pred\u001b[0m \u001b[0;34m=\u001b[0m \u001b[0my_pred\u001b[0m\u001b[0;34m[\u001b[0m\u001b[0;34m:\u001b[0m\u001b[0;34m,\u001b[0m \u001b[0;36m1\u001b[0m\u001b[0;34m]\u001b[0m\u001b[0;34m\u001b[0m\u001b[0;34m\u001b[0m\u001b[0m\n",
      "\u001b[0;31mValueError\u001b[0m: NuSVC should be a binary classifier"
     ]
    },
    {
     "data": {
      "image/png": "[encoded data removed]",
      "text/plain": [
       "<Figure size 432x288 with 1 Axes>"
      ]
     },
     "metadata": {
      "needs_background": "light"
     },
     "output_type": "display_data"
    }
   ],
   "source": [
    "import numpy as np\n",
    "import matplotlib.pyplot as plt\n",
    "\n",
    "from sklearn import svm, datasets\n",
    "from sklearn.metrics import auc\n",
    "from sklearn.metrics import plot_roc_curve\n",
    "from sklearn.model_selection import StratifiedKFold\n",
    "\n",
    "# #############################################################################\n",
    "# Data IO and generation\n",
    "\n",
    "# Import some data to play with\n",
    "X = data_norm\n",
    "y = labels\n",
    "n_samples, n_features = data_norm.shape\n",
    "\n",
    "# Add noisy features\n",
    "#random_state = np.random.RandomState(0)\n",
    "#X = np.c_[data_norm, random_state.randn(n_samples, 200 * n_features)]\n",
    "\n",
    "# #############################################################################\n",
    "# Classification and ROC analysis\n",
    "\n",
    "# Run classifier with cross-validation and plot ROC curves\n",
    "cv = StratifiedKFold(n_splits=6)\n",
    "classifier = svm.NuSVC(nu=0.1,decision_function_shape = \"ovr\",kernel='poly')\n",
    "\n",
    "tprs = []\n",
    "aucs = []\n",
    "mean_fpr = np.linspace(0, 1, 100)\n",
    "\n",
    "fig, ax = plt.subplots()\n",
    "for i, (train, test) in enumerate(cv.split(X, y)):\n",
    "    classifier.fit(X[train], y[train])\n",
    "    viz = plot_roc_curve(classifier, X[test], y[test],\n",
    "                         name='ROC fold {}'.format(i),\n",
    "                         alpha=0.3, lw=1, ax=ax)\n",
    "    interp_tpr = np.interp(mean_fpr, viz.fpr, viz.tpr)\n",
    "    interp_tpr[0] = 0.0\n",
    "    tprs.append(interp_tpr)\n",
    "    aucs.append(viz.roc_auc)\n",
    "\n",
    "ax.plot([0, 1], [0, 1], linestyle='--', lw=2, color='r',\n",
    "        label='Chance', alpha=.8)\n",
    "\n",
    "mean_tpr = np.mean(tprs, axis=0)\n",
    "mean_tpr[-1] = 1.0\n",
    "mean_auc = auc(mean_fpr, mean_tpr)\n",
    "std_auc = np.std(aucs)\n",
    "ax.plot(mean_fpr, mean_tpr, color='b',\n",
    "        label=r'Mean ROC (AUC = %0.2f $\\pm$ %0.2f)' % (mean_auc, std_auc),\n",
    "        lw=2, alpha=.8)\n",
    "\n",
    "std_tpr = np.std(tprs, axis=0)\n",
    "tprs_upper = np.minimum(mean_tpr + std_tpr, 1)\n",
    "tprs_lower = np.maximum(mean_tpr - std_tpr, 0)\n",
    "ax.fill_between(mean_fpr, tprs_lower, tprs_upper, color='grey', alpha=.2,\n",
    "                label=r'$\\pm$ 1 std. dev.')\n",
    "\n",
    "ax.set(xlim=[-0.05, 1.05], ylim=[-0.05, 1.05],\n",
    "       title=\"Receiver operating characteristic example\")\n",
    "ax.legend(loc=\"lower right\")\n",
    "plt.show()"
   ]
  },
  {
   "cell_type": "code",
   "execution_count": null,
   "id": "romantic-friendship",
   "metadata": {},
   "outputs": [],
   "source": []
  }
 ],
 "metadata": {
  "kernelspec": {
   "display_name": "Python 3",
   "language": "python",
   "name": "python3"
  },
  "language_info": {
   "codemirror_mode": {
    "name": "ipython",
    "version": 3
   },
   "file_extension": ".py",
   "mimetype": "text/x-python",
   "name": "python",
   "nbconvert_exporter": "python",
   "pygments_lexer": "ipython3",
   "version": "3.7.7"
  }
 },
 "nbformat": 4,
 "nbformat_minor": 5
}
