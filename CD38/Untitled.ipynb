{
 "cells": [
  {
   "cell_type": "code",
   "execution_count": 32,
   "id": "portable-batch",
   "metadata": {},
   "outputs": [],
   "source": [
    "import pandas as pd\n",
    "import re"
   ]
  },
  {
   "cell_type": "code",
   "execution_count": 82,
   "id": "beginning-harassment",
   "metadata": {},
   "outputs": [],
   "source": [
    "homer = pd.read_csv('Homer_1.txt',sep='\\t')"
   ]
  },
  {
   "cell_type": "code",
   "execution_count": 83,
   "id": "partial-adult",
   "metadata": {},
   "outputs": [],
   "source": [
    "homer_name = homer['Motif Name'].apply(lambda x: x.split('(')[0])"
   ]
  },
  {
   "cell_type": "code",
   "execution_count": 90,
   "id": "identified-authorization",
   "metadata": {},
   "outputs": [],
   "source": [
    "cisBP = pd.read_csv('cisBP_10.txt',sep='\\t',skiprows=1,header=None)"
   ]
  },
  {
   "cell_type": "code",
   "execution_count": 91,
   "id": "adjusted-pioneer",
   "metadata": {},
   "outputs": [
    {
     "data": {
      "text/html": [
       "<div>\n",
       "<style scoped>\n",
       "    .dataframe tbody tr th:only-of-type {\n",
       "        vertical-align: middle;\n",
       "    }\n",
       "\n",
       "    .dataframe tbody tr th {\n",
       "        vertical-align: top;\n",
       "    }\n",
       "\n",
       "    .dataframe thead th {\n",
       "        text-align: right;\n",
       "    }\n",
       "</style>\n",
       "<table border=\"1\" class=\"dataframe\">\n",
       "  <thead>\n",
       "    <tr style=\"text-align: right;\">\n",
       "      <th></th>\n",
       "      <th>0</th>\n",
       "      <th>1</th>\n",
       "      <th>2</th>\n",
       "      <th>3</th>\n",
       "      <th>4</th>\n",
       "      <th>5</th>\n",
       "      <th>6</th>\n",
       "      <th>7</th>\n",
       "      <th>8</th>\n",
       "      <th>9</th>\n",
       "    </tr>\n",
       "  </thead>\n",
       "  <tbody>\n",
       "    <tr>\n",
       "      <th>0</th>\n",
       "      <td>T075853_2.00</td>\n",
       "      <td>ZEB1</td>\n",
       "      <td>M10092_2.00</td>\n",
       "      <td>ENSG00000148516</td>\n",
       "      <td>C2H2 ZF,Homeodomain</td>\n",
       "      <td>CTGTTTCTG</td>\n",
       "      <td>22</td>\n",
       "      <td>30</td>\n",
       "      <td>R</td>\n",
       "      <td>11.789</td>\n",
       "    </tr>\n",
       "    <tr>\n",
       "      <th>1</th>\n",
       "      <td>T075854_2.00</td>\n",
       "      <td>ZEB2</td>\n",
       "      <td>M10092_2.00</td>\n",
       "      <td>ENSG00000169554</td>\n",
       "      <td>C2H2 ZF,Homeodomain</td>\n",
       "      <td>CTGTTTCTG</td>\n",
       "      <td>22</td>\n",
       "      <td>30</td>\n",
       "      <td>R</td>\n",
       "      <td>11.789</td>\n",
       "    </tr>\n",
       "    <tr>\n",
       "      <th>2</th>\n",
       "      <td>T034260_2.00</td>\n",
       "      <td>MLX</td>\n",
       "      <td>M04081_2.00</td>\n",
       "      <td>ENSG00000108788</td>\n",
       "      <td>bHLH</td>\n",
       "      <td>TCACATGA</td>\n",
       "      <td>41</td>\n",
       "      <td>48</td>\n",
       "      <td>F</td>\n",
       "      <td>12.395</td>\n",
       "    </tr>\n",
       "    <tr>\n",
       "      <th>3</th>\n",
       "      <td>T185761_2.00</td>\n",
       "      <td>FOXC1</td>\n",
       "      <td>M04855_2.00</td>\n",
       "      <td>ENSG00000054598</td>\n",
       "      <td>Forkhead</td>\n",
       "      <td>CTTATATATACA</td>\n",
       "      <td>50</td>\n",
       "      <td>61</td>\n",
       "      <td>F</td>\n",
       "      <td>11.002</td>\n",
       "    </tr>\n",
       "    <tr>\n",
       "      <th>4</th>\n",
       "      <td>T185763_2.00</td>\n",
       "      <td>FOXF1</td>\n",
       "      <td>M04855_2.00</td>\n",
       "      <td>ENSG00000103241</td>\n",
       "      <td>Forkhead</td>\n",
       "      <td>CTTATATATACA</td>\n",
       "      <td>50</td>\n",
       "      <td>61</td>\n",
       "      <td>F</td>\n",
       "      <td>11.002</td>\n",
       "    </tr>\n",
       "    <tr>\n",
       "      <th>...</th>\n",
       "      <td>...</td>\n",
       "      <td>...</td>\n",
       "      <td>...</td>\n",
       "      <td>...</td>\n",
       "      <td>...</td>\n",
       "      <td>...</td>\n",
       "      <td>...</td>\n",
       "      <td>...</td>\n",
       "      <td>...</td>\n",
       "      <td>...</td>\n",
       "    </tr>\n",
       "    <tr>\n",
       "      <th>2364</th>\n",
       "      <td>T311643_2.00</td>\n",
       "      <td>PAX1</td>\n",
       "      <td>M09624_2.00</td>\n",
       "      <td>ENSG00000125813</td>\n",
       "      <td>Paired box</td>\n",
       "      <td>CCAGCCAACCCCGCC</td>\n",
       "      <td>3117</td>\n",
       "      <td>3131</td>\n",
       "      <td>F</td>\n",
       "      <td>10.011</td>\n",
       "    </tr>\n",
       "    <tr>\n",
       "      <th>2365</th>\n",
       "      <td>T311644_2.00</td>\n",
       "      <td>PAX5</td>\n",
       "      <td>M09624_2.00</td>\n",
       "      <td>ENSG00000196092</td>\n",
       "      <td>Paired box</td>\n",
       "      <td>CCAGCCAACCCCGCC</td>\n",
       "      <td>3117</td>\n",
       "      <td>3131</td>\n",
       "      <td>F</td>\n",
       "      <td>10.011</td>\n",
       "    </tr>\n",
       "    <tr>\n",
       "      <th>2366</th>\n",
       "      <td>T311645_2.00</td>\n",
       "      <td>PAX9</td>\n",
       "      <td>M09624_2.00</td>\n",
       "      <td>ENSG00000198807</td>\n",
       "      <td>Paired box</td>\n",
       "      <td>CCAGCCAACCCCGCC</td>\n",
       "      <td>3117</td>\n",
       "      <td>3131</td>\n",
       "      <td>F</td>\n",
       "      <td>10.011</td>\n",
       "    </tr>\n",
       "    <tr>\n",
       "      <th>2367</th>\n",
       "      <td>T095047_2.00</td>\n",
       "      <td>SP2</td>\n",
       "      <td>M08970_2.00</td>\n",
       "      <td>ENSG00000167182</td>\n",
       "      <td>C2H2 ZF</td>\n",
       "      <td>CAGCCAACCCCGCCTGGAGCCC</td>\n",
       "      <td>3118</td>\n",
       "      <td>3139</td>\n",
       "      <td>F</td>\n",
       "      <td>10.368</td>\n",
       "    </tr>\n",
       "    <tr>\n",
       "      <th>2368</th>\n",
       "      <td>T094822_2.00</td>\n",
       "      <td>PATZ1</td>\n",
       "      <td>M08287_2.00</td>\n",
       "      <td>ENSG00000100105</td>\n",
       "      <td>C2H2 ZF</td>\n",
       "      <td>CCCCGCCT</td>\n",
       "      <td>3125</td>\n",
       "      <td>3132</td>\n",
       "      <td>F</td>\n",
       "      <td>11.460</td>\n",
       "    </tr>\n",
       "  </tbody>\n",
       "</table>\n",
       "<p>2369 rows × 10 columns</p>\n",
       "</div>"
      ],
      "text/plain": [
       "                 0      1            2                3                    4  \\\n",
       "0     T075853_2.00   ZEB1  M10092_2.00  ENSG00000148516  C2H2 ZF,Homeodomain   \n",
       "1     T075854_2.00   ZEB2  M10092_2.00  ENSG00000169554  C2H2 ZF,Homeodomain   \n",
       "2     T034260_2.00    MLX  M04081_2.00  ENSG00000108788                 bHLH   \n",
       "3     T185761_2.00  FOXC1  M04855_2.00  ENSG00000054598             Forkhead   \n",
       "4     T185763_2.00  FOXF1  M04855_2.00  ENSG00000103241             Forkhead   \n",
       "...            ...    ...          ...              ...                  ...   \n",
       "2364  T311643_2.00   PAX1  M09624_2.00  ENSG00000125813           Paired box   \n",
       "2365  T311644_2.00   PAX5  M09624_2.00  ENSG00000196092           Paired box   \n",
       "2366  T311645_2.00   PAX9  M09624_2.00  ENSG00000198807           Paired box   \n",
       "2367  T095047_2.00    SP2  M08970_2.00  ENSG00000167182              C2H2 ZF   \n",
       "2368  T094822_2.00  PATZ1  M08287_2.00  ENSG00000100105              C2H2 ZF   \n",
       "\n",
       "                           5     6     7  8       9  \n",
       "0                  CTGTTTCTG    22    30  R  11.789  \n",
       "1                  CTGTTTCTG    22    30  R  11.789  \n",
       "2                   TCACATGA    41    48  F  12.395  \n",
       "3               CTTATATATACA    50    61  F  11.002  \n",
       "4               CTTATATATACA    50    61  F  11.002  \n",
       "...                      ...   ...   ... ..     ...  \n",
       "2364         CCAGCCAACCCCGCC  3117  3131  F  10.011  \n",
       "2365         CCAGCCAACCCCGCC  3117  3131  F  10.011  \n",
       "2366         CCAGCCAACCCCGCC  3117  3131  F  10.011  \n",
       "2367  CAGCCAACCCCGCCTGGAGCCC  3118  3139  F  10.368  \n",
       "2368                CCCCGCCT  3125  3132  F  11.460  \n",
       "\n",
       "[2369 rows x 10 columns]"
      ]
     },
     "execution_count": 91,
     "metadata": {},
     "output_type": "execute_result"
    }
   ],
   "source": [
    "cisBP"
   ]
  },
  {
   "cell_type": "code",
   "execution_count": 92,
   "id": "verbal-bidding",
   "metadata": {},
   "outputs": [],
   "source": [
    "cisBP_name = cisBP[1]"
   ]
  },
  {
   "cell_type": "code",
   "execution_count": 93,
   "id": "external-ministry",
   "metadata": {},
   "outputs": [
    {
     "name": "stdout",
     "output_type": "stream",
     "text": [
      "260 2369\n"
     ]
    }
   ],
   "source": [
    "intersect_2 = set(homer_name).intersection(set(cisBP_name))\n",
    "print(len(homer_name),len(cisBP_name))"
   ]
  },
  {
   "cell_type": "code",
   "execution_count": 61,
   "id": "later-serbia",
   "metadata": {},
   "outputs": [
    {
     "data": {
      "image/png": "[encoded data removed]",
      "text/plain": [
       "<Figure size 432x288 with 1 Axes>"
      ]
     },
     "metadata": {},
     "output_type": "display_data"
    }
   ],
   "source": [
    "import matplotlib.pyplot as plt\n",
    "from matplotlib_venn import venn2\n",
    "\n",
    "# Use the venn2 function\n",
    "venn2(subsets = (260-11, 352-11, 11), set_labels = ('Homer log2 enrichment >1', 'cisBP score >13'))\n",
    "plt.savefig('venn_sig3.pdf',bbox_inches='tight')"
   ]
  },
  {
   "cell_type": "code",
   "execution_count": 95,
   "id": "through-rings",
   "metadata": {},
   "outputs": [],
   "source": [
    "import csv\n",
    "with open(\"intersect_cisBP10_homer1.tsv\",'w') as csvfile:\n",
    "    writer=csv.writer(csvfile)\n",
    "    for word in intersect_2:\n",
    "        writer.writerow([word])"
   ]
  },
  {
   "cell_type": "code",
   "execution_count": 77,
   "id": "distant-drove",
   "metadata": {},
   "outputs": [
    {
     "data": {
      "text/plain": [
       "['IRF3']"
      ]
     },
     "execution_count": 77,
     "metadata": {},
     "output_type": "execute_result"
    }
   ],
   "source": [
    "list(intersect_1)"
   ]
  },
  {
   "cell_type": "code",
   "execution_count": null,
   "id": "involved-wisdom",
   "metadata": {},
   "outputs": [],
   "source": []
  }
 ],
 "metadata": {
  "kernelspec": {
   "display_name": "Python 3",
   "language": "python",
   "name": "python3"
  },
  "language_info": {
   "codemirror_mode": {
    "name": "ipython",
    "version": 3
   },
   "file_extension": ".py",
   "mimetype": "text/x-python",
   "name": "python",
   "nbconvert_exporter": "python",
   "pygments_lexer": "ipython3",
   "version": "3.7.7"
  }
 },
 "nbformat": 4,
 "nbformat_minor": 5
}
